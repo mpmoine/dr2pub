{
 "cells": [
  {
   "cell_type": "markdown",
   "metadata": {},
   "source": [
    "# An example for generating the XIOS file_def for a given lab, model, experiment, year and XIOS context"
   ]
  },
  {
   "cell_type": "markdown",
   "metadata": {},
   "source": [
    "# _This example shows how to use a list of Home Variables_"
   ]
  },
  {
   "cell_type": "markdown",
   "metadata": {},
   "source": [
    "## Define the settings specific to the laboratory and the model"
   ]
  },
  {
   "cell_type": "code",
   "execution_count": 1,
   "metadata": {
    "collapsed": false
   },
   "outputs": [],
   "source": [
    "lab_and_model_settings={\n",
    "    'institution_id': \"CNRM-CERFACS\", # institution should be read in CMIP6_CV, if up-to-date\n",
    "\n",
    "    # entry 'source_types' allows to describe, using CMIP6 CV, the various model configurations\n",
    "    # for the lab; This can be superseded by an entry 'source_type' either just below or in dict  \n",
    "    # for simulation settings (further below)\n",
    "    'source_types' : { \"CNRM-CM6-1\" : \"AOGCM\", \"CNRM-CM6-1-HR\" : \"AOGCM\", \n",
    "                       \"CNRM-ESM2-1\": \"ESM\"  , \"CNRM-ESM2-1-HR\": \"ESM\" },\n",
    "\n",
    "    \"source_id\"      : \"CNRM-CM6-1\",\n",
    "    \"source\"         : \"CNRM-CM6-1\", # Useful only if CMIP6_CV is not up-to-date for the source_id\n",
    "    # You may override here the source-type value deduced from source_id and sources_type\n",
    "    #'source_type' : \"AER\"  \n",
    "\n",
    "    'references'    :  \"A character string containing a list of published or web-based \"+\\\n",
    "        \"references that describe the data or the methods used to produce it.\"+\\\n",
    "        \"Typically, the user should provide references describing the model\"+\\\n",
    "        \"formulation here\",\n",
    "    'info_url'      : \"http://www.umr-cnrm.fr/cmip6/\",\n",
    "    'contact'       : 'contact.cmip@cnrm.fr',\n",
    "    \n",
    "    # We account for the list of MIPS in which the lab takes part.\n",
    "    # Note : a MIPs set limited to {'C4MIP'} leads to a number of tables and \n",
    "    # variables which is manageable for eye inspection\n",
    "    'mips': {'C4MIP', 'SIMIP', 'OMIP', 'CFMIP', 'RFMIP'} , \n",
    "    'mips_all' : {'AerChemMIP','C4MIP','CFMIP','DAMIP', 'FAFMIP' , 'GeoMIP','GMMIP','ISMIP6',\\\n",
    "                      'LS3MIP','LUMIP','OMIP','PMIP','RFMIP','ScenarioMIP','CORDEX','SIMIP'},\n",
    "    #'mips' : {'HighResMIP'},\n",
    "\n",
    "    # Max variable priority level to be output\n",
    "    'max_priority' : 1,\n",
    "    'tierMax'      : 3,\n",
    "\n",
    "    # The ping file defines variable names, which are constructed using CMIP6 \"MIPvarnames\" \n",
    "    # and a prefix which must be set here, and can be the empty string :\n",
    "    \"ping_variables_prefix\" : \"CMIP6_\",\n",
    "\n",
    "    # We account for a list of variables which the lab does not want to produce , \n",
    "    # oragnized by realms\n",
    "    # excluded_vars_file=\"./inputs/non_published_variables.txt\"\n",
    "    \"excluded_vars\":[],\n",
    "    \n",
    "    # We account for a list of variables which the lab wants to produce in some cases\n",
    "    #\"listof_home_vars\":\"./inputs/my_listof_home_vars.txt\",\n",
    "    \"listof_home_vars\":\"./config_utest/utest020_listof_home_vars.txt\",\n",
    "        \n",
    "    # Each XIOS  context does adress a number of realms\n",
    "    'realms_per_context' : { 'nemo': ['seaIce', 'ocean', 'ocean seaIce', 'ocnBgchem', 'seaIce ocean'] ,\n",
    "                          'arpsfx' : ['atmos', 'atmos atmosChem', 'aerosol', 'atmos land', 'land',\n",
    "                                     'landIce land',  'aerosol land','land landIce',  'landIce', ],\n",
    "                          }, \n",
    "    # Some variables, while belonging to a realm, may fall in another XIOS context than the \n",
    "    # context which handles that realm\n",
    "    'orphan_variables' : { 'nemo' : ['dummy_variable_for_illustration_purpose'],\n",
    "                           'arpsfx' : [],\n",
    "                           },\n",
    "    'vars_OK' : dict(),\n",
    "    # A per-variable dict of comments valid for all simulations\n",
    "    'comments'     : {\n",
    "        'tas' : 'nothing special about tas'\n",
    "        },\n",
    "\n",
    "    # Sizes of oce and atm grids (cf DR doc)\n",
    "    \"sizes\"  : [292*362,75,128*256,91,30,14,128],\n",
    "\n",
    "    # What is the maximum size of generated files, in number of float values\n",
    "    \"max_file_size_in_floats\" : 500.*1.e+6 ,\n",
    "    # Grids : CMIP6 name, name_of_target_domain, CMIP6-std resolution, and description\n",
    "    \"grids\" : { \n",
    "      \"LR\"    : {\n",
    "        \"arpsfx\" : [ \"gr\",\"complete\" , \"250 km\", \"data regridded to a T127 gaussian grid (128x256 latlon) from a native atmosphere T127l reduced gaussian grid\"] ,\n",
    "          \"nemo\" : [ \"gn\", \"\"        , \"100km\" , \"native ocean tri-polar grid with 105 k ocean cells\" ],},\n",
    "      \"HR\"    : {\n",
    "        \"arpsfx\" : [ \"gr\",\"completeHR\", \"50 km\", \"data regridded to a 359 gaussian grid (180x360 latlon) from a native atmosphere T359l reduced gaussian grid\"] ,\n",
    "          \"nemo\" : [ \"gn\", \"\"         , \"25km\" , \"native ocean tri-polar grid with 1.47 M ocean cells\" ],},\n",
    "    },\n",
    "    'grid_choice' : { \"CNRM-CM6-1\" : \"LR\", \"CNRM-CM6-1-HR\" : \"HR\", \"CNRM-ESM2-1\": \"LR\"  , \"CNRM-ESM2-1-HR\": \"HR\" },\n",
    "\n",
    "    }"
   ]
  },
  {
   "cell_type": "markdown",
   "metadata": {},
   "source": [
    "## Define the settings for the processed simulation "
   ]
  },
  {
   "cell_type": "code",
   "execution_count": 2,
   "metadata": {
    "collapsed": false
   },
   "outputs": [],
   "source": [
    "simulation_settings={    \n",
    "    # Dictionnary describing the necessary attributes for a given simulation\n",
    "\n",
    "    # Warning : some lines are commented out in this example but should be \n",
    "    # un-commented in some cases. See comments\n",
    "    \n",
    "    \"experiment_id\"  : \"historical\",\n",
    "    #\"experiment_id\"  : \"Forced-Atmos-Land\",\n",
    "    #\"experiment_id\"  : \"Coupled\",\n",
    "    #\"experiment_id\"  : \"DCPP-C13\",\n",
    "    \n",
    "    #\"contact\"        : \"\", set it only if it is specific to the simualtion\n",
    "    #\"project\"        : \"CMIP6\",  #CMIP6 is the default\n",
    "\n",
    "    #'source_type'    : \"ESM\" # If source_type is special only for this experiment (e.g. : AMIP)\n",
    "                      #(i.e. not the same as in lab_and_model settings), you may tell that here\n",
    "\n",
    "    # MIP specifying the experiment. For historical, it is CMIP6 itself\n",
    "    # In a few cases it may be appropriate to include multiple activities in the activity_id \n",
    "    # (with multiple activities allowed, separated by single spaces).  \n",
    "    # An example of this is “LUMIP AerChemMIP” for one of the land-use change experiments.\n",
    "    \"activity_id\"       : \"CMIP\", # examples : “PMIP”, “LS3MIP LUMIP”; defaults to \"CMIP6\"\n",
    "    \n",
    "    # It is recommended that some description be included to help identify major differences among variants, \n",
    "    # but care should be taken to record correct information.  Prudence dictates that this attribute includes \n",
    "    # a warning along the following lines:  “Information provided by this attribute may in some cases be flawed.#\n",
    "    # Users can find more comprehensive and up-to-date documentation via the further_info_url global attribute.”\n",
    "    \"variant_info\"      : \"Start date chosen so that variant r1i1p1f1 has the better fit with Krakatoa impact on tos\",\n",
    "    #\n",
    "    \"realization_index\"    : 1, # Value may be omitted if = 1\n",
    "    \"initialization_index\" : 1, # Value may be omitted if = 1\n",
    "    \"physics_index\"        : 1, # Value may be omitted if = 1\n",
    "    \"forcing_index\"        : 1, # Value may be omitted if = 1\n",
    "    #\n",
    "    # All about the parent experiment and branching scheme\n",
    "    \"parent_experiment_id\" : \"piControl\", # omit this setting (or set to 'no parent') if not applicable\n",
    "                                          # (remaining parent attributes will be disregarded)\n",
    "    \"branch_method\"        : \"standard\", # default value='standard', meaning ~ \"select a start date\" \n",
    "    \"branch_time_in_parent\": \"365.0D0\", # a double precision value, in parent time units, \n",
    "    \"branch_time_in_child\" : \"0.0D0\", # a double precision value, in child time units, \n",
    "    #'parent_time_units'    : \"\" #in case it is not the same as child time units\n",
    "    #'parent_variant_label' :\"\"  #Default to 'same as child'. Other cases should be expceptional\n",
    "    #\"parent_mip_era\"       : 'CMIP5'   # only in special cases (e.g. PMIP warm start from CMIP5/PMIP3 experiment)\n",
    "    #'parent_activity   '   : 'CMIP'    # only in special cases, defaults to CMIP\n",
    "    #'parent_source_id'     : 'CNRM-CM5.1' #only in special cases, where parent model is not the same model\n",
    "    #\n",
    "    \"sub_experiment_id\"    : \"none\", # Optional, default is 'none'; example : s1960. \n",
    "    \"sub_experiment\"       : \"none\", # Optional, default in 'none'\n",
    "    \"history\"              : \"none\", #Used when a simulation is re-run, an output file is modified ....\n",
    "    # A per-variable dict of comments which are specific to this simulation. It will replace  \n",
    "    # the all-simulation comment present in lab_and_model_settings\n",
    "    'comments'     : {\n",
    "        'tas' : 'tas diagnostic uses a special scheme in this simulation',\n",
    "        }\n",
    "    }\n",
    "\n"
   ]
  },
  {
   "cell_type": "code",
   "execution_count": 3,
   "metadata": {
    "collapsed": false
   },
   "outputs": [
    {
     "name": "stdout",
     "output_type": "stream",
     "text": [
      "01.00.01\n"
     ]
    }
   ],
   "source": [
    "from dr2xml import generate_file_defs"
   ]
  },
  {
   "cell_type": "code",
   "execution_count": 4,
   "metadata": {
    "collapsed": false
   },
   "outputs": [],
   "source": [
    "# Path to local copy of CMIP6 CVs, which you can get from https://github.com/WCRP-CMIP/CMIP6_CVs\n",
    "#my_cvspath=\"/Users/moine/Codes/MyDevel_Codes/CMIP6_DATA_SUITE/CMIP6_CVs/\"\n",
    "my_cvspath=\"/cnrm/est/USERS/senesi/public/CMIP6/data_request/CMIP6_CVs/\""
   ]
  },
  {
   "cell_type": "code",
   "execution_count": 5,
   "metadata": {
    "collapsed": false
   },
   "outputs": [],
   "source": [
    "#help(generate_file_defs)"
   ]
  },
  {
   "cell_type": "code",
   "execution_count": 6,
   "metadata": {
    "collapsed": false,
    "scrolled": true
   },
   "outputs": [
    {
     "name": "stdout",
     "output_type": "stream",
     "text": [
      "\n",
      "Number of Request Links which apply to MIPS set(['C4MIP', 'SIMIP', 'OMIP', 'CFMIP', 'RFMIP'])  is:  52\n",
      "Error on item_exp._h.label=remarks for Item <3.2 Request Item: specifying the number of years for an experiment>: [OmipOdec] OMIP, Odec, OmipB\n",
      "Error on item_exp._h.label=remarks for Item <3.2 Request Item: specifying the number of years for an experiment>: [OmipOdec] OMIP, Odec, OmipB\n",
      "Error on item_exp._h.label=remarks for Item <3.2 Request Item: specifying the number of years for an experiment>: [OmipOday] OMIP, Oday, OmipB\n",
      "Error on item_exp._h.label=remarks for Item <3.2 Request Item: specifying the number of years for an experiment>: [OmipOday] OMIP, Oday, OmipB\n",
      "Error on item_exp._h.label=remarks for Item <3.2 Request Item: specifying the number of years for an experiment>: [OmipOyr] OMIP, Oyr, OmipB\n",
      "Error on item_exp._h.label=remarks for Item <3.2 Request Item: specifying the number of years for an experiment>: [OmipOyr] OMIP, Oyr, OmipB\n",
      "Error on item_exp._h.label=remarks for Item <3.2 Request Item: specifying the number of years for an experiment>: [OmipOfx] OMIP, Ofx, OmipB\n",
      "Error on item_exp._h.label=remarks for Item <3.2 Request Item: specifying the number of years for an experiment>: [OmipOfx] OMIP, Ofx, OmipB\n",
      "Error on item_exp._h.label=remarks for Item <3.2 Request Item: specifying the number of years for an experiment>: [OmipOmon] OMIP, Omon, OmipB\n",
      "Error on item_exp._h.label=remarks for Item <3.2 Request Item: specifying the number of years for an experiment>: [OmipOmon] OMIP, Omon, OmipB\n",
      "\n",
      "Number of Request Links which apply to experiment  historical and experiment set(['C4MIP', 'SIMIP', 'OMIP', 'CFMIP', 'RFMIP'])  is:  64\n",
      "\n",
      "Number of CMOR variables for these requestLinks is : 495\n",
      "\n",
      "Number of CMOR variables once filtered by excluded vars is : 495\n",
      "\n",
      "Number of variables with distinct labels is : 373\n",
      "\n",
      "Number of simplified vars is : 495\n",
      "Info: {'varname': 'hmv1', 'freq': 'mon', 'realm': 'seaIce', 'table': 'SImon'} HOMEVar is purely personnal. => Taken into account.\n",
      "Info: {'varname': 'hmv5', 'freq': 'mon', 'realm': 'landIce', 'table': 'LImon'} HOMEVar is purely personnal. => Taken into account.\n",
      "Info: {'varname': 'hfls', 'freq': 'mon', 'realm': 'atmos', 'table': 'Amon'} HOMEVar is already in the DataRequest. => Not taken into account.\n",
      "\n",
      "Realms for these CMORvars : ['seaIce', 'land', 'atmos atmosChem', 'landIce', 'ocean seaIce', 'landIce land', 'ocean', 'atmos', 'aerosol', 'land landIce', 'ocnBgchem']\n",
      "\n",
      "Tables concerned by context arpsfx :  ['EmonZ', 'E3hr', 'Amon', 'CFmon', 'day', 'AERmon', 'Emon', 'CFday', 'Lmon', 'LImon', 'Eday']\n",
      "\n",
      "Variables per table :\n",
      "          EmonZ 01 ----> co2totalmass\n",
      "           E3hr 03 ----> ra rh gpp\n",
      "           Amon 71 ----> tauv rtmt clw vas co2mass hus pfull ccb ta rsus ts tasmax ps hfss rlutcs prw prsn fco2antt rlus cl rsdscs cct mc tauu clt sci psl fco2fos rsut sfcWind sbl rsdt wap ua pr tas huss co2 co2mass prc zg rsds rlds hfls ci tasmin va cli rsuscs hur clivi phalf clwvi rldscs uas rsutcs rlut evspsbl hurs fco2nat co2 ch4 ch4global n2o o3 n2o n2oglobal o3 n2oglobal ch4global ch4\n",
      "          CFmon 12 ----> clc clcalipso albisccp cllcalipso ta clmcalipso cltisccp cltcalipso clisccp hus pctisccp clhcalipso\n",
      "            day 33 ----> uas ua sfcWindmax clt tasmax prsn hfss rlus rlut tas prc psl sfcWind hus huss ta tasmin vas hursmin hursmax rsds hfls rlds hur pr hurs wap va rsus mrsos_land tslsi mrso snc\n",
      "         AERmon 56 ----> o3loss no2 ch4 hcho cheaqpso4 lossco tntrs o3ste ch3coch3 jno2 mmrdust o3prod no co2 cdnc pan mmrsoa c2h2 aoanh photo1d mmrso4 dms hcl lossch4 va hno3 mmrss od550lt1aer mmrnh4 mmrpm10 c2h6 chegpso4 emilnox h2o co mmrbc nh50 airmass n2o isop tntrl zg oh wa mcu o3 c3h8 so2 mmrpm2p5 c3h6 lossn2o mmroa mmrpm1 mmrno3 ua mmraerh2o\n",
      "           Emon 52 ----> pfull mrsll phalf cLand netAtmosLandCO2Flux fNfert fNgas treeFracBdlEvg fHarvestToProduct fNnetmin nLand grassFracC4 fNleach fAnthDisturb mrsfl nLitter nProduct cSoilAbove1m mrlso mrsol mrsos_land fFireNat fNdep treeFracNdlDcd fCLandToOcean fNAnthDisturb fBNF dms nMineral cSoilBelow1m nVeg cropFracC3 fNVegSoil fProductDecomp fLuc burntFractionAll treeFracBdlDcd nep fNLitterSoil fNloss treeFracNdlEvg fNVegLitter fDeforestToProduct nSoil grassFracC3 fNup vegFrac fNProduct fN2O cSoil fNLandToOcean cropFracC4\n",
      "          CFday 21 ----> clivi albisccp rlutcs clhcalipso rsut clmcalipso pctisccp rsdt cct cltcalipso ps rsdscs wap500 cllcalipso rsuscs cltisccp rsutcs ta700 ccb clwvi rldscs\n",
      "           Lmon 32 ----> pastureFrac mrlsl_land cVeg burntArea rh mrsos_land cLitter fVegSoil npp cropFrac cProduct lai residualFrac gpp fGrazing fLitterSoil fHarvest mrro mrso fFire mrros evspsblveg evspsblsoi tran treeFrac nbp baresoilFrac grassFrac fVegLitter shrubFrac ra mrfso\n",
      "          LImon 04 ----> snc snd snw_land hmv5\n",
      "           Eday 21 ----> clwvic reffcclwtop loadss ccldncl scldncl loadnh4 loaddust loadbc loadno3 loadpoa loadso4 loadoa loadsoa clivic reffsclwtop mrsfl mrro mrsol lai mrsll snw_land\n",
      "TBD Cannot yet compute annual climatology for         co2mass in table Amon -> averaging\n",
      "TBD Cannot yet compute annual climatology for           pfull in table Amon -> averaging\n",
      "TBD Cannot yet compute annual climatology for             co2 in table Amon -> averaging\n",
      "TBD Cannot yet compute annual climatology for           phalf in table Amon -> averaging\n",
      "TBD Cannot yet compute annual climatology for             n2o in table Amon -> averaging\n",
      "TBD Cannot yet compute annual climatology for       n2oglobal in table Amon -> averaging\n",
      "TBD Cannot yet compute annual climatology for              o3 in table Amon -> averaging\n",
      "TBD Cannot yet compute annual climatology for       ch4global in table Amon -> averaging\n",
      "TBD Cannot yet compute annual climatology for             ch4 in table Amon -> averaging\n",
      "Note : assuming that 'time: mean where cloud' for        albisccp in table CFmon is well handled by 'detect_missing'\n",
      "Note : assuming that 'time: mean where cloud' for        pctisccp in table CFmon is well handled by 'detect_missing'\n",
      "DR Error : issue when analyzing cell_time_method None for           pfull in table Emon, averaging\n",
      "DR Error : issue when analyzing cell_time_method None for           phalf in table Emon, averaging\n",
      "Note : assuming that 'time: mean where cloud' for        albisccp in table CFday is well handled by 'detect_missing'\n",
      "Note : assuming that 'time: mean where cloud' for        pctisccp in table CFday is well handled by 'detect_missing'\n",
      "DR Error : issue when analyzing cell_time_method None for            hmv5 in table LImon, averaging\n",
      "\n",
      "file_def written as output_sample/dr2xml_arpsfx.xml\n"
     ]
    }
   ],
   "source": [
    "if True : generate_file_defs(lab_and_model_settings, simulation_settings,year=2000,context='arpsfx',\n",
    "                   pingfile=\"output_sample/ping_arpsfx.xml\", printout=True, \n",
    "                   cvs_path=my_cvspath,dummies='include', dirname=\"output_sample/\")\n"
   ]
  },
  {
   "cell_type": "code",
   "execution_count": 7,
   "metadata": {
    "collapsed": false,
    "scrolled": true
   },
   "outputs": [],
   "source": [
    "# after some edit in ping_arpsfx.xml, which does not discard every 'dummy' entries \n",
    "if False : generate_file_defs(lab_and_model_settings, simulation_settings,year=2000,context='arpsfx',\n",
    "                   pingfile=\"test/ping_arpsfx.xml\", printout=True, \n",
    "                   cvs_path=my_cvspath,dummies='skip', dirname=\"test/\")\n"
   ]
  },
  {
   "cell_type": "markdown",
   "metadata": {},
   "source": []
  }
 ],
 "metadata": {
  "anaconda-cloud": {},
  "kernelspec": {
   "display_name": "Python 2",
   "language": "python",
   "name": "python2"
  },
  "language_info": {
   "codemirror_mode": {
    "name": "ipython",
    "version": 2
   },
   "file_extension": ".py",
   "mimetype": "text/x-python",
   "name": "python",
   "nbconvert_exporter": "python",
   "pygments_lexer": "ipython2",
   "version": "2.7.12"
  }
 },
 "nbformat": 4,
 "nbformat_minor": 0
}
