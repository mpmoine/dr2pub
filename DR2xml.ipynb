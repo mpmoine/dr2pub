{
 "metadata": {
  "anaconda-cloud": {},
  "kernelspec": {
   "display_name": "Python [Root]",
   "language": "python",
   "name": "Python [Root]"
  },
  "language_info": {
   "codemirror_mode": {
    "name": "ipython",
    "version": 2
   },
   "file_extension": ".py",
   "mimetype": "text/x-python",
   "name": "python",
   "nbconvert_exporter": "python",
   "pygments_lexer": "ipython2",
   "version": "2.7.12"
  },
  "name": "",
  "signature": "sha256:21a8abeab1e669becb9c1d6b180ee8442facfc9d28dbe90b8be0b597ab7f8f5d"
 },
 "nbformat": 3,
 "nbformat_minor": 0,
 "worksheets": [
  {
   "cells": [
    {
     "cell_type": "heading",
     "level": 1,
     "metadata": {},
     "source": [
      "An example for generating the XIOS file_def for a given lab, model, experiment, year and XIOS context"
     ]
    },
    {
     "cell_type": "heading",
     "level": 1,
     "metadata": {},
     "source": [
      "_This example shows how to use a list of Home Variables_"
     ]
    },
    {
     "cell_type": "heading",
     "level": 2,
     "metadata": {},
     "source": [
      "Define the settings specific to the laboratory and the model"
     ]
    },
    {
     "cell_type": "code",
     "collapsed": false,
     "input": [
      "lab_and_model_settings={\n",
      "    'institution_id': \"CNRM-CERFACS\", # institution should be read in CMIP6_CV, if up-to-date\n",
      "    #'institution'   : \"Centre National de Recherches Meteorologiques\", \n",
      "    'source_types' : { \"CNRM-CM6-1\" : \"AOGCM\", \"CNRM-CM6-1-HR\" : \"AOGCM\", \n",
      "                       \"CNRM-ESM2-1\": \"ESM\"  , \"CNRM-ESM2-1-HR\": \"ESM\" },\n",
      "    'source_id'      : \"CNRM-CM6-1\", \n",
      "    'source'         : \"CNRM-CM6-1\", # Useful only if CMIP6_CV is not uptodate\n",
      "    #'source_type' : \"AER\"  # You may override here the source-type value deduced from source_id and sources_type\n",
      "    'references'    :  \"A character string containing a list of published or web-based \"+\\\n",
      "        \"references that describe the data or the methods used to produce it.\"+\\\n",
      "        \"Typically, the user should provide references describing the model\"+\\\n",
      "        \"formulation here\",\n",
      "    'info_url'      : \"http://www.umr-cnrm.fr/cmip6/\",\n",
      "    'contact'       : 'contact.cmip@cnrm.fr',\n",
      "    \n",
      "    # We account for the list of MIPS in which the lab takes part.\n",
      "    # Note : a MIPs set limited to {'C4MIP'} leads to a number of tables and \n",
      "    # variables which is manageable for eye inspection\n",
      "    'mips': {'C4MIP', 'SIMIP', 'OMIP', 'CFMIP', 'RFMIP'} , \n",
      "    'mips_all' : {'AerChemMIP','C4MIP','CFMIP','DAMIP', 'FAFMIP' , 'GeoMIP','GMMIP','ISMIP6',\\\n",
      "                      'LS3MIP','LUMIP','OMIP','PMIP','RFMIP','ScenarioMIP','CORDEX','SIMIP'},\n",
      "    #'mips' : {'HighResMIP'},\n",
      "\n",
      "    # Max variable priority level to be output\n",
      "    'max_priority' : 1,\n",
      "    'tierMax'      : 3,\n",
      "\n",
      "    # The ping file defines variable names, which are constructed using CMIP6 \"MIPvarnames\" \n",
      "    # and a prefix which must be set here, and can be the empty string :\n",
      "    \"ping_variables_prefix\" : \"CMIP6_\",\n",
      "\n",
      "    # We account for a list of variables which the lab does not want to produce , \n",
      "    # oragnized by realms\n",
      "    # excluded_vars_file=\"./inputs/non_published_variables.txt\"\n",
      "    \"excluded_vars\":[],\n",
      "    \n",
      "    # We account for a list of variables which the lab wants to produce in some cases\n",
      "    #\"listof_home_vars\":\"./inputs/my_listof_home_vars.txt\",\n",
      "    \"listof_home_vars\":\"./config_utest/utest020_listof_home_vars.txt\",\n",
      "        \n",
      "    # Each XIOS  context does adress a number of realms\n",
      "    'realms_per_context' : { 'nemo': ['seaIce', 'ocean', 'ocean seaIce', 'ocnBgchem', 'seaIce ocean'] ,\n",
      "                          'arpsfx' : ['atmos', 'atmos atmosChem', 'aerosol', 'atmos land', 'land',\n",
      "                                     'landIce land',  'aerosol land','land landIce',  'landIce', ],\n",
      "                          }, \n",
      "    # Some variables, while belonging to a realm, may fall in another XIOS context than the \n",
      "    # context which handles that realm\n",
      "    'orphan_variables' : { 'nemo' : ['dummy_variable_for_illustration_purpose'],\n",
      "                           'arpsfx' : [],\n",
      "                           },\n",
      "    'vars_OK' : dict(),\n",
      "    # A per-variable dict of comments valid for all simulations\n",
      "    'comments'     : {\n",
      "        'tas' : 'nothing special about tas'\n",
      "        }\n",
      "    }"
     ],
     "language": "python",
     "metadata": {},
     "outputs": [],
     "prompt_number": 1
    },
    {
     "cell_type": "heading",
     "level": 2,
     "metadata": {},
     "source": [
      "Define the settings for the processed simulation "
     ]
    },
    {
     "cell_type": "code",
     "collapsed": false,
     "input": [
      "simulation_settings={    \n",
      "    # Dictionnary describing the necessary attributes for a given simulation\n",
      "\n",
      "    # Warning : some lines are commented out in this example but should be \n",
      "    # un-commented in some cases. See comments\n",
      "\n",
      "    \"experiment_id\"  : \"historical\",\n",
      "    #\"experiment_id\"  : \"Forced-Atmos-Land\",\n",
      "    #\"experiment_id\"  : \"Coupled\",\n",
      "    #\"experiment_id\"  : \"DCPP-C13\",\n",
      "    \n",
      "    #\"contact\"        : \"\", set it only if it is specific to the simualtion\n",
      "    #\"project\"        : \"CMIP6\",  #CMIP6 is the default\n",
      "\n",
      "    #'source_type'    : \"ESM\" # If source_type is special only for this experiment (e.g. : AMIP)\n",
      "                      #(i.e. not the same as in lab_and_model settings), you may tell that here\n",
      "\n",
      "    # MIP specifying the experiment. For historical, it is CMIP6 itself\n",
      "    # In a few cases it may be appropriate to include multiple activities in the activity_id \n",
      "    # (with multiple activities allowed, separated by single spaces).  \n",
      "    # An example of this is \u201cLUMIP AerChemMIP\u201d for one of the land-use change experiments.\n",
      "    \"activity_id\"       : \"CMIP\", # examples : \u201cPMIP\u201d, \u201cLS3MIP LUMIP\u201d; defaults to \"CMIP6\"\n",
      "    \n",
      "    # It is recommended that some description be included to help identify major differences among variants, \n",
      "    # but care should be taken to record correct information.  Prudence dictates that this attribute includes \n",
      "    # a warning along the following lines:  \u201cInformation provided by this attribute may in some cases be flawed.#\n",
      "    # Users can find more comprehensive and up-to-date documentation via the further_info_url global attribute.\u201d\n",
      "    \"variant_info\"      : \"Start date chosen so that variant r1i1p1f1 has the better fit with Krakatoa impact on tos\",\n",
      "    #\n",
      "    \"realization_index\"    : 1, # Value may be omitted if = 1\n",
      "    \"initialization_index\" : 1, # Value may be omitted if = 1\n",
      "    \"physics_index\"        : 1, # Value may be omitted if = 1\n",
      "    \"forcing_index\"        : 1, # Value may be omitted if = 1\n",
      "    #\n",
      "    # All about the parent experiment and branching scheme\n",
      "    \"parent_experiment_id\" : \"piControl\", # omit this setting (or set to 'no parent') if not applicable\n",
      "                                          # (remaining parent attributes will be disregarded)\n",
      "    \"branch_method\"        : \"standard\", # default value='standard', meaning ~ \"select a start date\" \n",
      "    \"branch_time_in_parent\": \"365.0D0\", # a double precision value, in parent time units, \n",
      "    \"branch_time_in_child\" : \"0.0D0\", # a double precision value, in child time units, \n",
      "    #'parent_time_units'    : \"\" #in case it is not the same as child time units\n",
      "    #'parent_variant_label' :\"\"  #Default to 'same as child'. Other cases should be expceptional\n",
      "    #\"parent_mip_era\"       : 'CMIP5'   # only in special cases (e.g. PMIP warm start from CMIP5/PMIP3 experiment)\n",
      "    #'parent_activity   '   : 'CMIP'    # only in special cases, defaults to CMIP\n",
      "    #'parent_source_id'     : 'CNRM-CM5.1' #only in special cases, where parent model is not the same model\n",
      "    #\n",
      "    \"sub_experiment_id\"    : \"none\", # Optional, default is 'none'; example : s1960. \n",
      "    \"sub_experiment\"       : \"none\", # Optional, default in 'none'\n",
      "    \"history\"              : \"none\", #Used when a simulation is re-run, an output file is modified ....\n",
      "    # A per-variable dict of comments which are specific to this simulation. It will replace  \n",
      "    # the all-simulation comment present in lab_and_model_settings\n",
      "    'comments'     : {\n",
      "        'tas' : 'tas diagnostic uses a special scheme in this simulation',\n",
      "        }\n",
      "    }\n",
      "\n"
     ],
     "language": "python",
     "metadata": {},
     "outputs": [],
     "prompt_number": 2
    },
    {
     "cell_type": "code",
     "collapsed": false,
     "input": [
      "from dr2xml import generate_file_defs"
     ],
     "language": "python",
     "metadata": {},
     "outputs": [
      {
       "output_type": "stream",
       "stream": "stdout",
       "text": [
        "01.beta.45\n"
       ]
      }
     ],
     "prompt_number": 3
    },
    {
     "cell_type": "code",
     "collapsed": false,
     "input": [
      "# Path to local copy of CMIP6 CVs, which you can get from https://github.com/WCRP-CMIP/CMIP6_CVs\n",
      "#my_cvspath=\"/Users/moine/Codes/MyDevel_Codes/CMIP6_DATA_SUITE/CMIP6_CVs/\"\n",
      "my_cvspath=\"/cnrm/est/USERS/senesi/public/CMIP6/data_request/CMIP6_CVs/\""
     ],
     "language": "python",
     "metadata": {},
     "outputs": [],
     "prompt_number": 4
    },
    {
     "cell_type": "code",
     "collapsed": false,
     "input": [
      "generate_file_defs(lab_and_model_settings, simulation_settings,year=2000,context='nemo',printout=True, cvs_path=my_cvspath)\n"
     ],
     "language": "python",
     "metadata": {
      "scrolled": false
     },
     "outputs": [
      {
       "output_type": "stream",
       "stream": "stdout",
       "text": [
        "\n",
        "Number of Request Links which apply to MIPS set(['C4MIP', 'SIMIP', 'OMIP', 'CFMIP', 'RFMIP'])  is:  51\n",
        "\n",
        "Number of Request Links which apply to experiment "
       ]
      },
      {
       "output_type": "stream",
       "stream": "stdout",
       "text": [
        " historical and experiment set(['C4MIP', 'SIMIP', 'OMIP', 'CFMIP', 'RFMIP'])  is:  62\n",
        "\n",
        "Number of CMOR variables for these requestLinks is : 590\n",
        "\n",
        "Number of CMOR variables once filtered by excluded vars is : 590\n",
        "\n",
        "Number of variables with distinct labels is : 467\n",
        "\n",
        "Number of simplified vars is : 590\n",
        "Info: {'varname': 'hmv1', 'freq': 'mon', 'realm': 'seaIce', 'table': 'SImon'} HOMEVar is purely personnal. => Taken into account.\n",
        "Info: {'varname': 'hmv5', 'freq': 'mon', 'realm': 'landIce', 'table': 'LImon'} HOMEVar is purely personnal. => Taken into account.\n",
        "Info: {'varname': 'hfls', 'freq': 'mon', 'realm': 'atmos', 'table': 'Amon'} HOMEVar is already in the DataRequest. => Not taken into account.\n",
        "\n",
        "Realms for these CMORvars : ['seaIce', 'seaIce ocean', 'land', 'atmos atmosChem', 'landIce', 'ocean seaIce', 'landIce land', 'ocean', 'atmos', 'aerosol', 'land landIce', 'ocnBgchem']\n",
        "\n",
        "Tables concerned by context nemo :  ['emMon', 'SImon', 'Omon', 'fx', 'SIday', 'Oyr', 'day', 'Oday', 'Oclim', 'Ofx', 'Odec']\n",
        "\n",
        "Variables per table :\n",
        "          emMon 05 ----> expcfe epn100 intdoc zoomisc epp100\n",
        "          SImon 37 ----> siu sndmasssnf siflswutop sifllatstop sidmasstrany sndmassmelt siv siconc sipr sidmassgrowthbot simass sistryubot sialb sihc sisnthick_sosi simassacrossline sidmassgrowthwat sistrxubot sidmasssi siflswdtop sifllwdtop sidmassmelttop sitempsnic sidmassevapsubl siage sitimefrac sitemptop sisnconc sidivvel sidmasstranx sivol sicompstren sifllwutop sidmassmeltbot sisnmass siflsenstop hmv1\n",
        "           Omon 84 ----> mlotstmax hfbasinpadv tauucorr vo masso wfo sos hfcorr tauvo obvfsq tos zhalf soga msftyzsmpa msftmrho hfbasinpsmadv so msftyyz agessc zostoga thetao msftbarot sfriver uo pso msftyzmpa bigthetao thkcello cfc11 mlotst volo msftmzsmpa masscello msftyrhompa hfds mlotstmin thetaoga wfcorr vmo wfonocorr wo msftmrhompa sosga msftmyz zfull hfbasin hfbasinpmadv hfbasinpmdiff tob tauuo bigthetaoga zos tosga umo msftmzmpa fgcfc12 wmo msftyrho pbo sob tauvcorr hfsifrazil fsitherm sfdsi o2 ph dissic talk talknat fgco2 po4 expc100 expcalc100 dissicnat exparag100 dissi14cabio si dfe fgo2 intpp dissicabio chl spco2 no3\n",
        "             fx 02 ----> hfgeou_sea sftof\n",
        "          SIday 02 ----> sispeed sithick\n",
        "            Oyr 14 ----> cfc12 dissi14cabio dissicabio no3 dfe po4 dissicnat talk si dissic ph o2 chl talknat\n",
        "            day 04 ----> omldamax vsi sic usi\n",
        "           Oday 02 ----> tossq tos\n",
        "          Oclim 02 ----> zfullo zhalfo\n",
        "            Ofx 06 ----> deptho cpocean basin areacello masscello rhozero\n",
        "           Odec 24 ----> masso wfo thetaoga tauuo thetao hfbasin tos bigthetaoga sos so tosga thkcello uo agessc tauvo wo sfriver msftmyz vo volo soga hfds sosga sfdsi\n",
        "\n",
        "file_def written as nemo.xml"
       ]
      },
      {
       "output_type": "stream",
       "stream": "stdout",
       "text": [
        "\n"
       ]
      }
     ],
     "prompt_number": 5
    },
    {
     "cell_type": "code",
     "collapsed": false,
     "input": [
      "generate_file_defs(lab_and_model_settings, simulation_settings,year=2000,context='arpsfx',printout=True, cvs_path=my_cvspath)\n"
     ],
     "language": "python",
     "metadata": {
      "scrolled": true
     },
     "outputs": [
      {
       "output_type": "stream",
       "stream": "stdout",
       "text": [
        "\n",
        "Number of Request Links which apply to MIPS set(['C4MIP', 'SIMIP', 'OMIP', 'CFMIP', 'RFMIP'])  is:  51\n",
        "\n",
        "Number of Request Links which apply to experiment "
       ]
      },
      {
       "output_type": "stream",
       "stream": "stdout",
       "text": [
        " historical and experiment set(['C4MIP', 'SIMIP', 'OMIP', 'CFMIP', 'RFMIP'])  is:  62\n",
        "\n",
        "Number of CMOR variables for these requestLinks is : 590\n",
        "\n",
        "Number of CMOR variables once filtered by excluded vars is : 590\n",
        "\n",
        "Number of variables with distinct labels is : 467\n",
        "\n",
        "Number of simplified vars is : 590\n",
        "Info: {'varname': 'hmv1', 'freq': 'mon', 'realm': 'seaIce', 'table': 'SImon'} HOMEVar is purely personnal. => Taken into account.\n",
        "Info: {'varname': 'hmv5', 'freq': 'mon', 'realm': 'landIce', 'table': 'LImon'} HOMEVar is purely personnal. => Taken into account.\n",
        "Info: {'varname': 'hfls', 'freq': 'mon', 'realm': 'atmos', 'table': 'Amon'} HOMEVar is already in the DataRequest. => Not taken into account.\n",
        "\n",
        "Realms for these CMORvars : ['seaIce', 'seaIce ocean', 'land', 'atmos atmosChem', 'landIce', 'ocean seaIce', 'landIce land', 'ocean', 'atmos', 'aerosol', 'land landIce', 'ocnBgchem']\n",
        "\n",
        "Tables concerned by context arpsfx :  ['emMon', 'Amon', 'cfMon', 'emDay', 'emYr', 'em3hr', 'emMonZ', 'cfDay', 'Lmon', 'LImon', 'day', 'aermonthly']\n",
        "\n",
        "Variables per table :\n",
        "          emMon 52 ----> mrsol od550soa fNgas vegFrac fHarvestToProduct treeFracNdlEvg fNfert fNleach fAnthDisturb mrsfl grassFrac_land cLand nVeg nProduct cSoilAbove1m mrlso mrsos_land treeFracNdlDcd netAtmosLandCO2Flux baresoilFrac cSoil_land treeFrac_land fFireNat nLand fNdep fCLandToOcean fNAnthDisturb fBNF dms nMineral cSoilBelow1m treeFracBdlDcd fN2O cropFracC4 cropFracC3 fNVegSoil fProductDecomp mrsll burntFractionAll nLitter fNLitterSoil fNnetmin treeFracBdlEvg fNloss fNVegLitter grassFracC4 fDeforestToProduct nSoil grassFracC3 fNup fNProduct fNLandToOcean\n",
        "           Amon 71 ----> tauv rtmt clw vas co2mass hus pfull ccb ta rsus ts tasmax hfss rlutcs prw prsn rsutcs fco2antt rlus cl rsdscs cct mc tauu clt sci tasmin psl fco2fos rsut sfcWind sbl rsdt ua fco2nat pr tas huss co2 co2mass wap prc zg rsds rlds hfls ci phalf va cli rsuscs hur clivi clwvi rldscs uas rlut ps evspsbl hurs co2 ch4 n2oglobal n2o tro3 tro3 n2o n2oglobal ch4global ch4 ch4global\n",
        "          cfMon 11 ----> albisccp_cloud cllcalipso pctisccp_cloud ta clmcalipso cltisccp cltcalipso clcalipso clisccp hus clhcalipso\n",
        "          emDay 19 ----> clwvic reffcclwtop ccldncl scldncl loadnh4 loadbc loadno3 loadpoa loadss loadso4 loadoa loadsoa clivic loaddust reffsclwtop lai_land mrsll mrsol mrsfl\n",
        "           emYr 01 ----> zfull\n",
        "          em3hr 03 ----> ra rh gpp\n",
        "         emMonZ 17 ----> ch4 ho2 oh noy o3 ta hno3 hcl cly bry ua n2o vt100 va meanage h2o zg\n",
        "          cfDay 21 ----> albisccp_cloud ccb clhcalipso rsut clmcalipso pctisccp_cloud rsdt cct cltcalipso ps rsdscs wap500 clivi cllcalipso rsuscs cltisccp rsutcs ta700 clwvi rlutcs rldscs\n",
        "           Lmon 34 ----> pastureFrac mrlsl_land cVeg_land burntArea rh mrsos_land cLitter_land fVegSoil npp cropFrac cProduct_land lai_land fVegLitter residualFrac gpp fGrazing fHarvest mrro_land fLitterSoil mrso fLuc_land fFire mrros_land evspsblveg evspsblsoi tran_land treeFrac nbp baresoilFrac grassFrac nep_land shrubFrac ra mrfso\n",
        "          LImon 04 ----> snc snd snw_land hmv5\n",
        "            day 35 ----> uas ua sfcWindmax clt tasmax prsn hfss rlus rlut tas psl prc sfcWind hus huss ta tasmin rhsmin vas rhs rsds hfls rlds hur pr rhsmax wap va rsus mrsos_land tslsi mrro_land mrso snw_land snc\n",
        "     aermonthly 142 ----> ua oh drynoy od550ss cdnc ztp mmrso4 swtoacsoaff photo1d od550oa mmrpm2p5 mmrbc o3 lossco wetso2 o3ste swtoaasso4 reffclwtop lwtoaasaer od550lt1aer mcu hcl pan airmass od550aerh2o dryso2 c3h6 c3h8 mmrsoa hcho lwtoaasdust nh50 od550bc tntsw wetss emidms od550so4 swtoaasss plev mmrpm1 emibvoc emibc lossch4 eminh3 chepsoa o3prod ch4 wetnoy albs eminox swtoaasbb swtoaasoaff mmroa co2 swtoacsbcff hno3 o3loss tatp c2h2 wetbc emico isop lwp c2h6 ch3coch3 mmrpm10 wetnh4 convclt cnpz pilev albsrfc chegpso4 od440aer drynh4 od870aer dryss co ccn ptp emiso4 va emilnox dryo3 mmrnh4 snc swtoacsdust od550aer emiaoa toz emioa cheaqpso4 drydust n2o swtoacsaer emiaco wa wetnh3 od550bb emivoc wetoa od550dust tntlw iwp tropoz emianox dms od550no3 h2o drynh3 swtoaasaer emidust emiss so2 swtoaasbcff lossn2o swtoaassoa mmrdust no no2 cod swtoaasno3 abs550aer swtoacsbb emiisop lai sic mmrno3 dryso4 chepasoa wetdust ttop convcl zg swtoaasdust dryoa drybc wetso4 lwtoacsaer mmrss mmraerh2o aoanh emiso2\n",
        "\n",
        "file_def written as arpsfx.xml"
       ]
      },
      {
       "output_type": "stream",
       "stream": "stdout",
       "text": [
        "\n"
       ]
      }
     ],
     "prompt_number": 6
    },
    {
     "cell_type": "code",
     "collapsed": true,
     "input": [],
     "language": "python",
     "metadata": {},
     "outputs": [],
     "prompt_number": null
    },
    {
     "cell_type": "code",
     "collapsed": true,
     "input": [],
     "language": "python",
     "metadata": {},
     "outputs": [],
     "prompt_number": null
    }
   ],
   "metadata": {}
  }
 ]
}