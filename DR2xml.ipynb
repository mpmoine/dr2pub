{
 "cells": [
  {
   "cell_type": "markdown",
   "metadata": {},
   "source": [
    "# An example for generating the XIOS file_def for a given lab, model, experiment, year and XIOS context"
   ]
  },
  {
   "cell_type": "markdown",
   "metadata": {},
   "source": [
    "# _This example shows how to use a list of Home Variables_"
   ]
  },
  {
   "cell_type": "markdown",
   "metadata": {},
   "source": [
    "## Define the settings specific to the laboratory and the model"
   ]
  },
  {
   "cell_type": "code",
   "execution_count": 1,
   "metadata": {
    "collapsed": false
   },
   "outputs": [],
   "source": [
    "lab_and_model_settings={\n",
    "    'institution_id': \"CNRM-CERFACS\", # institution should be read in CMIP6_CV, if up-to-date\n",
    "\n",
    "    # entry 'source_types' allows to describe, using CMIP6 CV, the various model configurations\n",
    "    # for the lab; This can be superseded by an entry 'source_type' either just below or in dict  \n",
    "    # for simulation settings (further below)\n",
    "    'source_types' : { \"CNRM-CM6-1\" : \"AOGCM\", \"CNRM-CM6-1-HR\" : \"AOGCM\", \n",
    "                       \"CNRM-ESM2-1\": \"ESM\"  , \"CNRM-ESM2-1-HR\": \"ESM\" },\n",
    "\n",
    "    \"source_id\"      : \"CNRM-CM6-1\",\n",
    "    \"source\"         : \"CNRM-CM6-1\", # Useful only if CMIP6_CV is not up-to-date for the source_id\n",
    "    # You may override here the source-type value deduced from source_id and sources_type\n",
    "    #'source_type' : \"AER\"  \n",
    "\n",
    "    'references'    :  \"A character string containing a list of published or web-based \"+\\\n",
    "        \"references that describe the data or the methods used to produce it.\"+\\\n",
    "        \"Typically, the user should provide references describing the model\"+\\\n",
    "        \"formulation here\",\n",
    "    'info_url'      : \"http://www.umr-cnrm.fr/cmip6/\",\n",
    "    'contact'       : 'contact.cmip@cnrm.fr',\n",
    "    \n",
    "    # We account for the list of MIPS in which the lab takes part.\n",
    "    # Note : a MIPs set limited to {'C4MIP'} leads to a number of tables and \n",
    "    # variables which is manageable for eye inspection\n",
    "    'mips': {'C4MIP', 'SIMIP', 'OMIP', 'CFMIP', 'RFMIP'} , \n",
    "    'mips_all' : {'AerChemMIP','C4MIP','CFMIP','DAMIP', 'FAFMIP' , 'GeoMIP','GMMIP','ISMIP6',\\\n",
    "                      'LS3MIP','LUMIP','OMIP','PMIP','RFMIP','ScenarioMIP','CORDEX','SIMIP'},\n",
    "    #'mips' : {'HighResMIP'},\n",
    "\n",
    "    # Max variable priority level to be output\n",
    "    'max_priority' : 1,\n",
    "    'tierMax'      : 3,\n",
    "\n",
    "    # The ping file defines variable names, which are constructed using CMIP6 \"MIPvarnames\" \n",
    "    # and a prefix which must be set here, and can be the empty string :\n",
    "    \"ping_variables_prefix\" : \"CMIP6_\",\n",
    "\n",
    "    # We account for a list of variables which the lab does not want to produce , \n",
    "    # oragnized by realms\n",
    "    # excluded_vars_file=\"./inputs/non_published_variables.txt\"\n",
    "    \"excluded_vars\":[],\n",
    "    \n",
    "    # We account for a list of variables which the lab wants to produce in some cases\n",
    "    #\"listof_home_vars\":\"./inputs/my_listof_home_vars.txt\",\n",
    "    \"listof_home_vars\":\"./config_utest/utest020_listof_home_vars.txt\",\n",
    "        \n",
    "    # Each XIOS  context does adress a number of realms\n",
    "    'realms_per_context' : { 'nemo': ['seaIce', 'ocean', 'ocean seaIce', 'ocnBgchem', 'seaIce ocean'] ,\n",
    "                          'arpsfx' : ['atmos', 'atmos atmosChem', 'aerosol', 'atmos land', 'land',\n",
    "                                     'landIce land',  'aerosol land','land landIce',  'landIce', ],\n",
    "                          }, \n",
    "    # Some variables, while belonging to a realm, may fall in another XIOS context than the \n",
    "    # context which handles that realm\n",
    "    'orphan_variables' : { 'nemo' : ['dummy_variable_for_illustration_purpose'],\n",
    "                           'arpsfx' : [],\n",
    "                           },\n",
    "    'vars_OK' : dict(),\n",
    "    # A per-variable dict of comments valid for all simulations\n",
    "    'comments'     : {\n",
    "        'tas' : 'nothing special about tas'\n",
    "        },\n",
    "\n",
    "    # Sizes of oce and atm grids (cf DR doc)\n",
    "    \"sizes\"  : [292*362,75,128*256,91,30,14,128],\n",
    "\n",
    "    # What is the maximum size of generated files, in number of float values\n",
    "    \"max_file_size_in_floats\" : 500.*1.e+6 ,\n",
    "    # grid_policy among None, DR, native, native+DR, adhoc- see docin grids.py \n",
    "    \"grid_policy\" : \"adhoc\",\n",
    "    # Grids : CMIP6 name, name_of_target_domain, CMIP6-std resolution, and description\n",
    "    \"grids\" : { \n",
    "      \"LR\"    : {\n",
    "        \"arpsfx\" : [ \"gr\",\"complete\" , \"250 km\", \"data regridded to a T127 gaussian grid (128x256 latlon) from a native atmosphere T127l reduced gaussian grid\"] ,\n",
    "          \"nemo\" : [ \"gn\", \"\"        , \"100km\" , \"native ocean tri-polar grid with 105 k ocean cells\" ],},\n",
    "      \"HR\"    : {\n",
    "        \"arpsfx\" : [ \"gr\",\"completeHR\", \"50 km\", \"data regridded to a 359 gaussian grid (180x360 latlon) from a native atmosphere T359l reduced gaussian grid\"] ,\n",
    "          \"nemo\" : [ \"gn\", \"\"         , \"25km\" , \"native ocean tri-polar grid with 1.47 M ocean cells\" ],},\n",
    "    },\n",
    "    'grid_choice' : { \"CNRM-CM6-1\" : \"LR\", \"CNRM-CM6-1-HR\" : \"HR\", \"CNRM-ESM2-1\": \"LR\"  , \"CNRM-ESM2-1-HR\": \"HR\" },\n",
    "\n",
    "    }"
   ]
  },
  {
   "cell_type": "markdown",
   "metadata": {},
   "source": [
    "## Define the settings for the processed simulation "
   ]
  },
  {
   "cell_type": "code",
   "execution_count": 2,
   "metadata": {
    "collapsed": false
   },
   "outputs": [],
   "source": [
    "simulation_settings={    \n",
    "    # Dictionnary describing the necessary attributes for a given simulation\n",
    "\n",
    "    # Warning : some lines are commented out in this example but should be \n",
    "    # un-commented in some cases. See comments\n",
    "    \n",
    "    \"experiment_id\"  : \"historical\",\n",
    "    #\"experiment_id\"  : \"Forced-Atmos-Land\",\n",
    "    #\"experiment_id\"  : \"Coupled\",\n",
    "    #\"experiment_id\"  : \"DCPP-C13\",\n",
    "    \n",
    "    #\"contact\"        : \"\", set it only if it is specific to the simualtion\n",
    "    #\"project\"        : \"CMIP6\",  #CMIP6 is the default\n",
    "\n",
    "    #'source_type'    : \"ESM\" # If source_type is special only for this experiment (e.g. : AMIP)\n",
    "                      #(i.e. not the same as in lab_and_model settings), you may tell that here\n",
    "\n",
    "    # MIP specifying the experiment. For historical, it is CMIP6 itself\n",
    "    # In a few cases it may be appropriate to include multiple activities in the activity_id \n",
    "    # (with multiple activities allowed, separated by single spaces).  \n",
    "    # An example of this is “LUMIP AerChemMIP” for one of the land-use change experiments.\n",
    "    \"activity_id\"       : \"CMIP\", # examples : “PMIP”, “LS3MIP LUMIP”; defaults to \"CMIP6\"\n",
    "    \n",
    "    # It is recommended that some description be included to help identify major differences among variants, \n",
    "    # but care should be taken to record correct information.  Prudence dictates that this attribute includes \n",
    "    # a warning along the following lines:  “Information provided by this attribute may in some cases be flawed.#\n",
    "    # Users can find more comprehensive and up-to-date documentation via the further_info_url global attribute.”\n",
    "    \"variant_info\"      : \"Start date chosen so that variant r1i1p1f1 has the better fit with Krakatoa impact on tos\",\n",
    "    #\n",
    "    \"realization_index\"    : 1, # Value may be omitted if = 1\n",
    "    \"initialization_index\" : 1, # Value may be omitted if = 1\n",
    "    \"physics_index\"        : 1, # Value may be omitted if = 1\n",
    "    \"forcing_index\"        : 1, # Value may be omitted if = 1\n",
    "    #\n",
    "    # All about the parent experiment and branching scheme\n",
    "    \"parent_experiment_id\" : \"piControl\", # omit this setting (or set to 'no parent') if not applicable\n",
    "                                          # (remaining parent attributes will be disregarded)\n",
    "    \"branch_method\"        : \"standard\", # default value='standard', meaning ~ \"select a start date\" \n",
    "    \"branch_time_in_parent\": \"365.0D0\", # a double precision value, in parent time units, \n",
    "    \"branch_time_in_child\" : \"0.0D0\", # a double precision value, in child time units, \n",
    "    #'parent_time_units'    : \"\" #in case it is not the same as child time units\n",
    "    #'parent_variant_label' :\"\"  #Default to 'same as child'. Other cases should be expceptional\n",
    "    #\"parent_mip_era\"       : 'CMIP5'   # only in special cases (e.g. PMIP warm start from CMIP5/PMIP3 experiment)\n",
    "    #'parent_activity   '   : 'CMIP'    # only in special cases, defaults to CMIP\n",
    "    #'parent_source_id'     : 'CNRM-CM5.1' #only in special cases, where parent model is not the same model\n",
    "    #\n",
    "    \"sub_experiment_id\"    : \"none\", # Optional, default is 'none'; example : s1960. \n",
    "    \"sub_experiment\"       : \"none\", # Optional, default in 'none'\n",
    "    \"history\"              : \"none\", #Used when a simulation is re-run, an output file is modified ....\n",
    "    # A per-variable dict of comments which are specific to this simulation. It will replace  \n",
    "    # the all-simulation comment present in lab_and_model_settings\n",
    "    'comments'     : {\n",
    "        'tas' : 'tas diagnostic uses a special scheme in this simulation',\n",
    "        }\n",
    "    }\n",
    "\n"
   ]
  },
  {
   "cell_type": "code",
   "execution_count": 3,
   "metadata": {
    "collapsed": false
   },
   "outputs": [
    {
     "name": "stdout",
     "output_type": "stream",
     "text": [
      "01.00.02\n"
     ]
    }
   ],
   "source": [
    "from dr2xml import generate_file_defs"
   ]
  },
  {
   "cell_type": "code",
   "execution_count": 4,
   "metadata": {
    "collapsed": false
   },
   "outputs": [],
   "source": [
    "# Path to local copy of CMIP6 CVs, which you can get from https://github.com/WCRP-CMIP/CMIP6_CVs\n",
    "#my_cvspath=\"/Users/moine/Codes/MyDevel_Codes/CMIP6_DATA_SUITE/CMIP6_CVs/\"\n",
    "my_cvspath=\"/cnrm/est/USERS/senesi/public/CMIP6/data_request/CMIP6_CVs/\""
   ]
  },
  {
   "cell_type": "code",
   "execution_count": 5,
   "metadata": {
    "collapsed": false
   },
   "outputs": [],
   "source": [
    "#help(generate_file_defs)"
   ]
  },
  {
   "cell_type": "code",
   "execution_count": 6,
   "metadata": {
    "collapsed": false,
    "scrolled": false
   },
   "outputs": [
    {
     "name": "stdout",
     "output_type": "stream",
     "text": [
      "Number of Request Links which apply to MIPS set(['C4MIP', 'SIMIP', 'OMIP', 'CFMIP', 'RFMIP'])  is:  52\n",
      "Number of Request Links which apply to experiment  historical and MIPs set(['C4MIP', 'SIMIP', 'OMIP', 'CFMIP', 'RFMIP'])  is:  64\n",
      "Number of CMOR variables for these requestLinks is :535\n",
      "Number of CMOR variables once filtered by excluded vars is : 535\n",
      "\n",
      "Number of variables with distinct labels is : 373\n",
      "\n",
      "Number of simplified vars is : 535\n",
      "Info: {'varname': 'hmv1', 'freq': 'mon', 'realm': 'seaIce', 'table': 'SImon'} HOMEVar is purely personnal. => Taken into account.\n",
      "Info: {'varname': 'hmv5', 'freq': 'mon', 'realm': 'landIce', 'table': 'LImon'} HOMEVar is purely personnal. => Taken into account.\n",
      "Info: {'varname': 'hfls', 'freq': 'mon', 'realm': 'atmos', 'table': 'Amon'} HOMEVar is already in the DataRequest. => Not taken into account.\n",
      "\n",
      "Realms for these CMORvars : ['seaIce', 'land', 'atmos atmosChem', 'landIce', 'ocean seaIce', 'landIce land', 'land landIce', 'atmos', 'aerosol', 'ocean', 'ocnBgchem']\n",
      "\n",
      "Tables concerned by context arpsfx :  ['EmonZ', 'E3hr', 'Amon', 'CFmon', 'Eday', 'AERmon', 'Emon', 'CFday', 'Lmon', 'LImon', 'day']\n",
      "\n",
      "Variables per table :\n",
      "          EmonZ 01 ----> co2totalmass\n",
      "           E3hr 03 ----> rh ra gpp\n",
      "           Amon 71 ----> cli cl clw rtmt tauv co2massClim rsdscs hfls rlutcs psl ta clwvi rsus pr tasmax tauu hus zg fco2fos phalf mc rlds vas co2Clim rsut rsuscs tas sfcWind ci sbl clt huss hfss rsdt evspsbl rldscs fco2nat fco2antt wap sci rlus rsds hur cct tasmin va co2mass rsutcs rlut prc prw uas ps ts co2 ccb pfull clivi hurs prsn ua n2o n2oClim ch4 n2oglobalClim n2oglobal ch4globalClim ch4global o3 ch4Clim o3Clim\n",
      "          CFmon 12 ----> clmcalipso cllcalipso cltcalipso clisccp pctisccp clhcalipso albisccp clcalipso cltisccp hus ta clc\n",
      "           Eday 21 ----> scldncl loadpoa reffsclwtop loadno3 loadoa loaddust reffcclwtop loadsoa loadbc loadnh4 loadso4 ccldncl loadss clivic clwvic mrro mrsll mrsol lai mrsfl snw_land\n",
      "         AERmon 56 ----> emilnox mmrnh4 o3loss mmroa co2 lossch4 chegpso4 ch3coch3 so2 mcu airmass n2o o3prod oh aoanh h2o c3h6 isop no tntrl c2h2 mmrso4 no2 lossco tntrs co lossn2o photo1d va mmrpm1 hno3 hcho mmrdust o3ste dms mmrss mmrno3 ch4 zg o3 wa mmrpm10 c3h8 cdnc jno2 mmrbc cheaqpso4 mmrpm2p5 pan ua nh50 c2h6 mmraerh2o mmrsoa hcl od550lt1aer\n",
      "           Emon 52 ----> pfull phalf mrsll cLand netAtmosLandCO2Flux cSoil nep fLuc treeFracBdlEvg fN2O fNgas treeFracBdlDcd cropFracC4 grassFracC4 fNleach treeFracNdlDcd cropFracC3 grassFracC3 treeFracNdlEvg mrsol mrsfl mrlso fNloss mrsos_land fHarvestToProduct nLitter fNProduct fNnetmin fBNF fNVegLitter burntFractionAll fNup nVeg nLand fFireNat fDeforestToProduct nSoil nProduct fNVegSoil fNfert fProductDecomp fAnthDisturb fNLandToOcean fNLitterSoil fNdep nMineral fCLandToOcean fNAnthDisturb vegFrac cSoilBelow1m cSoil cSoilAbove1m\n",
      "          CFday 21 ----> rsdscs rsutcs cllcalipso rsdt clmcalipso cltcalipso pctisccp wap500 ta700 ps rldscs rlutcs rsuscs cct clivi rsut clwvi ccb albisccp cltisccp clhcalipso\n",
      "           Lmon 59 ----> evspsblsoi fVegLitter evspsblveg cProduct cVeg shrubFrac cropFrac pastureFrac ra lai tran fGrazing mrlsl_land fFire fHarvest mrro mrros treeFrac burntArea nbp residualFrac rh fLitterSoil fVegSoil npp gpp grassFrac mrsos_land cLitter baresoilFrac mrso evspsblsoi mrros burntArea grassFrac mrsos_land cropFrac evspsblveg residualFrac tran mrlsl_land shrubFrac treeFrac baresoilFrac pastureFrac mrso mrro ra fVegLitter fVegSoil fLitterSoil cProduct cVeg lai rh gpp cLitter mrfso mrfso\n",
      "          LImon 04 ----> snc snw_land snd hmv5\n",
      "            day 33 ----> sfcWind hursmin pr tasmin psl huss tasmax hurs tas hfss prc rlds rlut rsds rsus rlus hfls clt sfcWindmax uas vas hursmax ua ta wap hus prsn hur va mrso mrsos_land tslsi snc\n",
      "TBD Cannot yet compute annual climatology for     co2massClim in table Amon -> averaging\n",
      "TBD Cannot yet compute annual climatology for           phalf in table Amon -> averaging\n",
      "TBD Cannot yet compute annual climatology for         co2Clim in table Amon -> averaging\n",
      "TBD Cannot yet compute annual climatology for           pfull in table Amon -> averaging\n",
      "TBD Cannot yet compute annual climatology for         n2oClim in table Amon -> averaging\n",
      "TBD Cannot yet compute annual climatology for   n2oglobalClim in table Amon -> averaging\n",
      "TBD Cannot yet compute annual climatology for   ch4globalClim in table Amon -> averaging\n",
      "TBD Cannot yet compute annual climatology for         ch4Clim in table Amon -> averaging\n",
      "TBD Cannot yet compute annual climatology for          o3Clim in table Amon -> averaging\n",
      "Note : assuming that 'time: mean where cloud'  for        pctisccp in table CFmon is well handled by 'detect_missing'\n",
      "Note : assuming that 'time: mean where cloud'  for        albisccp in table CFmon is well handled by 'detect_missing'\n",
      "Duplicate var in Emon : cSoil 'time-mean' 'time-mean'\n",
      "Note : assuming that 'time: mean where cloud'  for        pctisccp in table CFday is well handled by 'detect_missing'\n",
      "Note : assuming that 'time: mean where cloud'  for        albisccp in table CFday is well handled by 'detect_missing'\n",
      "Duplicate var in Lmon : evspsblsoi 'time-mean' 'time-mean'\n",
      "Duplicate var in Lmon : mrros 'time-mean' 'time-mean'\n",
      "Duplicate var in Lmon : burntArea 'time-mean' 'time-mean'\n",
      "Duplicate var in Lmon : grassFrac 'time-mean' 'time-mean'\n",
      "Duplicate var in Lmon : mrsos_land 'time-mean' 'time-mean'\n",
      "Duplicate var in Lmon : cropFrac 'time-mean' 'time-mean'\n",
      "Duplicate var in Lmon : evspsblveg 'time-mean' 'time-mean'\n",
      "Duplicate var in Lmon : residualFrac 'time-mean' 'time-mean'\n",
      "Duplicate var in Lmon : tran 'time-mean' 'time-mean'\n",
      "Duplicate var in Lmon : mrlsl_land 'time-mean' 'time-mean'\n",
      "Duplicate var in Lmon : shrubFrac 'time-mean' 'time-mean'\n",
      "Duplicate var in Lmon : treeFrac 'time-mean' 'time-mean'\n",
      "Duplicate var in Lmon : baresoilFrac 'time-mean' 'time-mean'\n",
      "Duplicate var in Lmon : pastureFrac 'time-mean' 'time-mean'\n",
      "Duplicate var in Lmon : mrso 'time-mean' 'time-mean'\n",
      "Duplicate var in Lmon : mrro 'time-mean' 'time-mean'\n",
      "Duplicate var in Lmon : ra 'time-mean' 'time-mean'\n",
      "Duplicate var in Lmon : fVegLitter 'time-mean' 'time-mean'\n",
      "Duplicate var in Lmon : fVegSoil 'time-mean' 'time-mean'\n",
      "Duplicate var in Lmon : fLitterSoil 'time-mean' 'time-mean'\n",
      "Duplicate var in Lmon : cProduct 'time-mean' 'time-mean'\n",
      "Duplicate var in Lmon : cVeg 'time-mean' 'time-mean'\n",
      "Duplicate var in Lmon : lai 'time-mean' 'time-mean'\n",
      "Duplicate var in Lmon : rh 'time-mean' 'time-mean'\n",
      "Duplicate var in Lmon : gpp 'time-mean' 'time-mean'\n",
      "Duplicate var in Lmon : cLitter 'time-mean' 'time-mean'\n",
      "Duplicate var in Lmon : mrfso 'time-mean' 'time-mean'\n",
      "\n",
      "file_def written as output_sample/dr2xml_arpsfx.xml\n"
     ]
    }
   ],
   "source": [
    "if True : generate_file_defs(lab_and_model_settings, simulation_settings,year=2000,context='arpsfx',\n",
    "                   pingfile=\"output_sample/ping_arpsfx.xml\", printout=True, \n",
    "                   cvs_path=my_cvspath,dummies='include', dirname=\"output_sample/\")\n"
   ]
  },
  {
   "cell_type": "code",
   "execution_count": 7,
   "metadata": {
    "collapsed": false,
    "scrolled": true
   },
   "outputs": [],
   "source": [
    "# after some edit in ping_arpsfx.xml, which does not discard every 'dummy' entries \n",
    "if False : generate_file_defs(lab_and_model_settings, simulation_settings,year=2000,context='arpsfx',\n",
    "                   pingfile=\"test/ping_arpsfx.xml\", printout=True, \n",
    "                   cvs_path=my_cvspath,dummies='skip', dirname=\"test/\")\n"
   ]
  },
  {
   "cell_type": "markdown",
   "metadata": {},
   "source": []
  }
 ],
 "metadata": {
  "anaconda-cloud": {},
  "kernelspec": {
   "display_name": "Python 2",
   "language": "python",
   "name": "python2"
  },
  "language_info": {
   "codemirror_mode": {
    "name": "ipython",
    "version": 2
   },
   "file_extension": ".py",
   "mimetype": "text/x-python",
   "name": "python",
   "nbconvert_exporter": "python",
   "pygments_lexer": "ipython2",
   "version": "2.7.12"
  }
 },
 "nbformat": 4,
 "nbformat_minor": 0
}
