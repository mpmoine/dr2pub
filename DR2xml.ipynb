{
 "cells": [
  {
   "cell_type": "markdown",
   "metadata": {},
   "source": [
    "# An example for generating the XIOS file_def for a given lab, model, experiment, year and XIOS context"
   ]
  },
  {
   "cell_type": "markdown",
   "metadata": {},
   "source": [
    "# _This example shows how to use a list of Home Variables_"
   ]
  },
  {
   "cell_type": "code",
   "execution_count": null,
   "metadata": {
    "collapsed": true
   },
   "outputs": [],
   "source": [
    "# Select your laboratory among: 'cnrm', 'cerfacs', 'ipsl'\n",
    "lab='cnrm'"
   ]
  },
  {
   "cell_type": "markdown",
   "metadata": {},
   "source": [
    "## Define the settings specific to the laboratory and the model"
   ]
  },
  {
   "cell_type": "code",
   "execution_count": null,
   "metadata": {
    "collapsed": false
   },
   "outputs": [],
   "source": [
    "if lab=='cnrm' or lab=='cerfacs':\n",
    "    lab_and_model_settings={\n",
    "        'institution_id': \"CNRM-CERFACS\", # institution should be read in CMIP6_CV, if up-to-date\n",
    "\n",
    "        # entry 'source_types' allows to describe, using CMIP6 CV, the various model configurations\n",
    "        # for the lab; This can be superseded by an entry 'source_type' either just below or in dict  \n",
    "        # for simulation settings (further below)\n",
    "        'source_types' : { \"CNRM-CM6-1\" : \"AOGCM\", \"CNRM-CM6-1-HR\" : \"AOGCM\", \n",
    "                           \"CNRM-ESM2-1\": \"ESM\"  , \"CNRM-ESM2-1-HR\": \"ESM\" },\n",
    "\n",
    "        \"source_id\"      : \"CNRM-CM6-1\",\n",
    "        \"source\"         : \"CNRM-CM6-1\", # Useful only if CMIP6_CV is not up-to-date for the source_id\n",
    "        # You may override here the source-type value deduced from source_id and sources_type\n",
    "        #-'source_type' : \"AER\"  \n",
    "\n",
    "        'references'    :  \"A character string containing a list of published or web-based \"+\\\n",
    "            \"references that describe the data or the methods used to produce it.\"+\\\n",
    "            \"Typically, the user should provide references describing the model\"+\\\n",
    "            \"formulation here\",\n",
    "        'info_url'      : \"http://www.umr-cnrm.fr/cmip6/\",\n",
    "        'contact'       : 'contact.cmip@cnrm.fr',\n",
    "\n",
    "        # We account for the list of MIPS in which the lab takes part.\n",
    "        # Note : a MIPs set limited to {'C4MIP'} leads to a number of tables and \n",
    "        # variables which is manageable for eye inspection\n",
    "        'mips_all' : {'AerChemMIP','C4MIP','CFMIP','DAMIP', 'FAFMIP' , 'GeoMIP','GMMIP','ISMIP6',\\\n",
    "                          'LS3MIP','LUMIP','OMIP','PMIP','RFMIP','ScenarioMIP','CORDEX','SIMIP'},\n",
    "        'mips': {'C4MIP', 'SIMIP', 'OMIP', 'CFMIP', 'RFMIP'} , \n",
    "\n",
    "        # Max variable priority level to be output\n",
    "        'max_priority' : 1,\n",
    "        'tierMax'      : 3,\n",
    "\n",
    "        # The ping file defines variable names, which are constructed using CMIP6 \"MIPvarnames\" \n",
    "        # and a prefix which must be set here, and can be the empty string :\n",
    "        \"ping_variables_prefix\" : \"CMIP6_\",\n",
    "\n",
    "        # We account for a list of variables which the lab does not want to produce , \n",
    "        # oragnized by realms\n",
    "        \"excluded_vars_file\":\"./inputs/non_published_variables.txt\",\n",
    "        \"excluded_vars\":[],\n",
    "        # mpmoine_next_modif: ignore some spatial shapes\n",
    "        \"excluded_spshapes\":[\"XYA-na\",\"XYG-na\"],\n",
    "\n",
    "        # We account for a list of variables which the lab wants to produce in some cases\n",
    "        \"listof_home_vars\":None,\n",
    "        # mpmoine_last_modif: Path for extra Tables\n",
    "        \"path_extra_tables\":None,\n",
    "\n",
    "        # Each XIOS  context does adress a number of realms\n",
    "        'realms_per_context' : { 'nemo': ['seaIce', 'ocean', 'ocean seaIce', 'ocnBgchem', 'seaIce ocean'] ,\n",
    "                              'arpsfx' : ['atmos', 'atmos atmosChem', 'aerosol', 'atmos land', 'land',\n",
    "                                            'landIce land',  'aerosol land','land landIce',  'landIce', ],\n",
    "                              }, \n",
    "\n",
    "        # Some variables, while belonging to a realm, may fall in another XIOS context than the \n",
    "        # context which handles that realm\n",
    "        'orphan_variables' : { 'nemo' : ['dummy_variable_for_illustration_purpose'],\n",
    "                               'arpsfx' : [],\n",
    "                               },\n",
    "        'vars_OK' : dict(),\n",
    "        # A per-variable dict of comments valid for all simulations\n",
    "        'comments'     : {\n",
    "            'tas' : 'nothing special about tas'\n",
    "            },\n",
    "\n",
    "        # Sizes of oce and atm grids (cf DR doc)\n",
    "        \"sizes\"  : [292*362,75,128*256,91,30,14,128],\n",
    "\n",
    "        # What is the maximum size of generated files, in number of float values\n",
    "        \"max_file_size_in_floats\" : 500.*1.e+6 ,\n",
    "        # grid_policy among None, DR, native, native+DR, adhoc- see docin grids.py \n",
    "        \"grid_policy\" : \"adhoc\",\n",
    "        # Grids : CMIP6 name, name_of_target_domain, CMIP6-std resolution, and description\n",
    "        \"grids\" : { \n",
    "          \"LR\"    : {\n",
    "            \"arpsfx\" : [ \"gr\",\"complete\" , \"250 km\", \"data regridded to a T127 gaussian grid (128x256 latlon) from a native atmosphere T127l reduced gaussian grid\"] ,\n",
    "              \"nemo\" : [ \"gn\", \"\"        , \"100km\" , \"native ocean tri-polar grid with 105 k ocean cells\" ],},\n",
    "          \"HR\"    : {\n",
    "            \"arpsfx\" : [ \"gr\",\"completeHR\", \"50 km\", \"data regridded to a 359 gaussian grid (180x360 latlon) from a native atmosphere T359l reduced gaussian grid\"] ,\n",
    "              \"nemo\" : [ \"gn\", \"\"         , \"25km\" , \"native ocean tri-polar grid with 1.47 M ocean cells\" ],},\n",
    "        },\n",
    "        'grid_choice' : { \"CNRM-CM6-1\" : \"LR\", \"CNRM-CM6-1-HR\" : \"HR\", \"CNRM-ESM2-1\": \"LR\"  , \"CNRM-ESM2-1-HR\": \"HR\" },\n",
    "        # mpmpoine_next_modif: Model component Time steps (min)\n",
    "        \"model_timestep\" : { \"arpsfx\":60., \"nemo\":60.}\n",
    "        }"
   ]
  },
  {
   "cell_type": "code",
   "execution_count": null,
   "metadata": {
    "collapsed": false
   },
   "outputs": [],
   "source": [
    "if lab=='cerfacs':  \n",
    "    lab_and_model_settings[\"mips\"]={'HighResMIP'}\n",
    "    lab_and_model_settings[\"listof_home_vars\"]=\"./inputs/my_listof_home_vars.txt\"\n",
    "    lab_and_model_settings[\"path_extra_tables\"]=\"./inputs/extra_Tables\""
   ]
  },
  {
   "cell_type": "code",
   "execution_count": null,
   "metadata": {
    "collapsed": true
   },
   "outputs": [],
   "source": [
    "if lab=='ipsl':\n",
    "    lab_and_model_settings={\n",
    "        'institution_id': \"IPSL\", # institution should be read in CMIP6_CV, if up-to-date\n",
    "        'source_id'      : \"IPSL-CM6-1\", \n",
    "        # The description of lab models, in CMIP6 CV wording\n",
    "        'source_types' : { \"IPSL-CM6-1\" : \"AOGCM\", \"IPSL-CM6-1-HR\" : \"AOGCM\", \n",
    "                           \"IPSL-ESM2-1\": \"ESM\"  , \"IPSL-ESM2-1-HR\": \"ESM\" },\n",
    "        'source'         : \"IPSL-CM6-1\", # Useful only if CMIP6_CV is not up to date\n",
    "        'references'    :  \"A character string containing a list of published or web-based \"+\\\n",
    "            \"references that describe the data or the methods used to produce it.\"+\\\n",
    "            \"Typically, the user should provide references describing the model\"+\\\n",
    "            \"formulation here\",\n",
    "        'info_url'      : \"http://www.umr-cnrm.fr/cmip6/\",\n",
    "        'contact'       : 'contact.cmip@meteo.fr',\n",
    "\n",
    "        # We account for the list of MIPS in which the lab takes part.\n",
    "        # Note : a MIPs set limited to {'C4MIP'} leads to a number of tables and \n",
    "        # variables which is manageable for eye inspection\n",
    "        'mips_for_test': {'C4MIP', 'SIMIP', 'OMIP', 'CFMIP', 'RFMIP'} , \n",
    "        'mips' : {'AerChemMIP','C4MIP','CFMIP','DAMIP', 'FAFMIP' , 'GeoMIP','GMMIP','ISMIP6',\\\n",
    "                          'LS3MIP','LUMIP','OMIP','PMIP','RFMIP','ScenarioMIP','CORDEX','SIMIP'},\n",
    "        # Max variable priority level to be output\n",
    "        'max_priority' : 1,\n",
    "        'tierMax'      : 1,\n",
    "\n",
    "        # The ping file defines variable names, which are constructed using CMIP6 \"MIPvarnames\" \n",
    "        # and a prefix which must be set here, and can be the empty string :\n",
    "        \"ping_variables_prefix\" : \"CMIP6_\",\n",
    "\n",
    "        # We account for a list of variables which the lab does not want to produce , \n",
    "        # Names must match DR MIPvarnames (and **NOT** CF standard_names)\n",
    "        \"excluded_vars_file\":None,\n",
    "        \"excluded_vars\":[],\n",
    "        # mpmoine_next_modif: ignore some spatial shapes\n",
    "        \"excluded_spshapes\":[\"XYA-na\",\"XYG-na\"],\n",
    "\n",
    "        # We account for a list of variables which the lab wants to produce in some cases\n",
    "        \"listof_home_vars\":None,\n",
    "        # mpmoine_last_modif: Path for extra Tables\n",
    "        \"path_extra_tables\":None,\n",
    "\n",
    "        # Each XIOS  context does adress a number of realms\n",
    "        'realms_per_context' : { \n",
    "            'nemo': ['seaIce', 'ocean', 'ocean seaIce', 'ocnBgchem', 'seaIce ocean'],\n",
    "            'lmdz' : ['atmos', 'atmos land'] , \n",
    "            'orchidee': ['land', 'landIce land',  'land landIce', 'landIce'] ,\n",
    "                              }, \n",
    "        # Some variables, while belonging to a realm, may fall in another XIOS context than the \n",
    "        # context which hanldes that realm\n",
    "        'orphan_variables' : { \n",
    "            'nemo' : [],\n",
    "            'lmdz' : [],\n",
    "            'orchidee' : [],\n",
    "                             },\n",
    "        'vars_OK' : dict(),\n",
    "        # A per-variable dict of comments valid for all simulations\n",
    "        'comments'     : {\n",
    "            'tas' : 'nothing special about tas'\n",
    "            },\n",
    "        # Sizes for atm and oce grids (cf DR doc)\n",
    "        \"sizes\"  : [259200,60,64800,40,20,5,100],\n",
    "        # What is the maximum size of generated files, in number of float values\n",
    "        \"max_file_size_in_floats\" : 500.*1.e+6 ,\n",
    "        # Grids : CMIP6 name, name_of_target_domain, CMIP6-std resolution, and description\n",
    "        \"grids\" : { \n",
    "          \"LR\"    : {\n",
    "            \"lmdz\" : [ \"gr\",\"\" , \"??? km\", \"LMDZ grid\"] ,\n",
    "              \"nemo\" : [ \"gn\", \"\"        , \"100km\" , \"native ocean tri-polar grid with 105 k ocean cells\" ],\n",
    "          \"orchidee\" :  [ \"gr\",\"\" , \"??? km\", \"LMDZ grid\"],},\n",
    "        },\n",
    "        'grid_choice' : { \"IPSL-CM6-1\" : \"LR\", \"IPSL-CM6-1-HR\" : \"HR\",\n",
    "                          \"IPSL-ESM2-1\": \"LR\"  , \"IPSL-ESM2-1-HR\": \"HR\" },\n",
    "        # mpmpoine_next_modif: Model component Time steps (min)\n",
    "        \"model_timestep\" : { \"nemo\":60., \"lmdz\":60.,\"orchidee\":60.}\n",
    "\n",
    "    }\n"
   ]
  },
  {
   "cell_type": "markdown",
   "metadata": {},
   "source": [
    "## Define the settings for the processed simulation "
   ]
  },
  {
   "cell_type": "code",
   "execution_count": null,
   "metadata": {
    "collapsed": false
   },
   "outputs": [],
   "source": [
    "simulation_settings={    \n",
    "    # Dictionnary describing the necessary attributes for a given simulation\n",
    "\n",
    "    # Warning : some lines are commented out in this example but should be \n",
    "    # un-commented in some cases. See comments\n",
    "    \"experiment_id\"  : \"historical\",\n",
    "    #\"experiment_id\"  : \"Forced-Atmos-Land\",\n",
    "    #\"experiment_id\"  : \"Coupled\",\n",
    "    #\"experiment_id\"  : \"DCPP-C13\",\n",
    "    \n",
    "    #\"contact\"        : \"\", set it only if it is specific to the simualtion\n",
    "    #\"project\"        : \"CMIP6\",  #CMIP6 is the default\n",
    "\n",
    "    #'source_type'    : \"ESM\" # If source_type is special only for this experiment (e.g. : AMIP)\n",
    "                      #(i.e. not the same as in lab_and_model settings), you may tell that here\n",
    "\n",
    "    # MIP specifying the experiment. For historical, it is CMIP6 itself\n",
    "    # In a few cases it may be appropriate to include multiple activities in the activity_id \n",
    "    # (with multiple activities allowed, separated by single spaces).  \n",
    "    # An example of this is “LUMIP AerChemMIP” for one of the land-use change experiments.\n",
    "    \"activity_id\"       : \"CMIP\", # examples : “PMIP”, “LS3MIP LUMIP”; defaults to \"CMIP6\"\n",
    "    \n",
    "    # It is recommended that some description be included to help identify major differences among variants, \n",
    "    # but care should be taken to record correct information.  Prudence dictates that this attribute includes \n",
    "    # a warning along the following lines:  “Information provided by this attribute may in some cases be flawed.#\n",
    "    # Users can find more comprehensive and up-to-date documentation via the further_info_url global attribute.”\n",
    "    \"variant_info\"      : \"Start date chosen so that variant r1i1p1f1 has the better fit with Krakatoa impact on tos\",\n",
    "    #\n",
    "    \"realization_index\"    : 1, # Value may be omitted if = 1\n",
    "    \"initialization_index\" : 1, # Value may be omitted if = 1\n",
    "    \"physics_index\"        : 1, # Value may be omitted if = 1\n",
    "    \"forcing_index\"        : 1, # Value may be omitted if = 1\n",
    "    #\n",
    "    # All about the parent experiment and branching scheme\n",
    "    \"parent_experiment_id\" : \"piControl\", # omit this setting (or set to 'no parent') if not applicable\n",
    "                                          # (remaining parent attributes will be disregarded)\n",
    "    \"branch_method\"        : \"standard\", # default value='standard', meaning ~ \"select a start date\" \n",
    "    \"branch_time_in_parent\": \"365.0D0\", # a double precision value, in parent time units, \n",
    "    \"branch_time_in_child\" : \"0.0D0\", # a double precision value, in child time units, \n",
    "    #'parent_time_units'    : \"\" #in case it is not the same as child time units\n",
    "    #'parent_variant_label' :\"\"  #Default to 'same as child'. Other cases should be expceptional\n",
    "    #\"parent_mip_era\"       : 'CMIP5'   # only in special cases (e.g. PMIP warm start from CMIP5/PMIP3 experiment)\n",
    "    #'parent_activity   '   : 'CMIP'    # only in special cases, defaults to CMIP\n",
    "    #'parent_source_id'     : 'CNRM-CM5.1' #only in special cases, where parent model is not the same model\n",
    "    #\n",
    "    # mpmoine_future_modif: CMOR3.2.2 impose 'None' pour sub_experiment_id et sub_experiment\n",
    "    \"sub_experiment_id\"    : \"None\", # Optional, default is 'None'; example : s1960. \n",
    "    \"sub_experiment\"       : \"None\", # Optional, default in 'None'\n",
    "    \"history\"              : \"None\", #Used when a simulation is re-run, an output file is modified ....\n",
    "    # A per-variable dict of comments which are specific to this simulation. It will replace  \n",
    "    # the all-simulation comment present in lab_and_model_settings\n",
    "    'comments'     : {\n",
    "        'tas' : 'tas diagnostic uses a special scheme in this simulation',\n",
    "        }\n",
    "    }\n",
    "\n"
   ]
  },
  {
   "cell_type": "code",
   "execution_count": null,
   "metadata": {
    "collapsed": true
   },
   "outputs": [],
   "source": [
    "if lab=='cerfacs':    \n",
    "    simulation_settings[\"experiment_id\"]=\"Forced-Atmos-Land\"\n",
    "    #simulation_settings[\"experiment_id\"]=\"Coupled\"\n",
    "    #simulation_settings[\"experiment_id\"]=\"DCPP-C13\""
   ]
  },
  {
   "cell_type": "code",
   "execution_count": null,
   "metadata": {
    "collapsed": false
   },
   "outputs": [],
   "source": [
    "from dr2xml import generate_file_defs\n"
   ]
  },
  {
   "cell_type": "code",
   "execution_count": null,
   "metadata": {
    "collapsed": false
   },
   "outputs": [],
   "source": [
    "# Path to local copy of CMIP6 CVs, which you can get from https://github.com/WCRP-CMIP/CMIP6_CVs\n",
    "if lab=='cnrm':\n",
    "    my_cvspath=\"/cnrm/est/USERS/senesi/public/CMIP6/data_request/CMIP6_CVs/\"\n",
    "elif lab=='cerfacs':\n",
    "    my_cvspath=\"/Users/moine/Codes/MyDevel_Codes/CMIP6_DATA_SUITE/CMIP6_CVs/\"\n",
    "elif lab=='ipsl':\n",
    "    my_cvspath=\"/ccc/cont003/home/gencmip6/p86caub/CMIP6_DR_DR2XML/CMIP6_CVs/\"\n",
    "my_cvspath=\"/Users/moine/Codes/MyDevel_Codes/CMIP6_DATA_SUITE/CMIP6_CVs/\""
   ]
  },
  {
   "cell_type": "code",
   "execution_count": null,
   "metadata": {
    "collapsed": true
   },
   "outputs": [],
   "source": [
    "# In/Out directory\n",
    "my_dir=\"output_test/\"+lab+\"/\""
   ]
  },
  {
   "cell_type": "code",
   "execution_count": null,
   "metadata": {
    "collapsed": false
   },
   "outputs": [],
   "source": [
    "#help(generate_file_defs)\n"
   ]
  },
  {
   "cell_type": "code",
   "execution_count": null,
   "metadata": {
    "collapsed": false,
    "scrolled": true
   },
   "outputs": [],
   "source": [
    "if True : \n",
    "    for my_context in lab_and_model_settings[\"realms_per_context\"].keys():\n",
    "        generate_file_defs(lab_and_model_settings, simulation_settings,year=2000,context=my_context,\n",
    "                    pingfile=my_dir+\"ping_\"+my_context+\".xml\", printout=True, \n",
    "                    cvs_path=my_cvspath,dummies='include', dirname=my_dir)\n"
   ]
  },
  {
   "cell_type": "markdown",
   "metadata": {
    "collapsed": false,
    "scrolled": true
   },
   "source": [
    "### after some edit in ping files, which does not discard every 'dummy' entries \n"
   ]
  },
  {
   "cell_type": "code",
   "execution_count": null,
   "metadata": {
    "collapsed": false
   },
   "outputs": [],
   "source": [
    "# In/Out directory\n",
    "my_dir=\"../pingfiles_edited/\"+lab+\"/\""
   ]
  },
  {
   "cell_type": "code",
   "execution_count": null,
   "metadata": {
    "collapsed": false,
    "scrolled": true
   },
   "outputs": [],
   "source": [
    "# after some edit in ping_arpsfx.xml, which does not discard every 'dummy' entries \n",
    "if False :\n",
    "    for my_context in lab_and_model_settings[\"realms_per_context\"].keys():\n",
    "        generate_file_defs(lab_and_model_settings, simulation_settings,year=2000,context=my_context,\n",
    "                    pingfile=my_dir+\"ping_\"+my_context+\".xml\", printout=True, \n",
    "                    cvs_path=my_cvspath,dummies='skip', dirname=my_dir)\n"
   ]
  },
  {
   "cell_type": "markdown",
   "metadata": {},
   "source": []
  }
 ],
 "metadata": {
  "anaconda-cloud": {},
  "kernelspec": {
   "display_name": "Python [Root]",
   "language": "python",
   "name": "Python [Root]"
  },
  "language_info": {
   "codemirror_mode": {
    "name": "ipython",
    "version": 2
   },
   "file_extension": ".py",
   "mimetype": "text/x-python",
   "name": "python",
   "nbconvert_exporter": "python",
   "pygments_lexer": "ipython2",
   "version": "2.7.12"
  }
 },
 "nbformat": 4,
 "nbformat_minor": 0
}
