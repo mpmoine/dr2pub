{
 "metadata": {
  "anaconda-cloud": {},
  "kernelspec": {
   "display_name": "Python [Root]",
   "language": "python",
   "name": "Python [Root]"
  },
  "language_info": {
   "codemirror_mode": {
    "name": "ipython",
    "version": 2
   },
   "file_extension": ".py",
   "mimetype": "text/x-python",
   "name": "python",
   "nbconvert_exporter": "python",
   "pygments_lexer": "ipython2",
   "version": "2.7.12"
  },
  "name": "",
  "signature": "sha256:1556130c0934680d172e19b2b625a6b4608535031f02c1dd9f1b29774f2260cd"
 },
 "nbformat": 3,
 "nbformat_minor": 0,
 "worksheets": [
  {
   "cells": [
    {
     "cell_type": "heading",
     "level": 1,
     "metadata": {},
     "source": [
      "An example for generating the XIOS file_def for a given lab, model, experiment, year and XIOS context"
     ]
    },
    {
     "cell_type": "heading",
     "level": 1,
     "metadata": {},
     "source": [
      "_This example shows how to use a list of Home Variables_"
     ]
    },
    {
     "cell_type": "heading",
     "level": 2,
     "metadata": {},
     "source": [
      "Define the settings specific to the laboratory and the model"
     ]
    },
    {
     "cell_type": "code",
     "collapsed": false,
     "input": [
      "lab_and_model_settings={\n",
      "    'institution_id': \"CNRM-CERFACS\",\n",
      "    'institution'   : \"Centre National de Recherches M\u00e9t\u00e9orologiques\", # should be read in CMIP6_CV, once updated\n",
      "    'model_id'      : \"CNRM-CM6\", \n",
      "    'model'         : \"CNRM CM6\",#Should be read in CMIP6_CV, form model_id (once updated)\n",
      "    'source_type'   : 'AOGCM', # This should be udpated at the simulation dict level \n",
      "    'references'    :  \"A character string containing a list of published or web-based \"+\\\n",
      "        \"references that describe the data or the methods used to produce it.\"+\\\n",
      "        \"Typically, the user should provide references describing the model\"+\\\n",
      "        \"formulation here\",\n",
      "    'info_url'      : \"http://www.umr-cnrm.fr/cmip6/\",\n",
      "    'contact'       : 'contact.cmip@cnrm.fr',\n",
      "    \n",
      "    # We account for the list of MIPS in which the lab takes part.\n",
      "    # Note : a MIPs set limited to {'C4MIP'} leads to a number of tables and \n",
      "    # variables which is manageable for eye inspection\n",
      "    'mips_for_test': {'C4MIP', 'SIMIP', 'OMIP', 'CFMIP', 'RFMIP'} , \n",
      "    'mips' : {'AerChemMIP','C4MIP','CFMIP','DAMIP', 'FAFMIP' , 'GeoMIP','GMMIP','ISMIP6',\\\n",
      "                      'LS3MIP','LUMIP','OMIP','PMIP','RFMIP','ScenarioMIP','CORDEX','SIMIP'},\n",
      "    #'mips' : {'HighResMIP'},\n",
      "\n",
      "    # Max variable priority level to be output\n",
      "    'max_priority' : 1,\n",
      "    'tierMax'      : 3,\n",
      "\n",
      "    # We account for a list of variables which the lab does not want to produce , \n",
      "    # oragnized by realms\n",
      "    # excluded_vars_file=\"./inputs/non_published_variables.txt\"\n",
      "    \"excluded_vars\":[],\n",
      "    \n",
      "    # We account for a list of variables which the lab wants to produce in some cases\n",
      "    #\"listof_home_vars\":\"./inputs/my_listof_home_vars.txt\",\n",
      "    \"listof_home_vars\":\"./config_utest/utest020_listof_home_vars.txt\",\n",
      "        \n",
      "    # Each XIOS  context does adress a number of realms\n",
      "    'realms_per_context' : { 'nemo': ['seaIce', 'ocean', 'ocean seaIce', 'ocnBgchem', 'seaIce ocean'] ,\n",
      "                          'arpsfx' : ['atmos', 'atmos atmosChem', 'aerosol', 'atmos land', 'land',\n",
      "                                     'landIce land',  'aerosol land','land landIce',  'landIce', ],\n",
      "                          }, \n",
      "    # Some variables, while belonging to a realm, may fall in another XIOS context than the \n",
      "    # context which handles that realm\n",
      "    'orphan_variables' : { 'nemo' : ['dummy_variable_for_illustration_purpose'],\n",
      "                           'arpsfx' : [],\n",
      "                           },\n",
      "    'vars_OK' : dict(),\n",
      "    # A per-variable dict of comments valid for all simulations\n",
      "    'comments'     : {\n",
      "        'tas' : 'nothing special about tas'\n",
      "        }\n",
      "    }"
     ],
     "language": "python",
     "metadata": {},
     "outputs": [],
     "prompt_number": 1
    },
    {
     "cell_type": "heading",
     "level": 2,
     "metadata": {},
     "source": [
      "Define the settings for the processed simulation "
     ]
    },
    {
     "cell_type": "code",
     "collapsed": false,
     "input": [
      "simulation_settings={    \n",
      "    # Dictionnary describing the necessary attributes for a given simulation\n",
      "\n",
      "    # Warning : some lines are commented out in this example but should be \n",
      "    # un-commented in some cases. See comments\n",
      "\n",
      "    \"experiment_id\"  : \"historical\",\n",
      "    #\"experiment_id\"  : \"Forced-Atmos-Land\",\n",
      "    #\"experiment_id\"  : \"Coupled\",\n",
      "    #\"experiment_id\"  : \"DCPP-C13\",\n",
      "    \n",
      "    #\"contact\"        : \"\", set it only if it is specific to the simualtion\n",
      "    #\"project\"        : \"CMIP6\",  #CMIP6 is the default\n",
      "\n",
      "    #'source_type'    : \"ESM\" # If source_type is special only for this experiment (e.g. : AMIP)\n",
      "                      #(i.e. not the same as in lab_and_model settings), you may tell that here\n",
      "\n",
      "    # MIP specifying the experiment. For historical, it is CMIP6 itself\n",
      "    # In a few cases it may be appropriate to include multiple activities in the activity_id \n",
      "    # (with multiple activities allowed, separated by single spaces).  \n",
      "    # An example of this is \u201cLUMIP AerChemMIP\u201d for one of the land-use change experiments.\n",
      "    \"activity\"             : \"CMIP6\", # examples : \u201cPMIP\u201d, \u201cLS3MIP LUMIP\u201d; defaults to \"CMIP6\"\n",
      "    \n",
      "    # It is recommended that some description be included to help identify major differences among variants, \n",
      "    # but care should be taken to record correct information.  Prudence dictates that this attribute includes \n",
      "    # a warning along the following lines:  \u201cInformation provided by this attribute may in some cases be flawed.#\n",
      "    # Users can find more comprehensive and up-to-date documentation via the further_info_url global attribute.\u201d\n",
      "    \"variant_info\"      : \"Start date chosen so that variant r1i1p1f1 has the better fit with Krakatoa impact on tos\",\n",
      "    #\n",
      "    \"realization_index\"    : 1, # Value may be omitted if = 1\n",
      "    \"initialization_index\" : 1, # Value may be omitted if = 1\n",
      "    \"physics_index\"        : 1, # Value may be omitted if = 1\n",
      "    \"forcing_index\"        : 1, # Value may be omitted if = 1\n",
      "    #\n",
      "    # All about the parent experiment and branching scheme\n",
      "    \"parent_experiment_id\" : \"piControl\", # omit this setting (or set to 'no parent') if not applicable\n",
      "                                          # (remaining parent attributes will be disregarded)\n",
      "    \"branch_method\"        : \"standard\", # default value='standard', meaning ~ \"select a start date\" \n",
      "    \"branch_time_in_parent\": \"365.0D0\", # a double precision value, in parent time units, \n",
      "    \"branch_time_in_child\" : \"0.0D0\", # a double precision value, in child time units, \n",
      "    #'parent_time_units'    : \"\" #in case it is not the same as child time units\n",
      "    #'parent_variant_label' :\"\"  #Default to 'same as child'. Other cases should be expceptional\n",
      "    #'parent_sub_experiment_id' : \"\" # In case it is not the same as child\n",
      "    #\"parent_mip_era\"       : 'CMIP5'   # only in special cases (e.g. PMIP warm start from CMIP5/PMIP3 experiment)\n",
      "    #'parent_activity   '   : 'CMIP'    # only in special cases, defaults to CMIP\n",
      "    #'parent_source_id'     : 'CNRM-CM5.1' #only in special cases, where parent model is not the same model\n",
      "    #\n",
      "    \"sub_experiment_id\"    : \"none\", # Optional, default is 'none'; example : s1960. \n",
      "    \"sub_experiment\"       : \"none\", # Optional, default in 'none'\n",
      "    \"history\"              : \"none\", #Used when a simulation is re-run, an output file is modified ....\n",
      "    # A per-variable dict of comments which are specific to this simulation. It will replace  \n",
      "    # the all-simulation comment present in lab_and_model_settings\n",
      "    'comments'     : {\n",
      "        'tas' : 'tas diagnostic uses a special scheme in this simulation',\n",
      "        }\n",
      "    }\n",
      "\n"
     ],
     "language": "python",
     "metadata": {},
     "outputs": [],
     "prompt_number": 2
    },
    {
     "cell_type": "code",
     "collapsed": false,
     "input": [
      "from dr2xml import generate_file_defs"
     ],
     "language": "python",
     "metadata": {},
     "outputs": [
      {
       "output_type": "stream",
       "stream": "stdout",
       "text": [
        "01.beta.43\n"
       ]
      }
     ],
     "prompt_number": 3
    },
    {
     "cell_type": "code",
     "collapsed": false,
     "input": [
      "# Path to local copy of CMIP6 CVs, which you can get from https://github.com/WCRP-CMIP/CMIP6_CVs\n",
      "#my_cvspath=\"/Users/moine/Codes/MyDevel_Codes/CMIP6_DATA_SUITE/CMIP6_CVs/\"\n",
      "my_cvspath=\"/cnrm/aster/data3/aster/senesi/public/CMIP6/data_request/CMIP6_CVs/\""
     ],
     "language": "python",
     "metadata": {},
     "outputs": [],
     "prompt_number": 4
    },
    {
     "cell_type": "code",
     "collapsed": false,
     "input": [
      "generate_file_defs(lab_and_model_settings, simulation_settings,year=2000,context='nemo',printout=True, cvs_path=my_cvspath)\n"
     ],
     "language": "python",
     "metadata": {
      "scrolled": false
     },
     "outputs": [
      {
       "output_type": "stream",
       "stream": "stdout",
       "text": [
        "\n",
        "Number of Request Links which apply to MIPS set(['C4MIP', 'CORDEX', 'ISMIP6', 'GMMIP', 'LUMIP', 'PMIP', 'RFMIP', 'DAMIP', 'AerChemMIP', 'SIMIP', 'FAFMIP', 'CFMIP', 'ScenarioMIP', 'LS3MIP', 'OMIP', 'GeoMIP'])  is:  167\n",
        "Assuming timeslice __unset__ _slice_historical030 applies for RequestItem PMIP, PMIP-cfMon-2dmod, historical"
       ]
      },
      {
       "output_type": "stream",
       "stream": "stdout",
       "text": [
        "\n",
        "Assuming timeslice __unset__ _slice_historical030 applies for RequestItem PMIP, PMIP-cfMon-2dmod, historical\n",
        "Assuming timeslice __unset__ _slice_historical064 applies for RequestItem CORDEX, day-oth, historical"
       ]
      },
      {
       "output_type": "stream",
       "stream": "stdout",
       "text": [
        "\n",
        "Assuming timeslice __unset__ _slice_historical064 applies for RequestItem CORDEX, day-oth, historical\n",
        "Assuming timeslice __unset__ _slice_historical020 applies for RequestItem PMIP, PMIP-day-02, historical"
       ]
      },
      {
       "output_type": "stream",
       "stream": "stdout",
       "text": [
        "\n",
        "Assuming timeslice __unset__ _slice_historical020 applies for RequestItem PMIP, PMIP-day-02, historical\n",
        "Assuming timeslice __unset__ _slice_historical030 applies for RequestItem PMIP, PMIP-cfMon-3dstd, historical"
       ]
      },
      {
       "output_type": "stream",
       "stream": "stdout",
       "text": [
        "\n",
        "Assuming timeslice __unset__ _slice_historical030 applies for RequestItem PMIP, PMIP-cfMon-3dstd, historical\n",
        "Assuming timeslice __unset__ _slice_historical020 applies for RequestItem PMIP, PMIP.PMIP-6hr, historical"
       ]
      },
      {
       "output_type": "stream",
       "stream": "stdout",
       "text": [
        "\n",
        "Assuming timeslice __unset__ _slice_historical020 applies for RequestItem PMIP, PMIP.PMIP-6hr, historical\n",
        "Assuming timeslice __unset__ _slice_historical030 applies for RequestItem PMIP, PMIP-cfMon-3dmod, historical"
       ]
      },
      {
       "output_type": "stream",
       "stream": "stdout",
       "text": [
        "\n",
        "Assuming timeslice __unset__ _slice_historical030 applies for RequestItem PMIP, PMIP-cfMon-3dmod, historical\n",
        "Assuming timeslice __unset__ _slice_historical020 applies for RequestItem PMIP, PMIP.6hrLev, historical"
       ]
      },
      {
       "output_type": "stream",
       "stream": "stdout",
       "text": [
        "\n",
        "Assuming timeslice __unset__ _slice_historical020 applies for RequestItem PMIP, PMIP.6hrLev, historical\n",
        "Assuming timeslice __unset__ _slice_historical020 applies for RequestItem PMIP, PMIP.6hrPlev, historical"
       ]
      },
      {
       "output_type": "stream",
       "stream": "stdout",
       "text": [
        "\n",
        "Assuming timeslice __unset__ _slice_historical020 applies for RequestItem PMIP, PMIP.6hrPlev, historical\n",
        "Assuming timeslice __unset__ _slice_historical064 applies for RequestItem CORDEX, day-ss, historical"
       ]
      },
      {
       "output_type": "stream",
       "stream": "stdout",
       "text": [
        "\n",
        "Assuming timeslice __unset__ _slice_historical064 applies for RequestItem CORDEX, day-ss, historical\n",
        "Assuming timeslice __unset__ _slice_historical064 applies for RequestItem CORDEX, 6hrLev, historical\n",
        "Assuming timeslice __unset__ _slice_historical064 applies for RequestItem CORDEX, 6hrLev, historical\n",
        "Assuming timeslice __unset__ _slice_historical030 applies for RequestItem PMIP, PMIP-cfMon-sim, historical"
       ]
      },
      {
       "output_type": "stream",
       "stream": "stdout",
       "text": [
        "\n",
        "Assuming timeslice __unset__ _slice_historical030 applies for RequestItem PMIP, PMIP-cfMon-sim, historical\n",
        "\n",
        "Number of Request Links which apply to experiment "
       ]
      },
      {
       "output_type": "stream",
       "stream": "stdout",
       "text": [
        " historical and experiment set(['C4MIP', 'CORDEX', 'ISMIP6', 'GMMIP', 'LUMIP', 'PMIP', 'RFMIP', 'DAMIP', 'AerChemMIP', 'SIMIP', 'FAFMIP', 'CFMIP', 'ScenarioMIP', 'LS3MIP', 'OMIP', 'GeoMIP'])  is:  254\n",
        "\n",
        "Number of CMOR variables for these requestLinks is : 857\n",
        "\n",
        "Number of CMOR variables once filtered by excluded vars is : 857\n",
        "\n",
        "Number of variables with distinct labels is : 645\n",
        "Issue accessing sn for litemptop !\n",
        "Issue accessing sn for litemptop !\n",
        "Issue accessing sn for nLitterSubSurface !\n",
        "Issue accessing sn for nLitterSurface !\n",
        "Issue accessing sn for litemptop !\n",
        "Issue accessing sn for meanage !\n",
        "Issue accessing sn for nh50 !\n",
        "Issue accessing sn for aoanh !\n",
        "Info: {'varname': 'hmv1', 'freq': 'mon', 'realm': 'seaIce', 'table': 'SImon'} HOMEVar is purely personnal. => Taken into account.\n",
        "Info: {'varname': 'hmv5', 'freq': 'mon', 'realm': 'landIce', 'table': 'LImon'} HOMEVar is purely personnal. => Taken into account.\n",
        "Info: {'varname': 'hfls', 'freq': 'mon', 'realm': 'atmos', 'table': 'Amon'} HOMEVar is already in the DataRequest. => Not taken into account.\n",
        "\n",
        "Realms for these CMORvars : ['seaIce', '', 'land', 'atmos atmosChem', 'landIce', 'ocean seaIce', 'landIce land', 'ocean', 'seaIce ocean', 'atmos', 'aerosol', 'atmos land', 'land landIce', 'ocnBgchem']\n",
        "\n",
        "Tables concerned by context nemo :  ['emMon', 'SImon', 'Omon', 'fx', 'SIday', 'Oyr', 'Oday', 'Oclim', 'Ofx', 'day']\n",
        "\n",
        "Variables per table :\n",
        "          emMon 12 ----> flandice O18sw expcfe thetaot t20d epn100 hcont300 intdoc zoomisc wo epp100 sltnorth\n",
        "          SImon 37 ----> sisnmass siu sndmasssnf siflswutop sifllatstop sidmasstrany siconc siv sipr simass sistryubot sialb sihc sisnthick simassacrossline sidmassgrowthwat sistrxubot sidmasssi siflswdtop sifllwdtop sidmassmelttop sitempsnic sidmassevapsubl sitimefrac sitemptop sisnconc sidivvel sidmasstranx sivol sicompstren sifllwutop sidmassmeltbot siflsenstop sidmassgrowthbot sndmassmelt siage hmv1\n",
        "           Omon 84 ----> vo masso wfo sos hfcorr tauvo obvfsq agessc tauucorr zhalf soga msftyzsmpa msftmrho fgcfc11 mlotstmax hfbasinpsmadv so msftyyz zostoga thetao msftbarot sfriver uo msftyzmpa hfbasinpadv bigthetao tos thkcello cfc11 mlotst volo msftmzsmpa masscello msftyrhompa hfds mlotstmin thetaoga wfcorr vmo wfonocorr wo msftmrhompa sosga pso msftmyz zfull hfbasin hfbasinpmadv hfbasinpmdiff tob tauuo bigthetaoga zos tosga umo msftmzmpa wmo msftyrho pbo sob tauvcorr hfsifrazil fsitherm sfdsi o2 ph dissic talk expcalc100 no3 fgco2 po4 expc100 talknat dissicnat exparag100 dissi14cabio si dfe fgo2 intpp chl dissicabio spco2\n",
        "             fx 03 ----> hfgeou volcello sftof\n",
        "          SIday 02 ----> sispeed sithick\n",
        "            Oyr 17 ----> cfc11 ph expc dissicabio no3 dfe po4 dissicnat expsi talk expcalc si dissic o2 dissi14cabio chl talknat\n",
        "           Oday 02 ----> tossq tos\n",
        "          Oclim 02 ----> zfull zhalf\n",
        "            Ofx 06 ----> cpocean basin deptho areacello masscello rhozero\n",
        "            day 04 ----> omldamax vsi sic usi\n",
        "\n",
        "file_def written as nemo.xml"
       ]
      },
      {
       "output_type": "stream",
       "stream": "stdout",
       "text": [
        "\n"
       ]
      }
     ],
     "prompt_number": 5
    },
    {
     "cell_type": "code",
     "collapsed": false,
     "input": [
      "generate_file_defs(lab_and_model_settings, simulation_settings,year=2000,context='arpsfx',printout=True, cvs_path=my_cvspath)\n"
     ],
     "language": "python",
     "metadata": {
      "scrolled": true
     },
     "outputs": [
      {
       "output_type": "stream",
       "stream": "stdout",
       "text": [
        "\n",
        "Number of Request Links which apply to MIPS set(['C4MIP', 'CORDEX', 'ISMIP6', 'GMMIP', 'LUMIP', 'PMIP', 'RFMIP', 'DAMIP', 'AerChemMIP', 'SIMIP', 'FAFMIP', 'CFMIP', 'ScenarioMIP', 'LS3MIP', 'OMIP', 'GeoMIP'])  is:  167\n",
        "Assuming timeslice __unset__ _slice_historical030 applies for RequestItem PMIP, PMIP-cfMon-2dmod, historical"
       ]
      },
      {
       "output_type": "stream",
       "stream": "stdout",
       "text": [
        "\n",
        "Assuming timeslice __unset__ _slice_historical030 applies for RequestItem PMIP, PMIP-cfMon-2dmod, historical\n",
        "Assuming timeslice __unset__ _slice_historical064 applies for RequestItem CORDEX, day-oth, historical"
       ]
      },
      {
       "output_type": "stream",
       "stream": "stdout",
       "text": [
        "\n",
        "Assuming timeslice __unset__ _slice_historical064 applies for RequestItem CORDEX, day-oth, historical\n",
        "Assuming timeslice __unset__ _slice_historical020 applies for RequestItem PMIP, PMIP-day-02, historical"
       ]
      },
      {
       "output_type": "stream",
       "stream": "stdout",
       "text": [
        "\n",
        "Assuming timeslice __unset__ _slice_historical020 applies for RequestItem PMIP, PMIP-day-02, historical\n",
        "Assuming timeslice __unset__ _slice_historical030 applies for RequestItem PMIP, PMIP-cfMon-3dstd, historical"
       ]
      },
      {
       "output_type": "stream",
       "stream": "stdout",
       "text": [
        "\n",
        "Assuming timeslice __unset__ _slice_historical030 applies for RequestItem PMIP, PMIP-cfMon-3dstd, historical\n",
        "Assuming timeslice __unset__ _slice_historical020 applies for RequestItem PMIP, PMIP.PMIP-6hr, historical"
       ]
      },
      {
       "output_type": "stream",
       "stream": "stdout",
       "text": [
        "\n",
        "Assuming timeslice __unset__ _slice_historical020 applies for RequestItem PMIP, PMIP.PMIP-6hr, historical\n",
        "Assuming timeslice __unset__ _slice_historical030 applies for RequestItem PMIP, PMIP-cfMon-3dmod, historical"
       ]
      },
      {
       "output_type": "stream",
       "stream": "stdout",
       "text": [
        "\n",
        "Assuming timeslice __unset__ _slice_historical030 applies for RequestItem PMIP, PMIP-cfMon-3dmod, historical\n",
        "Assuming timeslice __unset__ _slice_historical020 applies for RequestItem PMIP, PMIP.6hrLev, historical"
       ]
      },
      {
       "output_type": "stream",
       "stream": "stdout",
       "text": [
        "\n",
        "Assuming timeslice __unset__ _slice_historical020 applies for RequestItem PMIP, PMIP.6hrLev, historical\n",
        "Assuming timeslice __unset__ _slice_historical020 applies for RequestItem PMIP, PMIP.6hrPlev, historical"
       ]
      },
      {
       "output_type": "stream",
       "stream": "stdout",
       "text": [
        "\n",
        "Assuming timeslice __unset__ _slice_historical020 applies for RequestItem PMIP, PMIP.6hrPlev, historical\n",
        "Assuming timeslice __unset__ _slice_historical064 applies for RequestItem CORDEX, day-ss, historical"
       ]
      },
      {
       "output_type": "stream",
       "stream": "stdout",
       "text": [
        "\n",
        "Assuming timeslice __unset__ _slice_historical064 applies for RequestItem CORDEX, day-ss, historical\n",
        "Assuming timeslice __unset__ _slice_historical064 applies for RequestItem CORDEX, 6hrLev, historical\n",
        "Assuming timeslice __unset__ _slice_historical064 applies for RequestItem CORDEX, 6hrLev, historical\n",
        "Assuming timeslice __unset__ _slice_historical030 applies for RequestItem PMIP, PMIP-cfMon-sim, historical"
       ]
      },
      {
       "output_type": "stream",
       "stream": "stdout",
       "text": [
        "\n",
        "Assuming timeslice __unset__ _slice_historical030 applies for RequestItem PMIP, PMIP-cfMon-sim, historical\n",
        "\n",
        "Number of Request Links which apply to experiment "
       ]
      },
      {
       "output_type": "stream",
       "stream": "stdout",
       "text": [
        " historical and experiment set(['C4MIP', 'CORDEX', 'ISMIP6', 'GMMIP', 'LUMIP', 'PMIP', 'RFMIP', 'DAMIP', 'AerChemMIP', 'SIMIP', 'FAFMIP', 'CFMIP', 'ScenarioMIP', 'LS3MIP', 'OMIP', 'GeoMIP'])  is:  254\n",
        "\n",
        "Number of CMOR variables for these requestLinks is : 857\n",
        "\n",
        "Number of CMOR variables once filtered by excluded vars is : 857\n",
        "\n",
        "Number of variables with distinct labels is : 645\n",
        "Issue accessing sn for litemptop !\n",
        "Issue accessing sn for litemptop !\n",
        "Issue accessing sn for nLitterSubSurface !\n",
        "Issue accessing sn for nLitterSurface !\n",
        "Issue accessing sn for litemptop !\n",
        "Issue accessing sn for meanage !\n",
        "Issue accessing sn for nh50 !\n",
        "Issue accessing sn for aoanh !\n",
        "Info: {'varname': 'hmv1', 'freq': 'mon', 'realm': 'seaIce', 'table': 'SImon'} HOMEVar is purely personnal. => Taken into account.\n",
        "Info: {'varname': 'hmv5', 'freq': 'mon', 'realm': 'landIce', 'table': 'LImon'} HOMEVar is purely personnal. => Taken into account.\n",
        "Info: {'varname': 'hfls', 'freq': 'mon', 'realm': 'atmos', 'table': 'Amon'} HOMEVar is already in the DataRequest. => Not taken into account.\n",
        "\n",
        "Realms for these CMORvars : ['seaIce', '', 'land', 'atmos atmosChem', 'landIce', 'ocean seaIce', 'landIce land', 'ocean', 'seaIce ocean', 'atmos', 'aerosol', 'atmos land', 'land landIce', 'ocnBgchem']\n",
        "\n",
        "Tables concerned by context arpsfx :  ['emMon', 'aermonthly', 'cfMon', '6hrLev', 'LImongre', 'em3hr', 'LImon', '3hr', 'emYr', 'cfSites', 'emDayZ', 'emFx', 'aerdaily', 'Amon', 'fx', 'emDay', '6hrPlev', 'emDaypt', 'emMonZ', 'LImonant', 'day', 'cfDay', 'Lmon']\n",
        "\n",
        "Variables per table :\n",
        "          emMon 135 ----> H2wv O17s O17p ec550aer conccn diabdrag cldnvi conccmcn concnmcn loadso4 al tdps mrsol utendnogw intuaw O17wv sconcss lts rsutna cldnci O18wv rls cldncl evspsblpot flashrate intuadse mrsll rsdsdiff phalf utendogw loadss rsutnacs intvaw O18p rsdscsdiff sconcdust od550aerstrat intvadse rss O18s H2s H2p sconcso4 o3 tntlw tntsw od550soa fNdepox cTotFireLut cVeg vegFrac fHarvestToProduct irrCrp fHarvResLut fNleach laiLut dms fHarvAntLut fAnthDisturb mrsfl burntFractionAll grassFrac cLand nVeg fNdepred hussLut cSoilAbove1m mrlso mrsos treeFracNdlDcd baresoilFrac hfssLut pcp netAtmosLandCO2Flux rsusLut nLitterSubSurface treeFrac nLitter fFireNat mrsoLut nLand fNloss fNdep fCLandToOcean fNAnthDisturb fClResLut fBNF mrsosLut nppLut nMineral fNup cSoilBelow1m treeFracBdlDcd fNfert fBNFasymb tslsiLut rhLut fN2O tasLut cropFracC4 fNnetmin nLitterSurface fClAntLut mrs1mLut fNVegSoil fProductDecomp mrroLut raLut fHarvAtmLut nwdFracLut nProduct fClAtmLut rlusLut fNLitterSoil fahUrb treeFracNdlEvg sweLut hflsLut cropFracC3 treeFracBdlEvg fNVegLitter necbLut fDeforestToProduct nSoil grassFracC3 fBNFsymb fNgas fNProduct lateralCtransfer fAntAtmLut fDeforest grassFracC4 cSoil fNLandToOcean gppLut\n",
        "     aermonthly 142 ----> oh eminox drynoy od550ss ztp mmrso4 chepsoa co2 od550oa mmrbc o3 lossco wetso2 o3ste cdnc swtoaasso4 reffclwtop lwtoaasaer od550lt1aer swtoacsdust pan od550aerh2o dryso4 c3h8 lwtoaasdust swtoaasno3 dryso2 od550bc tntsw wetss emiaoa emidms od550so4 swtoaasss mmrpm1 emibvoc emibc eminh3 o3prod ch4 wetnoy albs"
       ]
      },
      {
       "output_type": "stream",
       "stream": "stdout",
       "text": [
        " swtoaasbb swtoaasoaff mmroa swtoacsbcff hno3 ua o3loss tatp c2h2 wetbc emico isop lwp c2h6 ch3coch3 convclt cnpz albsrfc hcho swtoaasbcff chegpso4 od440aer drynh4 od870aer dryss ccn ptp mmrpm10 emiso4 va wetnh4 dryoa dryo3 mmrnh4 snc mmrpm2p5 od550aer plev sic toz wetoa pilev cheaqpso4 photo1d drydust n2o swtoacsaer emiaco zg wa wetnh3 od550bb lossch4 emivoc swtoaassoa hcl od550dust co tntlw iwp tropoz emianox dms h2o swtoaasaer emidust emiss so2 od550no3 lossn2o drynh3 mmrdust no mcu no2 cod airmass nh50 abs550aer swtoacsoaff swtoacsbb emiisop lai mmrno3 emioa c3h6 chepasoa wetdust convcl emilnox swtoaasdust drybc ttop mmrsoa wetso4 lwtoacsaer mmrss aoanh emiso2 mmraerh2o\n",
        "          cfMon 37 ----> parasolRefl rlucs clc tnhusscpbl albisccp cllcalipso tntscpbl pctisccp tnhusa tntmp tnhusmp tnhus cltisccp cltcalipso rsd clisccp7c rldcs ta evu hur rsdcs tnt edt clmcalipso tntr hus cls tnhusc rlu clcalipso rsucs rsu tnta tnhusd tntc rld clhcalipso\n",
        "         6hrLev 06 ----> ta ua va ps pmlev hus\n",
        "       LImongre 03 ----> ts tsn snm\n",
        "          em3hr 08 ----> sfcWind huss uas vas ps ra rh gpp\n",
        "          LImon 25 ----> tsLi sftgif snd agesno snw snmLi sblLi tsnLi hfdsn tpf sncLi orogLi litemptop prraLi sftgrf hflsLi hfssLi prLi tasLi rsusLi rsdsLi rldsLi rlusLi prsnLi hmv5\n",
        "            3hr 05 ----> clt rlds rsds pr prsn\n",
        "           emYr 12 ----> fracInLut cAntLut cVegLut zfull fracLut cSoil fracOutLut cSoilLut cLitterLut cVeg cLitter cAnt\n",
        "        cfSites 37 ----> tnta tntc pfull tnhusscpbl latitude tnhus ta hus tnhusmp rldcs clw tnhusd tnt longitude rsd rld rlu rsu zg evu rsdcs cl ua rlucs mc hur tntmp tntscpbl wap edt tnhusa va phalf cli tnhusc tntr rsucs\n",
        "         emDayZ 04 ----> ua hus ta va\n",
        "           emFx 02 ----> sftgif sftgrf\n",
        "       aerdaily 01 ----> zg500\n",
        "           Amon 71 ----> tauv rtmt clw vas rldscs co2massClim hus co2Clim pfull ccb rsus ts tasmax ps hfss rlutcs prw prsn rsutcs fco2antt cl rsdscs cct mc clt sci rlus tasmin psl fco2fos rsut sfcWind sbl rsdt ua pr tas huss co2mass wap prc tauu zg rsds rsuscs rlds hfls ci phalf va cli hur ta clivi clwvi rlut uas evspsbl hurs fco2nat co2 ch4globalClim ch4 ch4global n2oglobalClim n2o tro3 tro3Clim n2oClim n2oglobal ch4Clim\n",
        "             fx 06 ----> sftlf orog areacella mrsofc rootd sftgif\n",
        "          emDay 29 ----> clwvic reffcclwtop ts ccldncl ta850 va200 loadnh4 loaddust loadbc loadpoa loadss ta500 prw loadso4 loadoa loadsoa hus850 clivic va850 ua850 loadno3 scldncl zmla ua200 reffsclwtop mrsfl lai mrsll mrsol\n",
        "        6hrPlev 04 ----> ua200 va850 va200 ua850\n",
        "        emDaypt 01 ----> prhmax\n",
        "         emMonZ 29 ----> jo3 vmrox sltnortha oxprod epfy oxloss wtem epfz jo2 zmtnt utendepfd vtem ch4 cly ho2 oh noy o3 ta hno3 zg hcl va bry n2o ua vt100 meanage h2o\n",
        "       LImonant 03 ----> ts snm tsn\n",
        "            day 35 ----> uas tas ua sfcWindmax tasmax prsn hfss rlus psl prc huss zg ta tasmin vas rhs rsds rlut rlds hfls hur sfcWind rhsmin rhsmax wap clt va hus rsus pr mrsos tslsi mrro snw snc\n",
        "          cfDay 22 ----> albisccp parasolRefl ccb clhcalipso rsut clmcalipso rsuscs pctisccp rlutcs rsdt cct cltcalipso ps rsdscs wap500 clivi cllcalipso cltisccp rldscs rsutcs ta700 clwvi\n",
        "           Lmon 38 ----> pastureFrac mrlsl ra cVeg fLuc burntArea rh mrsos cLitter residualFrac fVegSoil npp cropFrac cProduct lai fVegLitter gpp fGrazing fLitterSoil fHarvest landCoverFrac mrso fFire c3PftFrac mrros evspsblveg evspsblsoi tran treeFrac nbp c4PftFrac mrro baresoilFrac grassFrac nep tsl shrubFrac mrfso\n",
        "\n",
        "file_def written as arpsfx.xml"
       ]
      },
      {
       "output_type": "stream",
       "stream": "stdout",
       "text": [
        "\n"
       ]
      }
     ],
     "prompt_number": 6
    },
    {
     "cell_type": "code",
     "collapsed": true,
     "input": [],
     "language": "python",
     "metadata": {},
     "outputs": [],
     "prompt_number": null
    },
    {
     "cell_type": "code",
     "collapsed": true,
     "input": [],
     "language": "python",
     "metadata": {},
     "outputs": [],
     "prompt_number": null
    }
   ],
   "metadata": {}
  }
 ]
}