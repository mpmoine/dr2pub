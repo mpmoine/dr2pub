{
 "cells": [
  {
   "cell_type": "markdown",
   "metadata": {},
   "source": [
    "# An example for generating the XIOS file_def for a given lab, model, experiment, year and XIOS context"
   ]
  },
  {
   "cell_type": "code",
   "execution_count": 1,
   "metadata": {
    "collapsed": true
   },
   "outputs": [],
   "source": [
    "# Select your laboratory among: 'cnrm', 'cerfacs', 'ipsl'\n",
    "lab='cerfacs'"
   ]
  },
  {
   "cell_type": "markdown",
   "metadata": {},
   "source": [
    "## 1. Define the settings specific to the laboratory and the model"
   ]
  },
  {
   "cell_type": "code",
   "execution_count": 2,
   "metadata": {
    "collapsed": false
   },
   "outputs": [],
   "source": [
    "if lab=='cnrm' or lab=='cerfacs':\n",
    "    lab_and_model_settings={\n",
    "        'institution_id': \"CNRM-CERFACS\", # institution should be read in CMIP6_CV, if up-to-date\n",
    "\n",
    "        # entry 'source_types' allows to describe, using CMIP6 CV, the various model configurations\n",
    "        # for the lab; This can be superseded by an entry 'source_type' either just below or in dict  \n",
    "        # for simulation settings (further below)\n",
    "        'source_types' : { \"CNRM-CM6-1\" : \"AOGCM\", \"CNRM-CM6-1-HR\" : \"AOGCM\", \n",
    "                           \"CNRM-ESM2-1\": \"ESM\"  , \"CNRM-ESM2-1-HR\": \"ESM\" },\n",
    "\n",
    "        \"source_id\"      : \"CNRM-CM6-1\",\n",
    "        \"source\"         : \"CNRM-CM6-1 (2016): \"+\\\n",
    "                            \"\\naerosol: climatological fields computed by TACTIC (v2.0)\"+\\\n",
    "                            \"\\natmos: Arpege 6.2 (Tl127; 91 levels; top level 78.4 km)\"+\\\n",
    "                            \"\\natmosChem: OZL_v2\\nland: Surfex 8.0c\"+\\\n",
    "                            \"\\nocean: Nemo 3.6 (eORCA1; tripolar primarily 1deg latitude/longitude;75 levels; top grid cell 0-1 m)\"+\\\n",
    "                            \"\\nseaIce: Gelato 6.1\", # Useful only if CMIP6_CV is not up-to-date for the source_id\n",
    "        # You may override here the source-type value deduced from source_id and sources_type\n",
    "        #-'source_type' : \"AER\"  \n",
    "\n",
    "        'references'    :  \"A character string containing a list of published or web-based \"+\\\n",
    "            \"references that describe the data or the methods used to produce it.\"+\\\n",
    "            \"Typically, the user should provide references describing the model\"+\\\n",
    "            \"formulation here\",\n",
    "        'info_url'      : \"http://www.umr-cnrm.fr/cmip6/\",\n",
    "        'contact'       : 'contact.cmip@cnrm.fr',\n",
    "\n",
    "        # We account for the list of MIPS in which the lab takes part.\n",
    "        # Note : a MIPs set limited to {'C4MIP'} leads to a number of tables and \n",
    "        # variables which is manageable for eye inspection\n",
    "        'mips_all' : {'AerChemMIP','C4MIP','CFMIP','DAMIP', 'FAFMIP' , 'GeoMIP','GMMIP','ISMIP6',\\\n",
    "                          'LS3MIP','LUMIP','OMIP','PMIP','RFMIP','ScenarioMIP','CORDEX','SIMIP'},\n",
    "        'mips': {'C4MIP', 'SIMIP', 'OMIP', 'CFMIP', 'RFMIP'} , \n",
    "\n",
    "        # Max variable priority level to be output\n",
    "        'max_priority' : 2,\n",
    "        'tierMax'      : 3,\n",
    "\n",
    "        # The ping file defines variable names, which are constructed using CMIP6 \"MIPvarnames\" \n",
    "        # and a prefix which must be set here, and can be the empty string :\n",
    "        \"ping_variables_prefix\" : \"CMIP6_\",\n",
    "        \n",
    "        # mpmoine_amelioration: pour ecrire un ts_prefix\n",
    "        'output_path' : \"@IOXDIR@/%file_name%\",\n",
    "\n",
    "        # We account for a list of variables which the lab does not want to produce , \n",
    "        # oragnized by realms\n",
    "        #\"excluded_vars_file\":\"./input/excluded_vars/non_published_variables.txt\",\n",
    "        \"excluded_vars\" : [\"clcalipso\",\"clcalipso2\",\"clhcalipso\",\"clcalipsoice\",\"clcalipsoliq\", \\\n",
    "                           \"cllcalipso\",\"clmcalipso\",\"cltcalipso\",\\\n",
    "                           \"cfadLidarsr532\",\"cfadDbze94\",\"cfadLidarsr532\",\"clisccp\",\"cltisccp\",\\\n",
    "                           \"climodis\",\"clwmodis\",\"jpdftaureicemodis\",\"cltmodis\",\"clmisr\"],\n",
    "        # mpmoine_next_modif: ignore some spatial shapes\n",
    "        \"excluded_spshapes\":[\"XYA-na\",\"XYG-na\"],\n",
    "\n",
    "        # We account for a list of variables which the lab wants to produce in some cases\n",
    "        \"listof_home_vars\":None,\n",
    "        # mpmoine_last_modif: Path for extra Tables\n",
    "        \"path_extra_tables\":None,\n",
    "        \n",
    "        # mpmoine_correction: Path for natives XIOS xml files to parse\n",
    "        \"path_to_parse\":\"./input_labs/cnrm/to_parse/for_arpege_grid\",\n",
    "\n",
    "        # Each XIOS  context does adress a number of realms\n",
    "        'realms_per_context' : { 'nemo': ['seaIce', 'ocean', 'ocean seaIce', 'ocnBgchem', 'seaIce ocean'] ,\n",
    "                              'surfex' : ['atmos', 'atmos atmosChem', 'aerosol', 'atmos land', 'land',\n",
    "                                            'landIce land',  'aerosol land','land landIce',  'landIce', ],\n",
    "                              }, \n",
    "\n",
    "        # Some variables, while belonging to a realm, may fall in another XIOS context than the \n",
    "        # context which handles that realm\n",
    "        'orphan_variables' : { 'nemo' : ['dummy_variable_for_illustration_purpose'],\n",
    "                               'surfex' : [],\n",
    "                               },\n",
    "        'vars_OK' : dict(),\n",
    "        # A per-variable dict of comments valid for all simulations\n",
    "        'comments'     : {\n",
    "            'tas' : 'nothing special about tas'\n",
    "            },\n",
    "\n",
    "        # Sizes of oce and atm grids (cf DR doc)\n",
    "        \"sizes\"  : [292*362,75,128*256,91,30,14,128],\n",
    "\n",
    "        # What is the maximum size of generated files, in number of float values\n",
    "        \"max_file_size_in_floats\" : 500.*1.e+6 ,\n",
    "        # grid_policy among None, DR, native, native+DR, adhoc- see docin grids.py \n",
    "        \"grid_policy\" : \"adhoc\",\n",
    "        # Grids : CMIP6 name, name_of_target_domain, CMIP6-std resolution, and description\n",
    "        \"grids\" : { \n",
    "          \"LR\"    : {\n",
    "            \"surfex\" : [ \"gr\",\"complete\" , \"250 km\", \"data regridded to a T127 gaussian grid (128x256 latlon) from a native atmosphere T127l reduced gaussian grid\"] ,\n",
    "              \"nemo\" : [ \"gn\", \"\"        , \"100km\" , \"native ocean tri-polar grid with 105 k ocean cells\" ],},\n",
    "          \"HR\"    : {\n",
    "            \"surfex\" : [ \"gr\",\"completeHR\", \"50 km\", \"data regridded to a 359 gaussian grid (180x360 latlon) from a native atmosphere T359l reduced gaussian grid\"] ,\n",
    "              \"nemo\" : [ \"gn\", \"\"         , \"25km\" , \"native ocean tri-polar grid with 1.47 M ocean cells\" ],},\n",
    "        },\n",
    "        'grid_choice' : { \"CNRM-CM6-1\" : \"LR\", \"CNRM-CM6-1-HR\" : \"HR\", \"CNRM-ESM2-1\": \"LR\"  , \"CNRM-ESM2-1-HR\": \"HR\" },\n",
    "        # mpmpoine_next_modif: Model component Time steps (min)\n",
    "        \"model_timestep\" : { \"surfex\":900., \"nemo\":900.}\n",
    "        }"
   ]
  },
  {
   "cell_type": "code",
   "execution_count": 3,
   "metadata": {
    "collapsed": false
   },
   "outputs": [],
   "source": [
    "if lab=='cerfacs':  \n",
    "    lab_and_model_settings[\"mips\"]={'HighResMIP'}\n",
    "    #lab_and_model_settings[\"listof_home_vars\"]=\"./input_labs/cerfacs/home_vars/listof_primavera_extra_vars.txt\"\n",
    "    #lab_and_model_settings[\"path_extra_tables\"]=\"./input_labs/cerfacs/extra_Tables\"\n",
    "    #lab_and_model_settings[\"path_to_parse\"]=\"./input_labs/cerfacs/to_parse/for_arpege_grid_dr2xml\"\n",
    "    lab_and_model_settings[\"path_to_parse\"]=\"./input_labs/cerfacs/to_parse/for_toy_grid\""
   ]
  },
  {
   "cell_type": "code",
   "execution_count": 4,
   "metadata": {
    "collapsed": true
   },
   "outputs": [],
   "source": [
    "if lab=='ipsl':\n",
    "    lab_and_model_settings={\n",
    "        'institution_id': \"IPSL\", # institution should be read in CMIP6_CV, if up-to-date\n",
    "        'source_id'      : \"IPSL-CM6-1\", \n",
    "        # The description of lab models, in CMIP6 CV wording\n",
    "        'source_types' : { \"IPSL-CM6-1\" : \"AOGCM\", \"IPSL-CM6-1-HR\" : \"AOGCM\", \n",
    "                           \"IPSL-ESM2-1\": \"ESM\"  , \"IPSL-ESM2-1-HR\": \"ESM\" },\n",
    "        'source'         : \"IPSL-CM6-1\", # Useful only if CMIP6_CV is not up to date\n",
    "        'references'    :  \"A character string containing a list of published or web-based \"+\\\n",
    "            \"references that describe the data or the methods used to produce it.\"+\\\n",
    "            \"Typically, the user should provide references describing the model\"+\\\n",
    "            \"formulation here\",\n",
    "        'info_url'      : \"http://www.umr-cnrm.fr/cmip6/\",\n",
    "        'contact'       : 'contact.cmip@meteo.fr',\n",
    "\n",
    "        # We account for the list of MIPS in which the lab takes part.\n",
    "        # Note : a MIPs set limited to {'C4MIP'} leads to a number of tables and \n",
    "        # variables which is manageable for eye inspection\n",
    "        'mips_for_test': {'C4MIP', 'SIMIP', 'OMIP', 'CFMIP', 'RFMIP'} , \n",
    "        'mips' : {'AerChemMIP','C4MIP','CFMIP','DAMIP', 'FAFMIP' , 'GeoMIP','GMMIP','ISMIP6',\\\n",
    "                          'LS3MIP','LUMIP','OMIP','PMIP','RFMIP','ScenarioMIP','CORDEX','SIMIP'},\n",
    "        # Max variable priority level to be output\n",
    "        'max_priority' : 1,\n",
    "        'tierMax'      : 1,\n",
    "\n",
    "        # The ping file defines variable names, which are constructed using CMIP6 \"MIPvarnames\" \n",
    "        # and a prefix which must be set here, and can be the empty string :\n",
    "        \"ping_variables_prefix\" : \"CMIP6_\",\n",
    "        \n",
    "        # mpmoine_amelioration: pour ecrire un ts_prefix\n",
    "        'output_path' : None,\n",
    "\n",
    "        # We account for a list of variables which the lab does not want to produce , \n",
    "        # Names must match DR MIPvarnames (and **NOT** CF standard_names)\n",
    "        \"excluded_vars_file\":None,\n",
    "        \"excluded_vars\" : [\"clcalipso\",\"clcalipso2\",\"clhcalipso\",\"clcalipsoice\",\"clcalipsoliq\", \\\n",
    "                           \"cllcalipso\",\"clmcalipso\",\"cltcalipso\",\\\n",
    "                           \"cfadLidarsr532\",\"cfadDbze94\",\"cfadLidarsr532\",\"clisccp\",\"cltisccp\",\\\n",
    "                           \"climodis\",\"clwmodis\",\"jpdftaureicemodis\",\"cltmodis\",\"clmisr\"],\n",
    "        # mpmoine_next_modif: ignore some spatial shapes\n",
    "        \"excluded_spshapes\":[\"XYA-na\",\"XYG-na\"],\n",
    "\n",
    "        # We account for a list of variables which the lab wants to produce in some cases\n",
    "        \"listof_home_vars\":None,\n",
    "        # mpmoine_last_modif: Path for extra Tables\n",
    "        \"path_extra_tables\":None,\n",
    "        \n",
    "        # mpmoine_correction: Path for natives XIOS xml files to parse\n",
    "        \"path_to_parse\":\"./input_labs/ipsl/to_parse\",\n",
    "\n",
    "        # Each XIOS  context does adress a number of realms\n",
    "        'realms_per_context' : { \n",
    "            'nemo': ['seaIce', 'ocean', 'ocean seaIce', 'ocnBgchem', 'seaIce ocean'],\n",
    "            'lmdz' : ['atmos', 'atmos land'] , \n",
    "            'orchidee': ['land', 'landIce land',  'land landIce', 'landIce'] ,\n",
    "                              }, \n",
    "        # Some variables, while belonging to a realm, may fall in another XIOS context than the \n",
    "        # context which hanldes that realm\n",
    "        'orphan_variables' : { \n",
    "            'nemo' : [],\n",
    "            'lmdz' : [],\n",
    "            'orchidee' : [],\n",
    "                             },\n",
    "        'vars_OK' : dict(),\n",
    "        # A per-variable dict of comments valid for all simulations\n",
    "        'comments'     : {\n",
    "            'tas' : 'nothing special about tas'\n",
    "            },\n",
    "        # Sizes for atm and oce grids (cf DR doc)\n",
    "        \"sizes\"  : [259200,60,64800,40,20,5,100],\n",
    "        # What is the maximum size of generated files, in number of float values\n",
    "        \"max_file_size_in_floats\" : 500.*1.e+6 ,\n",
    "        # Grids : CMIP6 name, name_of_target_domain, CMIP6-std resolution, and description\n",
    "        \"grids\" : { \n",
    "          \"LR\"    : {\n",
    "            \"lmdz\" : [ \"gr\",\"\" , \"??? km\", \"LMDZ grid\"] ,\n",
    "              \"nemo\" : [ \"gn\", \"\"        , \"100km\" , \"native ocean tri-polar grid with 105 k ocean cells\" ],\n",
    "          \"orchidee\" :  [ \"gr\",\"\" , \"??? km\", \"LMDZ grid\"],},\n",
    "        },\n",
    "        'grid_choice' : { \"IPSL-CM6-1\" : \"LR\", \"IPSL-CM6-1-HR\" : \"HR\",\n",
    "                          \"IPSL-ESM2-1\": \"LR\"  , \"IPSL-ESM2-1-HR\": \"HR\" },\n",
    "        # mpmpoine_next_modif: Model component Time steps (min)\n",
    "        \"model_timestep\" : { \"nemo\":60., \"lmdz\":60.,\"orchidee\":60.}\n",
    "\n",
    "    }\n"
   ]
  },
  {
   "cell_type": "markdown",
   "metadata": {},
   "source": [
    "## 2. Define the settings for the processed simulation "
   ]
  },
  {
   "cell_type": "code",
   "execution_count": 5,
   "metadata": {
    "collapsed": false
   },
   "outputs": [],
   "source": [
    "simulation_settings={    \n",
    "    # Dictionnary describing the necessary attributes for a given simulation\n",
    "\n",
    "    # Warning : some lines are commented out in this example but should be \n",
    "    # un-commented in some cases. See comments\n",
    "    \"experiment_id\"  : \"historical\",\n",
    "    #\"experiment_id\"  : \"Forced-Atmos-Land\",\n",
    "    #\"experiment_id\"  : \"Coupled\",\n",
    "    #\"experiment_id\"  : \"DCPP-C13\",\n",
    "    \n",
    "    #\"contact\"        : \"\", set it only if it is specific to the simualtion\n",
    "    #\"project\"        : \"CMIP6\",  #CMIP6 is the default\n",
    "\n",
    "    #'source_type'    : \"ESM\" # If source_type is special only for this experiment (e.g. : AMIP)\n",
    "                      #(i.e. not the same as in lab_and_model settings), you may tell that here\n",
    "\n",
    "    # MIP specifying the experiment. For historical, it is CMIP6 itself\n",
    "    # In a few cases it may be appropriate to include multiple activities in the activity_id \n",
    "    # (with multiple activities allowed, separated by single spaces).  \n",
    "    # An example of this is “LUMIP AerChemMIP” for one of the land-use change experiments.\n",
    "    \"activity_id\"       : \"CMIP\", # examples : “PMIP”, “LS3MIP LUMIP”; defaults to \"CMIP6\"\n",
    "    \n",
    "    # It is recommended that some description be included to help identify major differences among variants, \n",
    "    # but care should be taken to record correct information.  Prudence dictates that this attribute includes \n",
    "    # a warning along the following lines:  “Information provided by this attribute may in some cases be flawed.#\n",
    "    # Users can find more comprehensive and up-to-date documentation via the further_info_url global attribute.”\n",
    "    \"variant_info\"      : \"Start date chosen so that variant r1i1p1f1 has the better fit with Krakatoa impact on tos\",\n",
    "    #\n",
    "    \"realization_index\"    : 1, # Value may be omitted if = 1\n",
    "    \"initialization_index\" : 1, # Value may be omitted if = 1\n",
    "    \"physics_index\"        : 1, # Value may be omitted if = 1\n",
    "    \"forcing_index\"        : 1, # Value may be omitted if = 1\n",
    "    #\n",
    "    # All about the parent experiment and branching scheme\n",
    "    \"parent_experiment_id\" : \"piControl\", # omit this setting (or set to 'no parent') if not applicable\n",
    "                                          # (remaining parent attributes will be disregarded)\n",
    "    \"branch_method\"        : \"standard\", # default value='standard', meaning ~ \"select a start date\" \n",
    "    \"branch_time_in_parent\": \"365.0D0\", # a double precision value, in parent time units, \n",
    "    \"branch_time_in_child\" : \"0.0D0\", # a double precision value, in child time units, \n",
    "    #'parent_time_units'    : \"\" #in case it is not the same as child time units\n",
    "    #'parent_variant_label' :\"\"  #Default to 'same as child'. Other cases should be expceptional\n",
    "    #\"parent_mip_era\"       : 'CMIP5'   # only in special cases (e.g. PMIP warm start from CMIP5/PMIP3 experiment)\n",
    "    #'parent_activity   '   : 'CMIP'    # only in special cases, defaults to CMIP\n",
    "    #'parent_source_id'     : 'CNRM-CM5.1' #only in special cases, where parent model is not the same model\n",
    "    #\n",
    "    # mpmoine_cmor_update: CMOR3.2.2 impose 'None' comme default values pour sub_experiment_id et sub_experiment\n",
    "    # mpmoine_cmor_update: CMOR3.2.3 impose 'none' comme default values pour sub_experiment_id et sub_experiment\n",
    "    \"sub_experiment_id\"    : \"none\", # Optional, default is 'none'; example : s1960. \n",
    "    \"sub_experiment\"       : \"none\", # Optional, default in 'none'\n",
    "    \"history\"              : \"none\", #Used when a simulation is re-run, an output file is modified ....\n",
    "    # A per-variable dict of comments which are specific to this simulation. It will replace  \n",
    "    # the all-simulation comment present in lab_and_model_settings\n",
    "    'comments'     : {\n",
    "        'tas' : 'tas diagnostic uses a special scheme in this simulation',\n",
    "        }\n",
    "    }\n",
    "\n"
   ]
  },
  {
   "cell_type": "code",
   "execution_count": 6,
   "metadata": {
    "collapsed": true
   },
   "outputs": [],
   "source": [
    "if lab=='cerfacs':    \n",
    "    simulation_settings[\"experiment_id\"]=\"Forced-Atmos-Land\"\n",
    "    #simulation_settings[\"experiment_id\"]=\"Coupled\"\n",
    "    #simulation_settings[\"experiment_id\"]=\"DCPP-C13\""
   ]
  },
  {
   "cell_type": "code",
   "execution_count": 7,
   "metadata": {
    "collapsed": false
   },
   "outputs": [],
   "source": [
    "# Path to local copy of CMIP6 CVs, which you can get from https://github.com/WCRP-CMIP/CMIP6_CVs\n",
    "if lab=='cnrm':\n",
    "    my_cvspath=\"/cnrm/est/USERS/senesi/public/CMIP6/data_request/CMIP6_CVs/\"\n",
    "elif lab=='cerfacs':\n",
    "    my_cvspath=\"/Users/moine/Codes/MyDevel_Codes/CMIP6_DATA_SUITE/CMIP6_CVs/\"\n",
    "elif lab=='ipsl':\n",
    "    my_cvspath=\"/ccc/cont003/home/gencmip6/p86caub/CMIP6_DR_DR2XML/CMIP6_CVs/\"\n",
    "my_cvspath=\"/Users/moine/Codes/MyDevel_Codes/CMIP6_DATA_SUITE/CMIP6_CVs/\""
   ]
  },
  {
   "cell_type": "markdown",
   "metadata": {},
   "source": [
    "## 3. Generate a first file-def with a dummy ping-file, including dummies"
   ]
  },
  {
   "cell_type": "code",
   "execution_count": 8,
   "metadata": {
    "collapsed": false
   },
   "outputs": [
    {
     "name": "stdout",
     "output_type": "stream",
     "text": [
      "01.00.07\n"
     ]
    }
   ],
   "source": [
    "from dr2xml import generate_file_defs\n"
   ]
  },
  {
   "cell_type": "code",
   "execution_count": 9,
   "metadata": {
    "collapsed": true
   },
   "outputs": [],
   "source": [
    "# In/Out directory\n",
    "my_dir=\"output_labs/\"+lab+\"/\""
   ]
  },
  {
   "cell_type": "code",
   "execution_count": 10,
   "metadata": {
    "collapsed": false
   },
   "outputs": [],
   "source": [
    "#help(generate_file_defs)\n"
   ]
  },
  {
   "cell_type": "code",
   "execution_count": 11,
   "metadata": {
    "collapsed": false
   },
   "outputs": [
    {
     "name": "stdout",
     "output_type": "stream",
     "text": [
      "Error : reference 'CMIP6_p100' is invalid\n",
      "Error : reference 'CMIP6_p1000' is invalid\n",
      "Error : reference 'CMIP6_p850' is invalid\n",
      "Error : reference 'CMIP6_pblz' is invalid\n",
      "Error : reference 'CMIP6_pblz' is invalid\n",
      "Error : reference 'CMIP6_p850' is invalid\n",
      "Error : reference 'CMIP6_rv' is invalid\n",
      "Error : reference 'CMIP6_p100' is invalid\n",
      "Error : reference 'CMIP6_p500' is invalid\n",
      "Error : reference 'CMIP6_p700' is invalid\n",
      "Error : reference 'CMIP6_p850' is invalid\n",
      "Error : reference 'CMIP6_p100' is invalid\n",
      "Error : reference 'CMIP6_p1000' is invalid\n",
      "Error : reference 'dummy_axisatm' is invalid\n",
      "Error : reference 'CMIP6_p200' is invalid\n",
      "Error : reference 'dummy_axisatm' is invalid\n",
      "Error : reference 'CMIP6_p850' is invalid\n",
      "Error : reference 'CMIP6_p100' is invalid\n",
      "Error : reference 'CMIP6_p1000' is invalid\n",
      "Error : reference 'dummy_axisatm' is invalid\n",
      "Error : reference 'CMIP6_p200' is invalid\n",
      "Error : reference 'dummy_axisatm' is invalid\n",
      "Error : reference 'CMIP6_p850' is invalid\n",
      "Error : reference 'CMIP6_p500' is invalid\n",
      "Error : reference 'CMIP6_p100' is invalid\n",
      "Error : reference 'CMIP6_p1000' is invalid\n",
      "Error : reference 'CMIP6_p500' is invalid\n",
      "Error : reference 'CMIP6_pblz' is invalid\n",
      "Error : reference 'CMIP6_pblz' is invalid\n",
      "Error : reference 'CMIP6_p850' is invalid\n",
      "Error : reference 'CMIP6_rv' is invalid\n",
      "Number of Request Links which apply to MIPS set(['HighResMIP'])  is:  31\n",
      "Number of Request Links which apply to experiment  Forced-Atmos-Land and MIPs set(['HighResMIP'])  is:  27\n",
      "Number of (CMOR variable, grid) pairs for these requestLinks is :480\n",
      "Number once filtered by excluded vars is : 465\n",
      "Number of distinct CMOR variables (whatever the grid) : 457\n",
      "Number of distinct var labels is : 324\n",
      "\n",
      "Number of simplified vars is : 457\n",
      "Info: No HOMEvars list provided.\n",
      "\n",
      "Realms for these CMORvars : ['seaIce', 'seaIce ocean', 'land', 'atmos atmosChem', 'landIce', 'landIce land', 'ocean', 'atmos', 'aerosol', 'land landIce']\n",
      "\n",
      "Tables concerned by context surfex :  ['EmonZ', 'E1hr', '3hr', 'Amon', 'CFmon', 'E3hr', '6hrPlev', 'Eday', 'AERmon', 'Emon', 'CFday', 'E3hrPt', 'Lmon', 'LImon', 'CFsubhr', '6hrPlevPt', 'day']\n",
      "\n",
      "Variables per table :\n",
      "          EmonZ 09 ----> epfy utendepfd ygwdparam utendnogw wtem epfz xgwdparam vtem vtendnogw\n",
      "           E1hr 02 ----> pr prc\n",
      "            3hr 22 ----> rsdscs tas hfls clt rsus rlds ps uas rsdsdiff huss prc rsds pr rsuscs prsn hfss rlus rldscs vas mrsos mrro tslsi\n",
      "           Amon 43 ----> clw co2massClim hus co2Clim ta rsus tasmax ps hfss rlutcs rlus cl mc clt rsut wap ua pr co2mass zg pfull rsds rlds hfls phalf tasmin va cli hur clivi rsutcs rlut co2 ch4 n2oglobalClim n2oglobal ch4global n2o o3 n2oClim o3Clim ch4globalClim ch4Clim\n",
      "          CFmon 49 ----> rsdcs4co2 rlucs clws clc tnhusscpbl albisccp pctisccp tnhusa tntmp rsu4co2 tnhusmp smc rsd mcd rlu4co2 rldcs ta tntscpbl evu hur rsdcs dmc rsut4co2 tnt edt clis clwc clic rsucs4co2 rld4co2 rldcs4co2 cls tnhusc rlu rsucs rsu tnhusd tnta hus rlutcs4co2 rlucs4co2 rsutcs4co2 mcu tnhus rlut4co2 rsd4co2 tntr tntc rld\n",
      "           E3hr 10 ----> rlutcs rlut rsutcs prw clivi clwvi psl prcsh rsdt rsut\n",
      "        6hrPlev 02 ----> hus4 wap4\n",
      "           Eday 05 ----> ts ua va tauv tauu\n",
      "         AERmon 73 ----> ua drynoy od550ss ztp chepsoa pod0 rsutcsaf rsutaf wetso2 reffclwtop od550lt1aer tropoz od550aerh2o dryso4 dryso2 od550bc rlutaf wetss emidms od550so4 emibvoc emibc eminh3 od550soa wetnoy emiso2 albs eminox tatp wetbc emico lwp wetnh4 od440aer drynh4 od870aer dryss ccn ptp emiso4 va dryoa dryo3 od550aer emiaoa toz emioa albsrfc drydust emiaco rlutcsaf od550oa wetnh3 od550bb emidust emivoc cltc wetoa bldep od550dust emianox od550no3 emiss drynh3 cod abs550aer emiisop chepasoa wetdust drybc wetso4 ttop od550csaer\n",
      "           Emon 38 ----> ta27 rainmxrat27 vt snowmxrat27 wap vwap grplmxrat27 vqint cldicemxrat27 twap t2 parasolRefl ut hus27 wap2 columnmassflux clwvic v2 uqint ygwdparam va27 cldwatmxrat27 uwap u2 uv ua27 hus tntmp27 xgwdparam zg27 tntrs27 tntrl27 vegHeight fLuc nep cWood cSoil cMisc\n",
      "          CFday 29 ----> phalf albisccp rlutcs wap clw rsut zg pctisccp mc hur rsdt ta cl cct ps hus rsdscs wap500 clivi ua va rsuscs rsutcs ta700 ccb cli clwvi rldscs pfull\n",
      "         E3hrPt 08 ----> va7h hus7h ua7h va850 ta7h psl ua850 wap7h\n",
      "           Lmon 54 ----> c3PftFrac pastureFrac rGrowth mrlsl burntArea rh gpp mrsos cLitter fVegSoil npp cropFrac cProduct cLeaf lai fVegLitter treeFracPrimDec nbp nppRoot fGrazing residualFrac cSoilFast cVeg fHarvest mrro landCoverFrac mrso fFire mrros evspsblveg evspsblsoi prveg tran treeFrac cCwd cSoilSlow fLitterSoil cLitterAbove c4PftFrac baresoilFrac cLitterBelow cRoot treeFracSecEver rMaint nppLeaf grassFrac treeFracPrimEver cSoilMedium nppWood tsl shrubFrac ra treeFracSecDec mrfso\n",
      "          LImon 10 ----> snc snd sootsn agesno snw lwsnl tsn hfdsn snm sbl\n",
      "        CFsubhr 42 ----> rsds psl rsus hfls uas sfcWind tauv clt hurs fco2nat tas clwvi rtmt rlus rsdscs ts prsn prc rlut rsuscs clivi ci rlutcs sci huss rsut vas ccb rlds fco2antt rsdt ps fco2fos prw hfss rsutcs pr cct tauu rldscs evspsbl sbl\n",
      "      6hrPlevPt 15 ----> va wbptemp7h ua7h uas vas ua hus7h vortmean va7h ta7h rv850 zg7h ta psl zg500\n",
      "            day 36 ----> uas ua sfcWindmax tasmax prsn hfss rlus rlut tas psl prc sfcWind hus huss zg ta tasmin vas hursmin hursmax rsds hfls rlds hur pr hurs wap clt va rsus mrsos tslsi mrro mrso snw snc\n",
      "TBD: Cannot yet compute annual climatology for     co2massClim in table Amon -> averaging\n",
      "TBD: Cannot yet compute annual climatology for         co2Clim in table Amon -> averaging\n",
      "TBD: Cannot yet compute annual climatology for           pfull in table Amon -> averaging\n",
      "TBD: Cannot yet compute annual climatology for           phalf in table Amon -> averaging\n",
      "TBD: Cannot yet compute annual climatology for   n2oglobalClim in table Amon -> averaging\n",
      "TBD: Cannot yet compute annual climatology for         n2oClim in table Amon -> averaging\n",
      "TBD: Cannot yet compute annual climatology for          o3Clim in table Amon -> averaging\n",
      "TBD: Cannot yet compute annual climatology for   ch4globalClim in table Amon -> averaging\n",
      "TBD: Cannot yet compute annual climatology for         ch4Clim in table Amon -> averaging\n",
      "Note : assuming that 'time: mean where cloud'  for        albisccp in table CFmon is well handled by 'detect_missing'\n",
      "Note : assuming that 'time: mean where cloud'  for        pctisccp in table CFmon is well handled by 'detect_missing'\n",
      "Note : assuming that 'time: mean where cloud'  for        albisccp in table CFday is well handled by 'detect_missing'\n",
      "Note : assuming that 'time: mean where cloud'  for        pctisccp in table CFday is well handled by 'detect_missing'\n",
      "TBD: Cannot yet handle time: mean (with samples weighted by snow mass) for          agesno in table LImon -> averaging\n",
      "TBD: Cannot yet handle time: mean (with samples weighted by snow mass) for             tsn in table LImon -> averaging\n",
      "field CMIP6_rv850 has no grid_ref\n"
     ]
    },
    {
     "ename": "AttributeError",
     "evalue": "'NoneType' object has no attribute 'attrib'",
     "output_type": "error",
     "traceback": [
      "\u001b[0;31m---------------------------------------------------------------------------\u001b[0m",
      "\u001b[0;31mAttributeError\u001b[0m                            Traceback (most recent call last)",
      "\u001b[0;32m<ipython-input-11-5d1c1faff947>\u001b[0m in \u001b[0;36m<module>\u001b[0;34m()\u001b[0m\n\u001b[1;32m      4\u001b[0m         generate_file_defs(lab_and_model_settings, simulation_settings,year=2000,context=my_context,\n\u001b[1;32m      5\u001b[0m                     \u001b[0mpingfile\u001b[0m\u001b[0;34m=\u001b[0m\u001b[0mmy_dir\u001b[0m\u001b[0;34m+\u001b[0m\u001b[0;34m\"ping_\"\u001b[0m\u001b[0;34m+\u001b[0m\u001b[0mmy_context\u001b[0m\u001b[0;34m+\u001b[0m\u001b[0;34m\".xml\"\u001b[0m\u001b[0;34m,\u001b[0m \u001b[0mprintout\u001b[0m\u001b[0;34m=\u001b[0m\u001b[0mTrue\u001b[0m\u001b[0;34m,\u001b[0m\u001b[0;34m\u001b[0m\u001b[0m\n\u001b[0;32m----> 6\u001b[0;31m                     cvs_path=my_cvspath,dummies='include', dirname=my_dir)\n\u001b[0m",
      "\u001b[0;32m/Users/moine/Codes/MyDevel_Codes/CMIP6_DATA_SUITE/DR2XML/dr2pub_mpmoine/dr2xml.pyc\u001b[0m in \u001b[0;36mgenerate_file_defs\u001b[0;34m(lset, sset, year, context, cvs_path, pingfile, dummies, printout, dirname, prefix)\u001b[0m\n\u001b[1;32m   1133\u001b[0m                         write_xios_file_def(svar,table,lset,sset,out,cvs_path,\n\u001b[1;32m   1134\u001b[0m                                 \u001b[0mfield_defs\u001b[0m\u001b[0;34m,\u001b[0m\u001b[0maxis_defs\u001b[0m\u001b[0;34m,\u001b[0m\u001b[0mgrid_defs\u001b[0m\u001b[0;34m,\u001b[0m\u001b[0mdomain_defs\u001b[0m\u001b[0;34m,\u001b[0m\u001b[0mdummies\u001b[0m\u001b[0;34m,\u001b[0m\u001b[0;34m\u001b[0m\u001b[0m\n\u001b[0;32m-> 1135\u001b[0;31m                                 skipped_vars_per_table,prefix,context,grid,pingvars)\n\u001b[0m\u001b[1;32m   1136\u001b[0m                 \u001b[0;32melse\u001b[0m \u001b[0;34m:\u001b[0m\u001b[0;34m\u001b[0m\u001b[0m\n\u001b[1;32m   1137\u001b[0m                     \u001b[0;32mpass\u001b[0m\u001b[0;34m\u001b[0m\u001b[0m\n",
      "\u001b[0;32m/Users/moine/Codes/MyDevel_Codes/CMIP6_DATA_SUITE/DR2XML/dr2pub_mpmoine/dr2xml.pyc\u001b[0m in \u001b[0;36mwrite_xios_file_def\u001b[0;34m(cmv, table, lset, sset, out, cvspath, field_defs, axis_defs, grid_defs, domain_defs, dummies, skipped_vars_per_table, prefix, context, grid, pingvars)\u001b[0m\n\u001b[1;32m    748\u001b[0m     \u001b[0mend_field_defs\u001b[0m\u001b[0;34m=\u001b[0m\u001b[0mdict\u001b[0m\u001b[0;34m(\u001b[0m\u001b[0;34m)\u001b[0m\u001b[0;34m\u001b[0m\u001b[0m\n\u001b[1;32m    749\u001b[0m     create_xios_aux_elmts_defs(cmv,alias,table,lset,sset,end_field_defs,\n\u001b[0;32m--> 750\u001b[0;31m                                 field_defs,axis_defs,grid_defs,domain_defs,dummies,context,remap_domain,pingvars)\n\u001b[0m\u001b[1;32m    751\u001b[0m     \u001b[0;32mif\u001b[0m \u001b[0mlen\u001b[0m\u001b[0;34m(\u001b[0m\u001b[0mend_field_defs\u001b[0m\u001b[0;34m.\u001b[0m\u001b[0mkeys\u001b[0m\u001b[0;34m(\u001b[0m\u001b[0;34m)\u001b[0m\u001b[0;34m)\u001b[0m\u001b[0;34m==\u001b[0m\u001b[0;36m0\u001b[0m \u001b[0;34m:\u001b[0m\u001b[0;34m\u001b[0m\u001b[0m\n\u001b[1;32m    752\u001b[0m         \u001b[0;31m# TBD : restore error_message\u001b[0m\u001b[0;34m\u001b[0m\u001b[0;34m\u001b[0m\u001b[0m\n",
      "\u001b[0;32m/Users/moine/Codes/MyDevel_Codes/CMIP6_DATA_SUITE/DR2XML/dr2pub_mpmoine/dr2xml.pyc\u001b[0m in \u001b[0;36mcreate_xios_aux_elmts_defs\u001b[0;34m(sv, alias, table, lset, sset, end_field_defs, field_defs, axis_defs, grid_defs, domain_defs, dummies, context, remap_domain, pingvars)\u001b[0m\n\u001b[1;32m    854\u001b[0m                     \u001b[0malias_ping\u001b[0m\u001b[0;34m=\u001b[0m\u001b[0mlset\u001b[0m\u001b[0;34m[\u001b[0m\u001b[0;34m\"ping_variables_prefix\"\u001b[0m\u001b[0;34m]\u001b[0m\u001b[0;34m+\u001b[0m\u001b[0mlwps\u001b[0m \u001b[0;31m# e.g. 'CMIP6_hus' and not 'CMIP6_hus7h'; 'CMIP6_co2' and not 'CMIP6_co2Clim'\u001b[0m\u001b[0;34m\u001b[0m\u001b[0m\n\u001b[1;32m    855\u001b[0m                     \u001b[0;31m#TBS# grid_def=create_grid_def(sd,alias,context_index)\u001b[0m\u001b[0;34m\u001b[0m\u001b[0;34m\u001b[0m\u001b[0m\n\u001b[0;32m--> 856\u001b[0;31m                     \u001b[0mgrid_def\u001b[0m\u001b[0;34m=\u001b[0m\u001b[0mcreate_grid_def\u001b[0m\u001b[0;34m(\u001b[0m\u001b[0msd\u001b[0m\u001b[0;34m,\u001b[0m\u001b[0malias_ping\u001b[0m\u001b[0;34m,\u001b[0m\u001b[0mcontext_index\u001b[0m\u001b[0;34m)\u001b[0m\u001b[0;34m\u001b[0m\u001b[0m\n\u001b[0m\u001b[1;32m    857\u001b[0m                     \u001b[0mgrid_id\u001b[0m\u001b[0;34m=\u001b[0m\u001b[0mgrid_def\u001b[0m\u001b[0;34m[\u001b[0m\u001b[0;36m0\u001b[0m\u001b[0;34m]\u001b[0m\u001b[0;34m\u001b[0m\u001b[0m\n\u001b[1;32m    858\u001b[0m                     \u001b[0mgrid_defs\u001b[0m\u001b[0;34m[\u001b[0m\u001b[0mgrid_id\u001b[0m\u001b[0;34m]\u001b[0m\u001b[0;34m=\u001b[0m\u001b[0mgrid_def\u001b[0m\u001b[0;34m[\u001b[0m\u001b[0;36m1\u001b[0m\u001b[0;34m]\u001b[0m\u001b[0;34m\u001b[0m\u001b[0m\n",
      "\u001b[0;32m/Users/moine/Codes/MyDevel_Codes/CMIP6_DATA_SUITE/DR2XML/dr2pub_mpmoine/dr2xml.pyc\u001b[0m in \u001b[0;36mcreate_grid_def\u001b[0;34m(sd, alias, context_index)\u001b[0m\n\u001b[1;32m   1240\u001b[0m         \u001b[0;32mif\u001b[0m \u001b[0malias\u001b[0m \u001b[0;32mand\u001b[0m \u001b[0mcontext_index\u001b[0m\u001b[0;34m:\u001b[0m\u001b[0;34m\u001b[0m\u001b[0m\n\u001b[1;32m   1241\u001b[0m             \u001b[0msrc_grid\u001b[0m\u001b[0;34m=\u001b[0m\u001b[0mid2grid\u001b[0m\u001b[0;34m(\u001b[0m\u001b[0malias\u001b[0m\u001b[0;34m,\u001b[0m\u001b[0mcontext_index\u001b[0m\u001b[0;34m,\u001b[0m\u001b[0mprintout\u001b[0m\u001b[0;34m=\u001b[0m\u001b[0mTrue\u001b[0m\u001b[0;34m)\u001b[0m\u001b[0;34m\u001b[0m\u001b[0m\n\u001b[0;32m-> 1242\u001b[0;31m             \u001b[0msrc_grid_id\u001b[0m\u001b[0;34m=\u001b[0m\u001b[0msrc_grid\u001b[0m\u001b[0;34m.\u001b[0m\u001b[0mattrib\u001b[0m\u001b[0;34m[\u001b[0m\u001b[0;34m'id'\u001b[0m\u001b[0;34m]\u001b[0m\u001b[0;34m\u001b[0m\u001b[0m\n\u001b[0m\u001b[1;32m   1243\u001b[0m             \u001b[0msrc_grid_string\u001b[0m\u001b[0;34m=\u001b[0m\u001b[0mET\u001b[0m\u001b[0;34m.\u001b[0m\u001b[0mtostring\u001b[0m\u001b[0;34m(\u001b[0m\u001b[0msrc_grid\u001b[0m\u001b[0;34m)\u001b[0m\u001b[0;34m\u001b[0m\u001b[0m\n\u001b[1;32m   1244\u001b[0m             \u001b[0mtarget_grid_id\u001b[0m\u001b[0;34m=\u001b[0m\u001b[0msrc_grid_id\u001b[0m\u001b[0;34m+\u001b[0m\u001b[0;34m\"_\"\u001b[0m\u001b[0;34m+\u001b[0m\u001b[0msd\u001b[0m\u001b[0;34m.\u001b[0m\u001b[0mlabel\u001b[0m\u001b[0;34m\u001b[0m\u001b[0m\n",
      "\u001b[0;31mAttributeError\u001b[0m: 'NoneType' object has no attribute 'attrib'"
     ]
    }
   ],
   "source": [
    "if True : \n",
    "    #for my_context in lab_and_model_settings[\"realms_per_context\"].keys():\n",
    "    for my_context in [\"surfex\"]:\n",
    "        generate_file_defs(lab_and_model_settings, simulation_settings,year=2000,context=my_context,\n",
    "                    pingfile=my_dir+\"ping_\"+my_context+\".xml\", printout=True, \n",
    "                    cvs_path=my_cvspath,dummies='include', dirname=my_dir)\n"
   ]
  },
  {
   "cell_type": "markdown",
   "metadata": {
    "collapsed": false,
    "scrolled": true
   },
   "source": [
    "## 4. After some edit in ping files, which does not discard every 'dummy' entries \n"
   ]
  },
  {
   "cell_type": "code",
   "execution_count": null,
   "metadata": {
    "collapsed": false
   },
   "outputs": [],
   "source": [
    "# In/Out directory\n",
    "#my_dir=\"../pingfiles_edited/\"+lab+\"/\"\n",
    "#my_dir=\"../pingfiles_reduced/\"+lab+\"/\"\n",
    "my_dir=lab_and_model_settings[\"path_to_parse\"]+\"/\""
   ]
  },
  {
   "cell_type": "code",
   "execution_count": null,
   "metadata": {
    "collapsed": false,
    "scrolled": true
   },
   "outputs": [],
   "source": [
    "# after some edit in the ping files, which does not discard every 'dummy' entries \n",
    "if False :\n",
    "    #for my_context in lab_and_model_settings[\"realms_per_context\"].keys():  \n",
    "    for my_context in [\"surfex\"]:       \n",
    "        generate_file_defs(lab_and_model_settings, simulation_settings,year=2000,context=my_context,\n",
    "                    pingfile=my_dir+\"ping_\"+my_context+\".xml\", printout=True, \n",
    "                    cvs_path=my_cvspath,dummies='skip', dirname=my_dir)\n"
   ]
  },
  {
   "cell_type": "markdown",
   "metadata": {},
   "source": []
  }
 ],
 "metadata": {
  "anaconda-cloud": {},
  "kernelspec": {
   "display_name": "Python [Root]",
   "language": "python",
   "name": "Python [Root]"
  },
  "language_info": {
   "codemirror_mode": {
    "name": "ipython",
    "version": 2
   },
   "file_extension": ".py",
   "mimetype": "text/x-python",
   "name": "python",
   "nbconvert_exporter": "python",
   "pygments_lexer": "ipython2",
   "version": "2.7.12"
  }
 },
 "nbformat": 4,
 "nbformat_minor": 0
}
