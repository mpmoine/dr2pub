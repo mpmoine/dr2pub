{
 "cells": [
  {
   "cell_type": "code",
   "execution_count": null,
   "metadata": {
    "collapsed": false
   },
   "outputs": [],
   "source": [
    "import sys, os \n",
    "import xml.etree.ElementTree as ET"
   ]
  },
  {
   "cell_type": "code",
   "execution_count": null,
   "metadata": {
    "collapsed": true
   },
   "outputs": [],
   "source": [
    "def get_xml_childs(elt, tag='field', groups=['context', 'field_group',\n",
    "        'field_definition', 'axis_definition','axis', 'domain_definition',\n",
    "        'domain', 'grid_definition', 'grid' , 'interpolate_axis'  ]) :\n",
    "        \"\"\" \n",
    "        Returns a list of elements in tree ELT \n",
    "        which have tag TAG, by digging in sub-elements \n",
    "        named as in GROUPS \n",
    "        \"\"\"\n",
    "        if elt.tag in groups :\n",
    "            rep=[]\n",
    "            for child in elt : rep.extend(get_xml_childs(child,tag))\n",
    "            #print \"REP=\",rep\n",
    "            return rep\n",
    "        elif elt.tag==tag : return [elt]\n",
    "        else :\n",
    "            #print 'Syntax error : tag %s not allowed'%elt.tag\n",
    "            # Case of an unkown tag : don't dig in\n",
    "            return []"
   ]
  },
  {
   "cell_type": "code",
   "execution_count": null,
   "metadata": {
    "collapsed": false
   },
   "outputs": [],
   "source": [
    "def read_defs(filename, tag='field', attrib=None, printout=False) :\n",
    "    \"\"\" \n",
    "    Returns a dict of obejcts tagged TAG in FILENAME, which \n",
    "    - keys are ids\n",
    "    - values are corresponding ET elements if \n",
    "      attrib is None, otherwise elt attribute ATTRIB\n",
    "    Returns None if filename does not exist\n",
    "    \"\"\"\n",
    "    #    \n",
    "    rep=dict()\n",
    "    if printout : print \"processing file %s :\"%filename,\n",
    "    if os.path.exists(filename) :\n",
    "        if printout : print \"OK\",filename\n",
    "        root = ET.parse(filename).getroot()\n",
    "        #print \"ROOT=\",root\n",
    "        defs=get_xml_childs(root,tag) \n",
    "        #print \"DEFS=\",defs\n",
    "        if defs :\n",
    "            for field in defs :\n",
    "                if printout : print \".\",\n",
    "                if attrib is None: \n",
    "                    rep[field.attrib['id']]=field\n",
    "                else :\n",
    "                    rep[field.attrib['id']]=field.attrib[attrib]\n",
    "            if printout : print\n",
    "            return rep\n",
    "    else :\n",
    "        if printout : print \"No file \"\n",
    "        return None"
   ]
  },
  {
   "cell_type": "code",
   "execution_count": null,
   "metadata": {
    "collapsed": true
   },
   "outputs": [],
   "source": [
    "test_file=\"output_sample/ping_arpsfx.xml\""
   ]
  },
  {
   "cell_type": "code",
   "execution_count": null,
   "metadata": {
    "collapsed": false
   },
   "outputs": [],
   "source": [
    "test=read_defs(test_file,tag='field',attrib=\"field_ref\",printout=False)\n",
    "#test=read_defs(test_file,tag='field',attrib=None,printout=False)\n",
    "print test"
   ]
  }
 ],
 "metadata": {
  "anaconda-cloud": {},
  "kernelspec": {
   "display_name": "Python [Root]",
   "language": "python",
   "name": "Python [Root]"
  },
  "language_info": {
   "codemirror_mode": {
    "name": "ipython",
    "version": 2
   },
   "file_extension": ".py",
   "mimetype": "text/x-python",
   "name": "python",
   "nbconvert_exporter": "python",
   "pygments_lexer": "ipython2",
   "version": "2.7.12"
  }
 },
 "nbformat": 4,
 "nbformat_minor": 0
}
