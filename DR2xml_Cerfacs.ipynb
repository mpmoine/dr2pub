{
 "cells": [
  {
   "cell_type": "markdown",
   "metadata": {},
   "source": [
    "# An example for generating the XIOS file_def for a given lab, model, experiment, year and XIOS context"
   ]
  },
  {
   "cell_type": "markdown",
   "metadata": {},
   "source": [
    "# _This example shows how to use a list of Home Variables_"
   ]
  },
  {
   "cell_type": "markdown",
   "metadata": {},
   "source": [
    "## Define the settings specific to the laboratory and the model"
   ]
  },
  {
   "cell_type": "code",
   "execution_count": null,
   "metadata": {
    "collapsed": false
   },
   "outputs": [],
   "source": [
    "lab_and_model_settings={\n",
    "    'institution_id': \"CNRM-CERFACS\", # institution should be read in CMIP6_CV, if up-to-date\n",
    "    #'institution'   : \"Centre National de Recherches Meteorologiques\", \n",
    "    'source_types' : { \"CNRM-CM6-1\" : \"AOGCM\", \"CNRM-CM6-1-HR\" : \"AOGCM\", \n",
    "                       \"CNRM-ESM2-1\": \"ESM\"  , \"CNRM-ESM2-1-HR\": \"ESM\" },\n",
    "    'source_id'      : \"CNRM-CM6-1\", \n",
    "    'source'         : \"CNRM-CM6-1\", # Useful only if CMIP6_CV is not uptodate\n",
    "    #'source_type' : \"AER\"  # You may override here the source-type value deduced from source_id and sources_type\n",
    "    'references'    :  \"A character string containing a list of published or web-based \"+\\\n",
    "        \"references that describe the data or the methods used to produce it.\"+\\\n",
    "        \"Typically, the user should provide references describing the model\"+\\\n",
    "        \"formulation here\",\n",
    "    'info_url'      : \"http://www.umr-cnrm.fr/cmip6/\",\n",
    "    'contact'       : 'contact.cmip@cnrm.fr',\n",
    "    \n",
    "    # We account for the list of MIPS in which the lab takes part.\n",
    "    # Note : a MIPs set limited to {'C4MIP'} leads to a number of tables and \n",
    "    # variables which is manageable for eye inspection\n",
    "    #'mips': {'C4MIP', 'SIMIP', 'OMIP', 'CFMIP', 'RFMIP'} , \n",
    "    'mips_all' : {'AerChemMIP','C4MIP','CFMIP','DAMIP', 'FAFMIP' , 'GeoMIP','GMMIP','ISMIP6',\\\n",
    "                      'LS3MIP','LUMIP','OMIP','PMIP','RFMIP','ScenarioMIP','CORDEX','SIMIP'},\n",
    "    'mips' : {'HighResMIP'},\n",
    "\n",
    "    # Max variable priority level to be output\n",
    "    'max_priority' : 3,\n",
    "    'tierMax'      : 3,\n",
    "\n",
    "    # The ping file defines variable names, which are constructed using CMIP6 \"MIPvarnames\" \n",
    "    # and a prefix which must be set here, and can be the empty string :\n",
    "    \"ping_variables_prefix\" : \"CMIP6_\",\n",
    "\n",
    "    # We account for a list of variables which the lab does not want to produce , \n",
    "    # oragnized by realms\n",
    "    # excluded_vars_file=\"./inputs/non_published_variables.txt\"\n",
    "    \"excluded_vars\":[],\n",
    "    \n",
    "    # We account for a list of variables which the lab wants to produce in some cases\n",
    "    #\"listof_home_vars\":\"./inputs/my_listof_home_vars.txt\",\n",
    "    #\"listof_home_vars\":\"./config_utest/utest020_listof_home_vars.txt\",\n",
    "    \"listof_home_vars\":None,\n",
    "        \n",
    "    # Each XIOS  context does adress a number of realms\n",
    "    'realms_per_context' : { 'nemo': ['seaIce', 'ocean', 'ocean seaIce', 'ocnBgchem', 'seaIce ocean'] ,\n",
    "                          'arpsfx' : ['atmos', 'atmos atmosChem', 'aerosol', 'atmos land', 'land',\n",
    "                                     'landIce land',  'aerosol land','land landIce',  'landIce', ],\n",
    "                          }, \n",
    "    # Some variables, while belonging to a realm, may fall in another XIOS context than the \n",
    "    # context which handles that realm\n",
    "    'orphan_variables' : { 'nemo' : ['dummy_variable_for_illustration_purpose'],\n",
    "                           'arpsfx' : [],\n",
    "                           },\n",
    "    'vars_OK' : dict(),\n",
    "    # A per-variable dict of comments valid for all simulations\n",
    "    'comments'     : {\n",
    "        'tas' : 'nothing special about tas'\n",
    "        }\n",
    "    }"
   ]
  },
  {
   "cell_type": "markdown",
   "metadata": {},
   "source": [
    "## Define the settings for the processed simulation "
   ]
  },
  {
   "cell_type": "code",
   "execution_count": null,
   "metadata": {
    "collapsed": false
   },
   "outputs": [],
   "source": [
    "simulation_settings={    \n",
    "    # Dictionnary describing the necessary attributes for a given simulation\n",
    "\n",
    "    # Warning : some lines are commented out in this example but should be \n",
    "    # un-commented in some cases. See comments\n",
    "\n",
    "    #\"experiment_id\"  : \"historical\",\n",
    "    #\"experiment_id\"  : \"Forced-Atmos-Land\",\n",
    "    \"experiment_id\"  : \"Coupled\",\n",
    "    #\"experiment_id\"  : \"DCPP-C13\",\n",
    "    \n",
    "    #\"contact\"        : \"\", set it only if it is specific to the simualtion\n",
    "    #\"project\"        : \"CMIP6\",  #CMIP6 is the default\n",
    "\n",
    "    #'source_type'    : \"ESM\" # If source_type is special only for this experiment (e.g. : AMIP)\n",
    "                      #(i.e. not the same as in lab_and_model settings), you may tell that here\n",
    "\n",
    "    # MIP specifying the experiment. For historical, it is CMIP6 itself\n",
    "    # In a few cases it may be appropriate to include multiple activities in the activity_id \n",
    "    # (with multiple activities allowed, separated by single spaces).  \n",
    "    # An example of this is “LUMIP AerChemMIP” for one of the land-use change experiments.\n",
    "    \"activity_id\"       : \"CMIP6\", # examples : “PMIP”, “LS3MIP LUMIP”; defaults to \"CMIP6\"\n",
    "    \n",
    "    # It is recommended that some description be included to help identify major differences among variants, \n",
    "    # but care should be taken to record correct information.  Prudence dictates that this attribute includes \n",
    "    # a warning along the following lines:  “Information provided by this attribute may in some cases be flawed.#\n",
    "    # Users can find more comprehensive and up-to-date documentation via the further_info_url global attribute.”\n",
    "    \"variant_info\"      : \"Start date chosen so that variant r1i1p1f1 has the better fit with Krakatoa impact on tos\",\n",
    "    #\n",
    "    \"realization_index\"    : 1, # Value may be omitted if = 1\n",
    "    \"initialization_index\" : 1, # Value may be omitted if = 1\n",
    "    \"physics_index\"        : 1, # Value may be omitted if = 1\n",
    "    \"forcing_index\"        : 1, # Value may be omitted if = 1\n",
    "    #\n",
    "    # All about the parent experiment and branching scheme\n",
    "    \"parent_experiment_id\" : \"piControl\", # omit this setting (or set to 'no parent') if not applicable\n",
    "                                          # (remaining parent attributes will be disregarded)\n",
    "    \"branch_method\"        : \"standard\", # default value='standard', meaning ~ \"select a start date\" \n",
    "    \"branch_time_in_parent\": \"365.0D0\", # a double precision value, in parent time units, \n",
    "    \"branch_time_in_child\" : \"0.0D0\", # a double precision value, in child time units, \n",
    "    #'parent_time_units'    : \"\" #in case it is not the same as child time units\n",
    "    #'parent_variant_label' :\"\"  #Default to 'same as child'. Other cases should be expceptional\n",
    "    #\"parent_mip_era\"       : 'CMIP5'   # only in special cases (e.g. PMIP warm start from CMIP5/PMIP3 experiment)\n",
    "    #'parent_activity   '   : 'CMIP'    # only in special cases, defaults to CMIP\n",
    "    #'parent_source_id'     : 'CNRM-CM5.1' #only in special cases, where parent model is not the same model\n",
    "    #\n",
    "    \"sub_experiment_id\"    : \"none\", # Optional, default is 'none'; example : s1960. \n",
    "    \"sub_experiment\"       : \"none\", # Optional, default in 'none'\n",
    "    \"history\"              : \"none\", #Used when a simulation is re-run, an output file is modified ....\n",
    "    # A per-variable dict of comments which are specific to this simulation. It will replace  \n",
    "    # the all-simulation comment present in lab_and_model_settings\n",
    "    'comments'     : {\n",
    "        'tas' : 'tas diagnostic uses a special scheme in this simulation',\n",
    "        }\n",
    "    }\n",
    "\n"
   ]
  },
  {
   "cell_type": "code",
   "execution_count": 1,
   "metadata": {
    "collapsed": false
   },
   "outputs": [
    {
     "name": "stdout",
     "output_type": "stream",
     "text": [
      "01.00.00\n"
     ]
    }
   ],
   "source": [
    "from dr2xml import generate_file_defs"
   ]
  },
  {
   "cell_type": "code",
   "execution_count": null,
   "metadata": {
    "collapsed": false
   },
   "outputs": [],
   "source": [
    "# Path to local copy of CMIP6 CVs, which you can get from https://github.com/WCRP-CMIP/CMIP6_CVs\n",
    "my_cvspath=\"/Users/moine/Codes/MyDevel_Codes/CMIP6_DATA_SUITE/CMIP6_CVs/\"\n",
    "#my_cvspath=\"/cnrm/est/USERS/senesi/public/CMIP6/data_request/CMIP6_CVs/\""
   ]
  },
  {
   "cell_type": "code",
   "execution_count": null,
   "metadata": {
    "collapsed": false,
    "scrolled": false
   },
   "outputs": [],
   "source": [
    "#ping_nemo=\"./inputs/ping_nemo_demo.xml\"\n",
    "ping_nemo=\"./inputs/ping_ocean_and_co.xml\"\n",
    "generate_file_defs(lab_and_model_settings, simulation_settings,\n",
    "                   year=2000,context='nemo',printout=True, cvs_path=my_cvspath,\n",
    "                  pingfile=ping_nemo)\n"
   ]
  },
  {
   "cell_type": "code",
   "execution_count": null,
   "metadata": {
    "collapsed": false
   },
   "outputs": [],
   "source": [
    "! grep '<field' -A 7 nemo.xml"
   ]
  },
  {
   "cell_type": "code",
   "execution_count": null,
   "metadata": {
    "collapsed": false
   },
   "outputs": [],
   "source": [
    "! grep '<file' nemo.xml"
   ]
  },
  {
   "cell_type": "code",
   "execution_count": null,
   "metadata": {
    "collapsed": false,
    "scrolled": true
   },
   "outputs": [],
   "source": [
    "ping_arpsfx=\"./inputs/ping_atmos_and_co.xml\"\n",
    "generate_file_defs(lab_and_model_settings, simulation_settings,\n",
    "                   year=2000,context='arpsfx',printout=True, cvs_path=my_cvspath,\n",
    "                  pingfile=ping_arpsfx)\n"
   ]
  },
  {
   "cell_type": "code",
   "execution_count": null,
   "metadata": {
    "collapsed": true
   },
   "outputs": [],
   "source": []
  },
  {
   "cell_type": "code",
   "execution_count": null,
   "metadata": {
    "collapsed": true
   },
   "outputs": [],
   "source": []
  }
 ],
 "metadata": {
  "anaconda-cloud": {},
  "kernelspec": {
   "display_name": "Python [Root]",
   "language": "python",
   "name": "Python [Root]"
  },
  "language_info": {
   "codemirror_mode": {
    "name": "ipython",
    "version": 2
   },
   "file_extension": ".py",
   "mimetype": "text/x-python",
   "name": "python",
   "nbconvert_exporter": "python",
   "pygments_lexer": "ipython2",
   "version": "2.7.12"
  }
 },
 "nbformat": 4,
 "nbformat_minor": 0
}
