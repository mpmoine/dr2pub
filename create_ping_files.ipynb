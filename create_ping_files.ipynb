{
 "cells": [
  {
   "cell_type": "markdown",
   "metadata": {},
   "source": [
    "# Create ping files based on lab choices"
   ]
  },
  {
   "cell_type": "code",
   "execution_count": null,
   "metadata": {
    "collapsed": true
   },
   "outputs": [],
   "source": [
    "# Select your laboratory among: 'cnrm', 'cerfacs', 'ipsl'\n",
    "lab='cerfacs'\n"
   ]
  },
  {
   "cell_type": "markdown",
   "metadata": {},
   "source": [
    "## Lab settings"
   ]
  },
  {
   "cell_type": "code",
   "execution_count": null,
   "metadata": {
    "collapsed": false
   },
   "outputs": [],
   "source": [
    "if lab=='cnrm' or lab=='cerfacs':\n",
    "    # This dictionnary should be the same as the one used for creating file_defs.\n",
    "    # Here , we quoted only those entries useful for creating ping files\n",
    "    settings={\n",
    "        #'mips' : {'AerChemMIP','C4MIP','CFMIP','DAMIP', 'FAFMIP' , 'GeoMIP','GMMIP','ISMIP6',\\\n",
    "        #                  'LS3MIP','LUMIP','OMIP','PMIP','RFMIP','ScenarioMIP','CORDEX','SIMIP'},\n",
    "        # If you want to get comprehensive ping files; use :\n",
    "        'mips' : {\"CMIP6\", \"AerChemMIP\", \"C4MIP\", \"CFMIP\", \"DAMIP\", \"DCPP\", \"FAFMIP\", \"GeoMIP\", \"GMMIP\", \n",
    "                  \"HighResMIP\", \"ISMIP6\", \"LS3MIP\", \"LUMIP\", \"OMIP\", \"PDRMIP\", \"PMIP\", \"RFMIP\", \"ScenarioMIP\", \n",
    "                  \"SolarMIP\", \"VolMIP\", \"CORDEX\", \"DynVar\", \"SIMIP\", \"VIACSAB\", \"SPECS\", \"CCMI\", \"CMIP5\", \n",
    "                  \"CMIP\", \"DECK\"},\n",
    "        'max_priority' : 3,\n",
    "        'tierMax'      : 3,\n",
    "       # Each XIOS  context does adress a number of realms\n",
    "        'realms_per_context' : { 'nemo': ['seaIce', 'ocean', 'ocean seaIce', 'ocnBgchem', 'seaIce ocean'] ,\n",
    "                               'arpsfx': ['atmos', 'atmos atmosChem', 'aerosol', 'atmos land', 'land',\n",
    "                                         'landIce land',  'aerosol land','land landIce',  'landIce', ],\n",
    "                              }, \n",
    "        \"ping_variables_prefix\" : \"CMIP6_\",\n",
    "        # We account for a file listing the variables which the lab does not want to produce \n",
    "        # Format : MIP varname as first column, comment lines begin with '#'\n",
    "        #\"excluded_vars_file\":\"/cnrm/est/USERS/senesi/public/CMIP6/data_request/cnrm/excluded_vars.txt\",\n",
    "        \"excluded_vars_file\" : None,\n",
    "        \"excluded_vars\" : None,\n",
    "        # We account for a list of variables which the lab wants to produce in some cases\n",
    "        \"listof_home_vars\":None,\n",
    "        #\"listof_home_vars\": None,\n",
    "        \"path_extra_tables\":None,\n",
    "        # mpmoine_correction: Path for special XIOS defs files\n",
    "        \"path_special_defs\":\"./input/special_defs\"\n",
    "        }\n",
    "    "
   ]
  },
  {
   "cell_type": "code",
   "execution_count": null,
   "metadata": {
    "collapsed": false
   },
   "outputs": [],
   "source": [
    "if lab=='cerfacs':  \n",
    "    #settings[\"mips\"]={'HighResMIP','DCPP'}\n",
    "    settings[\"listof_home_vars\"]=\"./input_labs/cerfacs/home_vars/listof_primavera_extra_vars.txt\"\n",
    "    settings[\"path_extra_tables\"]=\"./input_labs/cerfacs/extra_Tables\"\n",
    "    "
   ]
  },
  {
   "cell_type": "code",
   "execution_count": null,
   "metadata": {
    "collapsed": true
   },
   "outputs": [],
   "source": [
    "if lab=='ipsl':\n",
    "    # This dictionnary should be the same as the one used for creating file_defs.\n",
    "    # Here , we quoted only those entries useful for creating ping files\n",
    "    settings={\n",
    "        #'mips' : {'AerChemMIP','C4MIP','CFMIP','DAMIP', 'FAFMIP' , 'GeoMIP','GMMIP','ISMIP6',\\\n",
    "        #                  'LS3MIP','LUMIP','OMIP','PMIP','RFMIP','ScenarioMIP','CORDEX','SIMIP'},\n",
    "        # If you want to get comprehensive ping files; use :\n",
    "        'mips' : {\"CMIP6\", \"AerChemMIP\", \"C4MIP\", \"CFMIP\", \"DAMIP\", \"DCPP\", \"FAFMIP\", \"GeoMIP\", \"GMMIP\", \n",
    "                  \"HighResMIP\", \"ISMIP6\", \"LS3MIP\", \"LUMIP\", \"OMIP\", \"PDRMIP\", \"PMIP\", \"RFMIP\", \"ScenarioMIP\", \n",
    "                  \"SolarMIP\", \"VolMIP\", \"CORDEX\", \"DynVar\", \"SIMIP\", \"VIACSAB\", \"SPECS\", \"CCMI\", \"CMIP5\", \n",
    "                  \"CMIP\", \"DECK\"},\n",
    "        'max_priority' : 3,\n",
    "        'tierMax'      : 3,\n",
    "       # Each XIOS  context does adress a number of realms\n",
    "        'realms_per_context' : { \n",
    "            'nemo': ['seaIce', 'ocean', 'ocean seaIce', 'ocnBgchem', 'seaIce ocean'],\n",
    "            'lmdz' : ['atmos', 'atmos land'] , \n",
    "            'orchidee': ['land', 'landIce land',  'land landIce', 'landIce'] ,\n",
    "                              }, \n",
    "        \"ping_variables_prefix\" : \"CMIP6_\",\n",
    "        # We account for a file listing the variables which the lab does not want to produce \n",
    "        # Format : MIP varname as first column, comment lines begin with '#'\n",
    "        \"excluded_vars_file\" : None,\n",
    "        \"excluded_vars\" : None,\n",
    "        # We account for a list of variables which the lab wants to produce in some cases\n",
    "        \"listof_home_vars\":None,\n",
    "        \"path_extra_tables\":None,\n",
    "        # mpmoine_correction: Path for special XIOS defs files\n",
    "        \"path_special_defs\":None\n",
    "        } \n",
    "    "
   ]
  },
  {
   "cell_type": "markdown",
   "metadata": {},
   "source": [
    "### Read excluded variables list - you may skip that"
   ]
  },
  {
   "cell_type": "code",
   "execution_count": null,
   "metadata": {
    "collapsed": false
   },
   "outputs": [],
   "source": [
    "l=[]\n",
    "if settings[\"excluded_vars\"] is None and settings[\"excluded_vars_file\"] is not None :\n",
    "    with open(settings[\"excluded_vars_file\"],'r') as fv : varlines=fv.readlines()\n",
    "    for line in varlines: \n",
    "        fields=line.split()\n",
    "        if len(fields) > 0 : \n",
    "            first=fields[0]\n",
    "            if first[0] != '#' :  l.append(first)\n",
    "settings[\"excluded_vars\"]=l\n",
    "                       "
   ]
  },
  {
   "cell_type": "markdown",
   "metadata": {},
   "source": [
    "## For getting a comprehensive ping file, one can (re)set the excluded_var list to an empty list"
   ]
  },
  {
   "cell_type": "code",
   "execution_count": null,
   "metadata": {
    "collapsed": false
   },
   "outputs": [],
   "source": [
    "settings[\"excluded_vars\"]=[]\n"
   ]
  },
  {
   "cell_type": "code",
   "execution_count": null,
   "metadata": {
    "collapsed": false
   },
   "outputs": [],
   "source": [
    "#from dr2xml import select_CMORvars_for_lab, pingFileForRealmsList\n",
    "from dr2xml import gather_AllSimpleVars, pingFileForRealmsList\n"
   ]
  },
  {
   "cell_type": "markdown",
   "metadata": {},
   "source": [
    "## Select all variables to consider, based on lab settings"
   ]
  },
  {
   "cell_type": "code",
   "execution_count": null,
   "metadata": {
    "collapsed": false,
    "scrolled": true
   },
   "outputs": [],
   "source": [
    "#svars=select_CMORvars_for_lab(settings, printout=True)\n",
    "svars=gather_AllSimpleVars(settings,printout=True)\n"
   ]
  },
  {
   "cell_type": "markdown",
   "metadata": {},
   "source": [
    "## Doc for ping files create function"
   ]
  },
  {
   "cell_type": "code",
   "execution_count": null,
   "metadata": {
    "collapsed": false,
    "scrolled": true
   },
   "outputs": [],
   "source": [
    "help(pingFileForRealmsList)\n"
   ]
  },
  {
   "cell_type": "markdown",
   "metadata": {},
   "source": [
    "### When using function create_ping_files with argument exact=False, each ping file will adress all variables which realm includes or is included in one of the strings in a realms set  <br><br> e.g for set ['ocean','seaIce'], ping file 'ping_ocean_seaIce.xml' will includes variables which realm is either 'ocean' or 'seaIce' or 'ocean seaIce'"
   ]
  },
  {
   "cell_type": "markdown",
   "metadata": {},
   "source": [
    "## Create various ping files for various sets of realms "
   ]
  },
  {
   "cell_type": "code",
   "execution_count": null,
   "metadata": {
    "collapsed": true
   },
   "outputs": [],
   "source": [
    "# In/Out directory\n",
    "# In/Out directory\n",
    "if lab=='cnrm' or lab=='ipsl':\n",
    "    my_dir=\"output_sample/\"+lab+\"/\"\n",
    "if lab=='cnrm':\n",
    "    my_dir=\"output_labs/\"+lab+\"/\""
   ]
  },
  {
   "cell_type": "code",
   "execution_count": null,
   "metadata": {
    "collapsed": false,
    "scrolled": false
   },
   "outputs": [],
   "source": [
    "# Generate one ping file per context:\n",
    "for my_context in settings[\"realms_per_context\"].keys():\n",
    "    print \"=== CREATING PINGFILE FOR CONTEXT\",my_context\n",
    "    realms=settings['realms_per_context'][my_context]\n",
    "    pingFileForRealmsList(my_context,realms,svars,settings[\"path_special_defs\"],comments=\" \",exact=False,dummy=True, \n",
    "                          prefix=settings['ping_variables_prefix'],\n",
    "                          filename=my_dir+'ping_'+my_context+'.xml',dummy_with_shape=True)\n"
   ]
  },
  {
   "cell_type": "code",
   "execution_count": null,
   "metadata": {
    "collapsed": false
   },
   "outputs": [],
   "source": [
    "#! head -n 5 output_sample/ping_nemo.xml\n"
   ]
  },
  {
   "cell_type": "code",
   "execution_count": null,
   "metadata": {
    "collapsed": false,
    "scrolled": false
   },
   "outputs": [],
   "source": [
    "# Generate one ping file per realm:\n",
    "single_realms=[ ['ocean'], ['seaIce'],['ocnBgchem'], [ 'atmos'], ['land'],['landIce'], ['atmosChem'],[ 'aerosol' ]]\n",
    "for rs in single_realms :\n",
    "    #print rs[0]\n",
    "    print \"=== CREATING PINGFILE FOR SINGLE REALM\",rs\n",
    "    pingFileForRealmsList(rs[0],rs,svars,settings[\"path_special_defs\"],prefix=settings['ping_variables_prefix'],\n",
    "                         comments=\" \",exact=False, dummy=True,dummy_with_shape=True,\n",
    "                         filename=my_dir+'ping_%s.xml'%rs[0])\n"
   ]
  },
  {
   "cell_type": "code",
   "execution_count": null,
   "metadata": {
    "collapsed": true
   },
   "outputs": [],
   "source": []
  },
  {
   "cell_type": "code",
   "execution_count": null,
   "metadata": {
    "collapsed": true
   },
   "outputs": [],
   "source": []
  },
  {
   "cell_type": "code",
   "execution_count": null,
   "metadata": {
    "collapsed": true
   },
   "outputs": [],
   "source": []
  },
  {
   "cell_type": "code",
   "execution_count": null,
   "metadata": {
    "collapsed": true
   },
   "outputs": [],
   "source": []
  }
 ],
 "metadata": {
  "anaconda-cloud": {},
  "kernelspec": {
   "display_name": "Python [Root]",
   "language": "python",
   "name": "Python [Root]"
  },
  "language_info": {
   "codemirror_mode": {
    "name": "ipython",
    "version": 2
   },
   "file_extension": ".py",
   "mimetype": "text/x-python",
   "name": "python",
   "nbconvert_exporter": "python",
   "pygments_lexer": "ipython2",
   "version": "2.7.12"
  }
 },
 "nbformat": 4,
 "nbformat_minor": 0
}
