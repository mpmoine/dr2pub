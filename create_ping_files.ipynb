{
 "cells": [
  {
   "cell_type": "markdown",
   "metadata": {},
   "source": [
    "# Create ping files based on lab choices"
   ]
  },
  {
   "cell_type": "markdown",
   "metadata": {},
   "source": [
    "## Lab settings"
   ]
  },
  {
   "cell_type": "code",
   "execution_count": 1,
   "metadata": {
    "collapsed": false
   },
   "outputs": [],
   "source": [
    "\n",
    "# This dictionnary should be the same as the one used for creating file_defs.\n",
    "# Here , we quoted only those entries useful for creating ping files\n",
    "settings={\n",
    "    #'mips' : {'AerChemMIP','C4MIP','CFMIP','DAMIP', 'FAFMIP' , 'GeoMIP','GMMIP','ISMIP6',\\\n",
    "    #                  'LS3MIP','LUMIP','OMIP','PMIP','RFMIP','ScenarioMIP','CORDEX','SIMIP'},\n",
    "    # If you want to get comprehensive ping files; use :\n",
    "    'mips' : {\"CMIP6\", \"AerChemMIP\", \"C4MIP\", \"CFMIP\", \"DAMIP\", \"DCPP\", \"FAFMIP\", \"GeoMIP\", \"GMMIP\", \n",
    "              \"HighResMIP\", \"ISMIP6\", \"LS3MIP\", \"LUMIP\", \"OMIP\", \"PDRMIP\", \"PMIP\", \"RFMIP\", \"ScenarioMIP\", \n",
    "              \"SolarMIP\", \"VolMIP\", \"CORDEX\", \"DynVar\", \"SIMIP\", \"VIACSAB\", \"SPECS\", \"CCMI\", \"CMIP5\", \n",
    "              \"CMIP\", \"DECK\"},\n",
    "    'max_priority' : 3,\n",
    "    'tierMax'      : 3,\n",
    "   # Each XIOS  context does adress a number of realms\n",
    "    'realms_per_context' : { 'nemo': ['seaIce', 'ocean', 'ocean seaIce', 'ocnBgchem', 'seaIce ocean'] ,\n",
    "                          'arpsfx' : ['atmos', 'atmos atmosChem', 'aerosol', 'atmos land', 'land',\n",
    "                                     'landIce land',  'aerosol land','land landIce',  'landIce', ],\n",
    "                          }, \n",
    "    \"ping_variables_prefix\" : \"CMIP6_\",\n",
    "    # We account for a file listing the variables which the lab does not want to produce \n",
    "    # Format : MIP varname as first column, comment lines begin with '#'\n",
    "    #\"excluded_vars_file\":\"/cnrm/est/USERS/senesi/public/CMIP6/data_request/cnrm/excluded_vars.txt\",\n",
    "    \"excluded_vars_file\" : None,\n",
    "    \"excluded_vars\" : None,\n",
    "    # We account for a list of variables which the lab wants to produce in some cases\n",
    "    \"listof_home_vars\":\"./inputs/my_listof_home_vars.txt\",\n",
    "    #\"listof_home_vars\":\"./config_utest/utest020_listof_home_vars.txt\",\n",
    "    #\"listof_home_vars\": None,\n",
    "    \"path_extra_tables\":\"./inputs/extra_Tables\",\n",
    "    }"
   ]
  },
  {
   "cell_type": "markdown",
   "metadata": {},
   "source": [
    "### Read excluded variables list - you may skip that"
   ]
  },
  {
   "cell_type": "code",
   "execution_count": 2,
   "metadata": {
    "collapsed": false
   },
   "outputs": [],
   "source": [
    "l=[]\n",
    "if settings[\"excluded_vars\"] is None and settings[\"excluded_vars_file\"] is not None :\n",
    "    with open(settings[\"excluded_vars_file\"],'r') as fv : varlines=fv.readlines()\n",
    "    for line in varlines: \n",
    "        fields=line.split()\n",
    "        if len(fields) > 0 : \n",
    "            first=fields[0]\n",
    "            if first[0] != '#' :  l.append(first)\n",
    "settings[\"excluded_vars\"]=l\n",
    "                       "
   ]
  },
  {
   "cell_type": "markdown",
   "metadata": {},
   "source": [
    "## For getting a comprehensive ping file, one can (re)set the excluded_var list to an empty list"
   ]
  },
  {
   "cell_type": "code",
   "execution_count": 3,
   "metadata": {
    "collapsed": false
   },
   "outputs": [],
   "source": [
    "settings[\"excluded_vars\"]=[]"
   ]
  },
  {
   "cell_type": "code",
   "execution_count": 4,
   "metadata": {
    "collapsed": false
   },
   "outputs": [
    {
     "name": "stdout",
     "output_type": "stream",
     "text": [
      "01.00.02\n"
     ]
    }
   ],
   "source": [
    "#from dr2xml import select_CMORvars_for_lab, pingFileForRealmsList\n",
    "from dr2xml import gather_AllSimpleVars, pingFileForRealmsList"
   ]
  },
  {
   "cell_type": "markdown",
   "metadata": {},
   "source": [
    "## Select all variables to consider, based on lab settings"
   ]
  },
  {
   "cell_type": "code",
   "execution_count": 5,
   "metadata": {
    "collapsed": false
   },
   "outputs": [
    {
     "name": "stdout",
     "output_type": "stream",
     "text": [
      "Number of Request Links which apply to MIPS set(['CORDEX', 'GMMIP', 'RFMIP', 'VolMIP', 'CMIP6', 'ScenarioMIP', 'GeoMIP', 'C4MIP', 'PDRMIP', 'CMIP', 'DECK', 'LUMIP', 'CMIP5', 'CFMIP', 'OMIP', 'DAMIP', 'CCMI', 'SolarMIP', 'VIACSAB', 'SIMIP', 'DCPP', 'ISMIP6', 'AerChemMIP', 'PMIP', 'FAFMIP', 'DynVar', 'LS3MIP', 'SPECS', 'HighResMIP'])  is:  355\n",
      "Number of CMOR variables for these requestLinks is :3441\n",
      "Number of CMOR variables once filtered by excluded vars is : 3441\n",
      "\n",
      "Number of variables with distinct labels is : 1296\n",
      "Warning: stid for  hus  in table  6hrPlev  is a broken link to structure:  __struct_not_found_001__\n",
      "Warning: spatial shape for  hus  in table  6hrPlev  not found.\n",
      "Warning: temporal shape for  hus  in table  6hrPlev  not found.\n",
      "\n",
      "Number of simplified vars is : 3441\n",
      "Warning: spatial shape corresponding to  longitude|latitude|olev100m for variable uo in Table PRIMAVERA_primO6hr  not found.\n",
      "Warning: dimid corresponding to  olev100m for variable uo in Table PRIMAVERA_primO6hr  not found.\n",
      "Warning: spatial shape corresponding to  longitude|latitude|olev100m for variable vo in Table PRIMAVERA_primO6hr  not found.\n",
      "Warning: dimid corresponding to  olev100m for variable vo in Table PRIMAVERA_primO6hr  not found.\n",
      "Warning: spatial shape corresponding to  longitude|latitude|olev100 for variable thetao in Table PRIMAVERA_primOday  not found.\n",
      "Warning: dimid corresponding to  olev100 for variable thetao in Table PRIMAVERA_primOday  not found.\n",
      "Warning: spatial shape corresponding to  longitude|latitude|olev100 for variable so in Table PRIMAVERA_primOday  not found.\n",
      "Warning: dimid corresponding to  olev100 for variable so in Table PRIMAVERA_primOday  not found.\n",
      "Number of 'cmor' and 'perso' among home variables:  8\n",
      "Number of 'extra' among home variables:  103\n",
      "Info: {'varname': 'hmv1', 'freq': 'mon', 'realm': 'seaIce', 'table': 'NONE'} HOMEVar is purely personnal. => Taken into account.\n",
      "Info: {'varname': 'hmv3', 'freq': 'mon', 'realm': 'ocean', 'table': 'NONE'} HOMEVar is purely personnal. => Taken into account.\n",
      "Info: {'varname': 'hmv5', 'freq': 'mon', 'realm': 'landIce', 'table': 'NONE'} HOMEVar is purely personnal. => Taken into account.\n",
      "Info: {'varname': 'zos', 'freq': 'mon', 'realm': 'ocean', 'table': 'Omon'} HOMEVar is already in the DataRequest. => Not taken into account.\n",
      "Info: {'varname': 'tas', 'freq': '6hr', 'realm': 'atmos', 'table': '6hrPlevPt'} HOMEVar is already in the DataRequest. => Not taken into account.\n",
      "Info: {'varname': 'hfls', 'freq': 'mon', 'realm': 'atmos', 'table': 'Amon'} HOMEVar is already in the DataRequest. => Not taken into account.\n",
      "Info: {'varname': 'hmv7', 'freq': 'mon', 'realm': 'ocean', 'table': 'NONE'} HOMEVar is purely personnal. => Taken into account.\n",
      "Info: {'varname': 'sst', 'freq': '3hr', 'realm': 'ocean', 'table': '3hr'} HOMEVar is purely personnal. => Taken into account.\n",
      "Info: {'varname': u'rsdsmin', 'freq': '1hr', 'realm': u'atmos', 'table': 'prim1hrpt'} HOMEVar is read in an extra table. => Taken into account.\n",
      "Info: {'varname': u'rsds', 'freq': '1hr', 'realm': u'atmos', 'table': 'prim1hrpt'} HOMEVar is read in an extra table. => Taken into account.\n",
      "Info: {'varname': u'tas', 'freq': '1hr', 'realm': u'atmos', 'table': 'prim1hrpt'} HOMEVar is read in an extra table. => Taken into account.\n",
      "Info: {'varname': u'uas', 'freq': '1hr', 'realm': u'atmos', 'table': 'prim1hrpt'} HOMEVar is read in an extra table. => Taken into account.\n",
      "Info: {'varname': u'wsgsmax100', 'freq': '1hr', 'realm': u'atmos', 'table': 'prim1hrpt'} HOMEVar is read in an extra table. => Taken into account.\n",
      "Info: {'varname': u'rsdsdiff', 'freq': '1hr', 'realm': u'atmos', 'table': 'prim1hrpt'} HOMEVar is read in an extra table. => Taken into account.\n",
      "Info: {'varname': u'ps', 'freq': '1hr', 'realm': u'atmos', 'table': 'prim1hrpt'} HOMEVar is read in an extra table. => Taken into account.\n",
      "Info: {'varname': u'va50m', 'freq': '1hr', 'realm': u'atmos', 'table': 'prim1hrpt'} HOMEVar is read in an extra table. => Taken into account.\n",
      "Info: {'varname': u'rsdsmax', 'freq': '1hr', 'realm': u'atmos', 'table': 'prim1hrpt'} HOMEVar is read in an extra table. => Taken into account.\n",
      "Info: {'varname': u'rsdsdiffmax', 'freq': '1hr', 'realm': u'atmos', 'table': 'prim1hrpt'} HOMEVar is read in an extra table. => Taken into account.\n",
      "Info: {'varname': u'vas', 'freq': '1hr', 'realm': u'atmos', 'table': 'prim1hrpt'} HOMEVar is read in an extra table. => Taken into account.\n",
      "Info: {'varname': u'va100m', 'freq': '1hr', 'realm': u'atmos', 'table': 'prim1hrpt'} HOMEVar is read in an extra table. => Taken into account.\n",
      "Info: {'varname': u'psl', 'freq': '1hr', 'realm': u'atmos', 'table': 'prim1hrpt'} HOMEVar is read in an extra table. => Taken into account.\n",
      "Info: {'varname': u'wind50max', 'freq': '1hr', 'realm': u'atmos', 'table': 'prim1hrpt'} HOMEVar is read in an extra table. => Taken into account.\n",
      "Info: {'varname': u'clt', 'freq': '1hr', 'realm': u'atmos', 'table': 'prim1hrpt'} HOMEVar is read in an extra table. => Taken into account.\n",
      "Info: {'varname': u'rsdsdiffmin', 'freq': '1hr', 'realm': u'atmos', 'table': 'prim1hrpt'} HOMEVar is read in an extra table. => Taken into account.\n",
      "Info: {'varname': u'wind100max', 'freq': '1hr', 'realm': u'atmos', 'table': 'prim1hrpt'} HOMEVar is read in an extra table. => Taken into account.\n",
      "Info: {'varname': u'wsgsmax', 'freq': '1hr', 'realm': u'atmos', 'table': 'prim1hrpt'} HOMEVar is read in an extra table. => Taken into account.\n",
      "Info: {'varname': u'ua100m', 'freq': '1hr', 'realm': u'atmos', 'table': 'prim1hrpt'} HOMEVar is read in an extra table. => Taken into account.\n",
      "Info: {'varname': u'sfcWindmin', 'freq': '1hr', 'realm': u'atmos', 'table': 'prim1hrpt'} HOMEVar is read in an extra table. => Taken into account.\n",
      "Info: {'varname': u'sfcWindmax', 'freq': '1hr', 'realm': u'atmos', 'table': 'prim1hrpt'} HOMEVar is read in an extra table. => Taken into account.\n",
      "Info: {'varname': u'wsgsmax50', 'freq': '1hr', 'realm': u'atmos', 'table': 'prim1hrpt'} HOMEVar is read in an extra table. => Taken into account.\n",
      "Info: {'varname': u'wind50min', 'freq': '1hr', 'realm': u'atmos', 'table': 'prim1hrpt'} HOMEVar is read in an extra table. => Taken into account.\n",
      "Info: {'varname': u'wind100min', 'freq': '1hr', 'realm': u'atmos', 'table': 'prim1hrpt'} HOMEVar is read in an extra table. => Taken into account.\n",
      "Info: {'varname': u'ua50m', 'freq': '1hr', 'realm': u'atmos', 'table': 'prim1hrpt'} HOMEVar is read in an extra table. => Taken into account.\n",
      "Info: {'varname': u'vortmean', 'freq': '3hr', 'realm': u'atmos', 'table': 'prim3hrpt'} HOMEVar is read in an extra table. => Taken into account.\n",
      "Info: {'varname': u'ua100m', 'freq': '3hr', 'realm': u'atmos', 'table': 'prim3hrpt'} HOMEVar is read in an extra table. => Taken into account.\n",
      "Info: {'varname': u'va100m', 'freq': '3hr', 'realm': u'atmos', 'table': 'prim3hrpt'} HOMEVar is read in an extra table. => Taken into account.\n",
      "Info: {'varname': u'va50m', 'freq': '3hr', 'realm': u'atmos', 'table': 'prim3hrpt'} HOMEVar is read in an extra table. => Taken into account.\n",
      "Info: {'varname': u'ua100', 'freq': '3hr', 'realm': u'atmos', 'table': 'prim3hrpt'} HOMEVar is read in an extra table. => Taken into account.\n",
      "Info: {'varname': u'zg7h', 'freq': '3hr', 'realm': u'atmos', 'table': 'prim3hrpt'} HOMEVar is read in an extra table. => Taken into account.\n",
      "Info: {'varname': u'sfcWind', 'freq': '3hr', 'realm': u'atmos', 'table': 'prim3hrpt'} HOMEVar is read in an extra table. => Taken into account.\n",
      "Info: {'varname': u'hus1000', 'freq': '3hr', 'realm': u'atmos', 'table': 'prim3hrpt'} HOMEVar is read in an extra table. => Taken into account.\n",
      "Info: {'varname': u'hus100', 'freq': '3hr', 'realm': u'atmos', 'table': 'prim3hrpt'} HOMEVar is read in an extra table. => Taken into account.\n",
      "Info: {'varname': u'ta100', 'freq': '3hr', 'realm': u'atmos', 'table': 'prim3hrpt'} HOMEVar is read in an extra table. => Taken into account.\n",
      "Info: {'varname': u'ua50m', 'freq': '3hr', 'realm': u'atmos', 'table': 'prim3hrpt'} HOMEVar is read in an extra table. => Taken into account.\n",
      "Info: {'varname': u'va100', 'freq': '3hr', 'realm': u'atmos', 'table': 'prim3hrpt'} HOMEVar is read in an extra table. => Taken into account.\n",
      "Info: {'varname': u'va1000', 'freq': '3hr', 'realm': u'atmos', 'table': 'prim3hrpt'} HOMEVar is read in an extra table. => Taken into account.\n",
      "Info: {'varname': u'ua1000', 'freq': '3hr', 'realm': u'atmos', 'table': 'prim3hrpt'} HOMEVar is read in an extra table. => Taken into account.\n",
      "Info: {'varname': u'pr', 'freq': '6hr', 'realm': u'atmos', 'table': 'prim6hr'} HOMEVar is read in an extra table. => Taken into account.\n",
      "Info: {'varname': u'wsgsmax', 'freq': '6hr', 'realm': u'atmos', 'table': 'prim6hr'} HOMEVar is read in an extra table. => Taken into account.\n",
      "Info: {'varname': u'tntscp', 'freq': '6hr', 'realm': u'atmos', 'table': 'prim6hr'} HOMEVar is read in an extra table. => Taken into account.\n",
      "Info: {'varname': u'tntc', 'freq': '6hr', 'realm': u'atmos', 'table': 'prim6hr'} HOMEVar is read in an extra table. => Taken into account.\n",
      "Info: {'varname': u'sfcWindmax', 'freq': '6hr', 'realm': u'atmos', 'table': 'prim6hr'} HOMEVar is read in an extra table. => Taken into account.\n",
      "Info: {'varname': u'tntpbl', 'freq': '6hr', 'realm': u'atmos', 'table': 'prim6hr'} HOMEVar is read in an extra table. => Taken into account.\n",
      "Info: {'varname': u'ps', 'freq': '6hr', 'realm': u'atmos', 'table': 'prim6hr'} HOMEVar is read in an extra table. => Taken into account.\n",
      "Info: {'varname': u'tntrl', 'freq': '6hr', 'realm': u'atmos', 'table': 'prim6hr'} HOMEVar is read in an extra table. => Taken into account.\n",
      "Info: {'varname': u'rsds', 'freq': '6hr', 'realm': u'atmos', 'table': 'prim6hr'} HOMEVar is read in an extra table. => Taken into account.\n",
      "Info: {'varname': u'clt', 'freq': '6hr', 'realm': u'atmos', 'table': 'prim6hr'} HOMEVar is read in an extra table. => Taken into account.\n",
      "Info: {'varname': u'tntrs', 'freq': '6hr', 'realm': u'atmos', 'table': 'prim6hr'} HOMEVar is read in an extra table. => Taken into account.\n",
      "Info: {'varname': u'rsdsdiff', 'freq': '6hr', 'realm': u'atmos', 'table': 'prim6hr'} HOMEVar is read in an extra table. => Taken into account.\n",
      "Info: {'varname': u'ua100m', 'freq': '6hr', 'realm': u'atmos', 'table': 'prim6hrpt'} HOMEVar is read in an extra table. => Taken into account.\n",
      "Info: {'varname': u'va100m', 'freq': '6hr', 'realm': u'atmos', 'table': 'prim6hrpt'} HOMEVar is read in an extra table. => Taken into account.\n",
      "Info: {'varname': u'va50m', 'freq': '6hr', 'realm': u'atmos', 'table': 'prim6hrpt'} HOMEVar is read in an extra table. => Taken into account.\n",
      "Info: {'varname': u'hus1000', 'freq': '6hr', 'realm': u'atmos', 'table': 'prim6hrpt'} HOMEVar is read in an extra table. => Taken into account.\n",
      "Info: {'varname': u'thetapv2', 'freq': '6hr', 'realm': u'atmos', 'table': 'prim6hrpt'} HOMEVar is read in an extra table. => Taken into account.\n",
      "Info: {'varname': u'ua50m', 'freq': '6hr', 'realm': u'atmos', 'table': 'prim6hrpt'} HOMEVar is read in an extra table. => Taken into account.\n",
      "Info: {'varname': u'va1000', 'freq': '6hr', 'realm': u'atmos', 'table': 'prim6hrpt'} HOMEVar is read in an extra table. => Taken into account.\n",
      "Info: {'varname': u'ua1000', 'freq': '6hr', 'realm': u'atmos', 'table': 'prim6hrpt'} HOMEVar is read in an extra table. => Taken into account.\n",
      "Info: {'varname': u'uneutrals', 'freq': 'day', 'realm': u'atmos', 'table': 'primDay'} HOMEVar is read in an extra table. => Taken into account.\n",
      "Info: {'varname': u'vneutrals', 'freq': 'day', 'realm': u'atmos', 'table': 'primDay'} HOMEVar is read in an extra table. => Taken into account.\n",
      "Info: {'varname': u'ts', 'freq': 'day', 'realm': u'atmos', 'table': 'primDay'} HOMEVar is read in an extra table. => Taken into account.\n",
      "Info: {'varname': u'mrso', 'freq': 'day', 'realm': u'land', 'table': 'primDay'} HOMEVar is read in an extra table. => Taken into account.\n",
      "Info: {'varname': u'evspsbl', 'freq': 'day', 'realm': u'atmos', 'table': 'primDay'} HOMEVar is read in an extra table. => Taken into account.\n",
      "Info: {'varname': u'prmin', 'freq': 'day', 'realm': u'atmos', 'table': 'primDay'} HOMEVar is read in an extra table. => Taken into account.\n",
      "Info: {'varname': u'mrlsl', 'freq': 'day', 'realm': u'land', 'table': 'primDay'} HOMEVar is read in an extra table. => Taken into account.\n",
      "Info: {'varname': u'prmax', 'freq': 'day', 'realm': u'atmos', 'table': 'primDay'} HOMEVar is read in an extra table. => Taken into account.\n",
      "Info: {'varname': u'reffclwc', 'freq': 'mon', 'realm': u'atmos', 'table': 'primMon'} HOMEVar is read in an extra table. => Taken into account.\n",
      "Info: {'varname': u'clwvic', 'freq': 'mon', 'realm': u'atmos', 'table': 'primMon'} HOMEVar is read in an extra table. => Taken into account.\n",
      "Info: {'varname': u'lwp', 'freq': 'mon', 'realm': u'atmos', 'table': 'primMon'} HOMEVar is read in an extra table. => Taken into account.\n",
      "Info: {'varname': u'reffclws', 'freq': 'mon', 'realm': u'atmos', 'table': 'primMon'} HOMEVar is read in an extra table. => Taken into account.\n",
      "Info: {'varname': u'cod', 'freq': 'mon', 'realm': u'atmos', 'table': 'primMon'} HOMEVar is read in an extra table. => Taken into account.\n",
      "Info: {'varname': u'cdnc', 'freq': 'mon', 'realm': u'atmos', 'table': 'primMon'} HOMEVar is read in an extra table. => Taken into account.\n",
      "Info: {'varname': u'uo', 'freq': '6hr', 'realm': u'ocean', 'table': 'primO6hr'} HOMEVar is read in an extra table. => Taken into account.\n",
      "Info: {'varname': u'vo', 'freq': '6hr', 'realm': u'ocean', 'table': 'primO6hr'} HOMEVar is read in an extra table. => Taken into account.\n",
      "Info: {'varname': u'mlotst', 'freq': 'day', 'realm': u'ocean', 'table': 'primOday'} HOMEVar is read in an extra table. => Taken into account.\n",
      "Info: {'varname': u'thetao', 'freq': 'day', 'realm': u'ocean', 'table': 'primOday'} HOMEVar is read in an extra table. => Taken into account.\n",
      "Info: {'varname': u'tauuo', 'freq': 'day', 'realm': u'ocean', 'table': 'primOday'} HOMEVar is read in an extra table. => Taken into account.\n",
      "Info: {'varname': u'so', 'freq': 'day', 'realm': u'ocean', 'table': 'primOday'} HOMEVar is read in an extra table. => Taken into account.\n",
      "Info: {'varname': u'tauvo', 'freq': 'day', 'realm': u'ocean', 'table': 'primOday'} HOMEVar is read in an extra table. => Taken into account.\n",
      "Info: {'varname': u'zos', 'freq': 'day', 'realm': u'ocean', 'table': 'primOday'} HOMEVar is read in an extra table. => Taken into account.\n",
      "Info: {'varname': u'uso', 'freq': 'mon', 'realm': u'ocean', 'table': 'primOmon'} HOMEVar is read in an extra table. => Taken into account.\n",
      "Info: {'varname': u'w2o', 'freq': 'mon', 'realm': u'ocean', 'table': 'primOmon'} HOMEVar is read in an extra table. => Taken into account.\n",
      "Info: {'varname': u'u2o', 'freq': 'mon', 'realm': u'ocean', 'table': 'primOmon'} HOMEVar is read in an extra table. => Taken into account.\n",
      "Info: {'varname': u'uto', 'freq': 'mon', 'realm': u'ocean', 'table': 'primOmon'} HOMEVar is read in an extra table. => Taken into account.\n",
      "Info: {'varname': u'vto', 'freq': 'mon', 'realm': u'ocean', 'table': 'primOmon'} HOMEVar is read in an extra table. => Taken into account.\n",
      "Info: {'varname': u'wo', 'freq': 'mon', 'realm': u'ocean', 'table': 'primOmon'} HOMEVar is read in an extra table. => Taken into account.\n",
      "Info: {'varname': u'wso', 'freq': 'mon', 'realm': u'ocean', 'table': 'primOmon'} HOMEVar is read in an extra table. => Taken into account.\n",
      "Info: {'varname': u'opottemptend', 'freq': 'mon', 'realm': u'ocean', 'table': 'primOmon'} HOMEVar is read in an extra table. => Taken into account.\n",
      "Info: {'varname': u'vso', 'freq': 'mon', 'realm': u'ocean', 'table': 'primOmon'} HOMEVar is read in an extra table. => Taken into account.\n",
      "Info: {'varname': u'v2o', 'freq': 'mon', 'realm': u'ocean', 'table': 'primOmon'} HOMEVar is read in an extra table. => Taken into account.\n",
      "Info: {'varname': u'wto', 'freq': 'mon', 'realm': u'ocean', 'table': 'primOmon'} HOMEVar is read in an extra table. => Taken into account.\n",
      "Info: {'varname': u'sidivvel', 'freq': 'day', 'realm': u'seaIce', 'table': 'primSIday'} HOMEVar is read in an extra table. => Taken into account.\n",
      "Info: {'varname': u'sistrxdtop', 'freq': 'day', 'realm': u'seaIce', 'table': 'primSIday'} HOMEVar is read in an extra table. => Taken into account.\n",
      "Info: {'varname': u'siacrossline', 'freq': 'day', 'realm': u'seaIce', 'table': 'primSIday'} HOMEVar is read in an extra table. => Taken into account.\n",
      "Info: {'varname': u'siu', 'freq': 'day', 'realm': u'seaIce', 'table': 'primSIday'} HOMEVar is read in an extra table. => Taken into account.\n",
      "Info: {'varname': u'sistrydtop', 'freq': 'day', 'realm': u'seaIce', 'table': 'primSIday'} HOMEVar is read in an extra table. => Taken into account.\n",
      "Info: {'varname': u'siforceintstrx', 'freq': 'day', 'realm': u'seaIce', 'table': 'primSIday'} HOMEVar is read in an extra table. => Taken into account.\n",
      "Info: {'varname': u'sistryubot', 'freq': 'day', 'realm': u'seaIce', 'table': 'primSIday'} HOMEVar is read in an extra table. => Taken into account.\n",
      "Info: {'varname': u'sistrxubot', 'freq': 'day', 'realm': u'seaIce', 'table': 'primSIday'} HOMEVar is read in an extra table. => Taken into account.\n",
      "Info: {'varname': u'siforceintstry', 'freq': 'day', 'realm': u'seaIce', 'table': 'primSIday'} HOMEVar is read in an extra table. => Taken into account.\n",
      "Info: {'varname': u'sitimefrac', 'freq': 'day', 'realm': u'seaIce', 'table': 'primSIday'} HOMEVar is read in an extra table. => Taken into account.\n",
      "Info: {'varname': u'siv', 'freq': 'day', 'realm': u'seaIce', 'table': 'primSIday'} HOMEVar is read in an extra table. => Taken into account.\n"
     ]
    }
   ],
   "source": [
    "#svars=select_CMORvars_for_lab(settings, printout=True)\n",
    "svars=gather_AllSimpleVars(settings,printout=True)"
   ]
  },
  {
   "cell_type": "markdown",
   "metadata": {},
   "source": [
    "## Doc for ping files create function"
   ]
  },
  {
   "cell_type": "code",
   "execution_count": 6,
   "metadata": {
    "collapsed": false
   },
   "outputs": [
    {
     "name": "stdout",
     "output_type": "stream",
     "text": [
      "Help on function pingFileForRealmsList in module dr2xml:\n",
      "\n",
      "pingFileForRealmsList(context, lrealms, svars, dummy='field_atm', dummy_with_shape=False, exact=False, comments=False, prefix='CV_', filename=None)\n",
      "    Based on a list of realms LREALMS and a list of simplified vars\n",
      "    SVARS, create the ping file which name is ~\n",
      "    ping_<realms_list>.xml, which defines fields for all vars in\n",
      "    SVARS, with a field_ref which is either 'dummy' or '?<varname>'\n",
      "    (depending on logical DUMMY)\n",
      "    \n",
      "    If EXACT is True, the match between variable realm string and one\n",
      "    of the realm string in the list must be exact. Otherwise, the\n",
      "    variable realm must be included in (or include) of the realm list\n",
      "    strings\n",
      "    \n",
      "    COMMENTS, if not False nor \"\", will drive the writing of variable\n",
      "    description and units as an xml comment. If it is a string, it\n",
      "    will be printed before this comment string (and this allows for a\n",
      "    line break)\n",
      "    \n",
      "    DUMMY, if not false, should be either 'True', for a standard dummy\n",
      "    label or a string used as the name of all field_refs. If False,\n",
      "    the field_refs look like ?<variable name>.\n",
      "    \n",
      "    If DUMMY is True and DUMMY_WITH_SHAPE is True, dummy labels wiill\n",
      "    include the highest rank shape requested by the DR, for\n",
      "    information\n",
      "    \n",
      "    Field ids do include the provided PREFIX\n",
      "    \n",
      "    The ping file includes a <field_definition> construct\n",
      "    \n",
      "    For those MIP varnames which have a corresponding field_definition\n",
      "    in a file named like ./inputs/DX_field_defs_<realm>.xml (path being\n",
      "    relative to source code location), this latter field_def is\n",
      "    inserted in the ping file (rather than a default one). This brings \n",
      "    a set of 'standard' definitions fo variables which can be derived \n",
      "    from DR-standard ones\n",
      "\n"
     ]
    }
   ],
   "source": [
    "help(pingFileForRealmsList)"
   ]
  },
  {
   "cell_type": "markdown",
   "metadata": {},
   "source": [
    "### When using function create_ping_files with argument exact=False, each ping file will adress all variables which realm includes or is included in one of the strings in a realms set  <br><br> e.g for set ['ocean','seaIce'], ping file 'ping_ocean_seaIce.xml' will includes variables which realm is either 'ocean' or 'seaIce' or 'ocean seaIce'"
   ]
  },
  {
   "cell_type": "markdown",
   "metadata": {},
   "source": [
    "## Create various ping files for various sets of realms "
   ]
  },
  {
   "cell_type": "code",
   "execution_count": 7,
   "metadata": {
    "collapsed": false
   },
   "outputs": [
    {
     "name": "stdout",
     "output_type": "stream",
     "text": [
      "870 variables written for output_sample/ping_arpsfx.xml\n"
     ]
    }
   ],
   "source": [
    "# For e.g. CNRM-CM, a single Xios context handle this list of realms :\n",
    "context='arpsfx'\n",
    "realms=settings['realms_per_context'][context]\n",
    "pingFileForRealmsList(context,realms,svars,comments=\" \",exact=False,dummy=True, \n",
    "                      prefix=settings['ping_variables_prefix'],\n",
    "                      filename='output_sample/ping_arpsfx.xml',dummy_with_shape=True)\n",
    "#pingFileForRealmsList(realms,svars,comments=\"\",exact=False,dummy=True,filename='ping_atmos_nocomments.xml')\n"
   ]
  },
  {
   "cell_type": "code",
   "execution_count": 8,
   "metadata": {
    "collapsed": false
   },
   "outputs": [
    {
     "name": "stdout",
     "output_type": "stream",
     "text": [
      "511 variables written for output_sample/ping_nemo.xml\n"
     ]
    }
   ],
   "source": [
    "# For Nemo, the context handle that realms\n",
    "if True : pingFileForRealmsList('nemo',['ocean','seaIce','ocnBgchem'],svars,comments=\" \",exact=False,dummy=True,\n",
    "                      prefix=settings['ping_variables_prefix'],\n",
    "                      filename='output_sample/ping_nemo.xml',dummy_with_shape=True)"
   ]
  },
  {
   "cell_type": "code",
   "execution_count": 9,
   "metadata": {
    "collapsed": false
   },
   "outputs": [],
   "source": [
    "#! head -n 5 output_sample/ping_nemo.xml"
   ]
  },
  {
   "cell_type": "code",
   "execution_count": 10,
   "metadata": {
    "collapsed": false
   },
   "outputs": [
    {
     "name": "stdout",
     "output_type": "stream",
     "text": [
      "204 variables written for output_sample/ping_ocean.xml\n",
      "101 variables written for output_sample/ping_seaIce.xml\n",
      "221 variables written for output_sample/ping_ocnBgchem.xml\n",
      "424 variables written for output_sample/ping_atmos.xml\n",
      "317 variables written for output_sample/ping_land.xml\n",
      "317 variables written for output_sample/ping_landIce.xml\n",
      "424 variables written for output_sample/ping_atmosChem.xml\n",
      "157 variables written for output_sample/ping_aerosol.xml\n"
     ]
    }
   ],
   "source": [
    "single_realms=[ ['ocean'], ['seaIce'],['ocnBgchem'], [ 'atmos'], ['land'],['landIce'], ['atmosChem'],[ 'aerosol' ]]\n",
    "for rs in single_realms :\n",
    "    #print rs[0]\n",
    "    pingFileForRealmsList(rs[0],rs,svars,prefix=settings['ping_variables_prefix'],\n",
    "                         comments=\" \",exact=False, dummy=True,dummy_with_shape=True,\n",
    "                         filename='output_sample/ping_%s.xml'%rs[0])\n"
   ]
  },
  {
   "cell_type": "code",
   "execution_count": null,
   "metadata": {
    "collapsed": true
   },
   "outputs": [],
   "source": []
  }
 ],
 "metadata": {
  "anaconda-cloud": {},
  "kernelspec": {
   "display_name": "Python [Root]",
   "language": "python",
   "name": "Python [Root]"
  },
  "language_info": {
   "codemirror_mode": {
    "name": "ipython",
    "version": 2
   },
   "file_extension": ".py",
   "mimetype": "text/x-python",
   "name": "python",
   "nbconvert_exporter": "python",
   "pygments_lexer": "ipython2",
   "version": "2.7.12"
  }
 },
 "nbformat": 4,
 "nbformat_minor": 0
}
