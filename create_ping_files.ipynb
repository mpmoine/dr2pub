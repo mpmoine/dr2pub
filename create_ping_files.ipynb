{
 "metadata": {
  "name": "",
  "signature": "sha256:9a5ca8e3c9471f6fb4662d847fc93c29a8a105030b7ed19e9485b426ccc1fc53"
 },
 "nbformat": 3,
 "nbformat_minor": 0,
 "worksheets": [
  {
   "cells": [
    {
     "cell_type": "heading",
     "level": 1,
     "metadata": {},
     "source": [
      "Create ping files based on lab choices"
     ]
    },
    {
     "cell_type": "heading",
     "level": 3,
     "metadata": {},
     "source": [
      "When using function cerate_ping_files with argiumnet exact=False, each ping file will adress all variables which realm includes or is included in one of the strings in a realms set \n",
      "<br><br>\n",
      "e.g for set ['ocean','seaIce'], ping file 'ping_ocean_seaIce.xml' will includes variables which realm is either 'ocean' or 'seaIce' or 'ocean seaIce'"
     ]
    },
    {
     "cell_type": "code",
     "collapsed": false,
     "input": [
      "allrealms=[ ['ocean'], ['seaIce'],['ocnBgchem'], [ 'atmos'], ['land'],['landIce'], ['atmosChem'],[ 'aerosol' ]]"
     ],
     "language": "python",
     "metadata": {},
     "outputs": [],
     "prompt_number": 1
    },
    {
     "cell_type": "heading",
     "level": 2,
     "metadata": {},
     "source": [
      "Lab settings"
     ]
    },
    {
     "cell_type": "code",
     "collapsed": false,
     "input": [
      "\n",
      "# This dictionnary should be the same as the one used for creating file_defs.\n",
      "# Here , we quoted only those entries useful for creating ping files\n",
      "settings={\n",
      "    'mips' : {'AerChemMIP','C4MIP','CFMIP','DAMIP', 'FAFMIP' , 'GeoMIP','GMMIP','ISMIP6',\\\n",
      "                      'LS3MIP','LUMIP','OMIP','PMIP','RFMIP','ScenarioMIP','CORDEX','SIMIP'},\n",
      "    'max_priority' : 1,\n",
      "    'tierMax'      : 3,\n",
      "    \"ping_variables_prefix\" : \"CMIP6_\",\n",
      "    # We account for a file listing the variables which the lab does not want to produce \n",
      "    # Format : MIP varname as first column, comment lines begin with '#'\n",
      "    \"excluded_vars_file\":\"/cnrm/est/USERS/senesi/public/CMIP6/data_request/cnrm/excluded_vars.txt\",\n",
      "    \"excluded_vars\" : None,\n",
      "    }"
     ],
     "language": "python",
     "metadata": {},
     "outputs": [],
     "prompt_number": 2
    },
    {
     "cell_type": "heading",
     "level": 3,
     "metadata": {},
     "source": [
      "Read excluded variables list"
     ]
    },
    {
     "cell_type": "code",
     "collapsed": false,
     "input": [
      "l=[]\n",
      "if settings[\"excluded_vars\"] is None and settings[\"excluded_vars_file\"] is not None :\n",
      "    with open(settings[\"excluded_vars_file\"],'r') as fv : varlines=fv.readlines()\n",
      "    for line in varlines: \n",
      "        fields=line.split()\n",
      "        if len(fields) > 0 : \n",
      "            first=fields[0]\n",
      "            if first[0] != '#' :  l.append(first)\n",
      "settings[\"excluded_vars\"]=l\n",
      "                       "
     ],
     "language": "python",
     "metadata": {},
     "outputs": [],
     "prompt_number": 3
    },
    {
     "cell_type": "code",
     "collapsed": false,
     "input": [
      "from dr2xml import select_CMORvars_for_lab, pingFileForRealmsList"
     ],
     "language": "python",
     "metadata": {},
     "outputs": [
      {
       "output_type": "stream",
       "stream": "stdout",
       "text": [
        "01.beta.45\n"
       ]
      }
     ],
     "prompt_number": 4
    },
    {
     "cell_type": "heading",
     "level": 2,
     "metadata": {},
     "source": [
      "Select all variables to consider, based on lab settings"
     ]
    },
    {
     "cell_type": "code",
     "collapsed": false,
     "input": [
      "svars=select_CMORvars_for_lab(settings, printout=True)"
     ],
     "language": "python",
     "metadata": {},
     "outputs": [
      {
       "output_type": "stream",
       "stream": "stdout",
       "text": [
        "\n",
        "Number of Request Links which apply to MIPS set(['C4MIP', 'CORDEX', 'ISMIP6', 'GMMIP', 'LUMIP', 'PMIP', 'RFMIP', 'DAMIP', 'AerChemMIP', 'SIMIP', 'FAFMIP', 'CFMIP', 'ScenarioMIP', 'LS3MIP', 'OMIP', 'GeoMIP'])  is:  175\n",
        "\n",
        "Number of CMOR variables for these requestLinks is : 1092\n",
        "\n",
        "Number of CMOR variables once filtered by excluded vars is : 987\n",
        "\n",
        "Number of variables with distinct labels is : 656\n",
        "\n",
        "Number of simplified vars is : 987\n"
       ]
      }
     ],
     "prompt_number": 5
    },
    {
     "cell_type": "heading",
     "level": 2,
     "metadata": {},
     "source": [
      "Create ping files"
     ]
    },
    {
     "cell_type": "code",
     "collapsed": false,
     "input": [
      "help(pingFileForRealmsList)"
     ],
     "language": "python",
     "metadata": {},
     "outputs": [
      {
       "output_type": "stream",
       "stream": "stdout",
       "text": [
        "Help on function pingFileForRealmsList in module dr2xml:\n",
        "\n",
        "pingFileForRealmsList(lrealms, svars, dummy='field_atm', exact=False, comments=False, prefix='CV_', filename=None)\n",
        "    Based on a list of realms LREALMS and a list of simplified vars SVARS, create the ping \n",
        "    file which name is ~ ping_<realms_list>.xml, which defines fields for all vars in SVARS, \n",
        "    with a field_ref which is either 'dummy' or '?<varname>' (depending on logical DUMMY)\n",
        "    \n",
        "    If EXACT is True, the match between variable realm string and one of the realm string \n",
        "    in the list must be exact. Otherwise, the variable realm must be included in (or include) \n",
        "    of the realm list strings\n",
        "    \n",
        "    COMMENTS, if not False nor \"\", will drive the writing of variable description and units \n",
        "    as an xml comment. If it is a string, it will be printed before this comment string (and  \n",
        "    this allows for a line break)\n",
        "    \n",
        "    DUMMY, if not false, shoudl be a string used as the name of all field_refs. If False, \n",
        "    the field_refs look like ?<variable name>. \n",
        "    \n",
        "    Field ids do include the provided PREFIX\n",
        "    \n",
        "    The ping file includes a <field_definition> construct\n",
        "    \n",
        "    TBD - Limitation : variable labels such as zg500 should be withdrawn from the \n",
        "    pingfile if they describe a variable that can be derived automatically by XIOS \n",
        "    through vertical interpolation (provided the DR duly describes that it is a  \n",
        "    singleton dimension)\n",
        "    \n",
        "    TBD - Limitation2 : should handle synonyms (various MIP variable names for actually a \n",
        "    single field)\n",
        "    \n",
        "    TBD - Limitation3 :  dummy field_ref names shouldn't be the same depending on the \n",
        "    relevant field rank\n",
        "\n"
       ]
      }
     ],
     "prompt_number": 6
    },
    {
     "cell_type": "code",
     "collapsed": true,
     "input": [
      "realms=[ 'atmos', 'land','landIce','atmosChem','aerosol']\n",
      "pingFileForRealmsList(realms,svars,comments=\" \",exact=False,dummy=True,filename='ping_atmos.xml')\n",
      "pingFileForRealmsList(realms,svars,comments=\"\",exact=False,dummy=True,filename='ping_atmos_nocomments.xml')\n"
     ],
     "language": "python",
     "metadata": {},
     "outputs": [
      {
       "output_type": "stream",
       "stream": "stdout",
       "text": [
        "509 variables written for ping_atmos.xml\n",
        "509 variables written for ping_atmos_nocomments.xml\n"
       ]
      }
     ],
     "prompt_number": 12
    },
    {
     "cell_type": "code",
     "collapsed": false,
     "input": [
      "pingFileForRealmsList(['ocean','seaIce'],svars,comments=\" \",exact=False,dummy=True,filename='ping_ocean.xml')"
     ],
     "language": "python",
     "metadata": {},
     "outputs": [
      {
       "output_type": "stream",
       "stream": "stdout",
       "text": [
        "159 variables written for ping_ocean.xml\n"
       ]
      }
     ],
     "prompt_number": 8
    },
    {
     "cell_type": "code",
     "collapsed": false,
     "input": [
      "! head -n 5 ping_ocean.xml"
     ],
     "language": "python",
     "metadata": {},
     "outputs": [
      {
       "output_type": "stream",
       "stream": "stdout",
       "text": [
        "<field_definition>\r\n",
        "<!-- for variables which realm equals one of _ocean_seaIce-->\r\n",
        "   <field id=\"CV_O18sw\"            field_ref=\"dummy\"          /> <!-- () O18sw : Roche - LSCE -->\r\n",
        "   <field id=\"CV_agessc\"           field_ref=\"dummy\"          /> <!-- (yr) sea_water_age_since_surface_contact : Time elapsed since water was last in surface layer of the ocean. -->\r\n",
        "   <field id=\"CV_areacello\"        field_ref=\"dummy\"          /> <!-- (m2) cell_area : Horizontal area of ocean grid cells -->\r\n"
       ]
      }
     ],
     "prompt_number": 9
    },
    {
     "cell_type": "code",
     "collapsed": false,
     "input": [
      "for rs in allrealms :\n",
      "    pingFileForRealmsList(rs,svars,prefix=settings['ping_variables_prefix'],comments=\" \",exact=False)\n"
     ],
     "language": "python",
     "metadata": {},
     "outputs": [
      {
       "output_type": "stream",
       "stream": "stdout",
       "text": [
        "121 variables written for ping_ocean.xml\n",
        " 45 variables written for ping_seaIce.xml\n",
        " 24 variables written for ping_ocnBgchem.xml\n",
        "249 variables written for ping_atmos.xml"
       ]
      },
      {
       "output_type": "stream",
       "stream": "stdout",
       "text": [
        "\n",
        "182 variables written for ping_land.xml\n",
        "181 variables written for ping_landIce.xml\n",
        "248 variables written for ping_atmosChem.xml\n",
        " 93 variables written for ping_aerosol.xml"
       ]
      },
      {
       "output_type": "stream",
       "stream": "stdout",
       "text": [
        "\n"
       ]
      }
     ],
     "prompt_number": 11
    },
    {
     "cell_type": "code",
     "collapsed": false,
     "input": [],
     "language": "python",
     "metadata": {},
     "outputs": []
    }
   ],
   "metadata": {}
  }
 ]
}