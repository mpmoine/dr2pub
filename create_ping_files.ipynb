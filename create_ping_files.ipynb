{
 "cells": [
  {
   "cell_type": "markdown",
   "metadata": {},
   "source": [
    "# Create ping files based on lab choices"
   ]
  },
  {
   "cell_type": "markdown",
   "metadata": {},
   "source": [
    "## Lab settings"
   ]
  },
  {
   "cell_type": "code",
   "execution_count": 1,
   "metadata": {
    "collapsed": false
   },
   "outputs": [],
   "source": [
    "\n",
    "# This dictionnary should be the same as the one used for creating file_defs.\n",
    "# Here , we quoted only those entries useful for creating ping files\n",
    "settings={\n",
    "    #'mips' : {'AerChemMIP','C4MIP','CFMIP','DAMIP', 'FAFMIP' , 'GeoMIP','GMMIP','ISMIP6',\\\n",
    "    #                  'LS3MIP','LUMIP','OMIP','PMIP','RFMIP','ScenarioMIP','CORDEX','SIMIP'},\n",
    "    # If you want to get comprehensive ping files; use :\n",
    "    'mips' : {\"CMIP6\", \"AerChemMIP\", \"C4MIP\", \"CFMIP\", \"DAMIP\", \"DCPP\", \"FAFMIP\", \"GeoMIP\", \"GMMIP\", \n",
    "              \"HighResMIP\", \"ISMIP6\", \"LS3MIP\", \"LUMIP\", \"OMIP\", \"PDRMIP\", \"PMIP\", \"RFMIP\", \"ScenarioMIP\", \n",
    "              \"SolarMIP\", \"VolMIP\", \"CORDEX\", \"DynVar\", \"SIMIP\", \"VIACSAB\", \"SPECS\", \"CCMI\", \"CMIP5\", \n",
    "              \"CMIP\", \"DECK\"},\n",
    "    'max_priority' : 3,\n",
    "    'tierMax'      : 3,\n",
    "   # Each XIOS  context does adress a number of realms\n",
    "    'realms_per_context' : { 'nemo': ['seaIce', 'ocean', 'ocean seaIce', 'ocnBgchem', 'seaIce ocean'] ,\n",
    "                          'arpsfx' : ['atmos', 'atmos atmosChem', 'aerosol', 'atmos land', 'land',\n",
    "                                     'landIce land',  'aerosol land','land landIce',  'landIce', ],\n",
    "                          }, \n",
    "    \"ping_variables_prefix\" : \"CMIP6_\",\n",
    "    # We account for a file listing the variables which the lab does not want to produce \n",
    "    # Format : MIP varname as first column, comment lines begin with '#'\n",
    "    \"excluded_vars_file\":\"/cnrm/est/USERS/senesi/public/CMIP6/data_request/cnrm/excluded_vars.txt\",\n",
    "    \"excluded_vars\" : None,\n",
    "    }"
   ]
  },
  {
   "cell_type": "markdown",
   "metadata": {},
   "source": [
    "### Read excluded variables list - you may skip that"
   ]
  },
  {
   "cell_type": "code",
   "execution_count": 2,
   "metadata": {
    "collapsed": false
   },
   "outputs": [],
   "source": [
    "l=[]\n",
    "if settings[\"excluded_vars\"] is None and settings[\"excluded_vars_file\"] is not None :\n",
    "    with open(settings[\"excluded_vars_file\"],'r') as fv : varlines=fv.readlines()\n",
    "    for line in varlines: \n",
    "        fields=line.split()\n",
    "        if len(fields) > 0 : \n",
    "            first=fields[0]\n",
    "            if first[0] != '#' :  l.append(first)\n",
    "settings[\"excluded_vars\"]=l\n",
    "                       "
   ]
  },
  {
   "cell_type": "markdown",
   "metadata": {},
   "source": [
    "## For getting a comprehensive ping file, one can (re)set the excluded_var list to an empty list"
   ]
  },
  {
   "cell_type": "code",
   "execution_count": 3,
   "metadata": {
    "collapsed": false
   },
   "outputs": [],
   "source": [
    "settings[\"excluded_vars\"]=[]"
   ]
  },
  {
   "cell_type": "code",
   "execution_count": 4,
   "metadata": {
    "collapsed": false
   },
   "outputs": [
    {
     "name": "stdout",
     "output_type": "stream",
     "text": [
      "01.00.01\n"
     ]
    }
   ],
   "source": [
    "from dr2xml import select_CMORvars_for_lab, pingFileForRealmsList"
   ]
  },
  {
   "cell_type": "markdown",
   "metadata": {},
   "source": [
    "## Select all variables to consider, based on lab settings"
   ]
  },
  {
   "cell_type": "code",
   "execution_count": 5,
   "metadata": {
    "collapsed": false
   },
   "outputs": [
    {
     "name": "stdout",
     "output_type": "stream",
     "text": [
      "\n",
      "Number of Request Links which apply to MIPS set(['CORDEX', 'GMMIP', 'RFMIP', 'VolMIP', 'CMIP6', 'ScenarioMIP', 'GeoMIP', 'C4MIP', 'PDRMIP', 'CMIP', 'DECK', 'LUMIP', 'CMIP5', 'CFMIP', 'OMIP', 'DAMIP', 'CCMI', 'SolarMIP', 'VIACSAB', 'SIMIP', 'DCPP', 'ISMIP6', 'AerChemMIP', 'PMIP', 'FAFMIP', 'DynVar', 'LS3MIP', 'SPECS', 'HighResMIP'])  is:  355\n",
      "\n",
      "Number of CMOR variables for these requestLinks is : 1970\n",
      "\n",
      "Number of CMOR variables once filtered by excluded vars is : 1970\n",
      "\n",
      "Number of variables with distinct labels is : 1302\n",
      "\n",
      "Number of simplified vars is : 1970\n"
     ]
    }
   ],
   "source": [
    "svars=select_CMORvars_for_lab(settings, printout=True)"
   ]
  },
  {
   "cell_type": "markdown",
   "metadata": {},
   "source": [
    "## Doc for ping files create function"
   ]
  },
  {
   "cell_type": "code",
   "execution_count": 6,
   "metadata": {
    "collapsed": false
   },
   "outputs": [
    {
     "name": "stdout",
     "output_type": "stream",
     "text": [
      "Help on function pingFileForRealmsList in module dr2xml:\n",
      "\n",
      "pingFileForRealmsList(context, lrealms, svars, dummy='field_atm', dummy_with_shape=False, exact=False, comments=False, prefix='CV_', filename=None)\n",
      "    Based on a list of realms LREALMS and a list of simplified vars SVARS, create the ping \n",
      "    file which name is ~ ping_<realms_list>.xml, which defines fields for all vars in SVARS, \n",
      "    with a field_ref which is either 'dummy' or '?<varname>' (depending on logical DUMMY)\n",
      "    \n",
      "    If EXACT is True, the match between variable realm string and one of the realm string \n",
      "    in the list must be exact. Otherwise, the variable realm must be included in (or include) \n",
      "    of the realm list strings\n",
      "    \n",
      "    COMMENTS, if not False nor \"\", will drive the writing of variable description and units \n",
      "    as an xml comment. If it is a string, it will be printed before this comment string (and  \n",
      "    this allows for a line break)\n",
      "    \n",
      "    DUMMY, if not false, should be either 'True', for a standard dummy label or a string \n",
      "    used as the name of all field_refs. If False, the field_refs look like ?<variable name>. \n",
      "    \n",
      "    If DUMMY is True and DUMMY_WITH_SHAPE is True, dummy labels wiill include the highest \n",
      "    rank shape requested by the DR, for information\n",
      "    \n",
      "    Field ids do include the provided PREFIX\n",
      "    \n",
      "    The ping file includes a <field_definition> construct\n",
      "    \n",
      "    For those MIP varnames which have a corresponding field_definition\n",
      "    in a file named like ./inputs/DX_field_defs_<realm>.xml (path being\n",
      "    relative to source code location), this latter field_def is\n",
      "    inserted in the ping file (rather than a default one). This brings \n",
      "    a set of 'standard' definitions fo variables which can be derived \n",
      "    from DR-standard ones\n",
      "\n"
     ]
    }
   ],
   "source": [
    "help(pingFileForRealmsList)"
   ]
  },
  {
   "cell_type": "markdown",
   "metadata": {},
   "source": [
    "### When using function create_ping_files with argument exact=False, each ping file will adress all variables which realm includes or is included in one of the strings in a realms set  <br><br> e.g for set ['ocean','seaIce'], ping file 'ping_ocean_seaIce.xml' will includes variables which realm is either 'ocean' or 'seaIce' or 'ocean seaIce'"
   ]
  },
  {
   "cell_type": "markdown",
   "metadata": {},
   "source": [
    "## Create various ping files for various sets of realms "
   ]
  },
  {
   "cell_type": "code",
   "execution_count": 7,
   "metadata": {
    "collapsed": false
   },
   "outputs": [
    {
     "name": "stdout",
     "output_type": "stream",
     "text": [
      "818 variables written for output_sample/ping_arpsfx.xml\n"
     ]
    }
   ],
   "source": [
    "# For e.g. CNRM-CM, a single Xios context handle this list of realms :\n",
    "context='arpsfx'\n",
    "realms=settings['realms_per_context'][context]\n",
    "pingFileForRealmsList(context,realms,svars,comments=\" \",exact=False,dummy=True, \n",
    "                      prefix=settings['ping_variables_prefix'],\n",
    "                      filename='output_sample/ping_arpsfx.xml',dummy_with_shape=True)\n",
    "#pingFileForRealmsList(realms,svars,comments=\"\",exact=False,dummy=True,filename='ping_atmos_nocomments.xml')\n"
   ]
  },
  {
   "cell_type": "code",
   "execution_count": 8,
   "metadata": {
    "collapsed": false
   },
   "outputs": [
    {
     "name": "stdout",
     "output_type": "stream",
     "text": [
      "485 variables written for output_sample/ping_nemo.xml\n"
     ]
    }
   ],
   "source": [
    "# For Nemo, the context handle that realms\n",
    "if True : pingFileForRealmsList('nemo',['ocean','seaIce','ocnBgchem'],svars,comments=\" \",exact=False,dummy=True,\n",
    "                      prefix=settings['ping_variables_prefix'],\n",
    "                      filename='output_sample/ping_nemo.xml',dummy_with_shape=True)"
   ]
  },
  {
   "cell_type": "code",
   "execution_count": 9,
   "metadata": {
    "collapsed": false
   },
   "outputs": [],
   "source": [
    "#! head -n 5 output_sample/ping_nemo.xml"
   ]
  },
  {
   "cell_type": "code",
   "execution_count": 10,
   "metadata": {
    "collapsed": false
   },
   "outputs": [
    {
     "name": "stdout",
     "output_type": "stream",
     "text": [
      "ocean\n",
      "179 variables written for output_sample/ping_ocean.xml\n",
      "seaIce\n",
      " 99 variables written for output_sample/ping_seaIce.xml\n",
      "ocnBgchem\n",
      "223 variables written for output_sample/ping_ocnBgchem.xml\n",
      "atmos\n",
      "370 variables written for output_sample/ping_atmos.xml\n",
      "land\n",
      "318 variables written for output_sample/ping_land.xml\n",
      "landIce\n",
      "318 variables written for output_sample/ping_landIce.xml\n",
      "atmosChem\n",
      "370 variables written for output_sample/ping_atmosChem.xml\n",
      "aerosol\n",
      "156 variables written for output_sample/ping_aerosol.xml\n"
     ]
    }
   ],
   "source": [
    "single_realms=[ ['ocean'], ['seaIce'],['ocnBgchem'], [ 'atmos'], ['land'],['landIce'], ['atmosChem'],[ 'aerosol' ]]\n",
    "#single_realms=[]\n",
    "for rs in single_realms :\n",
    "    print rs[0]\n",
    "    pingFileForRealmsList(rs[0],rs,svars,prefix=settings['ping_variables_prefix'],\n",
    "                         comments=\" \",exact=False, dummy=True,dummy_with_shape=True,\n",
    "                         filename='output_sample/ping_%s.xml'%rs[0])\n"
   ]
  },
  {
   "cell_type": "code",
   "execution_count": null,
   "metadata": {
    "collapsed": true
   },
   "outputs": [],
   "source": []
  }
 ],
 "metadata": {
  "kernelspec": {
   "display_name": "Python 2",
   "language": "python",
   "name": "python2"
  },
  "language_info": {
   "codemirror_mode": {
    "name": "ipython",
    "version": 2
   },
   "file_extension": ".py",
   "mimetype": "text/x-python",
   "name": "python",
   "nbconvert_exporter": "python",
   "pygments_lexer": "ipython2",
   "version": "2.7.12"
  }
 },
 "nbformat": 4,
 "nbformat_minor": 0
}
