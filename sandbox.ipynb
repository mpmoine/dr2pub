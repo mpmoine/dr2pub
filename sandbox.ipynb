{
 "cells": [
  {
   "cell_type": "code",
   "execution_count": 93,
   "metadata": {
    "collapsed": false
   },
   "outputs": [],
   "source": [
    "mot=\"fehgdacb\"\n",
    "#mot=\"\""
   ]
  },
  {
   "cell_type": "code",
   "execution_count": null,
   "metadata": {
    "collapsed": true
   },
   "outputs": [],
   "source": []
  },
  {
   "cell_type": "code",
   "execution_count": 94,
   "metadata": {
    "collapsed": false
   },
   "outputs": [
    {
     "name": "stdout",
     "output_type": "stream",
     "text": [
      "True\n"
     ]
    }
   ],
   "source": [
    "print bool(mot)"
   ]
  },
  {
   "cell_type": "code",
   "execution_count": 95,
   "metadata": {
    "collapsed": false
   },
   "outputs": [],
   "source": [
    "assert mot, \"le mot est vide\""
   ]
  },
  {
   "cell_type": "code",
   "execution_count": 96,
   "metadata": {
    "collapsed": false
   },
   "outputs": [
    {
     "name": "stdout",
     "output_type": "stream",
     "text": [
      "8\n"
     ]
    }
   ],
   "source": [
    "print len(mot)"
   ]
  },
  {
   "cell_type": "code",
   "execution_count": 97,
   "metadata": {
    "collapsed": false
   },
   "outputs": [
    {
     "name": "stdout",
     "output_type": "stream",
     "text": [
      "['fehgdacb']\n"
     ]
    }
   ],
   "source": [
    "print mot.split()"
   ]
  },
  {
   "cell_type": "code",
   "execution_count": 98,
   "metadata": {
    "collapsed": false
   },
   "outputs": [
    {
     "name": "stdout",
     "output_type": "stream",
     "text": [
      "f\n",
      "e\n",
      "h\n",
      "g\n",
      "d\n",
      "a\n",
      "c\n",
      "b\n"
     ]
    }
   ],
   "source": [
    "for l in mot: print l"
   ]
  },
  {
   "cell_type": "code",
   "execution_count": 99,
   "metadata": {
    "collapsed": false
   },
   "outputs": [
    {
     "name": "stdout",
     "output_type": "stream",
     "text": [
      "['f', 'e', 'h', 'g', 'd', 'a', 'c', 'b']\n"
     ]
    }
   ],
   "source": [
    "lettres=[l for l in mot]\n",
    "print lettres"
   ]
  },
  {
   "cell_type": "code",
   "execution_count": 100,
   "metadata": {
    "collapsed": false
   },
   "outputs": [
    {
     "name": "stdout",
     "output_type": "stream",
     "text": [
      "['a', 'b', 'c', 'd', 'e', 'f', 'g', 'h']\n"
     ]
    }
   ],
   "source": [
    "lettres.sort()\n",
    "print lettres"
   ]
  },
  {
   "cell_type": "code",
   "execution_count": 101,
   "metadata": {
    "collapsed": false
   },
   "outputs": [
    {
     "name": "stdout",
     "output_type": "stream",
     "text": [
      "abcdefgh\n"
     ]
    }
   ],
   "source": [
    "mot_ordonne=\"\"\n",
    "for l in lettres: mot_ordonne+=l \n",
    "print mot_ordonne"
   ]
  },
  {
   "cell_type": "code",
   "execution_count": 102,
   "metadata": {
    "collapsed": false
   },
   "outputs": [
    {
     "name": "stdout",
     "output_type": "stream",
     "text": [
      "h\n"
     ]
    }
   ],
   "source": [
    "print lettres[-1]"
   ]
  },
  {
   "cell_type": "code",
   "execution_count": 103,
   "metadata": {
    "collapsed": false
   },
   "outputs": [
    {
     "name": "stdout",
     "output_type": "stream",
     "text": [
      "a\n"
     ]
    }
   ],
   "source": [
    "print lettre[0]"
   ]
  },
  {
   "cell_type": "code",
   "execution_count": 8,
   "metadata": {
    "collapsed": false
   },
   "outputs": [
    {
     "name": "stdout",
     "output_type": "stream",
     "text": [
      "['3', '2', '1']\n",
      "[3.0, 2.0, 1.0]\n",
      "[1.0, 2.0, 3.0]\n",
      "[3.0, 2.0, 1.0]\n"
     ]
    }
   ],
   "source": [
    "lettres=[\"3\",\"2\",\"1\"]\n",
    "print lettres\n",
    "chiffres=[float(l) for l in lettres]\n",
    "print chiffres\n",
    "chiffres.sort(reverse=False)\n",
    "print chiffres\n",
    "chiffres.sort(reverse=True)\n",
    "print chiffres"
   ]
  },
  {
   "cell_type": "code",
   "execution_count": 105,
   "metadata": {
    "collapsed": false
   },
   "outputs": [
    {
     "name": "stdout",
     "output_type": "stream",
     "text": [
      "False\n",
      "a est vide\n",
      "a n est plus vide\n"
     ]
    }
   ],
   "source": [
    "a=\"\"\n",
    "#a=False\n",
    "print bool(a)\n",
    "if not a: print \"a est vide\"\n",
    "a=a+'coucou'\n",
    "if a: print \"a n est plus vide\""
   ]
  },
  {
   "cell_type": "code",
   "execution_count": 106,
   "metadata": {
    "collapsed": false
   },
   "outputs": [
    {
     "name": "stdout",
     "output_type": "stream",
     "text": [
      "True\n"
     ]
    }
   ],
   "source": [
    "a=('dim:p850',)\n",
    "print bool(a)\n",
    "if \"\" in a: print \"chaine vide dans a\""
   ]
  },
  {
   "cell_type": "code",
   "execution_count": 107,
   "metadata": {
    "collapsed": false
   },
   "outputs": [
    {
     "name": "stdout",
     "output_type": "stream",
     "text": [
      "('dim:p850', 'dim:p700')\n"
     ]
    }
   ],
   "source": [
    "a=('dim:p850',)\n",
    "b=('dim:p700',)\n",
    "print a+b"
   ]
  },
  {
   "cell_type": "code",
   "execution_count": 108,
   "metadata": {
    "collapsed": false
   },
   "outputs": [
    {
     "name": "stdout",
     "output_type": "stream",
     "text": [
      "True\n",
      "chaine vide dans c\n"
     ]
    }
   ],
   "source": [
    "c=('',)\n",
    "print bool(c)\n",
    "if \"\" in c: print \"chaine vide dans c\""
   ]
  },
  {
   "cell_type": "code",
   "execution_count": 184,
   "metadata": {
    "collapsed": false
   },
   "outputs": [
    {
     "name": "stdout",
     "output_type": "stream",
     "text": [
      "True\n"
     ]
    }
   ],
   "source": [
    "# Test\n",
    "values=[85000.,50000.,0.]\n",
    "s=85000.\n",
    "print any (s==v for v in values)"
   ]
  },
  {
   "cell_type": "code",
   "execution_count": 113,
   "metadata": {
    "collapsed": false
   },
   "outputs": [
    {
     "name": "stdout",
     "output_type": "stream",
     "text": [
      "True\n"
     ]
    }
   ],
   "source": [
    "#str = u\"this2009\"; \n",
    "str = u\"23443434\";\n",
    "print str.isnumeric()"
   ]
  },
  {
   "cell_type": "code",
   "execution_count": 178,
   "metadata": {
    "collapsed": false
   },
   "outputs": [
    {
     "name": "stdout",
     "output_type": "stream",
     "text": [
      "<_sre.SRE_Match object at 0x103f99580>\n"
     ]
    }
   ],
   "source": [
    "import re\n",
    "#melange=\"od550aer\"\n",
    "#melange=\"hus27\"\n",
    "melange=\"ta7h\"\n",
    "r = re.compile(\"([a-zA-Z]+)([0-9]+)\")\n",
    "m = r.match(melange)\n",
    "print m"
   ]
  },
  {
   "cell_type": "code",
   "execution_count": 179,
   "metadata": {
    "collapsed": false
   },
   "outputs": [
    {
     "name": "stdout",
     "output_type": "stream",
     "text": [
      "ta\n",
      "7\n"
     ]
    }
   ],
   "source": [
    "if m:\n",
    "    print m.group(1)\n",
    "    print m.group(2)"
   ]
  },
  {
   "cell_type": "code",
   "execution_count": 180,
   "metadata": {
    "collapsed": false
   },
   "outputs": [],
   "source": [
    "if m and melange.endswith(m.group(2)): print \"OK\""
   ]
  },
  {
   "cell_type": "code",
   "execution_count": 188,
   "metadata": {
    "collapsed": false
   },
   "outputs": [
    {
     "name": "stdout",
     "output_type": "stream",
     "text": [
      "clivi200 True\n"
     ]
    }
   ],
   "source": [
    "suffixes=set([\"1000\",\"200\",\"220\",\"500\",\"560\",\"700\",\"840\",\"850\",\"100\"])\n",
    "svar_label=\"clivi200\"\n",
    "print svar_label, any(svar_label.endswith(s) for s in suffixes)"
   ]
  },
  {
   "cell_type": "code",
   "execution_count": 3,
   "metadata": {
    "collapsed": false
   },
   "outputs": [
    {
     "name": "stdout",
     "output_type": "stream",
     "text": [
      "aaaa bbb ccc\n"
     ]
    }
   ],
   "source": [
    "liste=[\"aaaa\",\"bbb\",\"ccc\"]\n",
    "for v in liste: print v,"
   ]
  },
  {
   "cell_type": "code",
   "execution_count": 13,
   "metadata": {
    "collapsed": false
   },
   "outputs": [
    {
     "name": "stdout",
     "output_type": "stream",
     "text": [
      "3\n"
     ]
    }
   ],
   "source": [
    "liste = [\"a\",\"a\",\"a\",\"b\",\"c\",\"c\"]\n",
    "count=liste.count(\"a\")\n",
    "print count"
   ]
  },
  {
   "cell_type": "code",
   "execution_count": 14,
   "metadata": {
    "collapsed": false
   },
   "outputs": [
    {
     "name": "stdout",
     "output_type": "stream",
     "text": [
      "['b', 'c', 'c']\n"
     ]
    }
   ],
   "source": [
    "while \"a\" in liste:\n",
    "    liste.remove(\"a\")\n",
    "print liste"
   ]
  },
  {
   "cell_type": "code",
   "execution_count": 4,
   "metadata": {
    "collapsed": false
   },
   "outputs": [
    {
     "name": "stdout",
     "output_type": "stream",
     "text": [
      "['c', 'b']\n"
     ]
    }
   ],
   "source": [
    "print list(set(liste))"
   ]
  },
  {
   "cell_type": "code",
   "execution_count": 7,
   "metadata": {
    "collapsed": false
   },
   "outputs": [
    {
     "name": "stdout",
     "output_type": "stream",
     "text": [
      "_p1000_p850_p100_p200_\n",
      "_p1000_p850_p100_p200\n"
     ]
    }
   ],
   "source": [
    "suffix=\"_p1000_p850_p100_p200_\"\n",
    "suffix.rstrip('_')\n",
    "print suffix\n",
    "suffix=suffix.rstrip('_')\n",
    "print suffix"
   ]
  },
  {
   "cell_type": "code",
   "execution_count": null,
   "metadata": {
    "collapsed": true
   },
   "outputs": [],
   "source": []
  }
 ],
 "metadata": {
  "anaconda-cloud": {},
  "kernelspec": {
   "display_name": "Python [Root]",
   "language": "python",
   "name": "Python [Root]"
  },
  "language_info": {
   "codemirror_mode": {
    "name": "ipython",
    "version": 2
   },
   "file_extension": ".py",
   "mimetype": "text/x-python",
   "name": "python",
   "nbconvert_exporter": "python",
   "pygments_lexer": "ipython2",
   "version": "2.7.12"
  }
 },
 "nbformat": 4,
 "nbformat_minor": 0
}
