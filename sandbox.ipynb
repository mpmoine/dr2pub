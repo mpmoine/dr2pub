{
 "cells": [
  {
   "cell_type": "code",
   "execution_count": null,
   "metadata": {
    "collapsed": false
   },
   "outputs": [],
   "source": [
    "mot=\"fehgdacb\"\n",
    "#mot=\"\""
   ]
  },
  {
   "cell_type": "code",
   "execution_count": null,
   "metadata": {
    "collapsed": false
   },
   "outputs": [],
   "source": [
    "print bool(mot)"
   ]
  },
  {
   "cell_type": "code",
   "execution_count": null,
   "metadata": {
    "collapsed": false
   },
   "outputs": [],
   "source": [
    "assert mot, \"le mot est vide\""
   ]
  },
  {
   "cell_type": "code",
   "execution_count": null,
   "metadata": {
    "collapsed": false
   },
   "outputs": [],
   "source": [
    "print len(mot)"
   ]
  },
  {
   "cell_type": "code",
   "execution_count": null,
   "metadata": {
    "collapsed": false
   },
   "outputs": [],
   "source": [
    "print mot.split()"
   ]
  },
  {
   "cell_type": "code",
   "execution_count": null,
   "metadata": {
    "collapsed": false
   },
   "outputs": [],
   "source": [
    "for l in mot: print l"
   ]
  },
  {
   "cell_type": "code",
   "execution_count": null,
   "metadata": {
    "collapsed": false
   },
   "outputs": [],
   "source": [
    "lettres=[l for l in mot]\n",
    "print lettres"
   ]
  },
  {
   "cell_type": "code",
   "execution_count": null,
   "metadata": {
    "collapsed": false
   },
   "outputs": [],
   "source": [
    "lettres.sort()\n",
    "print lettres"
   ]
  },
  {
   "cell_type": "code",
   "execution_count": null,
   "metadata": {
    "collapsed": false
   },
   "outputs": [],
   "source": [
    "mot_ordonne=\"\"\n",
    "for l in lettres: mot_ordonne+=l \n",
    "print mot_ordonne"
   ]
  },
  {
   "cell_type": "code",
   "execution_count": null,
   "metadata": {
    "collapsed": false
   },
   "outputs": [],
   "source": [
    "print lettres[-1]"
   ]
  },
  {
   "cell_type": "code",
   "execution_count": null,
   "metadata": {
    "collapsed": false
   },
   "outputs": [],
   "source": [
    "print lettre[0]"
   ]
  },
  {
   "cell_type": "code",
   "execution_count": null,
   "metadata": {
    "collapsed": false
   },
   "outputs": [],
   "source": [
    "lettres=[\"3\",\"2\",\"1\"]\n",
    "print lettres\n",
    "chiffres=[float(l) for l in lettres]\n",
    "print chiffres\n",
    "chiffres.sort(reverse=False)\n",
    "print chiffres\n",
    "chiffres.sort(reverse=True)\n",
    "print chiffres"
   ]
  },
  {
   "cell_type": "code",
   "execution_count": null,
   "metadata": {
    "collapsed": false
   },
   "outputs": [],
   "source": [
    "a=\"\"\n",
    "#a=False\n",
    "print bool(a)\n",
    "if not a: print \"a est vide\"\n",
    "a=a+'coucou'\n",
    "if a: print \"a n est plus vide\""
   ]
  },
  {
   "cell_type": "code",
   "execution_count": null,
   "metadata": {
    "collapsed": false
   },
   "outputs": [],
   "source": [
    "a=('dim:p850',)\n",
    "print bool(a)\n",
    "if \"\" in a: print \"chaine vide dans a\""
   ]
  },
  {
   "cell_type": "code",
   "execution_count": null,
   "metadata": {
    "collapsed": false
   },
   "outputs": [],
   "source": [
    "a=('dim:p850',)\n",
    "b=('dim:p700',)\n",
    "print a+b"
   ]
  },
  {
   "cell_type": "code",
   "execution_count": null,
   "metadata": {
    "collapsed": false
   },
   "outputs": [],
   "source": [
    "c=('',)\n",
    "print bool(c)\n",
    "if \"\" in c: print \"chaine vide dans c\""
   ]
  },
  {
   "cell_type": "code",
   "execution_count": null,
   "metadata": {
    "collapsed": false
   },
   "outputs": [],
   "source": [
    "# Test\n",
    "values=[85000.,50000.,0.]\n",
    "s=85000.\n",
    "print any (s==v for v in values)"
   ]
  },
  {
   "cell_type": "code",
   "execution_count": null,
   "metadata": {
    "collapsed": false
   },
   "outputs": [],
   "source": [
    "#str = u\"this2009\"; \n",
    "str = u\"23443434\";\n",
    "print str.isnumeric()"
   ]
  },
  {
   "cell_type": "code",
   "execution_count": null,
   "metadata": {
    "collapsed": false
   },
   "outputs": [],
   "source": [
    "import re\n",
    "#melange=\"od550aer\"\n",
    "#melange=\"hus27\"\n",
    "melange=\"ta7h\"\n",
    "r = re.compile(\"([a-zA-Z]+)([0-9]+)\")\n",
    "m = r.match(melange)\n",
    "print m"
   ]
  },
  {
   "cell_type": "code",
   "execution_count": null,
   "metadata": {
    "collapsed": false
   },
   "outputs": [],
   "source": [
    "if m:\n",
    "    print m.group(1)\n",
    "    print m.group(2)"
   ]
  },
  {
   "cell_type": "code",
   "execution_count": null,
   "metadata": {
    "collapsed": false
   },
   "outputs": [],
   "source": [
    "if m and melange.endswith(m.group(2)): print \"OK\""
   ]
  },
  {
   "cell_type": "code",
   "execution_count": null,
   "metadata": {
    "collapsed": false
   },
   "outputs": [],
   "source": [
    "suffixes=set([\"1000\",\"200\",\"220\",\"500\",\"560\",\"700\",\"840\",\"850\",\"100\"])\n",
    "svar_label=\"clivi200\"\n",
    "print svar_label, any(svar_label.endswith(s) for s in suffixes)"
   ]
  },
  {
   "cell_type": "code",
   "execution_count": null,
   "metadata": {
    "collapsed": false
   },
   "outputs": [],
   "source": [
    "liste=[\"aaaa\",\"bbb\",\"ccc\"]\n",
    "for v in liste: print v,"
   ]
  },
  {
   "cell_type": "code",
   "execution_count": null,
   "metadata": {
    "collapsed": false
   },
   "outputs": [],
   "source": [
    "liste = [\"a\",\"a\",\"a\",\"b\",\"c\",\"c\"]\n",
    "count=liste.count(\"a\")\n",
    "print count"
   ]
  },
  {
   "cell_type": "code",
   "execution_count": null,
   "metadata": {
    "collapsed": false
   },
   "outputs": [],
   "source": [
    "while \"a\" in liste:\n",
    "    liste.remove(\"a\")\n",
    "print liste"
   ]
  },
  {
   "cell_type": "code",
   "execution_count": null,
   "metadata": {
    "collapsed": false
   },
   "outputs": [],
   "source": [
    "print list(set(liste))"
   ]
  },
  {
   "cell_type": "code",
   "execution_count": null,
   "metadata": {
    "collapsed": false
   },
   "outputs": [],
   "source": [
    "suffix=\"_p1000_p850_p100_p200_\"\n",
    "suffix.rstrip('_')\n",
    "print suffix\n",
    "suffix=suffix.rstrip('_')\n",
    "print suffix"
   ]
  },
  {
   "cell_type": "code",
   "execution_count": null,
   "metadata": {
    "collapsed": false
   },
   "outputs": [],
   "source": [
    "import os\n",
    "print os.getcwd()"
   ]
  },
  {
   "cell_type": "code",
   "execution_count": null,
   "metadata": {
    "collapsed": false
   },
   "outputs": [],
   "source": [
    "from os import path as os_path\n",
    "print os_path.abspath(os_path.split(__file__)[0])"
   ]
  },
  {
   "cell_type": "code",
   "execution_count": null,
   "metadata": {
    "collapsed": false
   },
   "outputs": [],
   "source": [
    "import re\n",
    "r = re.compile(\"([a-zA-Z]+)([0-9]+)\")\n",
    "varname=\"co2mass12\"\n",
    "mvar=r.match(varname)\n",
    "print mvar.group(1)"
   ]
  },
  {
   "cell_type": "code",
   "execution_count": null,
   "metadata": {
    "collapsed": false
   },
   "outputs": [],
   "source": [
    "varname=\"cli\"\n",
    "print varname.endswith(\"Clim\")\n",
    "print varname.rstrip(\"Clim\")\n",
    "print varname"
   ]
  },
  {
   "cell_type": "code",
   "execution_count": null,
   "metadata": {
    "collapsed": false
   },
   "outputs": [],
   "source": [
    "varname=\"co2massClim\"\n",
    "print varname.endswith(\"Clim\")\n",
    "split_varname=varname.split(\"Clim\")\n",
    "print split_varname[0]"
   ]
  },
  {
   "cell_type": "code",
   "execution_count": null,
   "metadata": {
    "collapsed": false
   },
   "outputs": [],
   "source": [
    "varname=\"cli\"\n",
    "print varname.endswith(\"Clim\")\n",
    "split_varname=varname.split(\"Clim\")\n",
    "print split_varname[0]"
   ]
  },
  {
   "cell_type": "code",
   "execution_count": null,
   "metadata": {
    "collapsed": false
   },
   "outputs": [],
   "source": [
    "varname=\"DebutClimFin\"\n",
    "print varname.endswith(\"Clim\")\n",
    "split_varname=varname.split(\"Clim\")\n",
    "print split_varname[0]"
   ]
  },
  {
   "cell_type": "code",
   "execution_count": null,
   "metadata": {
    "collapsed": false
   },
   "outputs": [],
   "source": [
    "a=True\n",
    "print type(a)==type(bool())"
   ]
  },
  {
   "cell_type": "code",
   "execution_count": null,
   "metadata": {
    "collapsed": false
   },
   "outputs": [],
   "source": [
    "a=' '\n",
    "if a: print \"a est vrai\"\n",
    "if not a: print \"a est faux\"\n",
    "if a.strip(' '): print \"a est vrai\"\n",
    "if not a.strip(' '): print \"a est faux\""
   ]
  },
  {
   "cell_type": "code",
   "execution_count": null,
   "metadata": {
    "collapsed": false
   },
   "outputs": [],
   "source": [
    "a=False\n",
    "print a\n",
    "a=''\n",
    "print bool(a)"
   ]
  },
  {
   "cell_type": "code",
   "execution_count": null,
   "metadata": {
    "collapsed": false
   },
   "outputs": [],
   "source": [
    "ages={\"alex\":12,\"ariane\":12}\n",
    "for k,v in ages.items(): print k,v"
   ]
  },
  {
   "cell_type": "code",
   "execution_count": null,
   "metadata": {
    "collapsed": false
   },
   "outputs": [],
   "source": [
    "new_age={\"alex\":13}\n",
    "ages.update(new_age)\n",
    "for k,v in ages.items(): print k,v"
   ]
  },
  {
   "cell_type": "code",
   "execution_count": null,
   "metadata": {
    "collapsed": true
   },
   "outputs": [],
   "source": []
  }
 ],
 "metadata": {
  "anaconda-cloud": {},
  "kernelspec": {
   "display_name": "Python [Root]",
   "language": "python",
   "name": "Python [Root]"
  },
  "language_info": {
   "codemirror_mode": {
    "name": "ipython",
    "version": 2
   },
   "file_extension": ".py",
   "mimetype": "text/x-python",
   "name": "python",
   "nbconvert_exporter": "python",
   "pygments_lexer": "ipython2",
   "version": "2.7.12"
  }
 },
 "nbformat": 4,
 "nbformat_minor": 0
}
