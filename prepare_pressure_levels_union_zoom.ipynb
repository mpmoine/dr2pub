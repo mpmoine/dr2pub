{
 "cells": [
  {
   "cell_type": "markdown",
   "metadata": {},
   "source": [
    "# Notebook pour préparer l'union des niveaux pression et la creation des axes/zoom appropriés"
   ]
  },
  {
   "cell_type": "code",
   "execution_count": null,
   "metadata": {
    "collapsed": true
   },
   "outputs": [],
   "source": [
    "# Select your laboratory among: 'cnrm', 'cerfacs', 'ipsl'\n",
    "lab='cerfacs'\n"
   ]
  },
  {
   "cell_type": "markdown",
   "metadata": {},
   "source": [
    "## Lab settings"
   ]
  },
  {
   "cell_type": "code",
   "execution_count": null,
   "metadata": {
    "collapsed": false
   },
   "outputs": [],
   "source": [
    "if lab=='cnrm' or lab=='cerfacs':\n",
    "    # This dictionnary should be the same as the one used for creating file_defs.\n",
    "    # Here , we quoted only those entries useful for creating ping files\n",
    "    settings={\n",
    "        #'mips' : {'AerChemMIP','C4MIP','CFMIP','DAMIP', 'FAFMIP' , 'GeoMIP','GMMIP','ISMIP6',\\\n",
    "        #                  'LS3MIP','LUMIP','OMIP','PMIP','RFMIP','ScenarioMIP','CORDEX','SIMIP'},\n",
    "        # If you want to get comprehensive ping files; use :\n",
    "        'mips' : {\"CMIP6\", \"AerChemMIP\", \"C4MIP\", \"CFMIP\", \"DAMIP\", \"DCPP\", \"FAFMIP\", \"GeoMIP\", \"GMMIP\", \n",
    "                  \"HighResMIP\", \"ISMIP6\", \"LS3MIP\", \"LUMIP\", \"OMIP\", \"PDRMIP\", \"PMIP\", \"RFMIP\", \"ScenarioMIP\", \n",
    "                  \"SolarMIP\", \"VolMIP\", \"CORDEX\", \"DynVar\", \"SIMIP\", \"VIACSAB\", \"SPECS\", \"CCMI\", \"CMIP5\", \n",
    "                  \"CMIP\", \"DECK\"},\n",
    "        'max_priority' : 3,\n",
    "        'tierMax'      : 3,\n",
    "       # Each XIOS  context does adress a number of realms\n",
    "        'realms_per_context' : { 'nemo': ['seaIce', 'ocean', 'ocean seaIce', 'ocnBgchem', 'seaIce ocean'] ,\n",
    "                              'arpsfx' : ['atmos', 'atmos atmosChem', 'aerosol', 'atmos land', 'land',\n",
    "                                         'landIce land',  'aerosol land','land landIce',  'landIce', ],\n",
    "                              }, \n",
    "        \"ping_variables_prefix\" : \"CMIP6_\",\n",
    "        # We account for a file listing the variables which the lab does not want to produce \n",
    "        # Format : MIP varname as first column, comment lines begin with '#'\n",
    "        #\"excluded_vars_file\":\"/cnrm/est/USERS/senesi/public/CMIP6/data_request/cnrm/excluded_vars.txt\",\n",
    "        \"excluded_vars_file\" : None,\n",
    "        \"excluded_vars\" : [],\n",
    "        # We account for a list of variables which the lab wants to produce in some cases\n",
    "        \"listof_home_vars\":None,\n",
    "        #\"listof_home_vars\": None,\n",
    "        \"path_extra_tables\":None,\n",
    "        }\n",
    "    "
   ]
  },
  {
   "cell_type": "code",
   "execution_count": null,
   "metadata": {
    "collapsed": false
   },
   "outputs": [],
   "source": [
    "if lab=='cerfacs':  \n",
    "    #settings[\"mips\"]={'HighResMIP','DCPP'}\n",
    "    settings[\"listof_home_vars\"]=\"./inputs/my_listof_home_vars.txt\"\n",
    "    settings[\"path_extra_tables\"]=\"./inputs/extra_Tables\"\n",
    "    "
   ]
  },
  {
   "cell_type": "code",
   "execution_count": null,
   "metadata": {
    "collapsed": true
   },
   "outputs": [],
   "source": [
    "if lab=='ipsl':\n",
    "    # This dictionnary should be the same as the one used for creating file_defs.\n",
    "    # Here , we quoted only those entries useful for creating ping files\n",
    "    settings={\n",
    "        #'mips' : {'AerChemMIP','C4MIP','CFMIP','DAMIP', 'FAFMIP' , 'GeoMIP','GMMIP','ISMIP6',\\\n",
    "        #                  'LS3MIP','LUMIP','OMIP','PMIP','RFMIP','ScenarioMIP','CORDEX','SIMIP'},\n",
    "        # If you want to get comprehensive ping files; use :\n",
    "        'mips' : {\"CMIP6\", \"AerChemMIP\", \"C4MIP\", \"CFMIP\", \"DAMIP\", \"DCPP\", \"FAFMIP\", \"GeoMIP\", \"GMMIP\", \n",
    "                  \"HighResMIP\", \"ISMIP6\", \"LS3MIP\", \"LUMIP\", \"OMIP\", \"PDRMIP\", \"PMIP\", \"RFMIP\", \"ScenarioMIP\", \n",
    "                  \"SolarMIP\", \"VolMIP\", \"CORDEX\", \"DynVar\", \"SIMIP\", \"VIACSAB\", \"SPECS\", \"CCMI\", \"CMIP5\", \n",
    "                  \"CMIP\", \"DECK\"},\n",
    "        'max_priority' : 3,\n",
    "        'tierMax'      : 3,\n",
    "       # Each XIOS  context does adress a number of realms\n",
    "        'realms_per_context' : { \n",
    "            'nemo': ['seaIce', 'ocean', 'ocean seaIce', 'ocnBgchem', 'seaIce ocean'],\n",
    "            'lmdz' : ['atmos', 'atmos land'] , \n",
    "            'orchidee': ['land', 'landIce land',  'land landIce', 'landIce'] ,\n",
    "                              }, \n",
    "        \"ping_variables_prefix\" : \"CMIP6_\",\n",
    "        # We account for a file listing the variables which the lab does not want to produce \n",
    "        # Format : MIP varname as first column, comment lines begin with '#'\n",
    "        \"excluded_vars_file\" : None,\n",
    "        \"excluded_vars\" : None,\n",
    "        # We account for a list of variables which the lab wants to produce in some cases\n",
    "        \"listof_home_vars\":None,\n",
    "        \"path_extra_tables\":None,\n",
    "        } \n",
    "    "
   ]
  },
  {
   "cell_type": "code",
   "execution_count": null,
   "metadata": {
    "collapsed": false
   },
   "outputs": [],
   "source": [
    "from dr2xml import gather_AllSimpleVars, isVertDim #, create_axis_def"
   ]
  },
  {
   "cell_type": "markdown",
   "metadata": {},
   "source": [
    "## Select all variables to consider, based on lab settings"
   ]
  },
  {
   "cell_type": "code",
   "execution_count": null,
   "metadata": {
    "collapsed": false
   },
   "outputs": [],
   "source": [
    "# Attention: appel a select_CMORvars_for_lab sous-jacent sans filtre par experience\n",
    "svars=gather_AllSimpleVars(settings,\"historical\",printout=False)\n"
   ]
  },
  {
   "cell_type": "markdown",
   "metadata": {},
   "source": [
    "# Nouvelles fonctions  (ou évolution d'anciennes) pour union/zoom"
   ]
  },
  {
   "cell_type": "code",
   "execution_count": null,
   "metadata": {
    "collapsed": false
   },
   "outputs": [],
   "source": [
    "# Fonction create_xios_aux_elmts_defs non utilisee dans ce notebook, juste preparee pour implantation dans dr2xml\n",
    "# mpmoine_union_modif: renommage de la fonction 'create_xios_field_ref' en 'create_xios_aux_elmts_defs'\n",
    "def create_xios_aux_elmts_defs(sv,alias,table,lset,sset,end_field_defs,\n",
    "    field_defs,axis_defs,domain_defs,dummies,context,remap_domain,pingvars) :\n",
    "    \"\"\"\n",
    "    Create a field_ref for a simplified variable object sv (with\n",
    "    lab prefix for the variable name) and store it in end_field_defs\n",
    "    under a key=shape\n",
    "    \n",
    "    Add field definitions for intermediate variables in dic field_defs\n",
    "    Add axis  definitions for interpolations in dic axis_defs\n",
    "    Use pingvars as the list of variables actually defined in ping file\n",
    "\n",
    "    \"\"\"\n",
    "    # By convention, field references are built as prefix_<MIP_variable_name>\n",
    "    # Such references must be fulfilled using a dedicated filed_def\n",
    "    # section implementing the match between legacy model field names\n",
    "    # and such names, called 'ping section'\n",
    "    #\n",
    "    # Identify which 'ping' variable ultimatley matches the requested\n",
    "    # CMOR variable, based on shapes. This may involve building\n",
    "    # intermediate variables, in order to  apply corresponding operations\n",
    "\n",
    "    # The preferred order of operation is : vertical interp (which\n",
    "    # is time-dependant), time-averaging, horizontal operations (using\n",
    "    # expr=@this)\n",
    "    \n",
    "    # nextvar is the field name provided as output of the last\n",
    "    # operation currently defined\n",
    "    # mpmoine_union_modif:create_xios_field_ref: on supprime l'usage de netxvar\n",
    "    #\n",
    "    #--------------------------------------------------------------------\n",
    "    # Build XIOS axis elements (stored in axis_defs)\n",
    "    # Proceed with vertical interpolation if needed\n",
    "    #---\n",
    "    # Build XIOS auxilliary field elements (stored in field_defs)\n",
    "    #--------------------------------------------------------------------\n",
    "    ssh=sv.spatial_shp\n",
    "    prefix=lset[\"ping_variables_prefix\"]\n",
    "    # mpmoine_union_modif:create_xios_field_ref: recup de lwps\n",
    "    lwps=sv.label_without_psuffix\n",
    "    # TBD Should handle singletons here\n",
    "    # TBD Should ensure that various additionnal dims are duly documented by model or pingfile (e.g. tau)\n",
    "    if ssh[0:4] in ['XY-H','XY-P'] or ssh[0:3] == 'Y-P' :\n",
    "        # TBD : for now, do not interpolate vertically\n",
    "        # mpmoine_temporaire:je reactive l'ecriture des axis_def: return\n",
    "        # mpmoine_last_modif:create_xios_field_ref: on recupere maintenant 'dimids' depuis svar\n",
    "        # mpmoine_future_modif:create_xios_field_ref: on utilise maintenant sv.sdims pour analyser les dimension\n",
    "        # mpmoine_question: je ne comprend pas l'usage de nextvar... A priori on ne peut pas avoir plus d'une dimension verticale ?\n",
    "        for sd in sv.sdims.values():\n",
    "            if isVertDim(sd):\n",
    "                # mpmoine_union_modif:create_xios_field_ref: on supprime l'usage de netxvar\n",
    "                # mpmoine_union_modif:create_xios_field_ref: passage par 2 niveaux de field id auxiliaires rebond (alias et alias2)\n",
    "                if sd.is_zoom_of:\n",
    "                    alias+=\"_\"+sd.label\n",
    "                    alias2=prefix+\"_\"+lwps+\"_union\"\n",
    "                    cible=prefix+\"_\"+lwps\n",
    "                    axis_key=sd.zoom_label \n",
    "                else:\n",
    "                    alias+=\"_\"+sd.label\n",
    "                    alias2=False\n",
    "                    cible=prefix+\"_\"+lwps\n",
    "                    axis_key=sd.label \n",
    "                if not cible in pingvars:\n",
    "                    print \"Warning: field id\",cible,\"expected in pingfile but not found.\"\n",
    "                if not alias in pingvars:\n",
    "                    # Construct an axis for interpolating to this dimension\n",
    "                    # mpmoine_future_modif:create_xios_field_ref: suppression de l'argument 'field_defs' de create_axis_def qui n'est pas utilise\n",
    "                    # only zoom or normal axis attached to svar, axis for unions of plevs are managed elsewhere\n",
    "                    axis_defs[axis_key]=create_axis_def(sd,lwps,lset[\"ping_variables_prefix\"])\n",
    "                    # Construct a field def for the interpolated variable\n",
    "                    if alias2:\n",
    "                        field_defs[alias]='<field id=\"%-25s field_ref=\"%-25s axis_ref=\"%-10s/>'\\\n",
    "                        %(alias+'\"',alias2+'\"',sd.zoom_label+'\"')\n",
    "                        field_defs[alias2]='<field id=\"%-25s field_ref=\"%-25s axis_ref=\"%-10s/>'\\\n",
    "                        %(alias2+'\"',cible+'\"',sd.is_zoom_of+'\"')\n",
    "                    else:\n",
    "                        field_defs[alias]='<field id=\"%-25s field_ref=\"%-25s axis_ref=\"%-10s/>'\\\n",
    "                        %(alias+'\"',cible+'\"',sd.label+'\"')                    \n",
    "                #TBD what to do for singleton dimension ?\n",
    "    #\n",
    "    #--------------------------------------------------------------------\n",
    "    # Build XIOS domain elements (stored in domain_defs)\n",
    "    #--------------------------------------------------------------------\n",
    "     # Analyze 'outermost' time cell_method and translate to 'operation'\n",
    "    operation,detect_missing = analyze_cell_time_method(sv.cell_methods,sv.label,table)\n",
    "    # Horizontal operations. Can include horiz re-gridding specification\n",
    "    # Compute domain name, define it if needed\n",
    "    domain_ref=None\n",
    "    if ssh[0:2] == 'Y-' : #zonal mean and atm zonal mean on pressure levels\n",
    "        # TBD should remap before zona mean\n",
    "        domain_ref=\"zonal_mean\"\n",
    "        domain_defs[domain_ref]='<domain id=\"%s\"/>'%domain_ref\n",
    "    elif ssh[0:2] == 'S-' : #COSP sites; cas S-na, S-A, S-AH\n",
    "        domain_ref=\"COSP_sites\"\n",
    "        domain_defs[domain_ref]='<domain id=\"%s\"/>'%domain_ref\n",
    "    elif ssh[0:2] == 'L-' :\n",
    "        domain_ref=\"COSP_curtain\"\n",
    "        domain_defs[domain_ref]='<domain id=\"%s\"/>'%domain_ref\n",
    "    elif ssh == 'TR-na' or ssh == 'TRS-na' : #transects,   oce or SI\n",
    "        pass\n",
    "    elif ssh[0:3] == 'XY-'  : # includes 'XY-AH' : model half-levels\n",
    "        if remap_domain : domain_ref=remap_domain\n",
    "    elif ssh[0:3] == 'YB-'  : #basin zonal mean or section\n",
    "        pass\n",
    "    elif ssh      == 'na-na'  : # global means or constants\n",
    "        pass \n",
    "    else :\n",
    "        raise(dr2xml_error(\"Issue with un-managed spatial shape %s\"%ssh))\n",
    "    #\n",
    "    #--------------------------------------------------------------------\n",
    "    # Build XIOS field elements (stored in end_field_defs)\n",
    "    # including their CMOR attributes\n",
    "    #--------------------------------------------------------------------\n",
    "    rep='  <field field_ref=\"%s\" name=\"%s\" ts_enabled=\"true\" '% \\\n",
    "        (alias,sv.label)\n",
    "    rep+=' operation=\"%s\" detect_missing_value=\"%s\" default_value=\"1.e+20\"'% \\\n",
    "        ( operation,detect_missing)\n",
    "    rep+=' cell_methods=\"%s\" cell_methods_mode=\"overwrite\"'% sv.cell_methods\n",
    "    rep+='>\\n'\n",
    "    #\n",
    "    comment=None\n",
    "    # Process experiment-specific comment for the variable\n",
    "    if sv.label in sset['comments'] :\n",
    "        comment=sset['comments'][sv.label] \n",
    "    else: # Process lab-specific comment for the variable\n",
    "        if sv.label in lset['comments'] : \n",
    "            comment=sset['comments'][sv.label] \n",
    "    if comment : rep+=wrv('comment',comment) #TBI \n",
    "    #\n",
    "    rep+=wrv(\"standard_name\",sv.stdname)\n",
    "    #\n",
    "    desc=sv.description\n",
    "    if desc : desc=desc.replace(\">\",\"\").replace(\"<\",\"\")\n",
    "    rep+=wrv(\"description\",desc)\n",
    "    #\n",
    "    rep+=wrv(\"long_name\",sv.long_name)\n",
    "    if sv.positive != \"None\" and sv.positive != \"\" :\n",
    "        rep+=wrv(\"positive\",sv.positive) \n",
    "    rep+=wrv('history','none')\n",
    "    rep+=wrv('units',sv.stdunits)\n",
    "    # mpmoine_last_modif: ajout de missing_value pour satisfaire le standard attendu par CMOR\n",
    "    # mpmoine_last_modif: missing_valueS pour l'instant pour que ça passe le CMORchecker (issue)\n",
    "    rep+=wrv('missing_values',sv.missing,num_type=\"double\")\n",
    "    rep+=wrv('cell_measures',sv.cell_measures)\n",
    "    rep+='     </field>\\n'\n",
    "    #\n",
    "    shape=domain_ref\n",
    "    #shape=sv.spatial_shp\n",
    "    if shape not in end_field_defs : end_field_defs[shape]=[]\n",
    "    end_field_defs[shape].append(rep)"
   ]
  },
  {
   "cell_type": "code",
   "execution_count": null,
   "metadata": {
    "collapsed": true
   },
   "outputs": [],
   "source": [
    "# mpmoine_future_modif:create_axis_def: suppression de l'argument 'field_defs' qui n'est pas utilise\n",
    "def create_axis_def(sdim,prefix):\n",
    "    \"\"\" \n",
    "    From a  simplified Dim object, returns an Xios axis definition \n",
    "    \"\"\"\n",
    "    # mpmoine_future_modif:create_axis_def: plusieurs modifs car on passe maintenant sdim en argument et non dim_name_or_obj\n",
    "    if sdim is None:\n",
    "        print \"Warning: cannot create an axis_def from \"+sdim\n",
    "        return None\n",
    "\n",
    "    # mpmoine_union_modif:create_axis_def: nbre de valeurs de l'axe determine aussi si on est en dim singleton\n",
    "    if sdim.requested:\n",
    "        # mpmoine_future_modif: je vire le separateur \" \", pour regler le pb des \" \" successifs\n",
    "        glo_list=sdim.requested.strip(\" \").split()\n",
    "    else:\n",
    "        glo_list=sdim.value.strip(\" \").split()\n",
    "    glo_list_num=[float(v) for v in glo_list]\n",
    "    n_glo=len(glo_list)\n",
    "\n",
    "    # mpmoine_union_modif:create_axis_def: traitement du cas non zoom (classique, comme avant)\n",
    "    if not sdim.is_zoom_of:\n",
    "        # Axis is not a zoom of another, write axis_def normally (with value, interpolate_axis,etc.)\n",
    "        rep='<axis id=\"%s\" '%sdim.label\n",
    "        if not sdim.positive in [ None, \"\" ] :\n",
    "            rep+='positive=\"%s\" '%sdim.positive\n",
    "        if n_glo>1 :\n",
    "            # Case of a non-degenerated dimension (not a singleton)\n",
    "            rep+='n_glo=\"%g\" '%n_glo\n",
    "            # mpmoine_future_modif: je supprime le -1 pour n_glo car regle avec rstrip/split()\n",
    "            rep+='value=\"(0,%g) [%s]\"'%(n_glo,sdim.requested)\n",
    "        else:\n",
    "            if n_glo!=1:  \n",
    "                print \"Warning: axis is sigleton but has\",n_glo,\"values\"\n",
    "                return None\n",
    "            # Singleton case\n",
    "            rep+='n_glo=\"%g\" '%n_glo\n",
    "            rep+='value=\"(0,0)[%s]\"'%sdim.value\n",
    "        rep+=' name=\"%s\"'%sdim.out_name\n",
    "        rep+=' standard_name=\"%s\"'%sdim.stdname\n",
    "        rep+=' long_name=\"%s\"'%sdim.long_name\n",
    "        rep+=' unit=\"%s\"'%sdim.units\n",
    "        rep+='>'\n",
    "        if sdim.stdname==\"air_pressure\" : coordname=prefix+\"pfull\"\n",
    "        if sdim.stdname==\"altitude\"     : coordname=prefix+\"zg\"\n",
    "        rep+='\\n\\t<interpolate_axis type=\"polynomial\" order=\"1\"'\n",
    "        rep+=' coordinate=\"%s\"/>\\n</axis>'%coordname\n",
    "        return rep\n",
    "    # mpmoine_union_modif:create_axis_def: traitement du cas zoom\n",
    "    else:\n",
    "        # Axis is subset of another, write it as a zoom_axis\n",
    "        rep='<axis id=\"%s\"'%sdim.zoom_label\n",
    "        rep+=' axis_ref=\"%s\">\\n'%sdim.is_zoom_of\n",
    "        rep+='\\t<zoom_axis begin=\"%g\" n=\"%g\"/>\\n'%(glo_list_num[-1],n_glo)\n",
    "        rep+='</axis>'\n",
    "        return rep"
   ]
  },
  {
   "cell_type": "code",
   "execution_count": null,
   "metadata": {
    "collapsed": true
   },
   "outputs": [],
   "source": [
    "# mpmoine_future_modif: liste des suffixes de noms de variables reperant un ou plusieurs niveaux pression\n",
    "multi_plev_suffixes=set([\"10\",\"19\",\"23\",\"27\",\"39\",\"3\",\"3h\",\"4\",\"7c\",\"7h\",\"8\",\"12\"])\n",
    "#multi_plev_suffixes=set()\n",
    "single_plev_suffixes=set([\"1000\",\"200\",\"220\",\"500\",\"560\",\"700\",\"840\",\"850\",\"100\"])"
   ]
  },
  {
   "cell_type": "code",
   "execution_count": null,
   "metadata": {
    "collapsed": true
   },
   "outputs": [],
   "source": [
    "# mpmoine_future_modif: nouvelle classe simple_Dim\n",
    "# A class for unifying grid info coming from DR and extra_Tables\n",
    "# mpmoine_future_modif:simple_Dim: ajout de l'attribut 'is_zoom_of'\n",
    "# mpmoine_zoom_modif:simple_Dim: ajout de l'attribut 'zoom_label'\n",
    "#\n",
    "class simple_Dim(object):\n",
    "    def __init__(self):\n",
    "        self.label        = False\n",
    "        self.zoom_label   = False\n",
    "        self.stdname      = False\n",
    "        self.long_name    = False\n",
    "        self.positive     = False\n",
    "        self.requested    = \"\"\n",
    "        self.ordered_values = []\n",
    "        self.value        = False\n",
    "        self.out_name     = False\n",
    "        self.units        = False\n",
    "        self.is_zoom_of   = False\n",
    "        self.is_union_for = []"
   ]
  },
  {
   "cell_type": "code",
   "execution_count": null,
   "metadata": {
    "collapsed": false
   },
   "outputs": [],
   "source": [
    "def create_xios_axis_for_plevs_unions(svars,plev_sfxs,printout=False): \n",
    "    \"\"\"\n",
    "    Objective of this function is to optimize Xios vertical interpolation requested in pressure levels. \n",
    "    Process in 4 steps:\n",
    "    * First, search pressure levels unions for each physical field (identified by 'label_without_suffix' e.g. \"varX\") \n",
    "      and build a dictionnary:\n",
    "        dict_plevs is a 3-levels intelaced dictionnary containing \n",
    "        for each var (key=svar label_without_psuffix in e.g.:\"varX\"), \n",
    "        the list of svar (key=svar label in e.g.:\"svar1\", value=svar object in e.g.:svar1)\n",
    "        per pressure levels set (key=sdim label in e.g.:\"plevA\"):\n",
    "        { \"varX\":\n",
    "              { \"plevA\": {\"svar1\":svar1,\"svar2\":svar2,\"svar3\":svar3},\n",
    "                \"plevB\": {\"svar4\":svar4,\"svar5\":svar5},\n",
    "                \"plevC\": {\"svar6\":svar6} },\n",
    "           \"varY\":\n",
    "             { \"plevA\": {\"svar7\":svar7},\n",
    "               \"plevD\": {\"svar8\":svar8,\"svar9\":svar9} }\n",
    "           \"varZ\":\n",
    "             { \"plevB\": {\"svar10\":svar10},\n",
    "               \"plevC\": {\"svar11\":svar11,\"svar12\":svar12},\n",
    "               \"plevA\": {\"svar13\":svar13} }\n",
    "        }\n",
    "    * Second, create simple dim object for union of plevs (even if twice -or more- the same union)\n",
    "    * Third, eliminate redundant unions, i.e. having the same list of ordered level values\n",
    "      and create Xios axis_defs correponding to non-redundant unions\n",
    "    * Fourth, for the pressure vertical dimension of each simple var,  tell to which union axis \n",
    "      its vertical dimension is zoom of.\n",
    "    \"\"\"\n",
    "    #\n",
    "    # First, search plev unions for each label_without_psuffix and build dict_plevs\n",
    "    #------------------------------------------------------------------------------\n",
    "    dict_plevs={}\n",
    "    for sv in svars:\n",
    "        if not sv.modeling_realm: print \"Warning: no modeling_realm associated to:\", \\\n",
    "                                            sv.label, sv.mipTable, sv.mip_era\n",
    "        for sd in sv.sdims.values():\n",
    "            if sd.label.startswith(\"p\") and any(sd.label.endswith(s) for s in plev_sfxs): # couvre les dimensions verticales de type 'plev7h' ou 'p850'\n",
    "                lwps=sv.label_without_psuffix\n",
    "                sv.sdims[sd.label].is_zoom_of=\"SOMETHING\"\n",
    "                if not dict_plevs.has_key(lwps):\n",
    "                     dict_plevs[lwps]={sd.label:{sv.label:sv}}\n",
    "                else:\n",
    "                    if not dict_plevs[lwps].has_key(sd.label):\n",
    "                         dict_plevs[lwps].update({sd.label:{sv.label:sv}})\n",
    "                    else:    \n",
    "                        if sv.label not in dict_plevs[lwps][sd.label].keys(): \n",
    "                            dict_plevs[lwps][sd.label].update({sv.label:sv})\n",
    "                        else:\n",
    "                            if printout: print \"Info:\",sv.label,\"in table\",sv.mipTable,\"already listed for\",sd.label\n",
    "                            #-pass\n",
    "                # svar will be expected on a zoom axis of the union. Corresponding vertical dim must\n",
    "                # have a zoom_label named plevXX_<lwps>\n",
    "                #---WORK---# a changer ? => je pense que non...\n",
    "                sv.sdims[sd.label].zoom_label='zoom'+'_'+sd.label+\"_\"+lwps\n",
    "    \n",
    "    # Second, create sdim object for union of plevs (even if twice -or more- the same union)\n",
    "    #---------------------------------------------------------------------------------------\n",
    "    list_of_sdim_unions=[]\n",
    "    for lwps in dict_plevs.keys():\n",
    "        sdim_union=simple_Dim()\n",
    "        plevs_union_xios=\"\"\n",
    "        plevs_union=set()\n",
    "        union_suffix=\"_\"\n",
    "        for plev in dict_plevs[lwps].keys(): \n",
    "            union_suffix+=plev+\"_\"\n",
    "            plev_values=[]\n",
    "            for sv in dict_plevs[lwps][plev].values(): \n",
    "                if not plev_values:\n",
    "                    # svar is the first one with this plev => get its level values\n",
    "                    # mpmoine_note: on reecrase les attributs de sdim_union à chaque nouveau plev. Pas utile mais\n",
    "                    # mpmoine_note: c'est la facon la plus simple de faire\n",
    "                    sd=sv.sdims[plev]\n",
    "                    if sd.stdname:   sdim_union.stdname=sd.stdname\n",
    "                    if sd.long_name: sdim_union.long_name=sd.long_name\n",
    "                    if sd.positive:  sdim_union.positive=sd.positive\n",
    "                    if sd.out_name:  sdim_union.out_name=sd.out_name\n",
    "                    if sd.units:     sdim_union.units=sd.units\n",
    "                    if sd.requested: \n",
    "                        # case of multi pressure levels\n",
    "                        plev_values=set(sd.requested.split())\n",
    "                        sdim_union.is_union_for.append(sv.label+\"_\"+sd.label)\n",
    "                    elif sd.value:\n",
    "                        # case of single pressure level\n",
    "                        plev_values=set(sd.value.split())\n",
    "                        sdim_union.is_union_for.append(sv.label+\"_\"+sd.label)\n",
    "                    else:\n",
    "                        print \"Warning: No requested nor value found for\",sv.label,\"with vertical dimesion\",plev\n",
    "                    plevs_union=plevs_union.union(plev_values)\n",
    "                    #-if printout: print \"    -- on\",plev,\":\",plev_values \n",
    "                #-if printout: print \"       *\",sv.label,\"(\",sv.mipTable,\")\"\n",
    "        union_suffix=union_suffix.rstrip('_')\n",
    "        sdim_union.label=\"union_plevs\"+union_suffix\n",
    "        plevs_union_num=[float(lev) for lev in list(plevs_union)]\n",
    "        plevs_union_num.sort(reverse=True)\n",
    "        sdim_union.ordered_values=plevs_union_num\n",
    "        for lev in plevs_union_num: plevs_union_xios+=\" \"+str(lev)\n",
    "        if printout: print \"Info: XIOS plevs union:\", plevs_union_xios\n",
    "        if len(plevs_union_num)>1: sdim_union.requested=plevs_union_xios\n",
    "        if len(plevs_union_num)==1: sdim_union.value=plevs_union_xios\n",
    "        list_of_sdim_unions.append(sdim_union)\n",
    "           \n",
    "    # Third, eliminate redundant unions, i.e. having the same list of ordered level values\n",
    "    # and create Xios axis_defs correponding to non-redundant unions.\n",
    "    #-------------------------------------------------------------------------------------\n",
    "    union_axis_defs={}\n",
    "    list_of_ordered_values=[]\n",
    "    for sdu in list_of_sdim_unions: \n",
    "        list_of_ordered_values.append(sdu.ordered_values)\n",
    "    if True: print \"Info: Number of unions before elimination of duplicates:\",len(list_of_ordered_values)\n",
    "    \n",
    "    list_of_unic_sdim_unions=[]\n",
    "    for sdu in list_of_sdim_unions:\n",
    "        if sdu.ordered_values in list_of_ordered_values:\n",
    "            list_of_unic_sdim_unions.append(sdu)\n",
    "            axis_def=create_axis_def(sdu,settings[\"ping_variables_prefix\"])\n",
    "            union_axis_defs.update({sdu.label:axis_def})\n",
    "            if len(list_of_sdim_unions)>1:\n",
    "                list_of_sdim_unions_others=list_of_sdim_unions\n",
    "                list_of_sdim_unions_others.remove(sdu)\n",
    "                for sdu_other in list_of_sdim_unions_others:\n",
    "                    if sdu_other.ordered_values==sdu.ordered_values:\n",
    "                        print \"%%%DEBUG%%%%\"sdu.label,\"extended with:\"\n",
    "                        sdu.is_union_for.extend(sdu_other.is_union_for)\n",
    "                while sdu.ordered_values in list_of_ordered_values:\n",
    "                    list_of_ordered_values.remove(sdu.ordered_values)\n",
    "    if True: print \"Info: Number of unions after elimination of duplicates:\",len(list_of_unic_sdim_unions)\n",
    "   \n",
    "    for sdu in list_of_unic_sdim_unions:\n",
    "                    print \">>>DEBUG>>>\",sdu.label,\"IS_UNION_FOR=\",sdu.is_union_for\n",
    "            \n",
    "    # Fourth, for pressure vertical dimension of each simple var, tell to which union axis\n",
    "    # its vertical dimension is zoom of.\n",
    "    #-------------------------------------------------------------------------------------\n",
    "    for sv in svars:\n",
    "        for sd in sv.sdims.values():\n",
    "            if sd.is_zoom_of: # at this stage False or \"SOMETHING\"\n",
    "                for sdu in list_of_unic_sdim_unions:\n",
    "                    if sv.label+'_'+sd.label in sdu.is_union_for:\n",
    "                        sv.sdims[sd.label].is_zoom_of=sdu.label\n",
    "                        print \">>>DEBUG>>> DIM:\",sd.label, \\\n",
    "                        \"FOR:\",sv.label, \"IN:\",sv.mipTable, \\\n",
    "                        \"IS ZOOM OF:\",sv.sdims[sd.label].is_zoom_of\n",
    "    for sv in svars:\n",
    "        for sd in sv.sdims.values():    \n",
    "            if sv.sdims[sd.label].is_zoom_of==\"SOMETHING\": print \"Warning: zoom for\",sv.label+'_'+sd.label,\\\n",
    "                                                           \"unset (still 'SOMETHING')\"\n",
    "    return union_axis_defs"
   ]
  },
  {
   "cell_type": "markdown",
   "metadata": {},
   "source": [
    "# Construction des axes d'union de Plevs"
   ]
  },
  {
   "cell_type": "code",
   "execution_count": null,
   "metadata": {
    "collapsed": false,
    "scrolled": false
   },
   "outputs": [],
   "source": [
    "union_axis_defs=create_xios_axis_for_plevs_unions(svars,multi_plev_suffixes.union(single_plev_suffixes), printout=False)"
   ]
  },
  {
   "cell_type": "code",
   "execution_count": null,
   "metadata": {
    "collapsed": false,
    "scrolled": true
   },
   "outputs": [],
   "source": [
    "for axd in union_axis_defs.values(): print axd"
   ]
  },
  {
   "cell_type": "markdown",
   "metadata": {},
   "source": [
    "# Construction des axes de zoom"
   ]
  },
  {
   "cell_type": "code",
   "execution_count": null,
   "metadata": {
    "collapsed": false,
    "scrolled": true
   },
   "outputs": [],
   "source": [
    "axis_defs={}\n",
    "for sv in svars:\n",
    "    lwps=sv.label_without_psuffix\n",
    "    for sd in sv.sdims.values():\n",
    "        if isVertDim(sd):\n",
    "            if sd.is_zoom_of: k=sd.zoom_label \n",
    "            else: k=sd.label\n",
    "            axis_defs[k]=create_axis_def(sd,settings[\"ping_variables_prefix\"])\n",
    "for k,v in axis_defs.items(): print k,'\\n',v"
   ]
  },
  {
   "cell_type": "markdown",
   "metadata": {},
   "source": [
    "# Juste quelques tests de devel..."
   ]
  },
  {
   "cell_type": "markdown",
   "metadata": {},
   "source": [
    "## Pour supprimer les suffixes de pression"
   ]
  },
  {
   "cell_type": "code",
   "execution_count": null,
   "metadata": {
    "collapsed": false
   },
   "outputs": [],
   "source": [
    "# Test\n",
    "for sv in svars:\n",
    "    for sd in sv.sdims.values():\n",
    "        if sd.label.startswith(\"p\"):\n",
    "            #print \"--- \",sv.label\n",
    "            #print \"    * \",sd.label,\"axis is zoom of\",sd.is_zoom_of\n",
    "            pass"
   ]
  },
  {
   "cell_type": "code",
   "execution_count": null,
   "metadata": {
    "collapsed": false
   },
   "outputs": [],
   "source": [
    "# Test\n",
    "plev_suffixes=[\"1000\",\"200\",\"220\",\"500\",\"560\",\"700\",\"840\",\"850\",\"10\",\"19\",\"23\",\"27\",\"39\",\"3\",\"3h\",\"4\",\"7c\",\"7h\",\"8\"]\n",
    "for s in plev_suffixes:\n",
    "    for svar in svars:\n",
    "        if any((svar.sdims[k].label.startswith(\"p\") and svar.sdims[k].label.endswith(s)) for k in svar.sdims.iterkeys()): \n",
    "            label_out=svar.label\n",
    "            if svar.label.endswith(s):\n",
    "                label_out=svar.label.replace(s,\"\")\n",
    "            #print svar.label,\"-->\",label_out"
   ]
  },
  {
   "cell_type": "code",
   "execution_count": null,
   "metadata": {
    "collapsed": true
   },
   "outputs": [],
   "source": [
    "# mpmoine_future_modif: liste des suffixes de noms de variables reperant un ou plusieurs niveaux pression\n",
    "#multi_plev_suffixes=set([\"10\",\"19\",\"23\",\"27\",\"39\",\"3\",\"3h\",\"4\",\"7c\",\"7h\",\"8\",\"12\"])\n",
    "multi_plev_suffixes=set()\n",
    "single_plev_suffixes=set([\"1000\",\"200\",\"220\",\"500\",\"560\",\"700\",\"840\",\"850\",\"100\"])"
   ]
  },
  {
   "cell_type": "code",
   "execution_count": null,
   "metadata": {
    "collapsed": true
   },
   "outputs": [],
   "source": [
    "# mpmoine_future_modif: nouvelle fonction Remove_pSuffix\n",
    "def Remove_pSuffix(svar,mlev_sfxs,slev_sfxs,realms):\n",
    "    #\n",
    "    # remove suffixes only if both suffix of svar.label *and* suffix of one of the svar.dims.label  match the search suffix\n",
    "    # to avoid truncation of variable names like 'ch4' requested on 'plev19', where '4' does not stand for a plev set\n",
    "    #\n",
    "    import re\n",
    "    r = re.compile(\"([a-zA-Z]+)([0-9]+)\")\n",
    "    #\n",
    "    #-label_out=False\n",
    "    label_out=svar.label\n",
    "    svar_realms=set(svar.modeling_realm.split())\n",
    "    valid_realms=set(realms.split())\n",
    "    if svar_realms.intersection(valid_realms):\n",
    "        mvl=r.match(svar.label)\n",
    "        if mvl and any(svar.label.endswith(s) for s in mlev_sfxs.union(slev_sfxs)):\n",
    "            for sdim in svar.sdims.values(): \n",
    "                mdl=r.match(sdim.label)\n",
    "                if mdl and mdl.group(2)==mvl.group(2): \n",
    "                     label_out=mvl.group(1)\n",
    "    return label_out"
   ]
  },
  {
   "cell_type": "code",
   "execution_count": null,
   "metadata": {
    "collapsed": false
   },
   "outputs": [],
   "source": [
    "for svar in svars:\n",
    "    label_out=Remove_pSuffix(svar,multi_plev_suffixes,single_plev_suffixes,'atmos')\n",
    "    if label_out!=svar.label:\n",
    "        print svar.label,\"--->\",label_out"
   ]
  },
  {
   "cell_type": "code",
   "execution_count": null,
   "metadata": {
    "collapsed": true
   },
   "outputs": [],
   "source": []
  },
  {
   "cell_type": "code",
   "execution_count": null,
   "metadata": {
    "collapsed": true
   },
   "outputs": [],
   "source": []
  }
 ],
 "metadata": {
  "anaconda-cloud": {},
  "kernelspec": {
   "display_name": "Python [Root]",
   "language": "python",
   "name": "Python [Root]"
  },
  "language_info": {
   "codemirror_mode": {
    "name": "ipython",
    "version": 2
   },
   "file_extension": ".py",
   "mimetype": "text/x-python",
   "name": "python",
   "nbconvert_exporter": "python",
   "pygments_lexer": "ipython2",
   "version": "2.7.12"
  }
 },
 "nbformat": 4,
 "nbformat_minor": 0
}
