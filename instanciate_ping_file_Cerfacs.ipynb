{
 "cells": [
  {
   "cell_type": "markdown",
   "metadata": {},
   "source": [
    "# A Notebook to help the user to instanciate the ping file template"
   ]
  },
  {
   "cell_type": "code",
   "execution_count": 1,
   "metadata": {
    "collapsed": true
   },
   "outputs": [],
   "source": [
    "import sys,os\n",
    "from xml.dom import minidom "
   ]
  },
  {
   "cell_type": "markdown",
   "metadata": {},
   "source": [
    "## Build an help dictionnary (key: CMIP NAME, value: MODEL NAME) from the model file_defs help file"
   ]
  },
  {
   "cell_type": "code",
   "execution_count": 2,
   "metadata": {
    "collapsed": true
   },
   "outputs": [],
   "source": [
    "#help_xmlfile=\"/Users/moine/Projects/CMIP6/NEMO_CMIP6/namelists/from_CNRM-CM6_BR_with_XIOS_04jan2017/nemo_files.xml\"\n",
    "#help_xmlfile=\"/Users/moine/Projects/CMIP6/NEMO_CMIP6/namelists/from_CNRM-CM5/iodef_ar5.xml\"\n",
    "help_xmlfile=\"/Users/moine/Projects/CMIP6/NEMO_CMIP6/namelists/CNRM-CM6_BR_XML_REFERENCE_CNRM_all_components_26jan2017/nemo_files.xml\""
   ]
  },
  {
   "cell_type": "code",
   "execution_count": 3,
   "metadata": {
    "collapsed": false
   },
   "outputs": [
    {
     "name": "stdout",
     "output_type": "stream",
     "text": [
      "224\n"
     ]
    }
   ],
   "source": [
    "help_xmldata = minidom.parse(help_xmlfile)\n",
    "help_fieldslist = help_xmldata.getElementsByTagName('field')\n",
    "print(len(help_fieldslist))"
   ]
  },
  {
   "cell_type": "code",
   "execution_count": 4,
   "metadata": {
    "collapsed": false
   },
   "outputs": [
    {
     "name": "stdout",
     "output_type": "stream",
     "text": [
      "OUT NAME : sctemtot <=> MODEL NAME : temptot\n",
      "OUT NAME : ibgvfxsni <=> MODEL NAME : ibgvfxsni\n",
      "OUT NAME : rfthfso <=> MODEL NAME : rfthfso\n",
      "OUT NAME : s_pr <=> MODEL NAME : s_pr\n",
      "OUT NAME : ibgvfxsnw <=> MODEL NAME : ibgvfxsnw\n",
      "OUT NAME : l_pr <=> MODEL NAME : l_pr\n",
      "OUT NAME : vozosatr <=> MODEL NAME : u_salttr\n",
      "OUT NAME : bgsaline <=> MODEL NAME : bgsaline\n",
      "OUT NAME : grLateral <=> MODEL NAME : grLateral\n",
      "OUT NAME : uos <=> MODEL NAME : ssu\n",
      "OUT NAME : vsfsni <=> MODEL NAME : vsfsni\n",
      "OUT NAME : ageice <=> MODEL NAME : ageice\n",
      "OUT NAME : shearice <=> MODEL NAME : shearice\n",
      "OUT NAME : mldr10_1 <=> MODEL NAME : mldr10_1\n",
      "OUT NAME : vwfsit <=> MODEL NAME : vwfsit\n",
      "OUT NAME : ibgsfxdyn <=> MODEL NAME : ibgsfxdyn\n",
      "OUT NAME : snvolu <=> MODEL NAME : snowvol\n",
      "OUT NAME : tauvo <=> MODEL NAME : vtau\n",
      "OUT NAME : ibghfxbog <=> MODEL NAME : ibghfxbog\n",
      "OUT NAME : ibghfxsub <=> MODEL NAME : ibghfxsub\n",
      "OUT NAME : mldr10_1min <=> MODEL NAME : mldr10_1min\n",
      "OUT NAME : rsntdssi <=> MODEL NAME : rsntdssi\n",
      "OUT NAME : mldr10_1max <=> MODEL NAME : mldr10_1max\n",
      "OUT NAME : divice <=> MODEL NAME : divice\n",
      "OUT NAME : dmsnow <=> MODEL NAME : dmsnow\n",
      "OUT NAME : omlmax <=> MODEL NAME : mldkz5\n",
      "OUT NAME : ssi <=> MODEL NAME : ssi\n",
      "OUT NAME : nshfls <=> MODEL NAME : qns\n",
      "OUT NAME : sstdcy <=> MODEL NAME : sst\n",
      "OUT NAME : ibgsfxbog <=> MODEL NAME : ibgsfxbog\n",
      "OUT NAME : wfo <=> MODEL NAME : empmr\n",
      "OUT NAME : ibgheatco <=> MODEL NAME : ibgheatco\n",
      "OUT NAME : l_prsn <=> MODEL NAME : l_prsn\n",
      "OUT NAME : vozohetr <=> MODEL NAME : u_heattr\n",
      "OUT NAME : ibgfrcvol <=> MODEL NAME : ibgfrcvol\n",
      "OUT NAME : ibghfxopw <=> MODEL NAME : ibghfxopw\n",
      "OUT NAME : rsntds <=> MODEL NAME : qsr\n",
      "OUT NAME : pbo <=> MODEL NAME : botpres\n",
      "OUT NAME : rhopoto <=> MODEL NAME : rhop\n",
      "OUT NAME : vozomatr <=> MODEL NAME : u_masstr\n",
      "OUT NAME : ibgsfx <=> MODEL NAME : ibgsfx\n",
      "OUT NAME : mpalb <=> MODEL NAME : mpalb\n",
      "OUT NAME : ibgvfxspr <=> MODEL NAME : ibgvfxspr\n",
      "OUT NAME : sithic <=> MODEL NAME : icethic_cea\n",
      "OUT NAME : tsice <=> MODEL NAME : tsice\n",
      "OUT NAME : ibghfxout <=> MODEL NAME : ibghfxout\n",
      "OUT NAME : tmelt <=> MODEL NAME : tmelt\n",
      "OUT NAME : qnsrnf <=> MODEL NAME : hflx_rnf_cea\n",
      "OUT NAME : zossq <=> MODEL NAME : ssh2\n",
      "OUT NAME : snc <=> MODEL NAME : snc\n",
      "OUT NAME : ibgsfxsum <=> MODEL NAME : ibgsfxsum\n",
      "OUT NAME : ibgsfxres <=> MODEL NAME : ibgsfxres\n",
      "OUT NAME : hfoi <=> MODEL NAME : hfoi\n",
      "OUT NAME : grFrazil <=> MODEL NAME : grFrazil\n",
      "OUT NAME : friver <=> MODEL NAME : runoffs\n",
      "OUT NAME : scvoltot <=> MODEL NAME : voltot\n",
      "OUT NAME : bigthetao <=> MODEL NAME : toce\n",
      "OUT NAME : wao <=> MODEL NAME : wao\n",
      "OUT NAME : sivolu <=> MODEL NAME : icevolu\n",
      "OUT NAME : sfmhfso <=> MODEL NAME : sfmhfso\n",
      "OUT NAME : hfsithermds <=> MODEL NAME : hfsithermds\n",
      "OUT NAME : wo <=> MODEL NAME : woce\n",
      "OUT NAME : ibgsfxsni <=> MODEL NAME : ibgsfxsni\n",
      "OUT NAME : ibgvfxres <=> MODEL NAME : ibgvfxres\n",
      "OUT NAME : snthic <=> MODEL NAME : snowthic_cea\n",
      "OUT NAME : dfwnt <=> MODEL NAME : dfwnt\n",
      "OUT NAME : bgsaltco <=> MODEL NAME : bgsaltco\n",
      "OUT NAME : mldkz5 <=> MODEL NAME : mldkz5\n",
      "OUT NAME : bgvolssh <=> MODEL NAME : bgvolssh\n",
      "OUT NAME : subIce <=> MODEL NAME : subIce\n",
      "OUT NAME : rsds <=> MODEL NAME : qsr3d\n",
      "OUT NAME : vsfsub <=> MODEL NAME : vsfsub\n",
      "OUT NAME : ibghfxres <=> MODEL NAME : ibghfxres\n",
      "OUT NAME : dhciced <=> MODEL NAME : dhciced\n",
      "OUT NAME : flake <=> MODEL NAME : lake\n",
      "OUT NAME : latsnomelt <=> MODEL NAME : latsnomelt\n",
      "OUT NAME : ibgsaline <=> MODEL NAME : ibgsaline\n",
      "OUT NAME : ibgtemper <=> MODEL NAME : ibgtemper\n",
      "OUT NAME : grCongel <=> MODEL NAME : grCongel\n",
      "OUT NAME : tsnint <=> MODEL NAME : tsnint\n",
      "OUT NAME : vomematr <=> MODEL NAME : v_masstr\n",
      "OUT NAME : ibghfxin <=> MODEL NAME : ibghfxin\n",
      "OUT NAME : sss_m <=> MODEL NAME : sss_m\n",
      "OUT NAME : siconc <=> MODEL NAME : iceconc\n",
      "OUT NAME : mldr10_1dcy <=> MODEL NAME : mldr10_1\n",
      "OUT NAME : wio <=> MODEL NAME : wio\n",
      "OUT NAME : vsfhsi <=> MODEL NAME : vsfhsi\n",
      "OUT NAME : scsshtst <=> MODEL NAME : sshthster\n",
      "OUT NAME : sos <=> MODEL NAME : sss\n",
      "OUT NAME : hfdssi <=> MODEL NAME : hfdssi\n",
      "OUT NAME : ibghfxspr <=> MODEL NAME : ibghfxspr\n",
      "OUT NAME : tosstd <=> MODEL NAME : sst\n",
      "OUT NAME : wfsitsi <=> MODEL NAME : wfsitsi\n",
      "OUT NAME : pr <=> MODEL NAME : pr\n",
      "OUT NAME : wai <=> MODEL NAME : wai\n",
      "OUT NAME : ibghfxbom <=> MODEL NAME : ibghfxbom\n",
      "OUT NAME : tos <=> MODEL NAME : sst\n",
      "OUT NAME : sst_m <=> MODEL NAME : sst_m\n",
      "OUT NAME : ibgvfx <=> MODEL NAME : ibgvfx\n",
      "OUT NAME : hfdso <=> MODEL NAME : hfdso\n",
      "OUT NAME : ibgsfxopw <=> MODEL NAME : ibgsfxopw\n",
      "OUT NAME : hfdusi <=> MODEL NAME : hfdusi\n",
      "OUT NAME : scsshste <=> MODEL NAME : sshsteric\n",
      "OUT NAME : rsntdso <=> MODEL NAME : rsntdso\n",
      "OUT NAME : subO <=> MODEL NAME : subO\n",
      "OUT NAME : subL <=> MODEL NAME : subL\n",
      "OUT NAME : ibgfrcsfx <=> MODEL NAME : ibgfrcsfx\n",
      "OUT NAME : dmsnowdyn <=> MODEL NAME : dmsnowdyn\n",
      "OUT NAME : scmastot <=> MODEL NAME : masstot\n",
      "OUT NAME : ibgvfxbom <=> MODEL NAME : ibgvfxbom\n",
      "OUT NAME : sbgheatco <=> MODEL NAME : sbgheatco\n",
      "OUT NAME : ibgvfxbog <=> MODEL NAME : ibgvfxbog\n",
      "OUT NAME : efthfso <=> MODEL NAME : efthfso\n",
      "OUT NAME : timesi <=> MODEL NAME : timesi\n",
      "OUT NAME : scsaltot <=> MODEL NAME : saltot\n",
      "OUT NAME : hcsnow <=> MODEL NAME : hcsnow\n",
      "OUT NAME : vsflml <=> MODEL NAME : vsflml\n",
      "OUT NAME : dmwice <=> MODEL NAME : dmwice\n",
      "OUT NAME : ibgsfxbom <=> MODEL NAME : ibgsfxbom\n",
      "OUT NAME : ibgvoltot <=> MODEL NAME : ibgvoltot\n",
      "OUT NAME : dmsalt <=> MODEL NAME : dmsalt\n",
      "OUT NAME : wiov <=> MODEL NAME : wiov\n",
      "OUT NAME : o_pr <=> MODEL NAME : o_pr\n",
      "OUT NAME : subTot <=> MODEL NAME : subTot\n",
      "OUT NAME : scsshtot <=> MODEL NAME : sshtot\n",
      "OUT NAME : dhcicet <=> MODEL NAME : dhcicet\n",
      "OUT NAME : ibghfxthd <=> MODEL NAME : ibghfxthd\n",
      "OUT NAME : uo <=> MODEL NAME : uoce\n",
      "OUT NAME : tauuo <=> MODEL NAME : utau\n",
      "OUT NAME : zosstd <=> MODEL NAME : ssh\n",
      "OUT NAME : bgheatco <=> MODEL NAME : bgheatco\n",
      "OUT NAME : vomesatr <=> MODEL NAME : v_salttr\n",
      "OUT NAME : ibgvolgrm <=> MODEL NAME : ibgvolgrm\n",
      "OUT NAME : snomelt <=> MODEL NAME : snomelt\n",
      "OUT NAME : hfduo <=> MODEL NAME : hfduo\n",
      "OUT NAME : dhcicea <=> MODEL NAME : dhcicea\n",
      "OUT NAME : prsn <=> MODEL NAME : prsn\n",
      "OUT NAME : ialb <=> MODEL NAME : ialb\n",
      "OUT NAME : ibghfxsnw <=> MODEL NAME : ibghfxsnw\n",
      "OUT NAME : sfthfso <=> MODEL NAME : sfthfso\n",
      "OUT NAME : ibgsfxbri <=> MODEL NAME : ibgsfxbri\n",
      "OUT NAME : difvho <=> MODEL NAME : avt\n",
      "OUT NAME : ibghfxdif <=> MODEL NAME : ibghfxdif\n",
      "OUT NAME : qnssnw <=> MODEL NAME : hflx_snow_cea\n",
      "OUT NAME : bgfrcvol <=> MODEL NAME : bgfrcvol\n",
      "OUT NAME : subSnw <=> MODEL NAME : subSnw\n",
      "OUT NAME : saltc <=> MODEL NAME : saltc\n",
      "OUT NAME : vo <=> MODEL NAME : voce\n",
      "OUT NAME : bmelt <=> MODEL NAME : bmelt\n",
      "OUT NAME : rsntdusi <=> MODEL NAME : rsntdusi\n",
      "OUT NAME : tossq <=> MODEL NAME : sst2\n",
      "OUT NAME : rsntduso <=> MODEL NAME : rsntduso\n",
      "OUT NAME : qnscal <=> MODEL NAME : hflx_cal_cea\n",
      "OUT NAME : ibgvfxdyn <=> MODEL NAME : ibgvfxdyn\n",
      "OUT NAME : vos <=> MODEL NAME : ssv\n",
      "OUT NAME : vmp3 <=> MODEL NAME : vmp3\n",
      "OUT NAME : vmp2 <=> MODEL NAME : vmp2\n",
      "OUT NAME : vmp1 <=> MODEL NAME : vmp1\n",
      "OUT NAME : vmp5 <=> MODEL NAME : vmp5\n",
      "OUT NAME : sit <=> MODEL NAME : sit\n",
      "OUT NAME : ibghfxdyn <=> MODEL NAME : ibghfxdyn\n",
      "OUT NAME : sic <=> MODEL NAME : sic\n",
      "OUT NAME : zos <=> MODEL NAME : ssh\n",
      "OUT NAME : dmice <=> MODEL NAME : dmice\n",
      "OUT NAME : sio <=> MODEL NAME : sio\n",
      "OUT NAME : sim <=> MODEL NAME : sim\n",
      "OUT NAME : sfhfssi <=> MODEL NAME : sfhfssi\n",
      "OUT NAME : hcice <=> MODEL NAME : hcice\n",
      "OUT NAME : snd <=> MODEL NAME : snd\n",
      "OUT NAME : s_prsn <=> MODEL NAME : s_prsn\n",
      "OUT NAME : fcalvg <=> MODEL NAME : gcalving_cea\n",
      "OUT NAME : evap <=> MODEL NAME : evap\n",
      "OUT NAME : snm <=> MODEL NAME : snm\n",
      "OUT NAME : fcalva <=> MODEL NAME : acalving_cea\n",
      "OUT NAME : o_prsn <=> MODEL NAME : o_prsn\n",
      "OUT NAME : ibghfxsum <=> MODEL NAME : ibghfxsum\n",
      "OUT NAME : ibgvfxsub <=> MODEL NAME : ibgvfxsub\n",
      "OUT NAME : ibgvfxsum <=> MODEL NAME : ibgvfxsum\n",
      "OUT NAME : ibghfxdhc <=> MODEL NAME : ibghfxdhc\n",
      "OUT NAME : bgtemper <=> MODEL NAME : bgtemper\n",
      "OUT NAME : bgfrcsal <=> MODEL NAME : bgfrcsal\n",
      "OUT NAME : ibgvfxopw <=> MODEL NAME : ibgvfxopw\n",
      "OUT NAME : dmicer <=> MODEL NAME : dmicer\n",
      "OUT NAME : heatc <=> MODEL NAME : heatc\n",
      "OUT NAME : vsfsal <=> MODEL NAME : vsfsal\n",
      "OUT NAME : qoc_m <=> MODEL NAME : qoc_m\n",
      "OUT NAME : sic5 <=> MODEL NAME : sic5\n",
      "OUT NAME : sic4 <=> MODEL NAME : sic4\n",
      "OUT NAME : snoToIce <=> MODEL NAME : snoToIce\n",
      "OUT NAME : vmp4 <=> MODEL NAME : vmp4\n",
      "OUT NAME : sic1 <=> MODEL NAME : sic1\n",
      "OUT NAME : sic3 <=> MODEL NAME : sic3\n",
      "OUT NAME : sic2 <=> MODEL NAME : sic2\n",
      "OUT NAME : ibgarea <=> MODEL NAME : ibgarea\n",
      "OUT NAME : dmicea <=> MODEL NAME : dmicea\n",
      "OUT NAME : bgfrctem <=> MODEL NAME : bgfrctem\n",
      "OUT NAME : so <=> MODEL NAME : soce\n",
      "OUT NAME : sisnalb <=> MODEL NAME : sisnalb\n",
      "OUT NAME : sbgvoltot <=> MODEL NAME : sbgvoltot\n",
      "OUT NAME : vomehetr <=> MODEL NAME : v_heattr\n",
      "OUT NAME : ibgsaltco <=> MODEL NAME : ibgsaltco\n",
      "OUT NAME : bgvole3t <=> MODEL NAME : bgvole3t\n",
      "202\n"
     ]
    }
   ],
   "source": [
    "help_dict=dict()\n",
    "for field in help_fieldslist:\n",
    "    modelvname=field.attributes['field_ref'].value\n",
    "    outvname=\"NOT-SET\"\n",
    "    if field.hasAttribute('name'): \n",
    "        outvname=field.attributes['name'].value\n",
    "        help_dict[outvname]=modelvname\n",
    "for k,v in help_dict.iteritems(): print \"OUT NAME : \"+k+\" <=> MODEL NAME : \"+v\n",
    "print(len(help_dict))"
   ]
  },
  {
   "cell_type": "markdown",
   "metadata": {},
   "source": [
    "   ## Replace  DUMMY values in ping file"
   ]
  },
  {
   "cell_type": "code",
   "execution_count": 5,
   "metadata": {
    "collapsed": true
   },
   "outputs": [],
   "source": [
    "#ping_xmlfile=\"./PING_FIELD_DEFS/ping_ocean_and_co.xml\"\n",
    "ping_xmlfile=\"/Users/moine/Projects/CMIP6/NEMO_CMIP6/namelists/CNRM-CM6_BR_XML_REFERENCE_CNRM_all_components_26jan2017/ping_nemo.xml\""
   ]
  },
  {
   "cell_type": "code",
   "execution_count": 6,
   "metadata": {
    "collapsed": false
   },
   "outputs": [
    {
     "name": "stdout",
     "output_type": "stream",
     "text": [
      "485\n"
     ]
    }
   ],
   "source": [
    "ping_xmldata = minidom.parse(ping_xmlfile)\n",
    "ping_fieldslist = ping_xmldata.getElementsByTagName('field')\n",
    "print(len(ping_fieldslist))"
   ]
  },
  {
   "cell_type": "code",
   "execution_count": 7,
   "metadata": {
    "collapsed": false
   },
   "outputs": [
    {
     "name": "stdout",
     "output_type": "stream",
     "text": [
      "Info: Replacing the dummy value in ping file for CMIP6_bigthetao with toce\n",
      "Info: Replacing the dummy value in ping file for CMIP6_difvho with avt\n",
      "Info: Replacing the dummy value in ping file for CMIP6_friver with runoffs\n",
      "Info: Replacing the dummy value in ping file for CMIP6_pbo with botpres\n",
      "Info: Replacing the dummy value in ping file for CMIP6_prsn with prsn\n",
      "Info: Replacing the dummy value in ping file for CMIP6_rsds with qsr3d\n",
      "Info: Replacing the dummy value in ping file for CMIP6_rsntds with qsr\n",
      "Info: Replacing the dummy value in ping file for CMIP6_siconc with iceconc\n",
      "Info: Replacing the dummy value in ping file for CMIP6_so with soce\n",
      "Info: Replacing the dummy value in ping file for CMIP6_sos with sss\n",
      "Info: Replacing the dummy value in ping file for CMIP6_tauuo with utau\n",
      "Info: Replacing the dummy value in ping file for CMIP6_tauvo with vtau\n",
      "Info: Replacing the dummy value in ping file for CMIP6_tos with sst\n",
      "Info: Replacing the dummy value in ping file for CMIP6_tossq with sst2\n",
      "Info: Replacing the dummy value in ping file for CMIP6_uo with uoce\n",
      "Info: Replacing the dummy value in ping file for CMIP6_vo with voce\n",
      "Info: Replacing the dummy value in ping file for CMIP6_wfo with empmr\n",
      "Info: Replacing the dummy value in ping file for CMIP6_wo with woce\n",
      "Info: Replacing the dummy value in ping file for CMIP6_zos with ssh\n",
      "Info: Replacing the dummy value in ping file for CMIP6_zossq with ssh2\n",
      "20\n"
     ]
    }
   ],
   "source": [
    "prefix=\"CMIP6_\"\n",
    "count=0\n",
    "for field in ping_fieldslist:\n",
    "    aliasvname=field.attributes['id'].value\n",
    "    modelvname=field.attributes['field_ref'].value\n",
    "    for k,v in help_dict.iteritems():\n",
    "        if prefix+k == aliasvname: \n",
    "            #print \"CMIP NAME : \"+k+\" <=> PING ALIAS : \"+aliasname+\" <=> MODEL NAME : \"+v\n",
    "            if modelvname[0:5]==\"dummy\":\n",
    "                print \"Info: Replacing the dummy value in ping file for \"+aliasvname+\" with \"+v\n",
    "                field.setAttribute('field_ref',v)\n",
    "                count=count+1\n",
    "            else:\n",
    "                print \"Info: model name already set for  \"+aliasvname+\" in ping file as \",modelvname\n",
    "print count"
   ]
  },
  {
   "cell_type": "markdown",
   "metadata": {},
   "source": [
    "# Create a new ping XML file (instanciated)"
   ]
  },
  {
   "cell_type": "code",
   "execution_count": 8,
   "metadata": {
    "collapsed": false
   },
   "outputs": [
    {
     "name": "stdout",
     "output_type": "stream",
     "text": [
      "<bound method Document.toprettyxml of <xml.dom.minidom.Document instance at 0x1041d5440>>\n"
     ]
    }
   ],
   "source": [
    "print ping_xmldata.toprettyxml"
   ]
  },
  {
   "cell_type": "code",
   "execution_count": 9,
   "metadata": {
    "collapsed": false
   },
   "outputs": [
    {
     "ename": "TypeError",
     "evalue": "argument 1 must be string or buffer, not instance",
     "output_type": "error",
     "traceback": [
      "\u001b[0;31m---------------------------------------------------------------------------\u001b[0m",
      "\u001b[0;31mTypeError\u001b[0m                                 Traceback (most recent call last)",
      "\u001b[0;32m<ipython-input-9-2196b35d4fd3>\u001b[0m in \u001b[0;36m<module>\u001b[0;34m()\u001b[0m\n\u001b[1;32m      1\u001b[0m \u001b[0mf\u001b[0m \u001b[0;34m=\u001b[0m  \u001b[0mopen\u001b[0m\u001b[0;34m(\u001b[0m\u001b[0;34m\"test.xml\"\u001b[0m\u001b[0;34m,\u001b[0m \u001b[0;34m\"wb\"\u001b[0m\u001b[0;34m)\u001b[0m\u001b[0;34m\u001b[0m\u001b[0m\n\u001b[0;32m----> 2\u001b[0;31m \u001b[0mf\u001b[0m\u001b[0;34m.\u001b[0m\u001b[0mwrite\u001b[0m\u001b[0;34m(\u001b[0m\u001b[0mping_xmldata\u001b[0m\u001b[0;34m)\u001b[0m\u001b[0;34m\u001b[0m\u001b[0m\n\u001b[0m\u001b[1;32m      3\u001b[0m \u001b[0mf\u001b[0m\u001b[0;34m.\u001b[0m\u001b[0mclose\u001b[0m\u001b[0;34m(\u001b[0m\u001b[0;34m)\u001b[0m\u001b[0;34m\u001b[0m\u001b[0m\n",
      "\u001b[0;31mTypeError\u001b[0m: argument 1 must be string or buffer, not instance"
     ]
    }
   ],
   "source": [
    "f =  open(\"test.xml\", \"wb\")\n",
    "f.write(ping_xmldata)\n",
    "f.close()"
   ]
  },
  {
   "cell_type": "code",
   "execution_count": null,
   "metadata": {
    "collapsed": true
   },
   "outputs": [],
   "source": [
    "from xml.etree.ElementTree import ElementTree, dump"
   ]
  }
 ],
 "metadata": {
  "anaconda-cloud": {},
  "kernelspec": {
   "display_name": "Python [Root]",
   "language": "python",
   "name": "Python [Root]"
  },
  "language_info": {
   "codemirror_mode": {
    "name": "ipython",
    "version": 2
   },
   "file_extension": ".py",
   "mimetype": "text/x-python",
   "name": "python",
   "nbconvert_exporter": "python",
   "pygments_lexer": "ipython2",
   "version": "2.7.12"
  }
 },
 "nbformat": 4,
 "nbformat_minor": 0
}
