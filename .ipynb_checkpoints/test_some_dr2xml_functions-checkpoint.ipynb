{
 "cells": [
  {
   "cell_type": "code",
   "execution_count": null,
   "metadata": {
    "collapsed": false
   },
   "outputs": [],
   "source": [
    "import sys, os \n",
    "import xml.etree.ElementTree as ET"
   ]
  },
  {
   "cell_type": "code",
   "execution_count": null,
   "metadata": {
    "collapsed": true
   },
   "outputs": [],
   "source": [
    "def get_xml_childs(elt, tag='field', groups=['context', 'field_group',\n",
    "        'field_definition', 'axis_definition','axis', 'domain_definition',\n",
    "        'domain', 'grid_definition', 'grid' , 'interpolate_axis'  ]) :\n",
    "        \"\"\" \n",
    "        Returns a list of elements in tree ELT \n",
    "        which have tag TAG, by digging in sub-elements \n",
    "        named as in GROUPS \n",
    "        \"\"\"\n",
    "        if elt.tag in groups :\n",
    "            rep=[]\n",
    "            for child in elt : rep.extend(get_xml_childs(child,tag))\n",
    "            #print \"REP=\",rep\n",
    "            return rep\n",
    "        elif elt.tag==tag : return [elt]\n",
    "        else :\n",
    "            #print 'Syntax error : tag %s not allowed'%elt.tag\n",
    "            # Case of an unkown tag : don't dig in\n",
    "            return []"
   ]
  },
  {
   "cell_type": "code",
   "execution_count": null,
   "metadata": {
    "collapsed": false
   },
   "outputs": [],
   "source": [
    "def read_defs(filename, tag='field', attrib=None, printout=False) :\n",
    "    \"\"\" \n",
    "    Returns a dict of obejcts tagged TAG in FILENAME, which \n",
    "    - keys are ids\n",
    "    - values are corresponding ET elements if \n",
    "      attrib is None, otherwise elt attribute ATTRIB\n",
    "    Returns None if filename does not exist\n",
    "    \"\"\"\n",
    "    #    \n",
    "    rep=dict()\n",
    "    if printout : print \"processing file %s :\"%filename,\n",
    "    if os.path.exists(filename) :\n",
    "        if printout : print \"OK\",filename\n",
    "        root = ET.parse(filename).getroot()\n",
    "        #print \"ROOT=\",root\n",
    "        defs=get_xml_childs(root,tag) \n",
    "        #print \"DEFS=\",defs\n",
    "        if defs :\n",
    "            for field in defs :\n",
    "                if printout : print \".\",\n",
    "                if attrib is None: \n",
    "                    rep[field.attrib['id']]=field\n",
    "                else :\n",
    "                    rep[field.attrib['id']]=field.attrib[attrib]\n",
    "            if printout : print\n",
    "            return rep\n",
    "    else :\n",
    "        if printout : print \"No file \"\n",
    "        return None"
   ]
  },
  {
   "cell_type": "code",
   "execution_count": null,
   "metadata": {
    "collapsed": true
   },
   "outputs": [],
   "source": [
    "test_file=\"output_sample/ping_arpsfx.xml\""
   ]
  },
  {
   "cell_type": "code",
   "execution_count": null,
   "metadata": {
    "collapsed": false
   },
   "outputs": [],
   "source": [
    "test=read_defs(test_file,tag='field',attrib=\"field_ref\",printout=False)\n",
    "#test=read_defs(test_file,tag='field',attrib=None,printout=False)\n",
    "print test"
   ]
  },
  {
   "cell_type": "code",
   "execution_count": 5,
   "metadata": {
    "collapsed": false
   },
   "outputs": [
    {
     "name": "stdout",
     "output_type": "stream",
     "text": [
      "01.00.05\n"
     ]
    }
   ],
   "source": [
    "import dreq\n",
    "dq = dreq.loadDreq()\n",
    "print dq.version"
   ]
  },
  {
   "cell_type": "code",
   "execution_count": 6,
   "metadata": {
    "collapsed": false
   },
   "outputs": [],
   "source": [
    "def analyze_ambiguous_MIPvarnames(dq):\n",
    "    \"\"\"\n",
    "    Return the list of MIP varnames whose list of CMORvars for a single realm \n",
    "    show distinct values for the area part of the cell_methods\n",
    "    \"\"\"\n",
    "    # Compute a dict which keys are MIP varnames and values = list \n",
    "    # of CMORvars items for the varname\n",
    "    d=dict()\n",
    "    for v in dq.coll['var'].items :\n",
    "        if v.label not in d : d[v.label]=[]\n",
    "        refs=dq.inx.iref_by_sect[v.uid].a['CMORvar']\n",
    "        for r in refs :\n",
    "            d[v.label].append(dq.inx.uid[r])\n",
    "            #if v.label==\"prra\" : print \"one prra\"\n",
    "    #print \"d[prra]=\",d[\"prra\"]\n",
    "    # Replace dic values by dic of cell_methods\n",
    "    for vlabel in d:\n",
    "        if len(d[vlabel]) > 1 :\n",
    "            cvl=d[vlabel]\n",
    "            d[vlabel]=dict()\n",
    "            for cv in cvl: \n",
    "                st=dq.inx.uid[cv.stid]\n",
    "                try :\n",
    "                    cm=dq.inx.uid[st.cmid].cell_methods\n",
    "                     # mpmoine_a_verifier: certaines de ces chaines n existent pas dans les cell_methods de la DR\n",
    "                    cm1=cm.replace(\"time: mean\",\"\").replace(\"time: point\",\"\").\\\n",
    "                        replace(\" within years  over years\",\"\") .\\\n",
    "                        replace('time: maximum within days  over days','').\\\n",
    "                        replace('time: minimum within days  over days','').\\\n",
    "                        replace('time: minimum','').\\\n",
    "                        replace('time: maximum','').\\\n",
    "                        replace('with samples ','')\n",
    "                    realm=cv.modeling_realm\n",
    "                    if realm==\"ocean\" or realm==\"ocnBgchem\" :\n",
    "                        cm1=cm1.replace(\"area: mean where sea \",\"\")\n",
    "                    #if realm=='land':\n",
    "                    #    cm1=cm1.replace('area: mean where land ','')\n",
    "                    if True or \"area:\" in cm1 :\n",
    "                        cm2=cm1 #.replace(\"area:\",\"\")\n",
    "                        if realm not in d[vlabel]:\n",
    "                            d[vlabel][realm] =[]\n",
    "                        if cm2 not in d[vlabel][realm] :\n",
    "                            d[vlabel][realm].append(cm2)\n",
    "                        #if vlabel==\"prra\" : \n",
    "                        #    print \"cm2=\",cm2, d[vlabel]\n",
    "                except : \n",
    "                    pass\n",
    "                    #print \"No cell method for %s %s\"%(st.label,cv.label)\n",
    "        else : d[vlabel]=None\n",
    "    #for l in d : print l,d[l]\n",
    "    #print \"d[prra]=\",d[\"prra\"]\n",
    "    #sd=d.keys() ; sd.sort()\n",
    "    #for var in sd :\n",
    "    #    if d[var] and any( [ len(l) > 1 for l in d[var].values() ]) :\n",
    "    #        print \"%20s %s\"%(var,`d[var]`)\n",
    "    #        pass\n",
    "    # Analyze ambiguous cases regarding area part of the cell_method\n",
    "    ambiguous=[]\n",
    "    for vlabel in d:\n",
    "        if d[vlabel]:\n",
    "            #print vlabel,d[vlabel]\n",
    "            for realm in d[vlabel] :\n",
    "                if len(d[vlabel][realm])>1 and \\\n",
    "                   any([ \"area\" in cm for cm in d[vlabel][realm] ]):\n",
    "                    ambiguous.append(( vlabel,(realm,d[vlabel][realm])))\n",
    "    return ambiguous"
   ]
  },
  {
   "cell_type": "code",
   "execution_count": 10,
   "metadata": {
    "collapsed": false
   },
   "outputs": [
    {
     "name": "stdout",
     "output_type": "stream",
     "text": [
      "[('sci', ('atmos', ['area: point ', 'area: '])), ('agesno', ('landIce land', ['area: mean where land  (weighted by snow mass)', 'area: mean where land '])), ('rsutcs', ('atmos', ['area: ', 'area: point ', 'area: mean  within days  over days'])), ('snm', ('landIce land', ['area: mean where land ', 'area:  where ice_sheet'])), ('vas', ('atmos', ['', 'area: point ', 'area: '])), ('tslsi', ('land', ['area: ', ''])), ('rsdscs', ('atmos', ['area: ', 'area: point '])), ('orog', ('land', ['area: mean', 'area:  where ice_sheet', 'area: '])), ('sftflf', ('landIce', ['', 'area:  where floating_ice_shelf (comment: mask=sftflf)', 'area: mean'])), ('tauv', ('atmos', ['area: point ', 'area: '])), ('tasmin', ('atmos', ['area: mean ', ''])), ('sftgif', ('land', ['area: mean', 'area:  where ice_sheet', 'area: '])), ('va', ('aerosol', ['longitude: mean ', 'area: '])), ('n2o', ('aerosol', ['area: ', 'longitude: mean '])), ('zg500', ('aerosol', ['area: mean', 'area: ', ''])), ('sbl', ('landIce', ['area: mean where land ', 'area: point ', 'area: ', 'area:  where ice_sheet'])), ('rsuscs', ('atmos', ['area: ', 'area: point ', ''])), ('uas', ('atmos', ['', 'area: point '])), ('hurs', ('atmos', ['area: point ', '', 'area: '])), ('hfss', ('atmos', ['area: ', 'area: point ', '', 'area:  where ice_sheet'])), ('bldep', ('aerosol', ['area: ', ''])), ('fco2antt', ('atmos', ['area: point ', 'area: '])), ('sftgrf', ('landIce', ['area: ', 'area: mean', ''])), ('ch4', ('aerosol', ['area: ', 'longitude: mean '])), ('tauu', ('atmos', ['area: ', 'area: point '])), ('zg1000', ('atmos', ['area: ', ''])), ('ta', ('atmos', ['area: mean ', ''])), ('tas', ('atmos', ['area: ', '', 'area: point ', 'area:  where ice_sheet'])), ('prsn', ('atmos', ['area: ', 'area: point ', 'area: mean where ice_free_sea over sea ', 'area:  where ice_sheet'])), ('albs', ('aerosol', ['area: ', 'area: mean where land '])), ('fco2nat', ('atmos', ['area: ', 'area: point '])), ('albsrfc', ('aerosol', ['area: ', ''])), ('cllcalipso', ('atmos', ['area: ', ''])), ('clt', ('atmos', ['area: ', 'area: point '])), ('rv850', ('atmos', ['area: mean', ''])), ('snw', ('landIce land', ['area: mean where land ', ''])), ('rlutcs', ('atmos', ['area: ', 'area: point ', 'area: mean  within days  over days'])), ('clwvi', ('atmos', ['area: point ', 'area: '])), ('tntrl', ('aerosol', ['area: ', '', 'longitude: mean '])), ('prsnc', ('atmos', ['', 'area: ', 'area: mean where land '])), ('wap', ('atmos', ['', 'area: '])), ('hcl', ('aerosol', ['area: ', 'longitude: mean '])), ('rld', ('atmos', ['', 'area: point'])), ('rsds', ('atmos', ['area: point ', 'area: ', 'area:  where ice_sheet'])), ('cSoil', ('land', ['area: mean where land ', ''])), ('rlu', ('atmos', ['', 'area: point'])), ('rls', ('atmos', ['area: ', 'area: mean where land '])), ('rlds', ('atmos', ['area: point ', 'area: ', 'area:  where ice_sheet'])), ('hfgeou', ('ocean', ['', 'area: mean'])), ('hus', ('atmos', ['', 'area: '])), ('rsu', ('atmos', ['', 'area: point'])), ('rsdt', ('atmos', ['area: ', 'area: point ', 'area: mean  within days  over days', ''])), ('thkcello', ('ocean', ['', 'area: mean'])), ('prc', ('atmos', ['area: point ', 'area: ', ''])), ('cLitter', ('land', ['area: mean where land ', ''])), ('clivi', ('atmos', ['area: ', 'area: point '])), ('h2o', ('aerosol', ['area: ', 'longitude: mean '])), ('ccb', ('atmos', ['area: point ', 'area: '])), ('rldscs', ('atmos', ['area: ', 'area: point '])), ('sithick', ('seaIce ocean', ['', 'area:  where sea_ice (comment: mask=siconc)'])), ('reffclwc', ('atmos', ['', 'area: '])), ('reffclws', ('atmos', ['', 'area: '])), ('rss', ('atmos', ['area: mean where land ', 'area: '])), ('rsd', ('atmos', ['', 'area: point'])), ('parasolRefl', ('atmos', ['', 'area: mean (global) ', 'area: mean where sea '])), ('conccn', ('atmos', ['', 'area: '])), ('sfcWind', ('atmos', ['', 'area: point '])), ('rtmt', ('atmos', ['area: ', 'area: point '])), ('evspsbl', ('atmos', ['area: point ', 'area: '])), ('clmcalipso', ('atmos', ['area: ', ''])), ('rlut', ('atmos', ['area: point ', 'area: ', 'area: mean  within days  over days', ''])), ('sfcWindmax', ('atmos', ['area: mean ', 'area: '])), ('tsn', ('landIce land', ['area: mean where land  (weighted by snow mass)', 'area:  where ice_sheet'])), ('tsl', ('land', ['', 'area: mean where land '])), ('rsus', ('atmos', ['area: ', 'area: point ', 'area:  where ice_sheet'])), ('rsut', ('atmos', ['area: point ', 'area: ', '', 'area: mean  within days  over days'])), ('ci', ('atmos', ['area: ', 'area: point '])), ('cProduct', ('land', ['area: mean where land ', ''])), ('rlus', ('atmos', ['area: point ', 'area: ', 'area:  where ice_sheet'])), ('cVeg', ('land', ['area: mean where land ', ''])), ('hno3', ('aerosol', ['longitude: mean ', 'area: '])), ('prw', ('atmos', ['area: ', 'area: point ', ''])), ('ts', ('atmos', ['area: point ', 'area: ', '', 'area:  where ice_sheet'])), ('topg', ('landIce', ['area:  where ice_sheet', 'area: mean'])), ('cct', ('atmos', ['area: point ', 'area: '])), ('clhcalipso', ('atmos', ['', 'area: '])), ('hfgeoubed', ('landIce', ['area:  where ice_sheet', 'area: mean'])), ('snc', ('landIce land', ['area: ', 'area:  where ice_sheet'])), ('zg', ('atmos', ['longitude: mean ', '', 'area: '])), ('psl', ('atmos', ['area: ', 'area: mean ', 'area: point ', ''])), ('o3', ('aerosol', ['area: ', 'longitude: mean '])), ('pr', ('atmos', ['area: ', 'area: point ', ''])), ('ps', ('atmos', ['area: point ', 'area: ', ''])), ('oh', ('aerosol', ['area: ', 'longitude: mean '])), ('concnmcn', ('atmos', ['', 'area: '])), ('cltcalipso', ('atmos', ['area: ', ''])), ('tntrs', ('aerosol', ['area: ', 'longitude: mean ', ''])), ('hfls', ('atmos', ['area: ', 'area: point ', 'area:  where ice_sheet', ''])), ('prra', ('atmos', ['area: mean where ice_free_sea over sea ', 'area:  where ice_sheet', 'area: ', 'area: mean where land '])), ('dissi13c', ('ocnBgchem', ['', 'area: '])), ('conccmcn', ('atmos', ['area: ', ''])), ('mlotst', ('ocean', ['', 'area: '])), ('lithk', ('landIce', ['area:  where ice_sheet', 'area: mean'])), ('huss', ('atmos', ['area: point ', ''])), ('masscello', ('ocean', ['area: mean', ''])), ('tasmax', ('atmos', ['', 'area: mean '])), ('ua', ('aerosol', ['longitude: mean ', 'area: '])), ('ec550aer', ('aerosol', ['area: mean', '', 'area: '])), ('fco2fos', ('atmos', ['area: ', 'area: point '])), ('prrc', ('atmos', ['area: mean where land ', 'area: ']))]\n"
     ]
    }
   ],
   "source": [
    "ambig=analyze_ambiguous_MIPvarnames(dq)\n",
    "print ambig"
   ]
  },
  {
   "cell_type": "code",
   "execution_count": 1,
   "metadata": {
    "collapsed": true
   },
   "outputs": [],
   "source": [
    "def make_source_string(sources,source_id):\n",
    "    \"\"\" \n",
    "    From the dic of sources in CMIP6-CV, Creates the string representation of a \n",
    "    given model (source_id) according to doc on global_file_attributes, so :\n",
    "\n",
    "    <modified source_id> (<year>): atmosphere: <model_name> (<technical_name>, <resolution_and_levels>); ocean: <model_name> (<technical_name>, <resolution_and_levels>); sea_ice: <model_name> (<technical_name>); land: <model_name> (<technical_name>); aerosol: <model_name> (<technical_name>); atmospheric_chemistry <model_name> (<technical_name>); ocean_biogeochemistry <model_name> (<technical_name>); land_ice <model_name> (<technical_name>);\n",
    "\n",
    "    \"\"\"\n",
    "    source=sources[source_id] \n",
    "    components=source['model_component']\n",
    "    rep=rep+\"(\"+source['release_year']+\")\"\n",
    "    for realm in [\"atmos\",\"ocean\",\"seaIce\",\"land\",\"aerosol\",\"atmosChem\",\"ocnBgchem\"]:\n",
    "        component=components[realm]\n",
    "        description=component['description']\n",
    "        rep=rep+\"\\n\"+realm+\": \"+description\n",
    "    return rep"
   ]
  },
  {
   "cell_type": "code",
   "execution_count": 2,
   "metadata": {
    "collapsed": false
   },
   "outputs": [
    {
     "ename": "NameError",
     "evalue": "name 'json' is not defined",
     "output_type": "error",
     "traceback": [
      "\u001b[0;31m---------------------------------------------------------------------------\u001b[0m",
      "\u001b[0;31mNameError\u001b[0m                                 Traceback (most recent call last)",
      "\u001b[0;32m<ipython-input-2-98d71c7b321e>\u001b[0m in \u001b[0;36m<module>\u001b[0;34m()\u001b[0m\n\u001b[1;32m      1\u001b[0m \u001b[0mcvspath\u001b[0m\u001b[0;34m=\u001b[0m\u001b[0;34m\"/Users/moine/Codes/MyDevel_Codes/CMIP6_DATA_SUITE/CMIP6_CVs/\"\u001b[0m\u001b[0;34m\u001b[0m\u001b[0m\n\u001b[1;32m      2\u001b[0m \u001b[0;32mwith\u001b[0m \u001b[0mopen\u001b[0m\u001b[0;34m(\u001b[0m\u001b[0mcvspath\u001b[0m\u001b[0;34m+\u001b[0m\u001b[0;34m\"CMIP6_source_id.json\"\u001b[0m\u001b[0;34m,\u001b[0m\u001b[0;34m\"r\"\u001b[0m\u001b[0;34m)\u001b[0m \u001b[0;32mas\u001b[0m \u001b[0mjson_fp\u001b[0m \u001b[0;34m:\u001b[0m\u001b[0;34m\u001b[0m\u001b[0m\n\u001b[0;32m----> 3\u001b[0;31m     \u001b[0msources\u001b[0m\u001b[0;34m=\u001b[0m\u001b[0mjson\u001b[0m\u001b[0;34m.\u001b[0m\u001b[0mloads\u001b[0m\u001b[0;34m(\u001b[0m\u001b[0mjson_fp\u001b[0m\u001b[0;34m.\u001b[0m\u001b[0mread\u001b[0m\u001b[0;34m(\u001b[0m\u001b[0;34m)\u001b[0m\u001b[0;34m)\u001b[0m\u001b[0;34m[\u001b[0m\u001b[0;34m'source_id'\u001b[0m\u001b[0;34m]\u001b[0m\u001b[0;34m\u001b[0m\u001b[0m\n\u001b[0m\u001b[1;32m      4\u001b[0m     \u001b[0msource\u001b[0m\u001b[0;34m=\u001b[0m\u001b[0mmake_source_string\u001b[0m\u001b[0;34m(\u001b[0m\u001b[0msources\u001b[0m\u001b[0;34m,\u001b[0m\u001b[0msource_id\u001b[0m\u001b[0;34m)\u001b[0m\u001b[0;34m\u001b[0m\u001b[0m\n\u001b[1;32m      5\u001b[0m     \u001b[0;32mprint\u001b[0m \u001b[0;34m\">>> DBG >>> OK, SOURCE READ IN JSON FILE\"\u001b[0m\u001b[0;34m\u001b[0m\u001b[0m\n",
      "\u001b[0;31mNameError\u001b[0m: name 'json' is not defined"
     ]
    }
   ],
   "source": [
    "cvspath=\"/Users/moine/Codes/MyDevel_Codes/CMIP6_DATA_SUITE/CMIP6_CVs/\"\n",
    "with open(cvspath+\"CMIP6_source_id.json\",\"r\") as json_fp :\n",
    "    sources=json.loads(json_fp.read())['source_id']\n",
    "    source=make_source_string(sources,source_id)\n",
    "    print \">>> DBG >>> OK, SOURCE READ IN JSON FILE\""
   ]
  },
  {
   "cell_type": "code",
   "execution_count": null,
   "metadata": {
    "collapsed": true
   },
   "outputs": [],
   "source": []
  }
 ],
 "metadata": {
  "anaconda-cloud": {},
  "kernelspec": {
   "display_name": "Python [Root]",
   "language": "python",
   "name": "Python [Root]"
  },
  "language_info": {
   "codemirror_mode": {
    "name": "ipython",
    "version": 2
   },
   "file_extension": ".py",
   "mimetype": "text/x-python",
   "name": "python",
   "nbconvert_exporter": "python",
   "pygments_lexer": "ipython2",
   "version": "2.7.12"
  }
 },
 "nbformat": 4,
 "nbformat_minor": 0
}
