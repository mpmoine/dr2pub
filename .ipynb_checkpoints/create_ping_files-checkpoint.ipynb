{
 "cells": [
  {
   "cell_type": "markdown",
   "metadata": {},
   "source": [
    "# Create ping files based on lab choices"
   ]
  },
  {
   "cell_type": "code",
   "execution_count": 1,
   "metadata": {
    "collapsed": true
   },
   "outputs": [],
   "source": [
    "# Select your laboratory among: 'cnrm', 'cerfacs', 'ipsl'\n",
    "lab='cerfacs'\n"
   ]
  },
  {
   "cell_type": "markdown",
   "metadata": {},
   "source": [
    "## Lab settings"
   ]
  },
  {
   "cell_type": "code",
   "execution_count": 2,
   "metadata": {
    "collapsed": false
   },
   "outputs": [],
   "source": [
    "if lab=='cnrm' or lab=='cerfacs':\n",
    "    # This dictionnary should be the same as the one used for creating file_defs.\n",
    "    # Here , we quoted only those entries useful for creating ping files\n",
    "    settings={\n",
    "        #'mips' : {'AerChemMIP','C4MIP','CFMIP','DAMIP', 'FAFMIP' , 'GeoMIP','GMMIP','ISMIP6',\\\n",
    "        #                  'LS3MIP','LUMIP','OMIP','PMIP','RFMIP','ScenarioMIP','CORDEX','SIMIP'},\n",
    "        # If you want to get comprehensive ping files; use :\n",
    "        'mips' : {\"CMIP6\", \"AerChemMIP\", \"C4MIP\", \"CFMIP\", \"DAMIP\", \"DCPP\", \"FAFMIP\", \"GeoMIP\", \"GMMIP\", \n",
    "                  \"HighResMIP\", \"ISMIP6\", \"LS3MIP\", \"LUMIP\", \"OMIP\", \"PDRMIP\", \"PMIP\", \"RFMIP\", \"ScenarioMIP\", \n",
    "                  \"SolarMIP\", \"VolMIP\", \"CORDEX\", \"DynVar\", \"SIMIP\", \"VIACSAB\", \"SPECS\", \"CCMI\", \"CMIP5\", \n",
    "                  \"CMIP\", \"DECK\"},\n",
    "        'max_priority' : 3,\n",
    "        'tierMax'      : 3,\n",
    "       # Each XIOS  context does adress a number of realms\n",
    "        'realms_per_context' : { 'nemo': ['seaIce', 'ocean', 'ocean seaIce', 'ocnBgchem', 'seaIce ocean'] ,\n",
    "                               'surfex': ['atmos', 'atmos atmosChem', 'aerosol', 'atmos land', 'land',\n",
    "                                         'landIce land',  'aerosol land','land landIce',  'landIce', ],\n",
    "                              }, \n",
    "        \"ping_variables_prefix\" : \"CMIP6_\",\n",
    "        # We account for a file listing the variables which the lab does not want to produce \n",
    "        # Format : MIP varname as first column, comment lines begin with '#'\n",
    "        #\"excluded_vars_file\":\"/cnrm/est/USERS/senesi/public/CMIP6/data_request/cnrm/excluded_vars.txt\",\n",
    "        \"excluded_vars_file\" : None,\n",
    "        \"excluded_vars\" : None,\n",
    "        # We account for a list of variables which the lab wants to produce in some cases\n",
    "        \"listof_home_vars\":None,\n",
    "        #\"listof_home_vars\": None,\n",
    "        \"path_extra_tables\":None,\n",
    "        # mpmoine_correction: Path for special XIOS defs files\n",
    "        \"path_special_defs\":\"./input/special_defs\"\n",
    "        }\n",
    "    "
   ]
  },
  {
   "cell_type": "code",
   "execution_count": 3,
   "metadata": {
    "collapsed": false
   },
   "outputs": [],
   "source": [
    "if lab=='cerfacs':  \n",
    "    #settings[\"mips\"]={'HighResMIP','DCPP'}\n",
    "    settings[\"listof_home_vars\"]=\"./input_labs/cerfacs/home_vars/listof_primavera_extra_vars.txt\"\n",
    "    settings[\"path_extra_tables\"]=\"./input_labs/cerfacs/extra_Tables\"\n",
    "    "
   ]
  },
  {
   "cell_type": "code",
   "execution_count": 4,
   "metadata": {
    "collapsed": true
   },
   "outputs": [],
   "source": [
    "if lab=='ipsl':\n",
    "    # This dictionnary should be the same as the one used for creating file_defs.\n",
    "    # Here , we quoted only those entries useful for creating ping files\n",
    "    settings={\n",
    "        #'mips' : {'AerChemMIP','C4MIP','CFMIP','DAMIP', 'FAFMIP' , 'GeoMIP','GMMIP','ISMIP6',\\\n",
    "        #                  'LS3MIP','LUMIP','OMIP','PMIP','RFMIP','ScenarioMIP','CORDEX','SIMIP'},\n",
    "        # If you want to get comprehensive ping files; use :\n",
    "        'mips' : {\"CMIP6\", \"AerChemMIP\", \"C4MIP\", \"CFMIP\", \"DAMIP\", \"DCPP\", \"FAFMIP\", \"GeoMIP\", \"GMMIP\", \n",
    "                  \"HighResMIP\", \"ISMIP6\", \"LS3MIP\", \"LUMIP\", \"OMIP\", \"PDRMIP\", \"PMIP\", \"RFMIP\", \"ScenarioMIP\", \n",
    "                  \"SolarMIP\", \"VolMIP\", \"CORDEX\", \"DynVar\", \"SIMIP\", \"VIACSAB\", \"SPECS\", \"CCMI\", \"CMIP5\", \n",
    "                  \"CMIP\", \"DECK\"},\n",
    "        'max_priority' : 3,\n",
    "        'tierMax'      : 3,\n",
    "       # Each XIOS  context does adress a number of realms\n",
    "        'realms_per_context' : { \n",
    "            'nemo': ['seaIce', 'ocean', 'ocean seaIce', 'ocnBgchem', 'seaIce ocean'],\n",
    "            'lmdz' : ['atmos', 'atmos land'] , \n",
    "            'orchidee': ['land', 'landIce land',  'land landIce', 'landIce'] ,\n",
    "                              }, \n",
    "        \"ping_variables_prefix\" : \"CMIP6_\",\n",
    "        # We account for a file listing the variables which the lab does not want to produce \n",
    "        # Format : MIP varname as first column, comment lines begin with '#'\n",
    "        \"excluded_vars_file\" : None,\n",
    "        \"excluded_vars\" : None,\n",
    "        # We account for a list of variables which the lab wants to produce in some cases\n",
    "        \"listof_home_vars\":None,\n",
    "        \"path_extra_tables\":None,\n",
    "        # mpmoine_correction: Path for special XIOS defs files\n",
    "        \"path_special_defs\":None\n",
    "        } \n",
    "    "
   ]
  },
  {
   "cell_type": "markdown",
   "metadata": {},
   "source": [
    "### Read excluded variables list - you may skip that"
   ]
  },
  {
   "cell_type": "code",
   "execution_count": 5,
   "metadata": {
    "collapsed": false
   },
   "outputs": [],
   "source": [
    "l=[]\n",
    "if settings[\"excluded_vars\"] is None and settings[\"excluded_vars_file\"] is not None :\n",
    "    with open(settings[\"excluded_vars_file\"],'r') as fv : varlines=fv.readlines()\n",
    "    for line in varlines: \n",
    "        fields=line.split()\n",
    "        if len(fields) > 0 : \n",
    "            first=fields[0]\n",
    "            if first[0] != '#' :  l.append(first)\n",
    "settings[\"excluded_vars\"]=l\n",
    "                       "
   ]
  },
  {
   "cell_type": "markdown",
   "metadata": {},
   "source": [
    "## For getting a comprehensive ping file, one can (re)set the excluded_var list to an empty list"
   ]
  },
  {
   "cell_type": "code",
   "execution_count": 6,
   "metadata": {
    "collapsed": false
   },
   "outputs": [],
   "source": [
    "settings[\"excluded_vars\"]=[]\n"
   ]
  },
  {
   "cell_type": "code",
   "execution_count": 7,
   "metadata": {
    "collapsed": false
   },
   "outputs": [
    {
     "name": "stdout",
     "output_type": "stream",
     "text": [
      "01.00.07\n"
     ]
    }
   ],
   "source": [
    "#from dr2xml import select_CMORvars_for_lab, pingFileForRealmsList\n",
    "from dr2xml import gather_AllSimpleVars, pingFileForRealmsList\n"
   ]
  },
  {
   "cell_type": "markdown",
   "metadata": {},
   "source": [
    "## Select all variables to consider, based on lab settings"
   ]
  },
  {
   "cell_type": "code",
   "execution_count": 8,
   "metadata": {
    "collapsed": false,
    "scrolled": true
   },
   "outputs": [
    {
     "name": "stdout",
     "output_type": "stream",
     "text": [
      "Number of Request Links which apply to MIPS set(['CORDEX', 'GMMIP', 'RFMIP', 'VolMIP', 'CMIP6', 'ScenarioMIP', 'GeoMIP', 'C4MIP', 'PDRMIP', 'CMIP', 'DECK', 'LUMIP', 'CMIP5', 'CFMIP', 'OMIP', 'DAMIP', 'CCMI', 'SolarMIP', 'VIACSAB', 'SIMIP', 'DCPP', 'ISMIP6', 'AerChemMIP', 'PMIP', 'FAFMIP', 'DynVar', 'LS3MIP', 'SPECS', 'HighResMIP'])  is:  353\n",
      "Number of (CMOR variable, grid) pairs for these requestLinks is :3592\n",
      "Number once filtered by excluded vars is : 3592\n",
      "Number of distinct CMOR variables (whatever the grid) : 2010\n",
      "Number of distinct var labels is : 1312\n",
      "DR Error: issue with dimids for  grassFracC4 in Table  Emon  => no sdims derived.\n",
      "DR Error: issue with dimids for  grassFracC3 in Table  Emon  => no sdims derived.\n",
      "DR Error: issue with dimids for  pastureFracC4 in Table  Emon  => no sdims derived.\n",
      "DR Error: issue with dimids for  pastureFracC3 in Table  Emon  => no sdims derived.\n",
      "\n",
      "Number of simplified vars is : 2010\n",
      "Info: dimid corresponding to  height50m for variable va50m in Table PRIMAVERA_Prim3hrPt  not found in DR => read it in extra coordinates Table:  height \n",
      "Info: dimid corresponding to  height50m for variable ua50m in Table PRIMAVERA_Prim3hrPt  not found in DR => read it in extra coordinates Table:  height \n",
      "Info: dimid corresponding to  height50m for variable va50m in Table PRIMAVERA_Prim6hrPt  not found in DR => read it in extra coordinates Table:  height \n",
      "Info: dimid corresponding to  height50m for variable ua50m in Table PRIMAVERA_Prim6hrPt  not found in DR => read it in extra coordinates Table:  height \n",
      "Number of 'cmor' and 'perso' among home variables:  0\n",
      "Number of 'extra' among home variables:  154\n",
      "Info: {'varname': u'uas', 'freq': '1hr', 'realm': u'atmos', 'table': 'Prim1hr'} HOMEVar is read in an extra Table with priority  1.0  => Taken into account.\n",
      "Info: {'varname': u'sfcWindmax', 'freq': '3hr', 'realm': u'atmos', 'table': 'Prim3hr'} HOMEVar is read in an extra Table with priority  1.0  => Taken into account.\n",
      "Info: {'varname': u'evspsbl', 'freq': '3hr', 'realm': u'atmos', 'table': 'Prim3hr'} HOMEVar is read in an extra Table with priority  1.0  => Taken into account.\n",
      "Info: {'varname': u'sfcWind', 'freq': '3hr', 'realm': u'atmos', 'table': 'Prim3hr'} HOMEVar is read in an extra Table with priority  1.0  => Taken into account.\n",
      "Info: {'varname': u'vortmean', 'freq': '3hr', 'realm': u'atmos', 'table': 'Prim3hrPt'} HOMEVar is read in an extra Table with priority  1.0  => Taken into account.\n",
      "Info: {'varname': u'ua100m', 'freq': '3hr', 'realm': u'atmos', 'table': 'Prim3hrPt'} HOMEVar is read in an extra Table with priority  1.0  => Taken into account.\n",
      "Info: {'varname': u'va100m', 'freq': '3hr', 'realm': u'atmos', 'table': 'Prim3hrPt'} HOMEVar is read in an extra Table with priority  1.0  => Taken into account.\n",
      "Info: {'varname': u'va50m', 'freq': '3hr', 'realm': u'atmos', 'table': 'Prim3hrPt'} HOMEVar is read in an extra Table with priority  1.0  => Taken into account.\n",
      "Info: {'varname': u'ua100', 'freq': '3hr', 'realm': u'atmos', 'table': 'Prim3hrPt'} HOMEVar is read in an extra Table with priority  1.0  => Taken into account.\n",
      "Info: {'varname': u'zg7h', 'freq': '3hr', 'realm': u'atmos', 'table': 'Prim3hrPt'} HOMEVar is read in an extra Table with priority  1.0  => Taken into account.\n",
      "Info: {'varname': u'hus1000', 'freq': '3hr', 'realm': u'atmos', 'table': 'Prim3hrPt'} HOMEVar is read in an extra Table with priority  1.0  => Taken into account.\n",
      "Info: {'varname': u'hus100', 'freq': '3hr', 'realm': u'atmos', 'table': 'Prim3hrPt'} HOMEVar is read in an extra Table with priority  1.0  => Taken into account.\n",
      "Info: {'varname': u'ta100', 'freq': '3hr', 'realm': u'atmos', 'table': 'Prim3hrPt'} HOMEVar is read in an extra Table with priority  1.0  => Taken into account.\n",
      "Info: {'varname': u'ua50m', 'freq': '3hr', 'realm': u'atmos', 'table': 'Prim3hrPt'} HOMEVar is read in an extra Table with priority  1.0  => Taken into account.\n",
      "Info: {'varname': u'va100', 'freq': '3hr', 'realm': u'atmos', 'table': 'Prim3hrPt'} HOMEVar is read in an extra Table with priority  1.0  => Taken into account.\n",
      "Info: {'varname': u'va1000', 'freq': '3hr', 'realm': u'atmos', 'table': 'Prim3hrPt'} HOMEVar is read in an extra Table with priority  1.0  => Taken into account.\n",
      "Info: {'varname': u'ua1000', 'freq': '3hr', 'realm': u'atmos', 'table': 'Prim3hrPt'} HOMEVar is read in an extra Table with priority  1.0  => Taken into account.\n",
      "Info: {'varname': u'pr', 'freq': '6hr', 'realm': u'atmos', 'table': 'Prim6hr'} HOMEVar is read in an extra Table with priority  1.0  => Taken into account.\n",
      "Info: {'varname': u'tntc', 'freq': '6hr', 'realm': u'atmos', 'table': 'Prim6hr'} HOMEVar is read in an extra Table with priority  1.0  => Taken into account.\n",
      "Info: {'varname': u'tntscp', 'freq': '6hr', 'realm': u'atmos', 'table': 'Prim6hr'} HOMEVar is read in an extra Table with priority  1.0  => Taken into account.\n",
      "Info: {'varname': u'ps', 'freq': '6hr', 'realm': u'atmos', 'table': 'Prim6hr'} HOMEVar is read in an extra Table with priority  1.0  => Taken into account.\n",
      "Info: {'varname': u'sfcWindmax', 'freq': '6hr', 'realm': u'atmos', 'table': 'Prim6hr'} HOMEVar is read in an extra Table with priority  1.0  => Taken into account.\n",
      "Info: {'varname': u'tntpbl', 'freq': '6hr', 'realm': u'atmos', 'table': 'Prim6hr'} HOMEVar is read in an extra Table with priority  1.0  => Taken into account.\n",
      "Info: {'varname': u'wsgmax', 'freq': '6hr', 'realm': u'atmos', 'table': 'Prim6hr'} HOMEVar is read in an extra Table with priority  1.0  => Taken into account.\n",
      "Info: {'varname': u'hus4', 'freq': '6hr', 'realm': u'atmos', 'table': 'Prim6hr'} HOMEVar is read in an extra Table with priority  1.0  => Taken into account.\n",
      "Info: {'varname': u'ua4', 'freq': '6hr', 'realm': u'atmos', 'table': 'Prim6hr'} HOMEVar is read in an extra Table with priority  1.0  => Taken into account.\n",
      "Info: {'varname': u'tntrl', 'freq': '6hr', 'realm': u'atmos', 'table': 'Prim6hr'} HOMEVar is read in an extra Table with priority  1.0  => Taken into account.\n",
      "Info: {'varname': u'rsds', 'freq': '6hr', 'realm': u'atmos', 'table': 'Prim6hr'} HOMEVar is read in an extra Table with priority  1.0  => Taken into account.\n",
      "Info: {'varname': u'clt', 'freq': '6hr', 'realm': u'atmos', 'table': 'Prim6hr'} HOMEVar is read in an extra Table with priority  1.0  => Taken into account.\n",
      "Info: {'varname': u'tntrs', 'freq': '6hr', 'realm': u'atmos', 'table': 'Prim6hr'} HOMEVar is read in an extra Table with priority  1.0  => Taken into account.\n",
      "Info: {'varname': u'va4', 'freq': '6hr', 'realm': u'atmos', 'table': 'Prim6hr'} HOMEVar is read in an extra Table with priority  1.0  => Taken into account.\n",
      "Info: {'varname': u'rsdsdiff', 'freq': '6hr', 'realm': u'atmos', 'table': 'Prim6hr'} HOMEVar is read in an extra Table with priority  1.0  => Taken into account.\n",
      "Info: {'varname': u'ua100m', 'freq': '6hr', 'realm': u'atmos', 'table': 'Prim6hrPt'} HOMEVar is read in an extra Table with priority  1.0  => Taken into account.\n",
      "Info: {'varname': u'va100m', 'freq': '6hr', 'realm': u'atmos', 'table': 'Prim6hrPt'} HOMEVar is read in an extra Table with priority  1.0  => Taken into account.\n",
      "Info: {'varname': u'va50m', 'freq': '6hr', 'realm': u'atmos', 'table': 'Prim6hrPt'} HOMEVar is read in an extra Table with priority  1.0  => Taken into account.\n",
      "Info: {'varname': u'hus1000', 'freq': '6hr', 'realm': u'atmos', 'table': 'Prim6hrPt'} HOMEVar is read in an extra Table with priority  1.0  => Taken into account.\n",
      "Info: {'varname': u'thetapv2', 'freq': '6hr', 'realm': u'atmos', 'table': 'Prim6hrPt'} HOMEVar is read in an extra Table with priority  1.0  => Taken into account.\n",
      "Info: {'varname': u'ua50m', 'freq': '6hr', 'realm': u'atmos', 'table': 'Prim6hrPt'} HOMEVar is read in an extra Table with priority  1.0  => Taken into account.\n",
      "Info: {'varname': u'va1000', 'freq': '6hr', 'realm': u'atmos', 'table': 'Prim6hrPt'} HOMEVar is read in an extra Table with priority  1.0  => Taken into account.\n",
      "Info: {'varname': u'ua1000', 'freq': '6hr', 'realm': u'atmos', 'table': 'Prim6hrPt'} HOMEVar is read in an extra Table with priority  1.0  => Taken into account.\n",
      "Info: {'varname': u'uo', 'freq': '6hr', 'realm': u'ocean', 'table': 'PrimO6hr'} HOMEVar is read in an extra Table with priority  1.0  => Taken into account.\n",
      "Info: {'varname': u'vo', 'freq': '6hr', 'realm': u'ocean', 'table': 'PrimO6hr'} HOMEVar is read in an extra Table with priority  1.0  => Taken into account.\n",
      "Info: {'varname': u'mlotst', 'freq': 'day', 'realm': u'ocean', 'table': 'PrimOday'} HOMEVar is read in an extra Table with priority  1.0  => Taken into account.\n",
      "Info: {'varname': u'thetao', 'freq': 'day', 'realm': u'ocean', 'table': 'PrimOday'} HOMEVar is read in an extra Table with priority  2.0  => Taken into account.\n",
      "Info: {'varname': u'tauuo', 'freq': 'day', 'realm': u'ocean', 'table': 'PrimOday'} HOMEVar is read in an extra Table with priority  1.0  => Taken into account.\n",
      "Info: {'varname': u'so', 'freq': 'day', 'realm': u'ocean', 'table': 'PrimOday'} HOMEVar is read in an extra Table with priority  1.0  => Taken into account.\n",
      "Info: {'varname': u'tauvo', 'freq': 'day', 'realm': u'ocean', 'table': 'PrimOday'} HOMEVar is read in an extra Table with priority  1.0  => Taken into account.\n",
      "Info: {'varname': u'zos', 'freq': 'day', 'realm': u'ocean', 'table': 'PrimOday'} HOMEVar is read in an extra Table with priority  1.0  => Taken into account.\n",
      "Info: {'varname': u'tomint', 'freq': 'mon', 'realm': u'ocean', 'table': 'PrimOmon'} HOMEVar is read in an extra Table with priority  1.0  => Taken into account.\n",
      "Info: {'varname': u'uso', 'freq': 'mon', 'realm': u'ocean', 'table': 'PrimOmon'} HOMEVar is read in an extra Table with priority  1.0  => Taken into account.\n",
      "Info: {'varname': u'w2o', 'freq': 'mon', 'realm': u'ocean', 'table': 'PrimOmon'} HOMEVar is read in an extra Table with priority  1.0  => Taken into account.\n",
      "Info: {'varname': u'u2o', 'freq': 'mon', 'realm': u'ocean', 'table': 'PrimOmon'} HOMEVar is read in an extra Table with priority  1.0  => Taken into account.\n",
      "Info: {'varname': u'uto', 'freq': 'mon', 'realm': u'ocean', 'table': 'PrimOmon'} HOMEVar is read in an extra Table with priority  1.0  => Taken into account.\n",
      "Info: {'varname': u'vto', 'freq': 'mon', 'realm': u'ocean', 'table': 'PrimOmon'} HOMEVar is read in an extra Table with priority  1.0  => Taken into account.\n",
      "Info: {'varname': u'wo', 'freq': 'mon', 'realm': u'ocean', 'table': 'PrimOmon'} HOMEVar is read in an extra Table with priority  1.0  => Taken into account.\n",
      "Info: {'varname': u'somint', 'freq': 'mon', 'realm': u'ocean', 'table': 'PrimOmon'} HOMEVar is read in an extra Table with priority  1.0  => Taken into account.\n",
      "Info: {'varname': u'wso', 'freq': 'mon', 'realm': u'ocean', 'table': 'PrimOmon'} HOMEVar is read in an extra Table with priority  1.0  => Taken into account.\n",
      "Info: {'varname': u'opottemptend', 'freq': 'mon', 'realm': u'ocean', 'table': 'PrimOmon'} HOMEVar is read in an extra Table with priority  1.0  => Taken into account.\n",
      "Info: {'varname': u'vso', 'freq': 'mon', 'realm': u'ocean', 'table': 'PrimOmon'} HOMEVar is read in an extra Table with priority  1.0  => Taken into account.\n",
      "Info: {'varname': u'v2o', 'freq': 'mon', 'realm': u'ocean', 'table': 'PrimOmon'} HOMEVar is read in an extra Table with priority  1.0  => Taken into account.\n",
      "Info: {'varname': u'wto', 'freq': 'mon', 'realm': u'ocean', 'table': 'PrimOmon'} HOMEVar is read in an extra Table with priority  1.0  => Taken into account.\n",
      "Info: {'varname': u'sidivvel', 'freq': 'day', 'realm': u'seaIce', 'table': 'PrimSIday'} HOMEVar is read in an extra Table with priority  1.0  => Taken into account.\n",
      "Info: {'varname': u'sistrxdtop', 'freq': 'day', 'realm': u'seaIce', 'table': 'PrimSIday'} HOMEVar is read in an extra Table with priority  1.0  => Taken into account.\n",
      "Info: {'varname': u'siacrossline', 'freq': 'day', 'realm': u'seaIce', 'table': 'PrimSIday'} HOMEVar is read in an extra Table with priority  1.0  => Taken into account.\n",
      "Info: {'varname': u'siu', 'freq': 'day', 'realm': u'seaIce', 'table': 'PrimSIday'} HOMEVar is read in an extra Table with priority  1.0  => Taken into account.\n",
      "Info: {'varname': u'sistrydtop', 'freq': 'day', 'realm': u'seaIce', 'table': 'PrimSIday'} HOMEVar is read in an extra Table with priority  1.0  => Taken into account.\n",
      "Info: {'varname': u'siforceintstrx', 'freq': 'day', 'realm': u'seaIce', 'table': 'PrimSIday'} HOMEVar is read in an extra Table with priority  1.0  => Taken into account.\n",
      "Info: {'varname': u'sistryubot', 'freq': 'day', 'realm': u'seaIce', 'table': 'PrimSIday'} HOMEVar is read in an extra Table with priority  1.0  => Taken into account.\n",
      "Info: {'varname': u'sistrxubot', 'freq': 'day', 'realm': u'seaIce', 'table': 'PrimSIday'} HOMEVar is read in an extra Table with priority  1.0  => Taken into account.\n",
      "Info: {'varname': u'siforceintstry', 'freq': 'day', 'realm': u'seaIce', 'table': 'PrimSIday'} HOMEVar is read in an extra Table with priority  1.0  => Taken into account.\n",
      "Info: {'varname': u'sitimefrac', 'freq': 'day', 'realm': u'seaIce', 'table': 'PrimSIday'} HOMEVar is read in an extra Table with priority  1.0  => Taken into account.\n",
      "Info: {'varname': u'siv', 'freq': 'day', 'realm': u'seaIce', 'table': 'PrimSIday'} HOMEVar is read in an extra Table with priority  1.0  => Taken into account.\n",
      "Info: {'varname': u'zg19', 'freq': 'day', 'realm': u'atmos', 'table': 'Primday'} HOMEVar is read in an extra Table with priority  2.0  => Taken into account.\n",
      "Info: {'varname': u'va23', 'freq': 'day', 'realm': u'atmos', 'table': 'Primday'} HOMEVar is read in an extra Table with priority  3.0  => Taken into account.\n",
      "Info: {'varname': u'zg10', 'freq': 'day', 'realm': u'atmos', 'table': 'Primday'} HOMEVar is read in an extra Table with priority  1.0  => Taken into account.\n",
      "Info: {'varname': u'evspsbl', 'freq': 'day', 'realm': u'atmos', 'table': 'Primday'} HOMEVar is read in an extra Table with priority  1.0  => Taken into account.\n",
      "Info: {'varname': u'ua10', 'freq': 'day', 'realm': u'atmos', 'table': 'Primday'} HOMEVar is read in an extra Table with priority  1.0  => Taken into account.\n",
      "Info: {'varname': u'hus19', 'freq': 'day', 'realm': u'atmos', 'table': 'Primday'} HOMEVar is read in an extra Table with priority  2.0  => Taken into account.\n",
      "Info: {'varname': u'ua19', 'freq': 'day', 'realm': u'atmos', 'table': 'Primday'} HOMEVar is read in an extra Table with priority  2.0  => Taken into account.\n",
      "Info: {'varname': u'wap23', 'freq': 'day', 'realm': u'atmos', 'table': 'Primday'} HOMEVar is read in an extra Table with priority  3.0  => Taken into account.\n",
      "Info: {'varname': u'va10', 'freq': 'day', 'realm': u'atmos', 'table': 'Primday'} HOMEVar is read in an extra Table with priority  1.0  => Taken into account.\n",
      "Info: {'varname': u'ts', 'freq': 'day', 'realm': u'atmos', 'table': 'Primday'} HOMEVar is read in an extra Table with priority  1.0  => Taken into account.\n",
      "Info: {'varname': u'mrso', 'freq': 'day', 'realm': u'land', 'table': 'Primday'} HOMEVar is read in an extra Table with priority  1.0  => Taken into account.\n",
      "Info: {'varname': u'wap19', 'freq': 'day', 'realm': u'atmos', 'table': 'Primday'} HOMEVar is read in an extra Table with priority  2.0  => Taken into account.\n",
      "Info: {'varname': u'ta23', 'freq': 'day', 'realm': u'atmos', 'table': 'Primday'} HOMEVar is read in an extra Table with priority  3.0  => Taken into account.\n",
      "Info: {'varname': u'ua23', 'freq': 'day', 'realm': u'atmos', 'table': 'Primday'} HOMEVar is read in an extra Table with priority  3.0  => Taken into account.\n",
      "Info: {'varname': u'uneutrals', 'freq': 'day', 'realm': u'atmos', 'table': 'Primday'} HOMEVar is read in an extra Table with priority  1.0  => Taken into account.\n",
      "Info: {'varname': u'vneutrals', 'freq': 'day', 'realm': u'atmos', 'table': 'Primday'} HOMEVar is read in an extra Table with priority  1.0  => Taken into account.\n",
      "Info: {'varname': u'zg23', 'freq': 'day', 'realm': u'atmos', 'table': 'Primday'} HOMEVar is read in an extra Table with priority  3.0  => Taken into account.\n",
      "Info: {'varname': u'va19', 'freq': 'day', 'realm': u'atmos', 'table': 'Primday'} HOMEVar is read in an extra Table with priority  2.0  => Taken into account.\n",
      "Info: {'varname': u'mrlsl', 'freq': 'day', 'realm': u'land', 'table': 'Primday'} HOMEVar is read in an extra Table with priority  1.0  => Taken into account.\n",
      "Info: {'varname': u'hus23', 'freq': 'day', 'realm': u'atmos', 'table': 'Primday'} HOMEVar is read in an extra Table with priority  3.0  => Taken into account.\n",
      "Info: {'varname': u'ta10', 'freq': 'day', 'realm': u'atmos', 'table': 'Primday'} HOMEVar is read in an extra Table with priority  1.0  => Taken into account.\n",
      "Info: {'varname': u'hus10', 'freq': 'day', 'realm': u'atmos', 'table': 'Primday'} HOMEVar is read in an extra Table with priority  1.0  => Taken into account.\n",
      "Info: {'varname': u'ta19', 'freq': 'day', 'realm': u'atmos', 'table': 'Primday'} HOMEVar is read in an extra Table with priority  2.0  => Taken into account.\n",
      "Info: {'varname': u'prmin', 'freq': 'day', 'realm': u'atmos', 'table': 'Primday'} HOMEVar is read in an extra Table with priority  1.0  => Taken into account.\n",
      "Info: {'varname': u'wap10', 'freq': 'day', 'realm': u'atmos', 'table': 'Primday'} HOMEVar is read in an extra Table with priority  1.0  => Taken into account.\n",
      "Info: {'varname': u'prmax', 'freq': 'day', 'realm': u'atmos', 'table': 'Primday'} HOMEVar is read in an extra Table with priority  1.0  => Taken into account.\n",
      "Info: {'varname': u'va', 'freq': 'day', 'realm': u'atmos', 'table': 'PrimdayPt'} HOMEVar is read in an extra Table with priority  1.0  => Taken into account.\n",
      "Info: {'varname': u'ua', 'freq': 'day', 'realm': u'atmos', 'table': 'PrimdayPt'} HOMEVar is read in an extra Table with priority  1.0  => Taken into account.\n",
      "Info: {'varname': u'tnsclwmi', 'freq': 'mon', 'realm': u'atmos', 'table': 'Primmon'} HOMEVar is read in an extra Table with priority  2.0  => Taken into account.\n",
      "Info: {'varname': u'tnsclihenv', 'freq': 'mon', 'realm': u'atmos', 'table': 'Primmon'} HOMEVar is read in an extra Table with priority  2.0  => Taken into account.\n",
      "Info: {'varname': u'tnsclibfpcl', 'freq': 'mon', 'realm': u'atmos', 'table': 'Primmon'} HOMEVar is read in an extra Table with priority  2.0  => Taken into account.\n",
      "Info: {'varname': u'tnscliricl', 'freq': 'mon', 'realm': u'atmos', 'table': 'Primmon'} HOMEVar is read in an extra Table with priority  2.0  => Taken into account.\n",
      "Info: {'varname': u'tnsclihencl', 'freq': 'mon', 'realm': u'atmos', 'table': 'Primmon'} HOMEVar is read in an extra Table with priority  2.0  => Taken into account.\n",
      "Info: {'varname': u'tnsccwacr', 'freq': 'mon', 'realm': u'atmos', 'table': 'Primmon'} HOMEVar is read in an extra Table with priority  2.0  => Taken into account.\n",
      "Info: {'varname': u'tnsclwcm', 'freq': 'mon', 'realm': u'atmos', 'table': 'Primmon'} HOMEVar is read in an extra Table with priority  2.0  => Taken into account.\n",
      "Info: {'varname': u'tnsclwri', 'freq': 'mon', 'realm': u'atmos', 'table': 'Primmon'} HOMEVar is read in an extra Table with priority  2.0  => Taken into account.\n",
      "Info: {'varname': u'tnsclids', 'freq': 'mon', 'realm': u'atmos', 'table': 'Primmon'} HOMEVar is read in an extra Table with priority  2.0  => Taken into account.\n",
      "Info: {'varname': u'reffclwc', 'freq': 'mon', 'realm': u'atmos', 'table': 'Primmon'} HOMEVar is read in an extra Table with priority  1.0  => Taken into account.\n",
      "Info: {'varname': u'tnsclirir', 'freq': 'mon', 'realm': u'atmos', 'table': 'Primmon'} HOMEVar is read in an extra Table with priority  2.0  => Taken into account.\n",
      "Info: {'varname': u'tnsclwhon', 'freq': 'mon', 'realm': u'atmos', 'table': 'Primmon'} HOMEVar is read in an extra Table with priority  2.0  => Taken into account.\n",
      "Info: {'varname': u'tnsccwbl', 'freq': 'mon', 'realm': u'atmos', 'table': 'Primmon'} HOMEVar is read in an extra Table with priority  2.0  => Taken into account.\n",
      "Info: {'varname': u'tnsclw', 'freq': 'mon', 'realm': u'atmos', 'table': 'Primmon'} HOMEVar is read in an extra Table with priority  2.0  => Taken into account.\n",
      "Info: {'varname': u'lwp', 'freq': 'mon', 'realm': u'atmos', 'table': 'Primmon'} HOMEVar is read in an extra Table with priority  1.0  => Taken into account.\n",
      "Info: {'varname': u'tnsclwa', 'freq': 'mon', 'realm': u'atmos', 'table': 'Primmon'} HOMEVar is read in an extra Table with priority  2.0  => Taken into account.\n",
      "Info: {'varname': u'tnsclimcl', 'freq': 'mon', 'realm': u'atmos', 'table': 'Primmon'} HOMEVar is read in an extra Table with priority  2.0  => Taken into account.\n",
      "Info: {'varname': u'reffclws', 'freq': 'mon', 'realm': u'atmos', 'table': 'Primmon'} HOMEVar is read in an extra Table with priority  1.0  => Taken into account.\n",
      "Info: {'varname': u'tnsclia', 'freq': 'mon', 'realm': u'atmos', 'table': 'Primmon'} HOMEVar is read in an extra Table with priority  2.0  => Taken into account.\n",
      "Info: {'varname': u'tnscli', 'freq': 'mon', 'realm': u'atmos', 'table': 'Primmon'} HOMEVar is read in an extra Table with priority  2.0  => Taken into account.\n",
      "Info: {'varname': u'tnsclwhen', 'freq': 'mon', 'realm': u'atmos', 'table': 'Primmon'} HOMEVar is read in an extra Table with priority  2.0  => Taken into account.\n",
      "Info: {'varname': u'cdnc', 'freq': 'mon', 'realm': u'atmos', 'table': 'Primmon'} HOMEVar is read in an extra Table with priority  1.0  => Taken into account.\n",
      "Info: {'varname': u'tnsclihon', 'freq': 'mon', 'realm': u'atmos', 'table': 'Primmon'} HOMEVar is read in an extra Table with priority  2.0  => Taken into account.\n",
      "Info: {'varname': u'tnscliif', 'freq': 'mon', 'realm': u'atmos', 'table': 'Primmon'} HOMEVar is read in an extra Table with priority  2.0  => Taken into account.\n",
      "Info: {'varname': u'tnsclicm', 'freq': 'mon', 'realm': u'atmos', 'table': 'Primmon'} HOMEVar is read in an extra Table with priority  2.0  => Taken into account.\n",
      "Info: {'varname': u'tnsccwa', 'freq': 'mon', 'realm': u'atmos', 'table': 'Primmon'} HOMEVar is read in an extra Table with priority  2.0  => Taken into account.\n",
      "Info: {'varname': u'tnsccwif', 'freq': 'mon', 'realm': u'atmos', 'table': 'Primmon'} HOMEVar is read in an extra Table with priority  2.0  => Taken into account.\n",
      "Info: {'varname': u'tnsclibl', 'freq': 'mon', 'realm': u'atmos', 'table': 'Primmon'} HOMEVar is read in an extra Table with priority  2.0  => Taken into account.\n",
      "Info: {'varname': u'tnscliemi', 'freq': 'mon', 'realm': u'atmos', 'table': 'Primmon'} HOMEVar is read in an extra Table with priority  2.0  => Taken into account.\n",
      "Info: {'varname': u'tnsccwce', 'freq': 'mon', 'realm': u'atmos', 'table': 'Primmon'} HOMEVar is read in an extra Table with priority  2.0  => Taken into account.\n",
      "Info: {'varname': u'tnsccw', 'freq': 'mon', 'realm': u'atmos', 'table': 'Primmon'} HOMEVar is read in an extra Table with priority  2.0  => Taken into account.\n",
      "Info: {'varname': u'tnsclwcd', 'freq': 'mon', 'realm': u'atmos', 'table': 'Primmon'} HOMEVar is read in an extra Table with priority  2.0  => Taken into account.\n",
      "Info: {'varname': u'tnsclwbfpcli', 'freq': 'mon', 'realm': u'atmos', 'table': 'Primmon'} HOMEVar is read in an extra Table with priority  2.0  => Taken into account.\n",
      "Info: {'varname': u'clwvic', 'freq': 'mon', 'realm': u'atmos', 'table': 'Primmon'} HOMEVar is read in an extra Table with priority  1.0  => Taken into account.\n",
      "Info: {'varname': u'tnsccwcm', 'freq': 'mon', 'realm': u'atmos', 'table': 'Primmon'} HOMEVar is read in an extra Table with priority  2.0  => Taken into account.\n",
      "Info: {'varname': u'tnsclwce', 'freq': 'mon', 'realm': u'atmos', 'table': 'Primmon'} HOMEVar is read in an extra Table with priority  2.0  => Taken into account.\n",
      "Info: {'varname': u'tnsclias', 'freq': 'mon', 'realm': u'atmos', 'table': 'Primmon'} HOMEVar is read in an extra Table with priority  2.0  => Taken into account.\n",
      "Info: {'varname': u'tnsccwacs', 'freq': 'mon', 'realm': u'atmos', 'table': 'Primmon'} HOMEVar is read in an extra Table with priority  2.0  => Taken into account.\n",
      "Info: {'varname': u'tnsclwac', 'freq': 'mon', 'realm': u'atmos', 'table': 'Primmon'} HOMEVar is read in an extra Table with priority  2.0  => Taken into account.\n",
      "Info: {'varname': u'cod', 'freq': 'mon', 'realm': u'atmos', 'table': 'Primmon'} HOMEVar is read in an extra Table with priority  1.0  => Taken into account.\n",
      "Info: {'varname': u'tnsclwbl', 'freq': 'mon', 'realm': u'atmos', 'table': 'Primmon'} HOMEVar is read in an extra Table with priority  2.0  => Taken into account.\n",
      "Info: {'varname': u'tnsclimr', 'freq': 'mon', 'realm': u'atmos', 'table': 'Primmon'} HOMEVar is read in an extra Table with priority  2.0  => Taken into account.\n",
      "Info: {'varname': u'tnscliag', 'freq': 'mon', 'realm': u'atmos', 'table': 'Primmon'} HOMEVar is read in an extra Table with priority  2.0  => Taken into account.\n",
      "Info: {'varname': u'tnsclicd', 'freq': 'mon', 'realm': u'atmos', 'table': 'Primmon'} HOMEVar is read in an extra Table with priority  2.0  => Taken into account.\n",
      "Info: {'varname': u'tnsclwar', 'freq': 'mon', 'realm': u'atmos', 'table': 'Primmon'} HOMEVar is read in an extra Table with priority  2.0  => Taken into account.\n",
      "Info: {'varname': u'tnsclwas', 'freq': 'mon', 'realm': u'atmos', 'table': 'Primmon'} HOMEVar is read in an extra Table with priority  2.0  => Taken into account.\n",
      "Info: {'varname': u'va', 'freq': 'mon', 'realm': u'aerosol', 'table': 'PrimmonZ'} HOMEVar is read in an extra Table with priority  1.0  => Taken into account.\n",
      "Info: {'varname': u'epfluxdiv', 'freq': 'mon', 'realm': u'atmos', 'table': 'PrimmonZ'} HOMEVar is read in an extra Table with priority  2.0  => Taken into account.\n",
      "Info: {'varname': u'zg', 'freq': 'mon', 'realm': u'aerosol', 'table': 'PrimmonZ'} HOMEVar is read in an extra Table with priority  1.0  => Taken into account.\n",
      "Info: {'varname': u'vstarbar', 'freq': 'mon', 'realm': u'atmos', 'table': 'PrimmonZ'} HOMEVar is read in an extra Table with priority  2.0  => Taken into account.\n",
      "Info: {'varname': u'wstarbar', 'freq': 'mon', 'realm': u'atmos', 'table': 'PrimmonZ'} HOMEVar is read in an extra Table with priority  2.0  => Taken into account.\n",
      "Info: {'varname': u'xnonoroggwdparam', 'freq': 'mon', 'realm': u'atmos', 'table': 'PrimmonZ'} HOMEVar is read in an extra Table with priority  2.0  => Taken into account.\n",
      "Info: {'varname': u'ua', 'freq': 'mon', 'realm': u'atmos', 'table': 'PrimmonZ'} HOMEVar is read in an extra Table with priority  2.0  => Taken into account.\n",
      "Info: {'varname': u'ynonoroggwdparam', 'freq': 'mon', 'realm': u'atmos', 'table': 'PrimmonZ'} HOMEVar is read in an extra Table with priority  2.0  => Taken into account.\n"
     ]
    }
   ],
   "source": [
    "#svars=select_CMORvars_for_lab(settings, printout=True)\n",
    "svars=gather_AllSimpleVars(settings,printout=True)\n"
   ]
  },
  {
   "cell_type": "markdown",
   "metadata": {},
   "source": [
    "## Doc for ping files create function"
   ]
  },
  {
   "cell_type": "code",
   "execution_count": 9,
   "metadata": {
    "collapsed": false,
    "scrolled": true
   },
   "outputs": [
    {
     "name": "stdout",
     "output_type": "stream",
     "text": [
      "Help on function pingFileForRealmsList in module dr2xml:\n",
      "\n",
      "pingFileForRealmsList(context, lrealms, svars, path_special, dummy='field_atm', dummy_with_shape=False, exact=False, comments=False, prefix='CV_', filename=None)\n",
      "    Based on a list of realms LREALMS and a list of simplified vars\n",
      "    SVARS, create the ping file which name is ~\n",
      "    ping_<realms_list>.xml, which defines fields for all vars in\n",
      "    SVARS, with a field_ref which is either 'dummy' or '?<varname>'\n",
      "    (depending on logical DUMMY)\n",
      "    \n",
      "    If EXACT is True, the match between variable realm string and one\n",
      "    of the realm string in the list must be exact. Otherwise, the\n",
      "    variable realm must be included in (or include) one of the realm list\n",
      "    strings\n",
      "    \n",
      "    COMMENTS, if not False nor \"\", will drive the writing of variable\n",
      "    description and units as an xml comment. If it is a string, it\n",
      "    will be printed before this comment string (and this allows for a\n",
      "    line break)\n",
      "    \n",
      "    DUMMY, if not false, should be either 'True', for a standard dummy\n",
      "    label or a string used as the name of all field_refs. If False,\n",
      "    the field_refs look like ?<variable name>.\n",
      "    \n",
      "    If DUMMY is True and DUMMY_WITH_SHAPE is True, dummy labels wiill\n",
      "    include the highest rank shape requested by the DR, for\n",
      "    information\n",
      "    \n",
      "    Field ids do include the provided PREFIX\n",
      "    \n",
      "    The ping file includes a <field_definition> construct\n",
      "    \n",
      "    For those MIP varnames which have a corresponding field_definition\n",
      "    in a file named like ./inputs/DX_field_defs_<realm>.xml (path being\n",
      "    relative to source code location), this latter field_def is\n",
      "    inserted in the ping file (rather than a default one). This brings \n",
      "    a set of 'standard' definitions fo variables which can be derived \n",
      "    from DR-standard ones\n",
      "\n"
     ]
    }
   ],
   "source": [
    "help(pingFileForRealmsList)\n"
   ]
  },
  {
   "cell_type": "markdown",
   "metadata": {},
   "source": [
    "### When using function create_ping_files with argument exact=False, each ping file will adress all variables which realm includes or is included in one of the strings in a realms set  <br><br> e.g for set ['ocean','seaIce'], ping file 'ping_ocean_seaIce.xml' will includes variables which realm is either 'ocean' or 'seaIce' or 'ocean seaIce'"
   ]
  },
  {
   "cell_type": "markdown",
   "metadata": {},
   "source": [
    "## Create various ping files for various sets of realms "
   ]
  },
  {
   "cell_type": "code",
   "execution_count": 10,
   "metadata": {
    "collapsed": true
   },
   "outputs": [],
   "source": [
    "# In/Out directory\n",
    "my_dir=\"output_labs/\"+lab+\"/\"\n"
   ]
  },
  {
   "cell_type": "code",
   "execution_count": 11,
   "metadata": {
    "collapsed": false,
    "scrolled": false
   },
   "outputs": [
    {
     "name": "stdout",
     "output_type": "stream",
     "text": [
      "=== CREATING PINGFILE FOR CONTEXT nemo\n",
      "285 variables written for output_labs/cerfacs/ping_nemo.xml\n",
      " no file :./input/special_defs/DX_axis_defs_seaIce.xml \n",
      " no file :./input/special_defs/DX_axis_defs_ocean.xml \n",
      " no file :./input/special_defs/DX_axis_defs_ocnBgchem.xml \n",
      " no file :./input/special_defs/DX_domain_defs_seaIce.xml \n",
      " no file :./input/special_defs/DX_domain_defs_ocean.xml \n",
      " no file :./input/special_defs/DX_domain_defs_ocnBgchem.xml \n",
      " no file :./input/special_defs/DX_grid_defs_seaIce.xml \n",
      " no file :./input/special_defs/DX_grid_defs_ocean.xml \n",
      " no file :./input/special_defs/DX_grid_defs_ocnBgchem.xml \n",
      "=== CREATING PINGFILE FOR CONTEXT surfex\n",
      "895 variables written for output_labs/cerfacs/ping_surfex.xml\n",
      " no file :./input/special_defs/DX_axis_defs_atmosChem.xml \n",
      " no file :./input/special_defs/DX_axis_defs_aerosol.xml \n",
      " no file :./input/special_defs/DX_axis_defs_land.xml \n",
      " no file :./input/special_defs/DX_axis_defs_landIce.xml \n",
      " no file :./input/special_defs/DX_domain_defs_atmos.xml \n",
      " no file :./input/special_defs/DX_domain_defs_atmosChem.xml \n",
      " no file :./input/special_defs/DX_domain_defs_aerosol.xml \n",
      " no file :./input/special_defs/DX_domain_defs_land.xml \n",
      " no file :./input/special_defs/DX_domain_defs_landIce.xml \n",
      " no file :./input/special_defs/DX_grid_defs_atmos.xml \n",
      " no file :./input/special_defs/DX_grid_defs_atmosChem.xml \n",
      " no file :./input/special_defs/DX_grid_defs_aerosol.xml \n",
      " no file :./input/special_defs/DX_grid_defs_land.xml \n",
      " no file :./input/special_defs/DX_grid_defs_landIce.xml \n"
     ]
    }
   ],
   "source": [
    "# Generate one ping file per context:\n",
    "for my_context in settings[\"realms_per_context\"].keys():\n",
    "    print \"=== CREATING PINGFILE FOR CONTEXT\",my_context\n",
    "    realms=settings['realms_per_context'][my_context]\n",
    "    pingFileForRealmsList(my_context,realms,svars,settings[\"path_special_defs\"],comments=\" \",exact=False,dummy=True, \n",
    "                          prefix=settings['ping_variables_prefix'],\n",
    "                          filename=my_dir+'ping_'+my_context+'.xml',dummy_with_shape=True)\n"
   ]
  },
  {
   "cell_type": "code",
   "execution_count": 12,
   "metadata": {
    "collapsed": false
   },
   "outputs": [],
   "source": [
    "#! head -n 5 output_sample/ping_nemo.xml\n"
   ]
  },
  {
   "cell_type": "code",
   "execution_count": 13,
   "metadata": {
    "collapsed": false,
    "scrolled": false
   },
   "outputs": [
    {
     "name": "stdout",
     "output_type": "stream",
     "text": [
      "=== CREATING PINGFILE FOR SINGLE REALM ['ocean']\n",
      "196 variables written for output_labs/cerfacs/ping_ocean.xml\n",
      " no file :./input/special_defs/DX_axis_defs_ocean.xml \n",
      " no file :./input/special_defs/DX_domain_defs_ocean.xml \n",
      " no file :./input/special_defs/DX_grid_defs_ocean.xml \n",
      "=== CREATING PINGFILE FOR SINGLE REALM ['seaIce']\n",
      " 96 variables written for output_labs/cerfacs/ping_seaIce.xml\n",
      " no file :./input/special_defs/DX_axis_defs_seaIce.xml \n",
      " no file :./input/special_defs/DX_domain_defs_seaIce.xml \n",
      " no file :./input/special_defs/DX_grid_defs_seaIce.xml \n",
      "=== CREATING PINGFILE FOR SINGLE REALM ['ocnBgchem']\n",
      "  1 variables written for output_labs/cerfacs/ping_ocnBgchem.xml\n",
      " no file :./input/special_defs/DX_axis_defs_ocnBgchem.xml \n",
      " no file :./input/special_defs/DX_domain_defs_ocnBgchem.xml \n",
      " no file :./input/special_defs/DX_grid_defs_ocnBgchem.xml \n",
      "=== CREATING PINGFILE FOR SINGLE REALM ['atmos']\n",
      "423 variables written for output_labs/cerfacs/ping_atmos.xml\n",
      " no file :./input/special_defs/DX_domain_defs_atmos.xml \n",
      " no file :./input/special_defs/DX_grid_defs_atmos.xml \n",
      "=== CREATING PINGFILE FOR SINGLE REALM ['land']\n",
      "342 variables written for output_labs/cerfacs/ping_land.xml\n",
      " no file :./input/special_defs/DX_axis_defs_land.xml \n",
      " no file :./input/special_defs/DX_domain_defs_land.xml \n",
      " no file :./input/special_defs/DX_grid_defs_land.xml \n",
      "=== CREATING PINGFILE FOR SINGLE REALM ['landIce']\n",
      "341 variables written for output_labs/cerfacs/ping_landIce.xml\n",
      " no file :./input/special_defs/DX_axis_defs_landIce.xml \n",
      " no file :./input/special_defs/DX_domain_defs_landIce.xml \n",
      " no file :./input/special_defs/DX_grid_defs_landIce.xml \n",
      "=== CREATING PINGFILE FOR SINGLE REALM ['atmosChem']\n",
      "422 variables written for output_labs/cerfacs/ping_atmosChem.xml\n",
      " no file :./input/special_defs/DX_axis_defs_atmosChem.xml \n",
      " no file :./input/special_defs/DX_domain_defs_atmosChem.xml \n",
      " no file :./input/special_defs/DX_grid_defs_atmosChem.xml \n",
      "=== CREATING PINGFILE FOR SINGLE REALM ['aerosol']\n",
      "150 variables written for output_labs/cerfacs/ping_aerosol.xml\n",
      " no file :./input/special_defs/DX_axis_defs_aerosol.xml \n",
      " no file :./input/special_defs/DX_domain_defs_aerosol.xml \n",
      " no file :./input/special_defs/DX_grid_defs_aerosol.xml \n"
     ]
    }
   ],
   "source": [
    "# Generate one ping file per realm:\n",
    "single_realms=[ ['ocean'], ['seaIce'],['ocnBgchem'], [ 'atmos'], ['land'],['landIce'], ['atmosChem'],[ 'aerosol' ]]\n",
    "for rs in single_realms :\n",
    "    #print rs[0]\n",
    "    print \"=== CREATING PINGFILE FOR SINGLE REALM\",rs\n",
    "    pingFileForRealmsList(rs[0],rs,svars,settings[\"path_special_defs\"],prefix=settings['ping_variables_prefix'],\n",
    "                         comments=\" \",exact=False, dummy=True,dummy_with_shape=True,\n",
    "                         filename=my_dir+'ping_%s.xml'%rs[0])\n"
   ]
  },
  {
   "cell_type": "code",
   "execution_count": null,
   "metadata": {
    "collapsed": true
   },
   "outputs": [],
   "source": []
  }
 ],
 "metadata": {
  "anaconda-cloud": {},
  "kernelspec": {
   "display_name": "Python [Root]",
   "language": "python",
   "name": "Python [Root]"
  },
  "language_info": {
   "codemirror_mode": {
    "name": "ipython",
    "version": 2
   },
   "file_extension": ".py",
   "mimetype": "text/x-python",
   "name": "python",
   "nbconvert_exporter": "python",
   "pygments_lexer": "ipython2",
   "version": "2.7.12"
  }
 },
 "nbformat": 4,
 "nbformat_minor": 0
}
