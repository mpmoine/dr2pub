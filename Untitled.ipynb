{
 "cells": [
  {
   "cell_type": "code",
   "execution_count": 1,
   "metadata": {
    "collapsed": true
   },
   "outputs": [],
   "source": [
    "# mpmoine_merge_v0.12_dev3: nouvelle fonction create_grid_def\n",
    "def create_grid_def(sd,alias=None,context_index=None):\n",
    "    if not sd.is_zoom_of: # no grid_def to build in zoom case\n",
    "        if not sd.is_union_for: # a grid_def to build in classical case (a vertical axis without using union)\n",
    "            if alias and context_index:\n",
    "                src_grid=id2grid(alias,context_index)\n",
    "                src_grid_id=src_grid.attrib ['id']\n",
    "                src_grid_string=ET.tostring(src_grid)\n",
    "                target_grid_id=src_grid_id+\"_\"+sd.label\n",
    "                target_grid_string=re.sub('axis_ref= *.([\\w_])*.','axis_ref=\"%s\"'%sd.label,src_grid_string)\n",
    "                target_grid_string=re.sub('grid id= *.([\\w_])*.','grid id=\"%s\"'%target_grid_id,target_grid_string)\n",
    "                return (target_grid_id,target_grid_string)\n",
    "            else:\n",
    "                print \"Error: ask for creating a grid_def from a native grid \\\n",
    "                but variable alias and/or context_index not provided.\"\n",
    "                return False\n",
    "        else: # a grid_def to build in union case\n",
    "            grid_id=\"grid_\"+sd.label\n",
    "            grid_string='<grid id=\"%s\">'%grid_id\n",
    "            grid_string+='\\n\\t<domain domain_ref=\"%s\"/>'%\"domain_atm\" # mpmoine_note: attention, en dur !\n",
    "            grid_string+='\\n\\t<axis axis_ref=\"%s\"/>'%sd.label\n",
    "            grid_string+='\\n<grid>'\n",
    "            return (grid_id,grid_string)\n",
    "    else:\n",
    "        print \"Warning: calling create_grid_def for a zoom axis, this is unexpected => no grid_def created\"\n",
    "        return False"
   ]
  },
  {
   "cell_type": "code",
   "execution_count": 2,
   "metadata": {
    "collapsed": false
   },
   "outputs": [
    {
     "ename": "SyntaxError",
     "evalue": "invalid syntax (<ipython-input-2-af9c0600b723>, line 1)",
     "output_type": "error",
     "traceback": [
      "\u001b[0;36m  File \u001b[0;32m\"<ipython-input-2-af9c0600b723>\"\u001b[0;36m, line \u001b[0;32m1\u001b[0m\n\u001b[0;31m    <grid id=\"grid_atm_3D\">\u001b[0m\n\u001b[0m    ^\u001b[0m\n\u001b[0;31mSyntaxError\u001b[0m\u001b[0;31m:\u001b[0m invalid syntax\n"
     ]
    }
   ],
   "source": [
    "<grid id=\"grid_atm_3D\">\n",
    "      <domain domain_ref=\"domain_atm\" />\n",
    "      <axis axis_ref=\"axis_atm\" />\n",
    "</grid>"
   ]
  }
 ],
 "metadata": {
  "anaconda-cloud": {},
  "kernelspec": {
   "display_name": "Python [Root]",
   "language": "python",
   "name": "Python [Root]"
  },
  "language_info": {
   "codemirror_mode": {
    "name": "ipython",
    "version": 2
   },
   "file_extension": ".py",
   "mimetype": "text/x-python",
   "name": "python",
   "nbconvert_exporter": "python",
   "pygments_lexer": "ipython2",
   "version": "2.7.12"
  }
 },
 "nbformat": 4,
 "nbformat_minor": 0
}
